{
 "cells": [
  {
   "cell_type": "code",
   "execution_count": 1,
   "id": "95dea1c2",
   "metadata": {
    "_cell_guid": "b1076dfc-b9ad-4769-8c92-a6c4dae69d19",
    "_uuid": "8f2839f25d086af736a60e9eeb907d3b93b6e0e5",
    "execution": {
     "iopub.execute_input": "2023-07-30T21:25:24.488424Z",
     "iopub.status.busy": "2023-07-30T21:25:24.487468Z",
     "iopub.status.idle": "2023-07-30T21:25:24.516083Z",
     "shell.execute_reply": "2023-07-30T21:25:24.514610Z"
    },
    "papermill": {
     "duration": 0.037527,
     "end_time": "2023-07-30T21:25:24.518730",
     "exception": false,
     "start_time": "2023-07-30T21:25:24.481203",
     "status": "completed"
    },
    "tags": []
   },
   "outputs": [
    {
     "name": "stdout",
     "output_type": "stream",
     "text": [
      "/kaggle/input/flight-delay-dataset-20182022/Combined_Flights_2022.parquet\n",
      "/kaggle/input/flight-delay-dataset-20182022/Combined_Flights_2021.parquet\n",
      "/kaggle/input/flight-delay-dataset-20182022/Combined_Flights_2018.csv\n",
      "/kaggle/input/flight-delay-dataset-20182022/Combined_Flights_2018.parquet\n",
      "/kaggle/input/flight-delay-dataset-20182022/Airlines.csv\n",
      "/kaggle/input/flight-delay-dataset-20182022/readme.md\n",
      "/kaggle/input/flight-delay-dataset-20182022/Combined_Flights_2022.csv\n",
      "/kaggle/input/flight-delay-dataset-20182022/Combined_Flights_2020.csv\n",
      "/kaggle/input/flight-delay-dataset-20182022/Combined_Flights_2020.parquet\n",
      "/kaggle/input/flight-delay-dataset-20182022/Combined_Flights_2019.csv\n",
      "/kaggle/input/flight-delay-dataset-20182022/readme.html\n",
      "/kaggle/input/flight-delay-dataset-20182022/Combined_Flights_2021.csv\n",
      "/kaggle/input/flight-delay-dataset-20182022/Combined_Flights_2019.parquet\n",
      "/kaggle/input/flight-delay-dataset-20182022/raw/Flights_2018_7.csv\n",
      "/kaggle/input/flight-delay-dataset-20182022/raw/Flights_2018_6.csv\n",
      "/kaggle/input/flight-delay-dataset-20182022/raw/Flights_2020_1.csv\n",
      "/kaggle/input/flight-delay-dataset-20182022/raw/Flights_2018_1.csv\n",
      "/kaggle/input/flight-delay-dataset-20182022/raw/Flights_2022_1.csv\n",
      "/kaggle/input/flight-delay-dataset-20182022/raw/Flights_2018_9.csv\n",
      "/kaggle/input/flight-delay-dataset-20182022/raw/Flights_2020_3.csv\n",
      "/kaggle/input/flight-delay-dataset-20182022/raw/Flights_2020_7.csv\n",
      "/kaggle/input/flight-delay-dataset-20182022/raw/Flights_2021_8.csv\n",
      "/kaggle/input/flight-delay-dataset-20182022/raw/Flights_2020_11.csv\n",
      "/kaggle/input/flight-delay-dataset-20182022/raw/Flights_2020_6.csv\n",
      "/kaggle/input/flight-delay-dataset-20182022/raw/Flights_2019_8.csv\n",
      "/kaggle/input/flight-delay-dataset-20182022/raw/Flights_2022_6.csv\n",
      "/kaggle/input/flight-delay-dataset-20182022/raw/Flights_2018_11.csv\n",
      "/kaggle/input/flight-delay-dataset-20182022/raw/Flights_2018_5.csv\n",
      "/kaggle/input/flight-delay-dataset-20182022/raw/Flights_2018_2.csv\n",
      "/kaggle/input/flight-delay-dataset-20182022/raw/Flights_2022_3.csv\n",
      "/kaggle/input/flight-delay-dataset-20182022/raw/Flights_2019_12.csv\n",
      "/kaggle/input/flight-delay-dataset-20182022/raw/Flights_2019_7.csv\n",
      "/kaggle/input/flight-delay-dataset-20182022/raw/Flights_2019_2.csv\n",
      "/kaggle/input/flight-delay-dataset-20182022/raw/Flights_2020_2.csv\n",
      "/kaggle/input/flight-delay-dataset-20182022/raw/Flights_2022_7.csv\n",
      "/kaggle/input/flight-delay-dataset-20182022/raw/Flights_2019_3.csv\n",
      "/kaggle/input/flight-delay-dataset-20182022/raw/Flights_2019_5.csv\n",
      "/kaggle/input/flight-delay-dataset-20182022/raw/Flights_2022_5.csv\n",
      "/kaggle/input/flight-delay-dataset-20182022/raw/Flights_2019_10.csv\n",
      "/kaggle/input/flight-delay-dataset-20182022/raw/Flights_2021_9.csv\n",
      "/kaggle/input/flight-delay-dataset-20182022/raw/Flights_2020_5.csv\n",
      "/kaggle/input/flight-delay-dataset-20182022/raw/Flights_2022_4.csv\n",
      "/kaggle/input/flight-delay-dataset-20182022/raw/Flights_2019_1.csv\n",
      "/kaggle/input/flight-delay-dataset-20182022/raw/Flights_2021_1.csv\n",
      "/kaggle/input/flight-delay-dataset-20182022/raw/Flights_2021_7.csv\n",
      "/kaggle/input/flight-delay-dataset-20182022/raw/Flights_2020_4.csv\n",
      "/kaggle/input/flight-delay-dataset-20182022/raw/Flights_2022_2.csv\n",
      "/kaggle/input/flight-delay-dataset-20182022/raw/Flights_2021_2.csv\n",
      "/kaggle/input/flight-delay-dataset-20182022/raw/Flights_2021_10.csv\n",
      "/kaggle/input/flight-delay-dataset-20182022/raw/Flights_2018_10.csv\n",
      "/kaggle/input/flight-delay-dataset-20182022/raw/Flights_2018_4.csv\n",
      "/kaggle/input/flight-delay-dataset-20182022/raw/Flights_2020_9.csv\n",
      "/kaggle/input/flight-delay-dataset-20182022/raw/Flights_2020_10.csv\n",
      "/kaggle/input/flight-delay-dataset-20182022/raw/Flights_2021_11.csv\n",
      "/kaggle/input/flight-delay-dataset-20182022/raw/Flights_2020_12.csv\n",
      "/kaggle/input/flight-delay-dataset-20182022/raw/Flights_2021_12.csv\n",
      "/kaggle/input/flight-delay-dataset-20182022/raw/Flights_2021_4.csv\n",
      "/kaggle/input/flight-delay-dataset-20182022/raw/Flights_2019_9.csv\n",
      "/kaggle/input/flight-delay-dataset-20182022/raw/Flights_2019_11.csv\n",
      "/kaggle/input/flight-delay-dataset-20182022/raw/Flights_2021_6.csv\n",
      "/kaggle/input/flight-delay-dataset-20182022/raw/Flights_2019_6.csv\n",
      "/kaggle/input/flight-delay-dataset-20182022/raw/Flights_2020_8.csv\n",
      "/kaggle/input/flight-delay-dataset-20182022/raw/Flights_2018_12.csv\n",
      "/kaggle/input/flight-delay-dataset-20182022/raw/Flights_2021_3.csv\n",
      "/kaggle/input/flight-delay-dataset-20182022/raw/Flights_2018_8.csv\n",
      "/kaggle/input/flight-delay-dataset-20182022/raw/Flights_2021_5.csv\n",
      "/kaggle/input/flight-delay-dataset-20182022/raw/Flights_2018_3.csv\n",
      "/kaggle/input/flight-delay-dataset-20182022/raw/Flights_2019_4.csv\n"
     ]
    }
   ],
   "source": [
    "# This Python 3 environment comes with many helpful analytics libraries installed\n",
    "# It is defined by the kaggle/python Docker image: https://github.com/kaggle/docker-python\n",
    "# For example, here's several helpful packages to load\n",
    "\n",
    "import numpy as np # linear algebra\n",
    "import pandas as pd # data processing, CSV file I/O (e.g. pd.read_csv)\n",
    "\n",
    "# Input data files are available in the read-only \"../input/\" directory\n",
    "# For example, running this (by clicking run or pressing Shift+Enter) will list all files under the input directory\n",
    "\n",
    "import os\n",
    "for dirname, _, filenames in os.walk('/kaggle/input'):\n",
    "    for filename in filenames:\n",
    "        print(os.path.join(dirname, filename))\n",
    "\n",
    "# You can write up to 20GB to the current directory (/kaggle/working/) that gets preserved as output when you create a version using \"Save & Run All\" \n",
    "# You can also write temporary files to /kaggle/temp/, but they won't be saved outside of the current session"
   ]
  },
  {
   "cell_type": "markdown",
   "id": "24ed3885",
   "metadata": {
    "papermill": {
     "duration": 0.002981,
     "end_time": "2023-07-30T21:25:24.525251",
     "exception": false,
     "start_time": "2023-07-30T21:25:24.522270",
     "status": "completed"
    },
    "tags": []
   },
   "source": [
    "# Introduction\n",
    "## Why we chose this dataset:\n",
    "## What we will be doing with this dataset:\n",
    "## What results we hope to achieve:"
   ]
  },
  {
   "cell_type": "code",
   "execution_count": 2,
   "id": "cbc80282",
   "metadata": {
    "execution": {
     "iopub.execute_input": "2023-07-30T21:25:24.533790Z",
     "iopub.status.busy": "2023-07-30T21:25:24.533228Z",
     "iopub.status.idle": "2023-07-30T21:30:29.770268Z",
     "shell.execute_reply": "2023-07-30T21:30:29.768300Z"
    },
    "papermill": {
     "duration": 305.245579,
     "end_time": "2023-07-30T21:30:29.774033",
     "exception": false,
     "start_time": "2023-07-30T21:25:24.528454",
     "status": "completed"
    },
    "tags": []
   },
   "outputs": [],
   "source": [
    "df_flights_2018 = pd.read_csv(\"/kaggle/input/flight-delay-dataset-20182022/Combined_Flights_2018.csv\")\n",
    "df_flights_2018.dropna(inplace = True)\n",
    "df_flights_2019 = pd.read_csv(\"/kaggle/input/flight-delay-dataset-20182022/Combined_Flights_2019.csv\")\n",
    "df_flights_2019.dropna(inplace = True)"
   ]
  },
  {
   "cell_type": "code",
   "execution_count": 3,
   "id": "2b631b40",
   "metadata": {
    "execution": {
     "iopub.execute_input": "2023-07-30T21:30:29.784577Z",
     "iopub.status.busy": "2023-07-30T21:30:29.783975Z",
     "iopub.status.idle": "2023-07-30T21:30:39.847738Z",
     "shell.execute_reply": "2023-07-30T21:30:39.846182Z"
    },
    "papermill": {
     "duration": 10.072785,
     "end_time": "2023-07-30T21:30:39.850978",
     "exception": false,
     "start_time": "2023-07-30T21:30:29.778193",
     "status": "completed"
    },
    "tags": []
   },
   "outputs": [],
   "source": [
    "df_flights = pd.concat([df_flights_2018, df_flights_2019])"
   ]
  },
  {
   "cell_type": "code",
   "execution_count": 4,
   "id": "ae044f54",
   "metadata": {
    "execution": {
     "iopub.execute_input": "2023-07-30T21:30:39.860208Z",
     "iopub.status.busy": "2023-07-30T21:30:39.859669Z",
     "iopub.status.idle": "2023-07-30T21:30:40.874214Z",
     "shell.execute_reply": "2023-07-30T21:30:40.872823Z"
    },
    "papermill": {
     "duration": 1.023023,
     "end_time": "2023-07-30T21:30:40.877608",
     "exception": false,
     "start_time": "2023-07-30T21:30:39.854585",
     "status": "completed"
    },
    "tags": []
   },
   "outputs": [],
   "source": [
    "del df_flights_2018\n",
    "del df_flights_2019"
   ]
  },
  {
   "cell_type": "code",
   "execution_count": 5,
   "id": "ca082f85",
   "metadata": {
    "execution": {
     "iopub.execute_input": "2023-07-30T21:30:40.887248Z",
     "iopub.status.busy": "2023-07-30T21:30:40.886815Z",
     "iopub.status.idle": "2023-07-30T21:30:41.072355Z",
     "shell.execute_reply": "2023-07-30T21:30:41.070995Z"
    },
    "papermill": {
     "duration": 0.19334,
     "end_time": "2023-07-30T21:30:41.074971",
     "exception": false,
     "start_time": "2023-07-30T21:30:40.881631",
     "status": "completed"
    },
    "tags": []
   },
   "outputs": [
    {
     "data": {
      "text/plain": [
       "0"
      ]
     },
     "execution_count": 5,
     "metadata": {},
     "output_type": "execute_result"
    }
   ],
   "source": [
    "import gc\n",
    "gc.collect()"
   ]
  }
 ],
 "metadata": {
  "kernelspec": {
   "display_name": "Python 3",
   "language": "python",
   "name": "python3"
  },
  "language_info": {
   "codemirror_mode": {
    "name": "ipython",
    "version": 3
   },
   "file_extension": ".py",
   "mimetype": "text/x-python",
   "name": "python",
   "nbconvert_exporter": "python",
   "pygments_lexer": "ipython3",
   "version": "3.10.12"
  },
  "papermill": {
   "default_parameters": {},
   "duration": 333.611991,
   "end_time": "2023-07-30T21:30:43.311415",
   "environment_variables": {},
   "exception": null,
   "input_path": "__notebook__.ipynb",
   "output_path": "__notebook__.ipynb",
   "parameters": {},
   "start_time": "2023-07-30T21:25:09.699424",
   "version": "2.4.0"
  }
 },
 "nbformat": 4,
 "nbformat_minor": 5
}
