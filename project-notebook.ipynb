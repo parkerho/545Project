{
 "cells": [
  {
   "cell_type": "code",
   "execution_count": 1,
   "id": "78485962",
   "metadata": {
    "_cell_guid": "b1076dfc-b9ad-4769-8c92-a6c4dae69d19",
    "_uuid": "8f2839f25d086af736a60e9eeb907d3b93b6e0e5",
    "execution": {
     "iopub.execute_input": "2023-08-09T19:05:12.840829Z",
     "iopub.status.busy": "2023-08-09T19:05:12.840437Z",
     "iopub.status.idle": "2023-08-09T19:05:12.884618Z",
     "shell.execute_reply": "2023-08-09T19:05:12.883480Z"
    },
    "papermill": {
     "duration": 0.062948,
     "end_time": "2023-08-09T19:05:12.887238",
     "exception": false,
     "start_time": "2023-08-09T19:05:12.824290",
     "status": "completed"
    },
    "tags": []
   },
   "outputs": [
    {
     "name": "stdout",
     "output_type": "stream",
     "text": [
      "/kaggle/input/flight-delay-dataset-20182022/Combined_Flights_2022.parquet\n",
      "/kaggle/input/flight-delay-dataset-20182022/Combined_Flights_2021.parquet\n",
      "/kaggle/input/flight-delay-dataset-20182022/Combined_Flights_2018.csv\n",
      "/kaggle/input/flight-delay-dataset-20182022/Combined_Flights_2018.parquet\n",
      "/kaggle/input/flight-delay-dataset-20182022/Airlines.csv\n",
      "/kaggle/input/flight-delay-dataset-20182022/readme.md\n",
      "/kaggle/input/flight-delay-dataset-20182022/Combined_Flights_2022.csv\n",
      "/kaggle/input/flight-delay-dataset-20182022/Combined_Flights_2020.csv\n",
      "/kaggle/input/flight-delay-dataset-20182022/Combined_Flights_2020.parquet\n",
      "/kaggle/input/flight-delay-dataset-20182022/Combined_Flights_2019.csv\n",
      "/kaggle/input/flight-delay-dataset-20182022/readme.html\n",
      "/kaggle/input/flight-delay-dataset-20182022/Combined_Flights_2021.csv\n",
      "/kaggle/input/flight-delay-dataset-20182022/Combined_Flights_2019.parquet\n",
      "/kaggle/input/flight-delay-dataset-20182022/raw/Flights_2018_7.csv\n",
      "/kaggle/input/flight-delay-dataset-20182022/raw/Flights_2018_6.csv\n",
      "/kaggle/input/flight-delay-dataset-20182022/raw/Flights_2020_1.csv\n",
      "/kaggle/input/flight-delay-dataset-20182022/raw/Flights_2018_1.csv\n",
      "/kaggle/input/flight-delay-dataset-20182022/raw/Flights_2022_1.csv\n",
      "/kaggle/input/flight-delay-dataset-20182022/raw/Flights_2018_9.csv\n",
      "/kaggle/input/flight-delay-dataset-20182022/raw/Flights_2020_3.csv\n",
      "/kaggle/input/flight-delay-dataset-20182022/raw/Flights_2020_7.csv\n",
      "/kaggle/input/flight-delay-dataset-20182022/raw/Flights_2021_8.csv\n",
      "/kaggle/input/flight-delay-dataset-20182022/raw/Flights_2020_11.csv\n",
      "/kaggle/input/flight-delay-dataset-20182022/raw/Flights_2020_6.csv\n",
      "/kaggle/input/flight-delay-dataset-20182022/raw/Flights_2019_8.csv\n",
      "/kaggle/input/flight-delay-dataset-20182022/raw/Flights_2022_6.csv\n",
      "/kaggle/input/flight-delay-dataset-20182022/raw/Flights_2018_11.csv\n",
      "/kaggle/input/flight-delay-dataset-20182022/raw/Flights_2018_5.csv\n",
      "/kaggle/input/flight-delay-dataset-20182022/raw/Flights_2018_2.csv\n",
      "/kaggle/input/flight-delay-dataset-20182022/raw/Flights_2022_3.csv\n",
      "/kaggle/input/flight-delay-dataset-20182022/raw/Flights_2019_12.csv\n",
      "/kaggle/input/flight-delay-dataset-20182022/raw/Flights_2019_7.csv\n",
      "/kaggle/input/flight-delay-dataset-20182022/raw/Flights_2019_2.csv\n",
      "/kaggle/input/flight-delay-dataset-20182022/raw/Flights_2020_2.csv\n",
      "/kaggle/input/flight-delay-dataset-20182022/raw/Flights_2022_7.csv\n",
      "/kaggle/input/flight-delay-dataset-20182022/raw/Flights_2019_3.csv\n",
      "/kaggle/input/flight-delay-dataset-20182022/raw/Flights_2019_5.csv\n",
      "/kaggle/input/flight-delay-dataset-20182022/raw/Flights_2022_5.csv\n",
      "/kaggle/input/flight-delay-dataset-20182022/raw/Flights_2019_10.csv\n",
      "/kaggle/input/flight-delay-dataset-20182022/raw/Flights_2021_9.csv\n",
      "/kaggle/input/flight-delay-dataset-20182022/raw/Flights_2020_5.csv\n",
      "/kaggle/input/flight-delay-dataset-20182022/raw/Flights_2022_4.csv\n",
      "/kaggle/input/flight-delay-dataset-20182022/raw/Flights_2019_1.csv\n",
      "/kaggle/input/flight-delay-dataset-20182022/raw/Flights_2021_1.csv\n",
      "/kaggle/input/flight-delay-dataset-20182022/raw/Flights_2021_7.csv\n",
      "/kaggle/input/flight-delay-dataset-20182022/raw/Flights_2020_4.csv\n",
      "/kaggle/input/flight-delay-dataset-20182022/raw/Flights_2022_2.csv\n",
      "/kaggle/input/flight-delay-dataset-20182022/raw/Flights_2021_2.csv\n",
      "/kaggle/input/flight-delay-dataset-20182022/raw/Flights_2021_10.csv\n",
      "/kaggle/input/flight-delay-dataset-20182022/raw/Flights_2018_10.csv\n",
      "/kaggle/input/flight-delay-dataset-20182022/raw/Flights_2018_4.csv\n",
      "/kaggle/input/flight-delay-dataset-20182022/raw/Flights_2020_9.csv\n",
      "/kaggle/input/flight-delay-dataset-20182022/raw/Flights_2020_10.csv\n",
      "/kaggle/input/flight-delay-dataset-20182022/raw/Flights_2021_11.csv\n",
      "/kaggle/input/flight-delay-dataset-20182022/raw/Flights_2020_12.csv\n",
      "/kaggle/input/flight-delay-dataset-20182022/raw/Flights_2021_12.csv\n",
      "/kaggle/input/flight-delay-dataset-20182022/raw/Flights_2021_4.csv\n",
      "/kaggle/input/flight-delay-dataset-20182022/raw/Flights_2019_9.csv\n",
      "/kaggle/input/flight-delay-dataset-20182022/raw/Flights_2019_11.csv\n",
      "/kaggle/input/flight-delay-dataset-20182022/raw/Flights_2021_6.csv\n",
      "/kaggle/input/flight-delay-dataset-20182022/raw/Flights_2019_6.csv\n",
      "/kaggle/input/flight-delay-dataset-20182022/raw/Flights_2020_8.csv\n",
      "/kaggle/input/flight-delay-dataset-20182022/raw/Flights_2018_12.csv\n",
      "/kaggle/input/flight-delay-dataset-20182022/raw/Flights_2021_3.csv\n",
      "/kaggle/input/flight-delay-dataset-20182022/raw/Flights_2018_8.csv\n",
      "/kaggle/input/flight-delay-dataset-20182022/raw/Flights_2021_5.csv\n",
      "/kaggle/input/flight-delay-dataset-20182022/raw/Flights_2018_3.csv\n",
      "/kaggle/input/flight-delay-dataset-20182022/raw/Flights_2019_4.csv\n"
     ]
    }
   ],
   "source": [
    "# This Python 3 environment comes with many helpful analytics libraries installed\n",
    "# It is defined by the kaggle/python Docker image: https://github.com/kaggle/docker-python\n",
    "# For example, here's several helpful packages to load\n",
    "\n",
    "import numpy as np # linear algebra\n",
    "import pandas as pd # data processing, CSV file I/O (e.g. pd.read_csv)\n",
    "\n",
    "# Input data files are available in the read-only \"../input/\" directory\n",
    "# For example, running this (by clicking run or pressing Shift+Enter) will list all files under the input directory\n",
    "\n",
    "import os\n",
    "for dirname, _, filenames in os.walk('/kaggle/input'):\n",
    "    for filename in filenames:\n",
    "        print(os.path.join(dirname, filename))\n",
    "\n",
    "# You can write up to 20GB to the current directory (/kaggle/working/) that gets preserved as output when you create a version using \"Save & Run All\" \n",
    "# You can also write temporary files to /kaggle/temp/, but they won't be saved outside of the current session"
   ]
  },
  {
   "cell_type": "markdown",
   "id": "1069a0e9",
   "metadata": {
    "papermill": {
     "duration": 0.01405,
     "end_time": "2023-08-09T19:05:12.917409",
     "exception": false,
     "start_time": "2023-08-09T19:05:12.903359",
     "status": "completed"
    },
    "tags": []
   },
   "source": [
    "# Introduction\n",
    "### Why we chose this dataset:\n",
    "* We will be using this dataset to effectively and accurately predict length of time for flight delays. We will use various regression and machine learning techniques to learn from the training data and then test our prediction models with our test data.\n",
    "\n",
    "### What we will be doing with this dataset:\n",
    "* We chose the given dataset as it is both rich and robust. The size allows us to adjust various factors in order to observe common phenomena. The number of columns allows us to explore which variables affect flight delays; whereas, the number of rows ensure we have enough data to make good judgements.\n",
    "\n",
    "### What results we hope to achieve:\n",
    "* We aim to predict the length of flight delays with high confidence."
   ]
  },
  {
   "cell_type": "markdown",
   "id": "167d2106",
   "metadata": {
    "papermill": {
     "duration": 0.013987,
     "end_time": "2023-08-09T19:05:12.945678",
     "exception": false,
     "start_time": "2023-08-09T19:05:12.931691",
     "status": "completed"
    },
    "tags": []
   },
   "source": [
    "### Section 1: Load data from CSV into Pandas Dataframe\n"
   ]
  },
  {
   "cell_type": "code",
   "execution_count": 2,
   "id": "e987cff2",
   "metadata": {
    "execution": {
     "iopub.execute_input": "2023-08-09T19:05:12.975836Z",
     "iopub.status.busy": "2023-08-09T19:05:12.975449Z",
     "iopub.status.idle": "2023-08-09T19:06:34.272639Z",
     "shell.execute_reply": "2023-08-09T19:06:34.271434Z"
    },
    "papermill": {
     "duration": 81.330045,
     "end_time": "2023-08-09T19:06:34.289956",
     "exception": false,
     "start_time": "2023-08-09T19:05:12.959911",
     "status": "completed"
    },
    "tags": []
   },
   "outputs": [
    {
     "name": "stdout",
     "output_type": "stream",
     "text": [
      "   FlightDate            Airline Origin Dest  Cancelled  Diverted  CRSDepTime  \\\n",
      "0  2018-01-23  Endeavor Air Inc.    ABY  ATL      False     False        1202   \n",
      "1  2018-01-24  Endeavor Air Inc.    ABY  ATL      False     False        1202   \n",
      "2  2018-01-25  Endeavor Air Inc.    ABY  ATL      False     False        1202   \n",
      "3  2018-01-26  Endeavor Air Inc.    ABY  ATL      False     False        1202   \n",
      "4  2018-01-27  Endeavor Air Inc.    ABY  ATL      False     False        1400   \n",
      "\n",
      "   DepTime  DepDelayMinutes  DepDelay  ...  WheelsOff  WheelsOn  TaxiIn  \\\n",
      "0   1157.0              0.0      -5.0  ...     1211.0    1249.0     7.0   \n",
      "1   1157.0              0.0      -5.0  ...     1210.0    1246.0    12.0   \n",
      "2   1153.0              0.0      -9.0  ...     1211.0    1251.0    11.0   \n",
      "3   1150.0              0.0     -12.0  ...     1207.0    1242.0    11.0   \n",
      "4   1355.0              0.0      -5.0  ...     1412.0    1448.0    11.0   \n",
      "\n",
      "   CRSArrTime  ArrDelay  ArrDel15  ArrivalDelayGroups  ArrTimeBlk  \\\n",
      "0        1304      -8.0       0.0                -1.0   1300-1359   \n",
      "1        1304      -6.0       0.0                -1.0   1300-1359   \n",
      "2        1304      -2.0       0.0                -1.0   1300-1359   \n",
      "3        1304     -11.0       0.0                -1.0   1300-1359   \n",
      "4        1500      -1.0       0.0                -1.0   1500-1559   \n",
      "\n",
      "   DistanceGroup  DivAirportLandings  \n",
      "0              1                 0.0  \n",
      "1              1                 0.0  \n",
      "2              1                 0.0  \n",
      "3              1                 0.0  \n",
      "4              1                 0.0  \n",
      "\n",
      "[5 rows x 61 columns]\n",
      "<class 'pandas.core.frame.DataFrame'>\n",
      "Int64Index: 5578618 entries, 0 to 5689511\n",
      "Data columns (total 61 columns):\n",
      " #   Column                                   Dtype  \n",
      "---  ------                                   -----  \n",
      " 0   FlightDate                               object \n",
      " 1   Airline                                  object \n",
      " 2   Origin                                   object \n",
      " 3   Dest                                     object \n",
      " 4   Cancelled                                bool   \n",
      " 5   Diverted                                 bool   \n",
      " 6   CRSDepTime                               int64  \n",
      " 7   DepTime                                  float64\n",
      " 8   DepDelayMinutes                          float64\n",
      " 9   DepDelay                                 float64\n",
      " 10  ArrTime                                  float64\n",
      " 11  ArrDelayMinutes                          float64\n",
      " 12  AirTime                                  float64\n",
      " 13  CRSElapsedTime                           float64\n",
      " 14  ActualElapsedTime                        float64\n",
      " 15  Distance                                 float64\n",
      " 16  Year                                     int64  \n",
      " 17  Quarter                                  int64  \n",
      " 18  Month                                    int64  \n",
      " 19  DayofMonth                               int64  \n",
      " 20  DayOfWeek                                int64  \n",
      " 21  Marketing_Airline_Network                object \n",
      " 22  Operated_or_Branded_Code_Share_Partners  object \n",
      " 23  DOT_ID_Marketing_Airline                 int64  \n",
      " 24  IATA_Code_Marketing_Airline              object \n",
      " 25  Flight_Number_Marketing_Airline          int64  \n",
      " 26  Operating_Airline                        object \n",
      " 27  DOT_ID_Operating_Airline                 int64  \n",
      " 28  IATA_Code_Operating_Airline              object \n",
      " 29  Tail_Number                              object \n",
      " 30  Flight_Number_Operating_Airline          int64  \n",
      " 31  OriginAirportID                          int64  \n",
      " 32  OriginAirportSeqID                       int64  \n",
      " 33  OriginCityMarketID                       int64  \n",
      " 34  OriginCityName                           object \n",
      " 35  OriginState                              object \n",
      " 36  OriginStateFips                          int64  \n",
      " 37  OriginStateName                          object \n",
      " 38  OriginWac                                int64  \n",
      " 39  DestAirportID                            int64  \n",
      " 40  DestAirportSeqID                         int64  \n",
      " 41  DestCityMarketID                         int64  \n",
      " 42  DestCityName                             object \n",
      " 43  DestState                                object \n",
      " 44  DestStateFips                            int64  \n",
      " 45  DestStateName                            object \n",
      " 46  DestWac                                  int64  \n",
      " 47  DepDel15                                 float64\n",
      " 48  DepartureDelayGroups                     float64\n",
      " 49  DepTimeBlk                               object \n",
      " 50  TaxiOut                                  float64\n",
      " 51  WheelsOff                                float64\n",
      " 52  WheelsOn                                 float64\n",
      " 53  TaxiIn                                   float64\n",
      " 54  CRSArrTime                               int64  \n",
      " 55  ArrDelay                                 float64\n",
      " 56  ArrDel15                                 float64\n",
      " 57  ArrivalDelayGroups                       float64\n",
      " 58  ArrTimeBlk                               object \n",
      " 59  DistanceGroup                            int64  \n",
      " 60  DivAirportLandings                       float64\n",
      "dtypes: bool(2), float64(19), int64(22), object(18)\n",
      "memory usage: 2.5+ GB\n",
      "None\n"
     ]
    }
   ],
   "source": [
    "#We are only going to use 2018 data to make our dataset manageable. 2020-2022 data is influenced by COVID, and using 2018 and 2019 together\n",
    "#generates 2 million + rows to work with which is not feasible in a collaborative notebook with all of us working in it. \n",
    "\n",
    "df_flights_2018 = pd.read_csv(\"/kaggle/input/flight-delay-dataset-20182022/Combined_Flights_2018.csv\")\n",
    "df_flights_2018.dropna(inplace = True)\n",
    "#df_flights_2019 = pd.read_csv(\"/kaggle/input/flight-delay-dataset-20182022/Combined_Flights_2019.csv\")\n",
    "#df_flights_2019.dropna(inplace = True)\n",
    "\n",
    "#let's look at our code after running this\n",
    "#let's look at the code\n",
    "print(df_flights_2018.head())\n",
    "print(df_flights_2018.info())"
   ]
  },
  {
   "cell_type": "code",
   "execution_count": 3,
   "id": "7753310c",
   "metadata": {
    "execution": {
     "iopub.execute_input": "2023-08-09T19:06:34.321895Z",
     "iopub.status.busy": "2023-08-09T19:06:34.320948Z",
     "iopub.status.idle": "2023-08-09T19:06:34.346845Z",
     "shell.execute_reply": "2023-08-09T19:06:34.345544Z"
    },
    "papermill": {
     "duration": 0.044503,
     "end_time": "2023-08-09T19:06:34.349313",
     "exception": false,
     "start_time": "2023-08-09T19:06:34.304810",
     "status": "completed"
    },
    "tags": []
   },
   "outputs": [
    {
     "name": "stdout",
     "output_type": "stream",
     "text": [
      "   FlightDate            Airline Origin Dest  Cancelled  Diverted  CRSDepTime  \\\n",
      "0  2018-01-23  Endeavor Air Inc.    ABY  ATL      False     False        1202   \n",
      "1  2018-01-24  Endeavor Air Inc.    ABY  ATL      False     False        1202   \n",
      "2  2018-01-25  Endeavor Air Inc.    ABY  ATL      False     False        1202   \n",
      "3  2018-01-26  Endeavor Air Inc.    ABY  ATL      False     False        1202   \n",
      "4  2018-01-27  Endeavor Air Inc.    ABY  ATL      False     False        1400   \n",
      "\n",
      "   DepTime  DepDelayMinutes  DepDelay  ...  WheelsOff  WheelsOn  TaxiIn  \\\n",
      "0   1157.0              0.0      -5.0  ...     1211.0    1249.0     7.0   \n",
      "1   1157.0              0.0      -5.0  ...     1210.0    1246.0    12.0   \n",
      "2   1153.0              0.0      -9.0  ...     1211.0    1251.0    11.0   \n",
      "3   1150.0              0.0     -12.0  ...     1207.0    1242.0    11.0   \n",
      "4   1355.0              0.0      -5.0  ...     1412.0    1448.0    11.0   \n",
      "\n",
      "   CRSArrTime  ArrDelay  ArrDel15  ArrivalDelayGroups  ArrTimeBlk  \\\n",
      "0        1304      -8.0       0.0                -1.0   1300-1359   \n",
      "1        1304      -6.0       0.0                -1.0   1300-1359   \n",
      "2        1304      -2.0       0.0                -1.0   1300-1359   \n",
      "3        1304     -11.0       0.0                -1.0   1300-1359   \n",
      "4        1500      -1.0       0.0                -1.0   1500-1559   \n",
      "\n",
      "   DistanceGroup  DivAirportLandings  \n",
      "0              1                 0.0  \n",
      "1              1                 0.0  \n",
      "2              1                 0.0  \n",
      "3              1                 0.0  \n",
      "4              1                 0.0  \n",
      "\n",
      "[5 rows x 61 columns]\n",
      "<class 'pandas.core.frame.DataFrame'>\n",
      "Int64Index: 5578618 entries, 0 to 5689511\n",
      "Data columns (total 61 columns):\n",
      " #   Column                                   Dtype  \n",
      "---  ------                                   -----  \n",
      " 0   FlightDate                               object \n",
      " 1   Airline                                  object \n",
      " 2   Origin                                   object \n",
      " 3   Dest                                     object \n",
      " 4   Cancelled                                bool   \n",
      " 5   Diverted                                 bool   \n",
      " 6   CRSDepTime                               int64  \n",
      " 7   DepTime                                  float64\n",
      " 8   DepDelayMinutes                          float64\n",
      " 9   DepDelay                                 float64\n",
      " 10  ArrTime                                  float64\n",
      " 11  ArrDelayMinutes                          float64\n",
      " 12  AirTime                                  float64\n",
      " 13  CRSElapsedTime                           float64\n",
      " 14  ActualElapsedTime                        float64\n",
      " 15  Distance                                 float64\n",
      " 16  Year                                     int64  \n",
      " 17  Quarter                                  int64  \n",
      " 18  Month                                    int64  \n",
      " 19  DayofMonth                               int64  \n",
      " 20  DayOfWeek                                int64  \n",
      " 21  Marketing_Airline_Network                object \n",
      " 22  Operated_or_Branded_Code_Share_Partners  object \n",
      " 23  DOT_ID_Marketing_Airline                 int64  \n",
      " 24  IATA_Code_Marketing_Airline              object \n",
      " 25  Flight_Number_Marketing_Airline          int64  \n",
      " 26  Operating_Airline                        object \n",
      " 27  DOT_ID_Operating_Airline                 int64  \n",
      " 28  IATA_Code_Operating_Airline              object \n",
      " 29  Tail_Number                              object \n",
      " 30  Flight_Number_Operating_Airline          int64  \n",
      " 31  OriginAirportID                          int64  \n",
      " 32  OriginAirportSeqID                       int64  \n",
      " 33  OriginCityMarketID                       int64  \n",
      " 34  OriginCityName                           object \n",
      " 35  OriginState                              object \n",
      " 36  OriginStateFips                          int64  \n",
      " 37  OriginStateName                          object \n",
      " 38  OriginWac                                int64  \n",
      " 39  DestAirportID                            int64  \n",
      " 40  DestAirportSeqID                         int64  \n",
      " 41  DestCityMarketID                         int64  \n",
      " 42  DestCityName                             object \n",
      " 43  DestState                                object \n",
      " 44  DestStateFips                            int64  \n",
      " 45  DestStateName                            object \n",
      " 46  DestWac                                  int64  \n",
      " 47  DepDel15                                 float64\n",
      " 48  DepartureDelayGroups                     float64\n",
      " 49  DepTimeBlk                               object \n",
      " 50  TaxiOut                                  float64\n",
      " 51  WheelsOff                                float64\n",
      " 52  WheelsOn                                 float64\n",
      " 53  TaxiIn                                   float64\n",
      " 54  CRSArrTime                               int64  \n",
      " 55  ArrDelay                                 float64\n",
      " 56  ArrDel15                                 float64\n",
      " 57  ArrivalDelayGroups                       float64\n",
      " 58  ArrTimeBlk                               object \n",
      " 59  DistanceGroup                            int64  \n",
      " 60  DivAirportLandings                       float64\n",
      "dtypes: bool(2), float64(19), int64(22), object(18)\n",
      "memory usage: 2.5+ GB\n",
      "None\n"
     ]
    }
   ],
   "source": [
    "#let's look at the code. Right now we have a single raw data dataset from 2018: df_flights_2018\n",
    "#our dataset has over 5 million entries and 60 different features\n",
    "print(df_flights_2018.head())\n",
    "print(df_flights_2018.info())"
   ]
  },
  {
   "cell_type": "markdown",
   "id": "c4c23762",
   "metadata": {
    "papermill": {
     "duration": 0.01473,
     "end_time": "2023-08-09T19:06:34.379016",
     "exception": false,
     "start_time": "2023-08-09T19:06:34.364286",
     "status": "completed"
    },
    "tags": []
   },
   "source": [
    "### Section 2: Initial Data Cleaning and Wrangling\n"
   ]
  },
  {
   "cell_type": "code",
   "execution_count": 4,
   "id": "eb7ab71d",
   "metadata": {
    "execution": {
     "iopub.execute_input": "2023-08-09T19:06:34.410120Z",
     "iopub.status.busy": "2023-08-09T19:06:34.409706Z",
     "iopub.status.idle": "2023-08-09T19:06:44.754818Z",
     "shell.execute_reply": "2023-08-09T19:06:44.753630Z"
    },
    "papermill": {
     "duration": 10.363696,
     "end_time": "2023-08-09T19:06:44.757465",
     "exception": false,
     "start_time": "2023-08-09T19:06:34.393769",
     "status": "completed"
    },
    "tags": []
   },
   "outputs": [],
   "source": [
    "#we need to change our initial dataset df_flights_2018 into something manageable with columns we think will be relevant to our predictions\n",
    "\n",
    "#1. Change FlightDate to datetime time\n",
    "df_flights_2018[\"FlightDate\"] = pd.to_datetime(df_flights_2018[\"FlightDate\"])\n",
    "\n",
    "#2. Change Airline type to String\n",
    "df_flights_2018[\"Airline\"] = df_flights_2018[\"Airline\"].astype(str)\n",
    "\n",
    "#3. Change Origin and Dest type to String\n",
    "df_flights_2018[\"Origin\"] = df_flights_2018[\"Origin\"].astype(str)\n",
    "df_flights_2018[\"Dest\"] = df_flights_2018[\"Dest\"].astype(str)\n",
    "\n",
    "#Now we want to remove any 'known' values that could predict the outcome. For example, DepDel15 would indicate\n",
    "# we're going to be delayed and bias the model. So we're going to drop all these values that we would\n",
    "# not know in advance while we're waiting for a plane to take off. This includes all the arrival values, \n",
    "# diverted values, cancelled values, etc... We also remove a lot of the redudant location information to make the dataset\n",
    "# more manageable. We will have 10 features to predict with and one prediction target - DepDelay\n",
    "keeper_columns = [\"Quarter\",\"DayOfWeek\", \"FlightDate\",\n",
    "                 \"Airline\",\n",
    "                 \"Origin\", \"OriginState\",\n",
    "                 \"Dest\", \"DestState\",\n",
    "                  \"CRSDepTime\",\"Distance\", \"DepDelay\"]\n",
    "\n",
    "#Let's now copy the df to be a clean one to work with (though we will do more alternations)\n",
    "df_flights_2018_clean = df_flights_2018[keeper_columns].copy()\n",
    "\n",
    "#DepDelay is going to be our initial target for prediction. Let's rename that as dep_min_delay\n",
    "df_flights_2018_clean.rename(columns={\"DepDelay\": \"dep_min_delay\"}, inplace=True)\n",
    "\n",
    "#CRSDepTime and DepTimeBlk are tought to understand. Let's rename those\n",
    "df_flights_2018_clean.rename(columns={\"CRSDepTime\": \"schedule_dep_time\", \"DepTimeBlk\": \"scheduled_dep_block\"}, inplace=True)\n",
    "\n",
    "#we can see that we have a bit more cleaning to do for changing types\n",
    "#let's convert the type of our target value - dep_min_delay - to int and round it\n",
    "df_flights_2018_clean[\"dep_min_delay\"] = df_flights_2018_clean[\"dep_min_delay\"].round().astype(int)\n",
    "\n",
    "#let's convert distance to int as well\n",
    "df_flights_2018_clean[\"Distance\"] = df_flights_2018_clean[\"Distance\"].astype(int)\n",
    "\n",
    "#Adjusting our date time fields (year, month, day)\n",
    "# Handling datetime data (if applicable)\n",
    "df_flights_2018_clean['Year'] = df_flights_2018_clean['FlightDate'].dt.year\n",
    "df_flights_2018_clean['Month'] = df_flights_2018_clean['FlightDate'].dt.month\n",
    "df_flights_2018_clean['Day'] = df_flights_2018_clean['FlightDate'].dt.day"
   ]
  },
  {
   "cell_type": "code",
   "execution_count": 5,
   "id": "4fe8ba5b",
   "metadata": {
    "execution": {
     "iopub.execute_input": "2023-08-09T19:06:44.790165Z",
     "iopub.status.busy": "2023-08-09T19:06:44.789165Z",
     "iopub.status.idle": "2023-08-09T19:06:44.806386Z",
     "shell.execute_reply": "2023-08-09T19:06:44.805303Z"
    },
    "papermill": {
     "duration": 0.036115,
     "end_time": "2023-08-09T19:06:44.808483",
     "exception": false,
     "start_time": "2023-08-09T19:06:44.772368",
     "status": "completed"
    },
    "tags": []
   },
   "outputs": [
    {
     "name": "stdout",
     "output_type": "stream",
     "text": [
      "   Quarter  DayOfWeek FlightDate            Airline Origin OriginState Dest  \\\n",
      "0        1          2 2018-01-23  Endeavor Air Inc.    ABY          GA  ATL   \n",
      "1        1          3 2018-01-24  Endeavor Air Inc.    ABY          GA  ATL   \n",
      "2        1          4 2018-01-25  Endeavor Air Inc.    ABY          GA  ATL   \n",
      "3        1          5 2018-01-26  Endeavor Air Inc.    ABY          GA  ATL   \n",
      "4        1          6 2018-01-27  Endeavor Air Inc.    ABY          GA  ATL   \n",
      "\n",
      "  DestState  schedule_dep_time  Distance  dep_min_delay  Year  Month  Day  \n",
      "0        GA               1202       145             -5  2018      1   23  \n",
      "1        GA               1202       145             -5  2018      1   24  \n",
      "2        GA               1202       145             -9  2018      1   25  \n",
      "3        GA               1202       145            -12  2018      1   26  \n",
      "4        GA               1400       145             -5  2018      1   27  \n",
      "<class 'pandas.core.frame.DataFrame'>\n",
      "Int64Index: 5578618 entries, 0 to 5689511\n",
      "Data columns (total 14 columns):\n",
      " #   Column             Dtype         \n",
      "---  ------             -----         \n",
      " 0   Quarter            int64         \n",
      " 1   DayOfWeek          int64         \n",
      " 2   FlightDate         datetime64[ns]\n",
      " 3   Airline            object        \n",
      " 4   Origin             object        \n",
      " 5   OriginState        object        \n",
      " 6   Dest               object        \n",
      " 7   DestState          object        \n",
      " 8   schedule_dep_time  int64         \n",
      " 9   Distance           int64         \n",
      " 10  dep_min_delay      int64         \n",
      " 11  Year               int64         \n",
      " 12  Month              int64         \n",
      " 13  Day                int64         \n",
      "dtypes: datetime64[ns](1), int64(8), object(5)\n",
      "memory usage: 638.4+ MB\n",
      "None\n"
     ]
    }
   ],
   "source": [
    "#now that we've cleaned out dataset let's check it out for more details. \n",
    "\n",
    "print(df_flights_2018_clean.head())\n",
    "print(df_flights_2018_clean.info())"
   ]
  },
  {
   "cell_type": "code",
   "execution_count": 6,
   "id": "f6888aaf",
   "metadata": {
    "execution": {
     "iopub.execute_input": "2023-08-09T19:06:44.840301Z",
     "iopub.status.busy": "2023-08-09T19:06:44.839929Z",
     "iopub.status.idle": "2023-08-09T19:06:44.845892Z",
     "shell.execute_reply": "2023-08-09T19:06:44.844654Z"
    },
    "papermill": {
     "duration": 0.024505,
     "end_time": "2023-08-09T19:06:44.848122",
     "exception": false,
     "start_time": "2023-08-09T19:06:44.823617",
     "status": "completed"
    },
    "tags": []
   },
   "outputs": [
    {
     "name": "stdout",
     "output_type": "stream",
     "text": [
      "At this point, our dataset still contains this many observations: 5578618\n"
     ]
    }
   ],
   "source": [
    "# Despite our previous efforts to reduce the absolute size of our data, like prioritizing data from 2018,\n",
    "# our dataframe is still very large. \n",
    "\n",
    "original_length = len(df_flights_2018_clean) # variable used later for printing\n",
    "print(\"At this point, our dataset still contains this many observations: \" + str(len(df_flights_2018_clean)))"
   ]
  },
  {
   "cell_type": "code",
   "execution_count": 7,
   "id": "62d58522",
   "metadata": {
    "execution": {
     "iopub.execute_input": "2023-08-09T19:06:44.879974Z",
     "iopub.status.busy": "2023-08-09T19:06:44.879566Z",
     "iopub.status.idle": "2023-08-09T19:06:45.384513Z",
     "shell.execute_reply": "2023-08-09T19:06:45.383586Z"
    },
    "papermill": {
     "duration": 0.524045,
     "end_time": "2023-08-09T19:06:45.387189",
     "exception": false,
     "start_time": "2023-08-09T19:06:44.863144",
     "status": "completed"
    },
    "tags": []
   },
   "outputs": [
    {
     "name": "stdout",
     "output_type": "stream",
     "text": [
      "   Quarter  DayOfWeek FlightDate            Airline Origin OriginState Dest  \\\n",
      "0        1          2 2018-01-23  Endeavor Air Inc.    ABY          GA  ATL   \n",
      "1        1          3 2018-01-24  Endeavor Air Inc.    ABY          GA  ATL   \n",
      "2        1          4 2018-01-25  Endeavor Air Inc.    ABY          GA  ATL   \n",
      "3        1          5 2018-01-26  Endeavor Air Inc.    ABY          GA  ATL   \n",
      "4        1          6 2018-01-27  Endeavor Air Inc.    ABY          GA  ATL   \n",
      "\n",
      "  DestState  Distance  dep_min_delay  Year  Month  Day  schedule_dep_hour  \n",
      "0        GA       145             -5  2018      1   23                 12  \n",
      "1        GA       145             -5  2018      1   24                 12  \n",
      "2        GA       145             -9  2018      1   25                 12  \n",
      "3        GA       145            -12  2018      1   26                 12  \n",
      "4        GA       145             -5  2018      1   27                 14  \n",
      "<class 'pandas.core.frame.DataFrame'>\n",
      "Int64Index: 5578618 entries, 0 to 5689511\n",
      "Data columns (total 14 columns):\n",
      " #   Column             Dtype         \n",
      "---  ------             -----         \n",
      " 0   Quarter            int64         \n",
      " 1   DayOfWeek          int64         \n",
      " 2   FlightDate         datetime64[ns]\n",
      " 3   Airline            object        \n",
      " 4   Origin             object        \n",
      " 5   OriginState        object        \n",
      " 6   Dest               object        \n",
      " 7   DestState          object        \n",
      " 8   Distance           int64         \n",
      " 9   dep_min_delay      int64         \n",
      " 10  Year               int64         \n",
      " 11  Month              int64         \n",
      " 12  Day                int64         \n",
      " 13  schedule_dep_hour  int64         \n",
      "dtypes: datetime64[ns](1), int64(8), object(5)\n",
      "memory usage: 638.4+ MB\n",
      "None\n"
     ]
    }
   ],
   "source": [
    "#schedule_dep_time is currently represented in made up integer script where values like 1037 means 10:37 AM. We're going to change this into just \n",
    "#the hour format to keep the hour. We don't need to keep the original hour\n",
    "df_flights_2018_clean['schedule_dep_hour'] = (df_flights_2018_clean['schedule_dep_time'] / 100).round().astype(int)\n",
    "df_flights_2018_clean.drop(columns=['schedule_dep_time'], inplace=True)\n",
    "print(df_flights_2018_clean.head())\n",
    "print(df_flights_2018_clean.info())"
   ]
  },
  {
   "cell_type": "code",
   "execution_count": 8,
   "id": "8f351af4",
   "metadata": {
    "execution": {
     "iopub.execute_input": "2023-08-09T19:06:45.419427Z",
     "iopub.status.busy": "2023-08-09T19:06:45.419064Z",
     "iopub.status.idle": "2023-08-09T19:06:45.860713Z",
     "shell.execute_reply": "2023-08-09T19:06:45.859432Z"
    },
    "papermill": {
     "duration": 0.461002,
     "end_time": "2023-08-09T19:06:45.863458",
     "exception": false,
     "start_time": "2023-08-09T19:06:45.402456",
     "status": "completed"
    },
    "tags": []
   },
   "outputs": [],
   "source": [
    "#we notice a couple things we may want to handle. For instance, we will want to drop out FlightDate since we've converted that to Year, Month, Day.\n",
    "#we also may want to adjust our dep_min_delay values to only be positive (we don't want to predict early flights)\n",
    "#drop the FlightDate Column \n",
    "df_flights_2018_clean = df_flights_2018_clean.drop('FlightDate', axis=1)\n"
   ]
  },
  {
   "cell_type": "code",
   "execution_count": 9,
   "id": "adfb69b0",
   "metadata": {
    "execution": {
     "iopub.execute_input": "2023-08-09T19:06:45.895951Z",
     "iopub.status.busy": "2023-08-09T19:06:45.895547Z",
     "iopub.status.idle": "2023-08-09T19:06:59.426366Z",
     "shell.execute_reply": "2023-08-09T19:06:59.425247Z"
    },
    "papermill": {
     "duration": 13.550856,
     "end_time": "2023-08-09T19:06:59.430096",
     "exception": false,
     "start_time": "2023-08-09T19:06:45.879240",
     "status": "completed"
    },
    "tags": []
   },
   "outputs": [
    {
     "name": "stdout",
     "output_type": "stream",
     "text": [
      "-5       424227\n",
      "-4       408352\n",
      "-3       395315\n",
      "-2       360701\n",
      "-6       343786\n",
      "          ...  \n",
      " 1427         1\n",
      " 1511         1\n",
      " 1354         1\n",
      " 1429         1\n",
      " 1107         1\n",
      "Name: dep_min_delay, Length: 1522, dtype: int64\n"
     ]
    },
    {
     "data": {
      "image/png": "[encoded data removed]",
      "text/plain": [
       "<Figure size 1000x600 with 1 Axes>"
      ]
     },
     "metadata": {},
     "output_type": "display_data"
    }
   ],
   "source": [
    "#let's review our values in dep_min_delay\n",
    "print(df_flights_2018_clean['dep_min_delay'].value_counts())\n",
    "\n",
    "#let's graph it to get a good image\n",
    "import matplotlib.pyplot as plt\n",
    "plt.figure(figsize=(10, 6))  # Set the size of the plot\n",
    "plt.scatter(df_flights_2018_clean.index, df_flights_2018_clean['dep_min_delay'], alpha=0.5)\n",
    "plt.title('Scatter Plot of dep_min_delay')\n",
    "plt.xlabel('Index')\n",
    "plt.ylabel('dep_min_delay')\n",
    "plt.show()"
   ]
  },
  {
   "cell_type": "code",
   "execution_count": 10,
   "id": "19b4b73e",
   "metadata": {
    "execution": {
     "iopub.execute_input": "2023-08-09T19:06:59.467200Z",
     "iopub.status.busy": "2023-08-09T19:06:59.466368Z",
     "iopub.status.idle": "2023-08-09T19:07:21.203470Z",
     "shell.execute_reply": "2023-08-09T19:07:21.201981Z"
    },
    "papermill": {
     "duration": 21.75838,
     "end_time": "2023-08-09T19:07:21.206082",
     "exception": false,
     "start_time": "2023-08-09T19:06:59.447702",
     "status": "completed"
    },
    "tags": []
   },
   "outputs": [
    {
     "data": {
      "image/png": "[encoded data removed]",
      "text/plain": [
       "<Figure size 1000x600 with 1 Axes>"
      ]
     },
     "metadata": {},
     "output_type": "display_data"
    },
    {
     "name": "stdout",
     "output_type": "stream",
     "text": [
      "   Quarter  DayOfWeek            Airline Origin OriginState Dest DestState  \\\n",
      "0        1          2  Endeavor Air Inc.    ABY          GA  ATL        GA   \n",
      "1        1          3  Endeavor Air Inc.    ABY          GA  ATL        GA   \n",
      "2        1          4  Endeavor Air Inc.    ABY          GA  ATL        GA   \n",
      "3        1          5  Endeavor Air Inc.    ABY          GA  ATL        GA   \n",
      "4        1          6  Endeavor Air Inc.    ABY          GA  ATL        GA   \n",
      "\n",
      "   Distance  dep_min_delay  Year  Month  Day  schedule_dep_hour  \n",
      "0       145             -5  2018      1   23                 12  \n",
      "1       145             -5  2018      1   24                 12  \n",
      "2       145             -9  2018      1   25                 12  \n",
      "3       145            -12  2018      1   26                 12  \n",
      "4       145             -5  2018      1   27                 14  \n",
      "<class 'pandas.core.frame.DataFrame'>\n",
      "Int64Index: 5572833 entries, 0 to 5689511\n",
      "Data columns (total 13 columns):\n",
      " #   Column             Dtype \n",
      "---  ------             ----- \n",
      " 0   Quarter            int64 \n",
      " 1   DayOfWeek          int64 \n",
      " 2   Airline            object\n",
      " 3   Origin             object\n",
      " 4   OriginState        object\n",
      " 5   Dest               object\n",
      " 6   DestState          object\n",
      " 7   Distance           int64 \n",
      " 8   dep_min_delay      int64 \n",
      " 9   Year               int64 \n",
      " 10  Month              int64 \n",
      " 11  Day                int64 \n",
      " 12  schedule_dep_hour  int64 \n",
      "dtypes: int64(8), object(5)\n",
      "memory usage: 595.2+ MB\n",
      "None\n"
     ]
    }
   ],
   "source": [
    "#let's visualize our values in a different form like a violin plot\n",
    "plt.figure(figsize=(10, 6))  \n",
    "plt.violinplot(df_flights_2018_clean.dep_min_delay)\n",
    "plt.title('dep_min_delay values before reduction')\n",
    "plt.ylabel('Minutes of Delay')\n",
    "plt.show()\n",
    "\n",
    "#this tells us that we need to reduce the range of potential target options for dep_min_delay. There are lots of range\n",
    "#and the values are quite clustered together around the middle. Let's drop those values and try again\n",
    "\n",
    "#we can see that we don't have that many rows in our data with very negative values in dep_min_delay. Let's drop those\n",
    "df_flights_2018_active = df_flights_2018_clean[df_flights_2018_clean['dep_min_delay'] >= -100]\n",
    "#we also see there are some outliers of very long delays. Let's remove those\n",
    "df_flights_2018_active = df_flights_2018_active[df_flights_2018_active['dep_min_delay'] <= 500]\n",
    "\n",
    "\n",
    "print(df_flights_2018_active.head())\n",
    "print(df_flights_2018_active.info())"
   ]
  },
  {
   "cell_type": "code",
   "execution_count": 11,
   "id": "a345b380",
   "metadata": {
    "execution": {
     "iopub.execute_input": "2023-08-09T19:07:21.243979Z",
     "iopub.status.busy": "2023-08-09T19:07:21.243588Z",
     "iopub.status.idle": "2023-08-09T19:07:22.004037Z",
     "shell.execute_reply": "2023-08-09T19:07:22.002640Z"
    },
    "papermill": {
     "duration": 0.782382,
     "end_time": "2023-08-09T19:07:22.006660",
     "exception": false,
     "start_time": "2023-08-09T19:07:21.224278",
     "status": "completed"
    },
    "tags": []
   },
   "outputs": [
    {
     "name": "stdout",
     "output_type": "stream",
     "text": [
      "    Origin  DepartureCount\n",
      "254    ORD          282770\n",
      "92     DEN          249288\n",
      "22     ATL          221242\n",
      "193    LAX          181472\n",
      "167    IAH          161187\n",
      "..     ...             ...\n",
      "364    WYS              52\n",
      "96     DLG              31\n",
      "13     AKN              31\n",
      "145    GST              30\n",
      "368    YNG               2\n",
      "\n",
      "[370 rows x 2 columns]\n",
      "15077.345945945946\n",
      "    Dest  ArrivalCount\n",
      "254  ORD        282130\n",
      "92   DEN        248875\n",
      "22   ATL        221544\n",
      "193  LAX        181687\n",
      "167  IAH        160930\n",
      "..   ...           ...\n",
      "364  WYS            52\n",
      "96   DLG            31\n",
      "13   AKN            31\n",
      "145  GST            30\n",
      "368  YNG             2\n",
      "\n",
      "[370 rows x 2 columns]\n",
      "15077.345945945946\n"
     ]
    }
   ],
   "source": [
    "#we also want to make sure we only include flights with certain level of activity to remove outliers. Let's see how active our various airports are, \n",
    "#as well as get the mean value for comparison\n",
    "sorted_origin_departures = df_flights_2018_clean.groupby('Origin').size().reset_index(name='DepartureCount').sort_values(by='DepartureCount', ascending=False)\n",
    "print(sorted_origin_departures)\n",
    "mean_departure_count = sorted_origin_departures['DepartureCount'].mean()\n",
    "print(mean_departure_count)\n",
    "\n",
    "#let's do the same for arrivals\n",
    "sorted_dest_arrivals = df_flights_2018_clean.groupby('Dest').size().reset_index(name='ArrivalCount').sort_values(by='ArrivalCount', ascending=False)\n",
    "print(sorted_dest_arrivals)\n",
    "mean_arrival_count = sorted_dest_arrivals['ArrivalCount'].mean()\n",
    "print(mean_arrival_count)"
   ]
  },
  {
   "cell_type": "code",
   "execution_count": 12,
   "id": "db170331",
   "metadata": {
    "execution": {
     "iopub.execute_input": "2023-08-09T19:07:22.045219Z",
     "iopub.status.busy": "2023-08-09T19:07:22.044289Z",
     "iopub.status.idle": "2023-08-09T19:07:23.483191Z",
     "shell.execute_reply": "2023-08-09T19:07:23.481769Z"
    },
    "papermill": {
     "duration": 1.460379,
     "end_time": "2023-08-09T19:07:23.485475",
     "exception": false,
     "start_time": "2023-08-09T19:07:22.025096",
     "status": "completed"
    },
    "tags": []
   },
   "outputs": [
    {
     "name": "stdout",
     "output_type": "stream",
     "text": [
      "['ORD', 'DEN', 'ATL', 'LAX', 'IAH', 'SFO', 'EWR', 'LAS', 'SEA', 'DFW', 'PHX', 'MCO', 'BOS', 'CLT', 'DTW', 'LGA', 'BWI', 'MSP', 'FLL', 'IAD', 'JFK', 'DCA', 'MDW', 'PHL', 'SAN', 'SLC', 'DAL', 'PDX', 'STL', 'TPA', 'BNA', 'HOU', 'SJC', 'AUS', 'OAK', 'MCI', 'HNL', 'MSY', 'SMF', 'RDU', 'MIA', 'CLE', 'IND', 'PIT', 'SNA', 'CMH', 'CVG', 'SAT', 'MKE', 'BUR', 'RSW', 'JAX', 'OGG', 'ABQ', 'BDL', 'BUF', 'SJU', 'OMA', 'BOI', 'OKC', 'ONT', 'RIC', 'PBI', 'SDF', 'RNO', 'CHS', 'MEM', 'GEG', 'ORF', 'PVD', 'LGB']\n",
      "['ORD', 'DEN', 'ATL', 'LAX', 'IAH', 'SFO', 'EWR', 'LAS', 'SEA', 'DFW', 'PHX', 'MCO', 'BOS', 'CLT', 'DTW', 'BWI', 'LGA', 'MSP', 'FLL', 'IAD', 'JFK', 'DCA', 'MDW', 'PHL', 'SAN', 'SLC', 'DAL', 'PDX', 'STL', 'TPA', 'BNA', 'HOU', 'SJC', 'AUS', 'OAK', 'MCI', 'HNL', 'SMF', 'MSY', 'RDU', 'MIA', 'CLE', 'IND', 'PIT', 'SNA', 'CMH', 'CVG', 'SAT', 'MKE', 'BUR', 'RSW', 'JAX', 'OGG', 'ABQ', 'BDL', 'BUF', 'SJU', 'OMA', 'BOI', 'OKC', 'ONT', 'RIC', 'PBI', 'SDF', 'RNO', 'CHS', 'MEM', 'GEG', 'ORF', 'PVD', 'LGB']\n",
      "     Quarter  DayOfWeek            Airline Origin OriginState Dest DestState  \\\n",
      "65         1          6  Endeavor Air Inc.    BUF          NY  DTW        MI   \n",
      "66         1          6  Endeavor Air Inc.    BUF          NY  DTW        MI   \n",
      "67         1          6  Endeavor Air Inc.    BUF          NY  DTW        MI   \n",
      "94         1          2  Endeavor Air Inc.    CVG          KY  BOS        MA   \n",
      "151        1          6  Endeavor Air Inc.    MCI          MO  MSP        MN   \n",
      "\n",
      "     Distance  dep_min_delay  Year  Month  Day  schedule_dep_hour  \n",
      "65        241             37  2018      1    6                 10  \n",
      "66        241             -3  2018      1   20                 10  \n",
      "67        241             -9  2018      1   27                 10  \n",
      "94        752             91  2018      1    2                  9  \n",
      "151       393             -6  2018      1    6                 13  \n",
      "<class 'pandas.core.frame.DataFrame'>\n",
      "Int64Index: 4029303 entries, 65 to 5689491\n",
      "Data columns (total 13 columns):\n",
      " #   Column             Dtype \n",
      "---  ------             ----- \n",
      " 0   Quarter            int64 \n",
      " 1   DayOfWeek          int64 \n",
      " 2   Airline            object\n",
      " 3   Origin             object\n",
      " 4   OriginState        object\n",
      " 5   Dest               object\n",
      " 6   DestState          object\n",
      " 7   Distance           int64 \n",
      " 8   dep_min_delay      int64 \n",
      " 9   Year               int64 \n",
      " 10  Month              int64 \n",
      " 11  Day                int64 \n",
      " 12  schedule_dep_hour  int64 \n",
      "dtypes: int64(8), object(5)\n",
      "memory usage: 430.4+ MB\n",
      "None\n"
     ]
    }
   ],
   "source": [
    "#Filter by Activity Level\n",
    "#We want to remove all origins that have a low number of departure counts. \n",
    "# Now that we know oure mean is about 15000, let's drop all origins that are less than\n",
    "# 15000 flights in the year. We'll do the same for arrivals\n",
    "#ORIGINS\n",
    "min_departure_count = 15000\n",
    "active_origins = sorted_origin_departures[sorted_origin_departures['DepartureCount'] > min_departure_count]['Origin'].tolist()\n",
    "print(active_origins)\n",
    "#DESTINATIONS\n",
    "min_arrival_count = 15000\n",
    "active_dest = sorted_dest_arrivals[sorted_dest_arrivals['ArrivalCount'] > min_arrival_count]['Dest'].tolist()\n",
    "print(active_dest)\n",
    "\n",
    "\n",
    "# now we are going to remove all rows from df_flights_2018_clean that haven an origin value that is not in this list of active_origins\n",
    "#we'll rename this list as _active. Same for destinations\n",
    "df_flights_2018_active = df_flights_2018_clean[df_flights_2018_clean['Origin'].isin(active_origins)]\n",
    "df_flights_2018_active = df_flights_2018_active[df_flights_2018_active['Dest'].isin(active_dest)]\n",
    "\n",
    "print(df_flights_2018_active.head())\n",
    "print(df_flights_2018_active.info())"
   ]
  },
  {
   "cell_type": "code",
   "execution_count": 13,
   "id": "ce44f322",
   "metadata": {
    "execution": {
     "iopub.execute_input": "2023-08-09T19:07:23.529528Z",
     "iopub.status.busy": "2023-08-09T19:07:23.528561Z",
     "iopub.status.idle": "2023-08-09T19:07:23.750444Z",
     "shell.execute_reply": "2023-08-09T19:07:23.749341Z"
    },
    "papermill": {
     "duration": 0.246347,
     "end_time": "2023-08-09T19:07:23.752768",
     "exception": false,
     "start_time": "2023-08-09T19:07:23.506421",
     "status": "completed"
    },
    "tags": []
   },
   "outputs": [
    {
     "name": "stdout",
     "output_type": "stream",
     "text": [
      "71\n",
      "71\n"
     ]
    }
   ],
   "source": [
    "print(len(active_origins))\n",
    "print(df_flights_2018_active.Origin.nunique())"
   ]
  },
  {
   "cell_type": "code",
   "execution_count": 14,
   "id": "b885ee37",
   "metadata": {
    "execution": {
     "iopub.execute_input": "2023-08-09T19:07:23.791734Z",
     "iopub.status.busy": "2023-08-09T19:07:23.791304Z",
     "iopub.status.idle": "2023-08-09T19:07:24.114508Z",
     "shell.execute_reply": "2023-08-09T19:07:24.113353Z"
    },
    "papermill": {
     "duration": 0.346234,
     "end_time": "2023-08-09T19:07:24.117320",
     "exception": false,
     "start_time": "2023-08-09T19:07:23.771086",
     "status": "completed"
    },
    "tags": []
   },
   "outputs": [
    {
     "name": "stdout",
     "output_type": "stream",
     "text": [
      "ORD    177500\n",
      "DEN    176090\n",
      "LAX    161368\n",
      "ATL    158481\n",
      "SFO    132890\n",
      "LAS    130826\n",
      "EWR    122385\n",
      "IAH    110667\n",
      "BOS    109947\n",
      "MCO    104923\n",
      "PHX    104830\n",
      "SEA    103167\n",
      "BWI     85940\n",
      "LGA     85632\n",
      "DFW     85289\n",
      "FLL     78795\n",
      "MDW     78645\n",
      "SAN     75873\n",
      "JFK     74021\n",
      "DTW     73455\n",
      "DCA     72752\n",
      "CLT     67875\n",
      "MSP     66500\n",
      "IAD     65249\n",
      "PHL     61072\n",
      "Name: Origin, dtype: int64\n"
     ]
    }
   ],
   "source": [
    "#Filter by top origins\n",
    "#we need to reduce the dataset further before modeling. \n",
    "#It currently includes all airports in the USA which is just too much to one hot encode. So we're going to reduce it down.\n",
    "\n",
    "#1. Let's see which airports are the most common \n",
    "origin_counts = df_flights_2018_active['Origin'].value_counts()\n",
    "top_origins = origin_counts.head(25)\n",
    "print(top_origins)"
   ]
  },
  {
   "cell_type": "code",
   "execution_count": 15,
   "id": "c819df00",
   "metadata": {
    "execution": {
     "iopub.execute_input": "2023-08-09T19:07:24.175628Z",
     "iopub.status.busy": "2023-08-09T19:07:24.175105Z",
     "iopub.status.idle": "2023-08-09T19:07:24.502663Z",
     "shell.execute_reply": "2023-08-09T19:07:24.501635Z"
    },
    "papermill": {
     "duration": 0.359731,
     "end_time": "2023-08-09T19:07:24.505187",
     "exception": false,
     "start_time": "2023-08-09T19:07:24.145456",
     "status": "completed"
    },
    "tags": []
   },
   "outputs": [
    {
     "name": "stdout",
     "output_type": "stream",
     "text": [
      "ORD    177224\n",
      "DEN    175612\n",
      "LAX    161533\n",
      "ATL    158639\n",
      "SFO    132881\n",
      "LAS    130946\n",
      "EWR    122191\n",
      "IAH    110443\n",
      "BOS    110063\n",
      "MCO    104775\n",
      "PHX    104654\n",
      "SEA    103048\n",
      "BWI     85799\n",
      "LGA     85434\n",
      "DFW     84913\n",
      "FLL     78760\n",
      "MDW     78565\n",
      "SAN     75887\n",
      "JFK     73931\n",
      "DTW     73622\n",
      "DCA     72714\n",
      "CLT     67769\n",
      "MSP     66542\n",
      "IAD     65212\n",
      "PHL     61073\n",
      "Name: Dest, dtype: int64\n"
     ]
    }
   ],
   "source": [
    "# filter by top destinations\n",
    "# now let's get our top destinations\n",
    "dest_counts = df_flights_2018_active['Dest'].value_counts()\n",
    "top_dest = dest_counts.head(25)\n",
    "print(top_dest)"
   ]
  },
  {
   "cell_type": "code",
   "execution_count": 16,
   "id": "17719223",
   "metadata": {
    "execution": {
     "iopub.execute_input": "2023-08-09T19:07:24.544896Z",
     "iopub.status.busy": "2023-08-09T19:07:24.544077Z",
     "iopub.status.idle": "2023-08-09T19:07:26.033190Z",
     "shell.execute_reply": "2023-08-09T19:07:26.031711Z"
    },
    "papermill": {
     "duration": 1.51168,
     "end_time": "2023-08-09T19:07:26.035737",
     "exception": false,
     "start_time": "2023-08-09T19:07:24.524057",
     "status": "completed"
    },
    "tags": []
   },
   "outputs": [
    {
     "name": "stdout",
     "output_type": "stream",
     "text": [
      "4029303\n"
     ]
    },
    {
     "name": "stderr",
     "output_type": "stream",
     "text": [
      "/tmp/ipykernel_21/3327973072.py:14: UserWarning: Boolean Series key will be reindexed to match DataFrame index.\n",
      "  df_flights_2018_active = df_flights_2018_active[dest_condition]\n"
     ]
    },
    {
     "name": "stdout",
     "output_type": "stream",
     "text": [
      "1515479\n",
      "25\n"
     ]
    }
   ],
   "source": [
    "#Now that we have our list of top origins and destinations, we are going to reduce it further by only including these airports\n",
    "#how many flights do we currently have in the dataset?\n",
    "print(df_flights_2018_active.shape[0])\n",
    "# we have about 2.2 million rows right now\n",
    "# we only want to keep rows of data that either have an origin in our top list or destinations in our top list\n",
    "\n",
    "#create the boolean conditions to compare to\n",
    "origin_condition = df_flights_2018_active['Origin'].isin(top_origins.index)\n",
    "dest_condition = df_flights_2018_active['Dest'].isin(top_dest.index)\n",
    "#apply the filters\n",
    "#df_flights_2018_active = df_flights_2018_active[origin_condition | dest_condition]\n",
    "df_flights_2018_active = df_flights_2018_active[origin_condition]\n",
    "reduced_1 = len(df_flights_2018_active)\n",
    "df_flights_2018_active = df_flights_2018_active[dest_condition]\n",
    "reduced_2 = len(df_flights_2018_active)\n",
    "\n",
    "#now how many rows do we have?\n",
    "print(df_flights_2018_active.shape[0])\n",
    "print(df_flights_2018_active.Dest.nunique())"
   ]
  },
  {
   "cell_type": "code",
   "execution_count": 17,
   "id": "ce2e8cd8",
   "metadata": {
    "execution": {
     "iopub.execute_input": "2023-08-09T19:07:26.075532Z",
     "iopub.status.busy": "2023-08-09T19:07:26.075078Z",
     "iopub.status.idle": "2023-08-09T19:07:26.081627Z",
     "shell.execute_reply": "2023-08-09T19:07:26.080485Z"
    },
    "papermill": {
     "duration": 0.029043,
     "end_time": "2023-08-09T19:07:26.083903",
     "exception": false,
     "start_time": "2023-08-09T19:07:26.054860",
     "status": "completed"
    },
    "tags": []
   },
   "outputs": [
    {
     "name": "stdout",
     "output_type": "stream",
     "text": [
      "Our original dataset had this many observations: 5578618\n",
      "After filtering on origin airports, it's now: 2564172\n",
      "After filtering on destination airports, it's now: 1515479\n",
      "\n",
      "Wow, we reduced our dataset by around 72.83 percent!\n"
     ]
    }
   ],
   "source": [
    "# Display results \n",
    "print(\"Our original dataset had this many observations: \" + str(original_length)) # original is 5.5 million rows\n",
    "print(\"After filtering on origin airports, it's now: \" \n",
    "      + str(reduced_1)) # after filtering origin 2.8 million rows\n",
    "print(\"After filtering on destination airports, it's now: \" \n",
    "      + str(reduced_2)) # now 1.1 million rows\n",
    "print(\"\\nWow, we reduced our dataset by around \" + str(round(100 *(1 - (reduced_2/original_length)), 2)) + \" percent!\")"
   ]
  },
  {
   "cell_type": "markdown",
   "id": "645d3960",
   "metadata": {
    "papermill": {
     "duration": 0.017891,
     "end_time": "2023-08-09T19:07:26.120222",
     "exception": false,
     "start_time": "2023-08-09T19:07:26.102331",
     "status": "completed"
    },
    "tags": []
   },
   "source": [
    "### Section 3: Exploratory Data Analysis (EDA)"
   ]
  },
  {
   "cell_type": "code",
   "execution_count": 18,
   "id": "e521c358",
   "metadata": {
    "execution": {
     "iopub.execute_input": "2023-08-09T19:07:26.158491Z",
     "iopub.status.busy": "2023-08-09T19:07:26.158104Z",
     "iopub.status.idle": "2023-08-09T19:07:26.269325Z",
     "shell.execute_reply": "2023-08-09T19:07:26.268178Z"
    },
    "papermill": {
     "duration": 0.133554,
     "end_time": "2023-08-09T19:07:26.271873",
     "exception": false,
     "start_time": "2023-08-09T19:07:26.138319",
     "status": "completed"
    },
    "tags": []
   },
   "outputs": [
    {
     "name": "stdout",
     "output_type": "stream",
     "text": [
      "Number of unique values for Airline: 23\n"
     ]
    }
   ],
   "source": [
    "#Let's check out what our new dataset looks like\n",
    "#how many different airlines are represented?\n",
    "print(\"Number of unique values for Airline:\", df_flights_2018_active['Airline'].nunique())\n"
   ]
  },
  {
   "cell_type": "code",
   "execution_count": 19,
   "id": "27471a4b",
   "metadata": {
    "execution": {
     "iopub.execute_input": "2023-08-09T19:07:26.311346Z",
     "iopub.status.busy": "2023-08-09T19:07:26.310066Z",
     "iopub.status.idle": "2023-08-09T19:07:26.478038Z",
     "shell.execute_reply": "2023-08-09T19:07:26.476717Z"
    },
    "papermill": {
     "duration": 0.189914,
     "end_time": "2023-08-09T19:07:26.480402",
     "exception": false,
     "start_time": "2023-08-09T19:07:26.290488",
     "status": "completed"
    },
    "tags": []
   },
   "outputs": [
    {
     "name": "stdout",
     "output_type": "stream",
     "text": [
      "Number of unique states in OriginState: 18\n",
      "Number of unique states in DestState: 18\n"
     ]
    }
   ],
   "source": [
    "#What does our geographic dispersion look like? Let's see how many different states are represented\n",
    "print(\"Number of unique states in OriginState:\", df_flights_2018_active['OriginState'].nunique())\n",
    "#Good we have 51 states represented, that's some diversity.\n",
    "print(\"Number of unique states in DestState:\", df_flights_2018_active['OriginState'].nunique())\n",
    "#51 as well for the Destinations. That's good as well"
   ]
  },
  {
   "cell_type": "code",
   "execution_count": 20,
   "id": "61aa0a78",
   "metadata": {
    "execution": {
     "iopub.execute_input": "2023-08-09T19:07:26.520109Z",
     "iopub.status.busy": "2023-08-09T19:07:26.519656Z",
     "iopub.status.idle": "2023-08-09T19:07:26.755023Z",
     "shell.execute_reply": "2023-08-09T19:07:26.753848Z"
    },
    "papermill": {
     "duration": 0.257332,
     "end_time": "2023-08-09T19:07:26.757087",
     "exception": false,
     "start_time": "2023-08-09T19:07:26.499755",
     "status": "completed"
    },
    "tags": []
   },
   "outputs": [
    {
     "name": "stdout",
     "output_type": "stream",
     "text": [
      "CA    237082\n",
      "IL    138049\n",
      "FL    118007\n",
      "TX    117037\n",
      "NY     95375\n",
      "CO     92232\n",
      "GA     88098\n",
      "VA     81601\n",
      "MA     76193\n",
      "NV     71831\n",
      "Name: OriginState, dtype: int64\n",
      "CA    237568\n",
      "IL    137977\n",
      "FL    118000\n",
      "TX    116782\n",
      "NY     95322\n",
      "CO     91663\n",
      "GA     88217\n",
      "VA     81690\n",
      "MA     76294\n",
      "NV     71966\n",
      "Name: DestState, dtype: int64\n"
     ]
    }
   ],
   "source": [
    "#Let's visualize our states to see where the bulk of the data is coming from\n",
    "origin_state_counts = df_flights_2018_active['OriginState'].value_counts()\n",
    "print(origin_state_counts.head(10))\n",
    "dest_state_counts = df_flights_2018_active['DestState'].value_counts()\n",
    "print(dest_state_counts.head(10))\n",
    "\n",
    "#We see here then that our rankings are the same, the top 10 origin states and top 10 departure states are the same. It makes sense since airlines use\n",
    "#hub and spoke models and these hubs would be the busiest airports. This makes sense too since these are the most populated states in America"
   ]
  },
  {
   "cell_type": "code",
   "execution_count": 21,
   "id": "5e254338",
   "metadata": {
    "execution": {
     "iopub.execute_input": "2023-08-09T19:07:26.796233Z",
     "iopub.status.busy": "2023-08-09T19:07:26.795824Z",
     "iopub.status.idle": "2023-08-09T19:07:27.263753Z",
     "shell.execute_reply": "2023-08-09T19:07:27.262348Z"
    },
    "papermill": {
     "duration": 0.490106,
     "end_time": "2023-08-09T19:07:27.266058",
     "exception": false,
     "start_time": "2023-08-09T19:07:26.775952",
     "status": "completed"
    },
    "tags": []
   },
   "outputs": [
    {
     "data": {
      "text/plain": [
       "<Figure size 800x600 with 0 Axes>"
      ]
     },
     "execution_count": 21,
     "metadata": {},
     "output_type": "execute_result"
    },
    {
     "data": {
      "image/png": "[encoded data removed]",
      "text/plain": [
       "<Figure size 640x480 with 1 Axes>"
      ]
     },
     "metadata": {},
     "output_type": "display_data"
    },
    {
     "data": {
      "text/plain": [
       "<Figure size 800x600 with 0 Axes>"
      ]
     },
     "metadata": {},
     "output_type": "display_data"
    }
   ],
   "source": [
    "# We feel that the values printed by the above cell are going to be a wide enough sample to \n",
    "# give us reliable results from our ML models. Now, let's explore our data a little bit.\n",
    "# Firstly, let's visualize our states to see where the bulk of our data is coming from.\n",
    "\n",
    "# Visualize most popular departure states\n",
    "temp_df = df_flights_2018_active['OriginState'].value_counts().reset_index()\n",
    "\n",
    "plt.bar(temp_df['index'], temp_df['OriginState'], width=0.8, align='center')\n",
    "plt.xlabel(\"Departure State\")\n",
    "plt.ylabel(\"Number of Flights\")\n",
    "plt.title(\"Number of Departing Flights by State in Our Working Dataset\")\n",
    "plt.figure(figsize=(8,6))"
   ]
  },
  {
   "cell_type": "code",
   "execution_count": 22,
   "id": "994368a0",
   "metadata": {
    "execution": {
     "iopub.execute_input": "2023-08-09T19:07:27.307811Z",
     "iopub.status.busy": "2023-08-09T19:07:27.306685Z",
     "iopub.status.idle": "2023-08-09T19:07:27.893938Z",
     "shell.execute_reply": "2023-08-09T19:07:27.892824Z"
    },
    "papermill": {
     "duration": 0.610116,
     "end_time": "2023-08-09T19:07:27.896186",
     "exception": false,
     "start_time": "2023-08-09T19:07:27.286070",
     "status": "completed"
    },
    "tags": []
   },
   "outputs": [
    {
     "data": {
      "text/plain": [
       "<Figure size 800x600 with 0 Axes>"
      ]
     },
     "execution_count": 22,
     "metadata": {},
     "output_type": "execute_result"
    },
    {
     "data": {
      "image/png": "[encoded data removed]",
      "text/plain": [
       "<Figure size 640x480 with 1 Axes>"
      ]
     },
     "metadata": {},
     "output_type": "display_data"
    },
    {
     "data": {
      "text/plain": [
       "<Figure size 800x600 with 0 Axes>"
      ]
     },
     "metadata": {},
     "output_type": "display_data"
    }
   ],
   "source": [
    "# Visualize most popular destination states\n",
    "temp_df2 = df_flights_2018_active['DestState'].value_counts().reset_index()\n",
    "\n",
    "plt.bar(temp_df2['index'], temp_df2['DestState'], width=0.8, align='center')\n",
    "plt.xlabel(\"Arrival State\")\n",
    "plt.ylabel(\"Number of Flights\")\n",
    "plt.title(\"Number of Arrival Flights by State in Our Working Dataset\")\n",
    "plt.figure(figsize=(8,6))"
   ]
  },
  {
   "cell_type": "code",
   "execution_count": 23,
   "id": "198e0b13",
   "metadata": {
    "execution": {
     "iopub.execute_input": "2023-08-09T19:07:27.938912Z",
     "iopub.status.busy": "2023-08-09T19:07:27.938074Z",
     "iopub.status.idle": "2023-08-09T19:07:28.058511Z",
     "shell.execute_reply": "2023-08-09T19:07:28.057611Z"
    },
    "papermill": {
     "duration": 0.144539,
     "end_time": "2023-08-09T19:07:28.061128",
     "exception": false,
     "start_time": "2023-08-09T19:07:27.916589",
     "status": "completed"
    },
    "tags": []
   },
   "outputs": [
    {
     "name": "stdout",
     "output_type": "stream",
     "text": [
      "Origin\n",
      "MDW    15.459763\n",
      "EWR    14.866839\n",
      "DFW    13.612801\n",
      "MCO    13.483730\n",
      "BOS    13.052498\n",
      "ORD    12.839270\n",
      "FLL    12.533830\n",
      "LGA    12.443254\n",
      "DEN    11.623504\n",
      "BWI    11.301962\n",
      "PHL    11.148356\n",
      "CLT    10.890087\n",
      "SFO    10.737475\n",
      "ATL    10.735987\n",
      "DCA    10.655947\n",
      "JFK    10.652888\n",
      "IAD    10.436509\n",
      "PHX    10.110829\n",
      "LAS    10.079436\n",
      "IAH     9.877650\n",
      "Name: dep_min_delay, dtype: float64\n"
     ]
    }
   ],
   "source": [
    "#Now let's see which airports have the most departure delays\n",
    "\n",
    "#group by Origin and we want the dep_min_delay to get an average for all flights coming out of that airport\n",
    "airport_delays = df_flights_2018_active.groupby('Origin')['dep_min_delay'].mean()\n",
    "\n",
    "#now we sort by descending value to see the airports with the highest average delays in America!\n",
    "airport_delays_sorted = airport_delays.sort_values(ascending=False)\n",
    "print(airport_delays_sorted.head(20))\n"
   ]
  },
  {
   "cell_type": "code",
   "execution_count": 24,
   "id": "c56545b0",
   "metadata": {
    "execution": {
     "iopub.execute_input": "2023-08-09T19:07:28.104310Z",
     "iopub.status.busy": "2023-08-09T19:07:28.103599Z",
     "iopub.status.idle": "2023-08-09T19:07:28.666512Z",
     "shell.execute_reply": "2023-08-09T19:07:28.665473Z"
    },
    "papermill": {
     "duration": 0.587408,
     "end_time": "2023-08-09T19:07:28.668942",
     "exception": false,
     "start_time": "2023-08-09T19:07:28.081534",
     "status": "completed"
    },
    "tags": []
   },
   "outputs": [
    {
     "data": {
      "text/plain": [
       "<Figure size 800x600 with 0 Axes>"
      ]
     },
     "execution_count": 24,
     "metadata": {},
     "output_type": "execute_result"
    },
    {
     "data": {
      "image/png": "[encoded data removed]",
      "text/plain": [
       "<Figure size 640x480 with 1 Axes>"
      ]
     },
     "metadata": {},
     "output_type": "display_data"
    },
    {
     "data": {
      "text/plain": [
       "<Figure size 800x600 with 0 Axes>"
      ]
     },
     "metadata": {},
     "output_type": "display_data"
    }
   ],
   "source": [
    "# We now consider the question of which airports have the worst departure delays\n",
    "\n",
    "airport_delays = df_flights_2018_active.groupby('Origin')['dep_min_delay'].mean().sort_values(ascending=False).reset_index()\n",
    "\n",
    "plt.bar(airport_delays['Origin'], airport_delays['dep_min_delay'], width=.9, align='center')\n",
    "plt.xlabel(\"Departure Airport\")\n",
    "plt.ylabel(\"Average Delay of Flight in Minutes\")\n",
    "plt.title(\"Comparing Average Departure Delays by Airport\")\n",
    "plt.xticks(rotation=45)\n",
    "plt.figure(figsize=(8,6))"
   ]
  },
  {
   "cell_type": "code",
   "execution_count": 25,
   "id": "b0b8a9b6",
   "metadata": {
    "execution": {
     "iopub.execute_input": "2023-08-09T19:07:28.713949Z",
     "iopub.status.busy": "2023-08-09T19:07:28.711758Z",
     "iopub.status.idle": "2023-08-09T19:07:28.859528Z",
     "shell.execute_reply": "2023-08-09T19:07:28.858171Z"
    },
    "papermill": {
     "duration": 0.172313,
     "end_time": "2023-08-09T19:07:28.862169",
     "exception": false,
     "start_time": "2023-08-09T19:07:28.689856",
     "status": "completed"
    },
    "tags": []
   },
   "outputs": [
    {
     "name": "stdout",
     "output_type": "stream",
     "text": [
      "Airline\n",
      "Commutair Aka Champlain Enterprises, Inc.    31.350067\n",
      "JetBlue Airways                              25.567400\n",
      "GoJet Airlines, LLC d/b/a United Express     19.441989\n",
      "SkyWest Airlines Inc.                        18.765672\n",
      "Southwest Airlines Co.                       17.662830\n",
      "United Air Lines Inc.                        14.962770\n",
      "Spirit Air Lines                             13.642779\n",
      "ExpressJet Airlines Inc.                     13.604247\n",
      "Endeavor Air Inc.                            13.151982\n",
      "Delta Air Lines Inc.                          9.832812\n",
      "Alaska Airlines Inc.                          8.835271\n",
      "American Airlines Inc.                        8.583433\n",
      "Republic Airlines                             8.278157\n",
      "Virgin America                                6.675728\n",
      "Envoy Air                                     5.500000\n",
      "Name: dep_min_delay, dtype: float64\n"
     ]
    }
   ],
   "source": [
    "#let's see more about our airlines to see if there's a difference\n",
    "flights_from_EWR = df_flights_2018_active[df_flights_2018_active['Origin'] == 'EWR']\n",
    "\n",
    "#groupby airline and rank the average delay\n",
    "EWR_delays = flights_from_EWR.groupby('Airline')['dep_min_delay'].mean()\n",
    "print(EWR_delays.sort_values(ascending=False))"
   ]
  },
  {
   "cell_type": "code",
   "execution_count": 26,
   "id": "eb174773",
   "metadata": {
    "execution": {
     "iopub.execute_input": "2023-08-09T19:07:28.906803Z",
     "iopub.status.busy": "2023-08-09T19:07:28.906371Z",
     "iopub.status.idle": "2023-08-09T19:07:29.543192Z",
     "shell.execute_reply": "2023-08-09T19:07:29.542111Z"
    },
    "papermill": {
     "duration": 0.661662,
     "end_time": "2023-08-09T19:07:29.545469",
     "exception": false,
     "start_time": "2023-08-09T19:07:28.883807",
     "status": "completed"
    },
    "tags": []
   },
   "outputs": [
    {
     "data": {
      "text/plain": [
       "<Figure size 800x600 with 0 Axes>"
      ]
     },
     "execution_count": 26,
     "metadata": {},
     "output_type": "execute_result"
    },
    {
     "data": {
      "image/png": "[encoded data removed]",
      "text/plain": [
       "<Figure size 640x480 with 1 Axes>"
      ]
     },
     "metadata": {},
     "output_type": "display_data"
    },
    {
     "data": {
      "text/plain": [
       "<Figure size 800x600 with 0 Axes>"
      ]
     },
     "metadata": {},
     "output_type": "display_data"
    }
   ],
   "source": [
    "# Now that we have identified the airport with the longest average delays, let's explore which airlines\n",
    "# are responsible for the longest average delays.\n",
    "\n",
    "\n",
    "airline_delays = df_flights_2018_active.groupby('Airline')['dep_min_delay'].mean().sort_values(ascending=False).reset_index()\n",
    "\n",
    "plt.bar(airline_delays['Airline'], airline_delays['dep_min_delay'], width=.9, align='center')\n",
    "plt.xlabel(\"Airline\")\n",
    "plt.ylabel(\"Average Delay of Flight in Minutes\")\n",
    "plt.title(\"Comparing Average Departure Delays by Airline\")\n",
    "plt.xticks(rotation=90)\n",
    "plt.figure(figsize=(8,6))"
   ]
  },
  {
   "cell_type": "code",
   "execution_count": 27,
   "id": "b75a5024",
   "metadata": {
    "execution": {
     "iopub.execute_input": "2023-08-09T19:07:29.592335Z",
     "iopub.status.busy": "2023-08-09T19:07:29.591849Z",
     "iopub.status.idle": "2023-08-09T19:07:29.752376Z",
     "shell.execute_reply": "2023-08-09T19:07:29.751284Z"
    },
    "papermill": {
     "duration": 0.186599,
     "end_time": "2023-08-09T19:07:29.754587",
     "exception": false,
     "start_time": "2023-08-09T19:07:29.567988",
     "status": "completed"
    },
    "tags": []
   },
   "outputs": [
    {
     "data": {
      "text/html": [
       "<div>\n",
       "<style scoped>\n",
       "    .dataframe tbody tr th:only-of-type {\n",
       "        vertical-align: middle;\n",
       "    }\n",
       "\n",
       "    .dataframe tbody tr th {\n",
       "        vertical-align: top;\n",
       "    }\n",
       "\n",
       "    .dataframe thead th {\n",
       "        text-align: right;\n",
       "    }\n",
       "</style>\n",
       "<table border=\"1\" class=\"dataframe\">\n",
       "  <thead>\n",
       "    <tr style=\"text-align: right;\">\n",
       "      <th></th>\n",
       "      <th>Airline</th>\n",
       "      <th>Avg_Delays_EWR</th>\n",
       "      <th>Avg_Delays_Overall</th>\n",
       "    </tr>\n",
       "  </thead>\n",
       "  <tbody>\n",
       "    <tr>\n",
       "      <th>0</th>\n",
       "      <td>Commutair Aka Champlain Enterprises, Inc.</td>\n",
       "      <td>31.350067</td>\n",
       "      <td>28.033772</td>\n",
       "    </tr>\n",
       "    <tr>\n",
       "      <th>1</th>\n",
       "      <td>JetBlue Airways</td>\n",
       "      <td>25.567400</td>\n",
       "      <td>16.911728</td>\n",
       "    </tr>\n",
       "    <tr>\n",
       "      <th>2</th>\n",
       "      <td>GoJet Airlines, LLC d/b/a United Express</td>\n",
       "      <td>19.441989</td>\n",
       "      <td>13.598950</td>\n",
       "    </tr>\n",
       "    <tr>\n",
       "      <th>3</th>\n",
       "      <td>SkyWest Airlines Inc.</td>\n",
       "      <td>18.765672</td>\n",
       "      <td>11.134301</td>\n",
       "    </tr>\n",
       "    <tr>\n",
       "      <th>4</th>\n",
       "      <td>Southwest Airlines Co.</td>\n",
       "      <td>17.662830</td>\n",
       "      <td>13.213865</td>\n",
       "    </tr>\n",
       "    <tr>\n",
       "      <th>5</th>\n",
       "      <td>United Air Lines Inc.</td>\n",
       "      <td>14.962770</td>\n",
       "      <td>10.321730</td>\n",
       "    </tr>\n",
       "    <tr>\n",
       "      <th>6</th>\n",
       "      <td>Spirit Air Lines</td>\n",
       "      <td>13.642779</td>\n",
       "      <td>10.977962</td>\n",
       "    </tr>\n",
       "    <tr>\n",
       "      <th>7</th>\n",
       "      <td>ExpressJet Airlines Inc.</td>\n",
       "      <td>13.604247</td>\n",
       "      <td>21.566034</td>\n",
       "    </tr>\n",
       "    <tr>\n",
       "      <th>8</th>\n",
       "      <td>Endeavor Air Inc.</td>\n",
       "      <td>13.151982</td>\n",
       "      <td>11.717964</td>\n",
       "    </tr>\n",
       "    <tr>\n",
       "      <th>9</th>\n",
       "      <td>Delta Air Lines Inc.</td>\n",
       "      <td>9.832812</td>\n",
       "      <td>7.060366</td>\n",
       "    </tr>\n",
       "    <tr>\n",
       "      <th>10</th>\n",
       "      <td>Alaska Airlines Inc.</td>\n",
       "      <td>8.835271</td>\n",
       "      <td>5.248659</td>\n",
       "    </tr>\n",
       "    <tr>\n",
       "      <th>11</th>\n",
       "      <td>American Airlines Inc.</td>\n",
       "      <td>8.583433</td>\n",
       "      <td>10.423576</td>\n",
       "    </tr>\n",
       "    <tr>\n",
       "      <th>12</th>\n",
       "      <td>Republic Airlines</td>\n",
       "      <td>8.278157</td>\n",
       "      <td>9.946146</td>\n",
       "    </tr>\n",
       "    <tr>\n",
       "      <th>13</th>\n",
       "      <td>Virgin America</td>\n",
       "      <td>6.675728</td>\n",
       "      <td>6.675821</td>\n",
       "    </tr>\n",
       "    <tr>\n",
       "      <th>14</th>\n",
       "      <td>Envoy Air</td>\n",
       "      <td>5.500000</td>\n",
       "      <td>8.841433</td>\n",
       "    </tr>\n",
       "  </tbody>\n",
       "</table>\n",
       "</div>"
      ],
      "text/plain": [
       "                                      Airline  Avg_Delays_EWR  \\\n",
       "0   Commutair Aka Champlain Enterprises, Inc.       31.350067   \n",
       "1                             JetBlue Airways       25.567400   \n",
       "2    GoJet Airlines, LLC d/b/a United Express       19.441989   \n",
       "3                       SkyWest Airlines Inc.       18.765672   \n",
       "4                      Southwest Airlines Co.       17.662830   \n",
       "5                       United Air Lines Inc.       14.962770   \n",
       "6                            Spirit Air Lines       13.642779   \n",
       "7                    ExpressJet Airlines Inc.       13.604247   \n",
       "8                           Endeavor Air Inc.       13.151982   \n",
       "9                        Delta Air Lines Inc.        9.832812   \n",
       "10                       Alaska Airlines Inc.        8.835271   \n",
       "11                     American Airlines Inc.        8.583433   \n",
       "12                          Republic Airlines        8.278157   \n",
       "13                             Virgin America        6.675728   \n",
       "14                                  Envoy Air        5.500000   \n",
       "\n",
       "    Avg_Delays_Overall  \n",
       "0            28.033772  \n",
       "1            16.911728  \n",
       "2            13.598950  \n",
       "3            11.134301  \n",
       "4            13.213865  \n",
       "5            10.321730  \n",
       "6            10.977962  \n",
       "7            21.566034  \n",
       "8            11.717964  \n",
       "9             7.060366  \n",
       "10            5.248659  \n",
       "11           10.423576  \n",
       "12            9.946146  \n",
       "13            6.675821  \n",
       "14            8.841433  "
      ]
     },
     "execution_count": 27,
     "metadata": {},
     "output_type": "execute_result"
    }
   ],
   "source": [
    "# Now that we understand which airports and airlines tend to have the longest delays, let's see if there \n",
    "# is any correlation between the slowest airlines at Newark (the slowest airport) and the slowest\n",
    "# airlines overall.\n",
    "\n",
    "airline_delays_EWR = df_flights_2018_active[df_flights_2018_active['Origin'] == 'EWR'].groupby('Airline')['dep_min_delay'].mean().sort_values(ascending=False).reset_index()\n",
    "\n",
    "pd.merge(airline_delays_EWR, airline_delays, how=\"inner\", on='Airline').rename(columns={\"dep_min_delay_y\": \"Avg_Delays_Overall\", \"dep_min_delay_x\": \"Avg_Delays_EWR\"}).head(20)"
   ]
  },
  {
   "cell_type": "markdown",
   "id": "74ecb7b0",
   "metadata": {
    "papermill": {
     "duration": 0.022717,
     "end_time": "2023-08-09T19:07:29.800151",
     "exception": false,
     "start_time": "2023-08-09T19:07:29.777434",
     "status": "completed"
    },
    "tags": []
   },
   "source": [
    "In looking at how airlines tend to experience delays overall versus at Newark specifically, it actually seems that the airport itself might be having an effect. Of the 15 airlines addressed above, 11 perform worse with respect to delays at EWR, meaning that their delays are longer at this particular airport than they tend to be overall. In summary, we hope that you are not flying Commutair or JetBlue out of Newark any time soon!"
   ]
  },
  {
   "cell_type": "markdown",
   "id": "1e8632e9",
   "metadata": {
    "papermill": {
     "duration": 0.02236,
     "end_time": "2023-08-09T19:07:29.845617",
     "exception": false,
     "start_time": "2023-08-09T19:07:29.823257",
     "status": "completed"
    },
    "tags": []
   },
   "source": [
    "### Section 4: Preparation for Modeling\n"
   ]
  },
  {
   "cell_type": "code",
   "execution_count": 28,
   "id": "0521e07c",
   "metadata": {
    "execution": {
     "iopub.execute_input": "2023-08-09T19:07:29.893450Z",
     "iopub.status.busy": "2023-08-09T19:07:29.892452Z",
     "iopub.status.idle": "2023-08-09T19:07:31.012281Z",
     "shell.execute_reply": "2023-08-09T19:07:31.010046Z"
    },
    "papermill": {
     "duration": 1.147234,
     "end_time": "2023-08-09T19:07:31.015538",
     "exception": false,
     "start_time": "2023-08-09T19:07:29.868304",
     "status": "completed"
    },
    "tags": []
   },
   "outputs": [
    {
     "name": "stdout",
     "output_type": "stream",
     "text": [
      "     Quarter  DayOfWeek            Airline Origin OriginState Dest DestState  \\\n",
      "182        1          1  Endeavor Air Inc.    DCA          VA  JFK        NY   \n",
      "305        1          1  Endeavor Air Inc.    ATL          GA  IAH        TX   \n",
      "365        1          2  Endeavor Air Inc.    DTW          MI  DFW        TX   \n",
      "399        1          2  Endeavor Air Inc.    DTW          MI  LGA        NY   \n",
      "452        1          3  Endeavor Air Inc.    DTW          MI  IAD        VA   \n",
      "\n",
      "     Distance  dep_min_delay  Year  Month  Day  schedule_dep_hour  \n",
      "182       213             49  2018      1    1                  9  \n",
      "305       689            141  2018      1    1                 12  \n",
      "365       986              7  2018      1    2                 15  \n",
      "399       502             14  2018      1    2                 17  \n",
      "452       383             -8  2018      1   10                  7  \n",
      "<class 'pandas.core.frame.DataFrame'>\n",
      "Int64Index: 1515479 entries, 182 to 5689474\n",
      "Data columns (total 13 columns):\n",
      " #   Column             Non-Null Count    Dtype \n",
      "---  ------             --------------    ----- \n",
      " 0   Quarter            1515479 non-null  int64 \n",
      " 1   DayOfWeek          1515479 non-null  int64 \n",
      " 2   Airline            1515479 non-null  object\n",
      " 3   Origin             1515479 non-null  object\n",
      " 4   OriginState        1515479 non-null  object\n",
      " 5   Dest               1515479 non-null  object\n",
      " 6   DestState          1515479 non-null  object\n",
      " 7   Distance           1515479 non-null  int64 \n",
      " 8   dep_min_delay      1515479 non-null  int64 \n",
      " 9   Year               1515479 non-null  int64 \n",
      " 10  Month              1515479 non-null  int64 \n",
      " 11  Day                1515479 non-null  int64 \n",
      " 12  schedule_dep_hour  1515479 non-null  int64 \n",
      "dtypes: int64(8), object(5)\n",
      "memory usage: 161.9+ MB\n",
      "None\n"
     ]
    }
   ],
   "source": [
    "#let's review the steps we've done\n",
    "#reduced the number of features in the dataset\n",
    "#renamed a number of features in the dataset\n",
    "#rounded our target value\n",
    "#removed outliers\n",
    "#formatted date and time columns\n",
    "#reduced our rows to active airports and frequently used origins and destinations\n",
    "\n",
    "\n",
    "#First lets remind ourselves what our current dataset looks like\n",
    "print(df_flights_2018_active.head())\n",
    "print(df_flights_2018_active.info())\n",
    "\n",
    "#we have about 1.4 million rows to work with in our remaining dataset"
   ]
  },
  {
   "cell_type": "code",
   "execution_count": 29,
   "id": "e18c02a7",
   "metadata": {
    "execution": {
     "iopub.execute_input": "2023-08-09T19:07:31.064802Z",
     "iopub.status.busy": "2023-08-09T19:07:31.064409Z",
     "iopub.status.idle": "2023-08-09T19:07:32.236073Z",
     "shell.execute_reply": "2023-08-09T19:07:32.235012Z"
    },
    "papermill": {
     "duration": 1.198984,
     "end_time": "2023-08-09T19:07:32.238132",
     "exception": false,
     "start_time": "2023-08-09T19:07:31.039148",
     "status": "completed"
    },
    "tags": []
   },
   "outputs": [
    {
     "name": "stdout",
     "output_type": "stream",
     "text": [
      "     Quarter  DayOfWeek            Airline Origin OriginState Dest DestState  \\\n",
      "182        1          1  Endeavor Air Inc.    DCA          VA  JFK        NY   \n",
      "305        1          1  Endeavor Air Inc.    ATL          GA  IAH        TX   \n",
      "365        1          2  Endeavor Air Inc.    DTW          MI  DFW        TX   \n",
      "399        1          2  Endeavor Air Inc.    DTW          MI  LGA        NY   \n",
      "452        1          3  Endeavor Air Inc.    DTW          MI  IAD        VA   \n",
      "\n",
      "     Distance  dep_min_delay  Year  Month  Day  schedule_dep_hour  \n",
      "182       213             49  2018      1    1                  9  \n",
      "305       689            141  2018      1    1                 12  \n",
      "365       986              7  2018      1    2                 15  \n",
      "399       502             14  2018      1    2                 17  \n",
      "452       383             -8  2018      1   10                  7  \n",
      "<class 'pandas.core.frame.DataFrame'>\n",
      "Int64Index: 1515479 entries, 182 to 5689474\n",
      "Data columns (total 13 columns):\n",
      " #   Column             Non-Null Count    Dtype \n",
      "---  ------             --------------    ----- \n",
      " 0   Quarter            1515479 non-null  int64 \n",
      " 1   DayOfWeek          1515479 non-null  int64 \n",
      " 2   Airline            1515479 non-null  object\n",
      " 3   Origin             1515479 non-null  object\n",
      " 4   OriginState        1515479 non-null  object\n",
      " 5   Dest               1515479 non-null  object\n",
      " 6   DestState          1515479 non-null  object\n",
      " 7   Distance           1515479 non-null  int64 \n",
      " 8   dep_min_delay      1515479 non-null  int64 \n",
      " 9   Year               1515479 non-null  int64 \n",
      " 10  Month              1515479 non-null  int64 \n",
      " 11  Day                1515479 non-null  int64 \n",
      " 12  schedule_dep_hour  1515479 non-null  int64 \n",
      "dtypes: int64(8), object(5)\n",
      "memory usage: 161.9+ MB\n",
      "None\n"
     ]
    }
   ],
   "source": [
    "#as a final step. let's copy our dataset for future use in the machine learning.\n",
    "#this way we can check our results and come back to it later\n",
    "#we'll make our v1 modeling dataset\n",
    "df_flights_modeling_v1 = df_flights_2018_active.copy()\n",
    "print(df_flights_modeling_v1.head())\n",
    "print(df_flights_modeling_v1.info())"
   ]
  },
  {
   "cell_type": "markdown",
   "id": "d4402184",
   "metadata": {
    "papermill": {
     "duration": 0.022768,
     "end_time": "2023-08-09T19:07:32.284712",
     "exception": false,
     "start_time": "2023-08-09T19:07:32.261944",
     "status": "completed"
    },
    "tags": []
   },
   "source": [
    "#### Section 4.1: Encode \"Airline\""
   ]
  },
  {
   "cell_type": "code",
   "execution_count": 30,
   "id": "3e203dbf",
   "metadata": {
    "execution": {
     "iopub.execute_input": "2023-08-09T19:07:32.332976Z",
     "iopub.status.busy": "2023-08-09T19:07:32.332598Z",
     "iopub.status.idle": "2023-08-09T19:07:35.762901Z",
     "shell.execute_reply": "2023-08-09T19:07:35.761794Z"
    },
    "papermill": {
     "duration": 3.458034,
     "end_time": "2023-08-09T19:07:35.765931",
     "exception": false,
     "start_time": "2023-08-09T19:07:32.307897",
     "status": "completed"
    },
    "tags": []
   },
   "outputs": [
    {
     "name": "stderr",
     "output_type": "stream",
     "text": [
      "/opt/conda/lib/python3.10/site-packages/scipy/__init__.py:146: UserWarning: A NumPy version >=1.16.5 and <1.23.0 is required for this version of SciPy (detected version 1.23.5\n",
      "  warnings.warn(f\"A NumPy version >={np_minversion} and <{np_maxversion}\"\n"
     ]
    },
    {
     "name": "stdout",
     "output_type": "stream",
     "text": [
      "     Quarter  DayOfWeek Origin OriginState Dest DestState  Distance  \\\n",
      "182      1.0        1.0    DCA          VA  JFK        NY     213.0   \n",
      "305      1.0        1.0    ATL          GA  IAH        TX     689.0   \n",
      "365      1.0        2.0    DTW          MI  DFW        TX     986.0   \n",
      "399      1.0        2.0    DTW          MI  LGA        NY     502.0   \n",
      "452      1.0        3.0    DTW          MI  IAD        VA     383.0   \n",
      "\n",
      "     dep_min_delay    Year  Month  ...  Airline_Horizon Air  \\\n",
      "182           49.0  2018.0    1.0  ...                  0.0   \n",
      "305          141.0  2018.0    1.0  ...                  0.0   \n",
      "365            7.0  2018.0    1.0  ...                  0.0   \n",
      "399           14.0  2018.0    1.0  ...                  0.0   \n",
      "452           -8.0  2018.0    1.0  ...                  0.0   \n",
      "\n",
      "     Airline_JetBlue Airways  Airline_Mesa Airlines Inc.  \\\n",
      "182                      0.0                         0.0   \n",
      "305                      0.0                         0.0   \n",
      "365                      0.0                         0.0   \n",
      "399                      0.0                         0.0   \n",
      "452                      0.0                         0.0   \n",
      "\n",
      "     Airline_Republic Airlines  Airline_SkyWest Airlines Inc.  \\\n",
      "182                        0.0                            0.0   \n",
      "305                        0.0                            0.0   \n",
      "365                        0.0                            0.0   \n",
      "399                        0.0                            0.0   \n",
      "452                        0.0                            0.0   \n",
      "\n",
      "     Airline_Southwest Airlines Co.  Airline_Spirit Air Lines  \\\n",
      "182                             0.0                       0.0   \n",
      "305                             0.0                       0.0   \n",
      "365                             0.0                       0.0   \n",
      "399                             0.0                       0.0   \n",
      "452                             0.0                       0.0   \n",
      "\n",
      "     Airline_Trans States Airlines  Airline_United Air Lines Inc.  \\\n",
      "182                            0.0                            0.0   \n",
      "305                            0.0                            0.0   \n",
      "365                            0.0                            0.0   \n",
      "399                            0.0                            0.0   \n",
      "452                            0.0                            0.0   \n",
      "\n",
      "     Airline_Virgin America  \n",
      "182                     0.0  \n",
      "305                     0.0  \n",
      "365                     0.0  \n",
      "399                     0.0  \n",
      "452                     0.0  \n",
      "\n",
      "[5 rows x 34 columns]\n",
      "<class 'pandas.core.frame.DataFrame'>\n",
      "Int64Index: 2629573 entries, 182 to 1515478\n",
      "Data columns (total 34 columns):\n",
      " #   Column                                             Dtype  \n",
      "---  ------                                             -----  \n",
      " 0   Quarter                                            float64\n",
      " 1   DayOfWeek                                          float64\n",
      " 2   Origin                                             object \n",
      " 3   OriginState                                        object \n",
      " 4   Dest                                               object \n",
      " 5   DestState                                          object \n",
      " 6   Distance                                           float64\n",
      " 7   dep_min_delay                                      float64\n",
      " 8   Year                                               float64\n",
      " 9   Month                                              float64\n",
      " 10  Day                                                float64\n",
      " 11  schedule_dep_hour                                  float64\n",
      " 12  Airline_Alaska Airlines Inc.                       float64\n",
      " 13  Airline_American Airlines Inc.                     float64\n",
      " 14  Airline_Capital Cargo International                float64\n",
      " 15  Airline_Comair Inc.                                float64\n",
      " 16  Airline_Commutair Aka Champlain Enterprises, Inc.  float64\n",
      " 17  Airline_Compass Airlines                           float64\n",
      " 18  Airline_Delta Air Lines Inc.                       float64\n",
      " 19  Airline_Endeavor Air Inc.                          float64\n",
      " 20  Airline_Envoy Air                                  float64\n",
      " 21  Airline_ExpressJet Airlines Inc.                   float64\n",
      " 22  Airline_Frontier Airlines Inc.                     float64\n",
      " 23  Airline_GoJet Airlines, LLC d/b/a United Express   float64\n",
      " 24  Airline_Horizon Air                                float64\n",
      " 25  Airline_JetBlue Airways                            float64\n",
      " 26  Airline_Mesa Airlines Inc.                         float64\n",
      " 27  Airline_Republic Airlines                          float64\n",
      " 28  Airline_SkyWest Airlines Inc.                      float64\n",
      " 29  Airline_Southwest Airlines Co.                     float64\n",
      " 30  Airline_Spirit Air Lines                           float64\n",
      " 31  Airline_Trans States Airlines                      float64\n",
      " 32  Airline_United Air Lines Inc.                      float64\n",
      " 33  Airline_Virgin America                             float64\n",
      "dtypes: float64(30), object(4)\n",
      "memory usage: 702.2+ MB\n",
      "None\n"
     ]
    }
   ],
   "source": [
    "#Prep for Modeling\n",
    "from sklearn.model_selection import train_test_split\n",
    "from sklearn.metrics import mean_squared_error, r2_score\n",
    "from sklearn.preprocessing import OneHotEncoder\n",
    "\n",
    "#One hot encoding before modeling\n",
    "#In order to effectively model, we need to one-hot-encode five values:\n",
    "#\"Airline\" \n",
    "#\"Origin\" \n",
    "#\"OriginState\" \n",
    "#\"Dest\"\n",
    "#\"DestState\"\n",
    "\n",
    "#create an encoder instance\n",
    "encoder = OneHotEncoder(drop='first', sparse_output=False)\n",
    "\n",
    "#reshape the column \n",
    "airline_data = df_flights_modeling_v1[['Airline']]\n",
    "airline_data_reshaped = airline_data.values.reshape(-1, 1)\n",
    "\n",
    "#encode with fit_transform\n",
    "encoded_airline = pd.DataFrame(encoder.fit_transform(airline_data_reshaped), columns=encoder.get_feature_names_out(['Airline']))\n",
    "\n",
    "#concatenate bback with originl\n",
    "df_flights_modeling_v1_encoded = pd.concat([df_flights_modeling_v1, encoded_airline], axis=1)\n",
    "\n",
    "#drop the original airline column\n",
    "df_flights_modeling_v1_encoded.drop(columns=['Airline'], inplace=True)\n",
    "\n",
    "print(df_flights_modeling_v1_encoded.head())\n",
    "print(df_flights_modeling_v1_encoded.info())\n"
   ]
  },
  {
   "cell_type": "markdown",
   "id": "1344d653",
   "metadata": {
    "papermill": {
     "duration": 0.022854,
     "end_time": "2023-08-09T19:07:35.812348",
     "exception": false,
     "start_time": "2023-08-09T19:07:35.789494",
     "status": "completed"
    },
    "tags": []
   },
   "source": [
    "#### Section 4.2: Encode \"Origin\""
   ]
  },
  {
   "cell_type": "code",
   "execution_count": 31,
   "id": "4ce4ffe4",
   "metadata": {
    "execution": {
     "iopub.execute_input": "2023-08-09T19:07:35.861460Z",
     "iopub.status.busy": "2023-08-09T19:07:35.861084Z",
     "iopub.status.idle": "2023-08-09T19:07:41.364588Z",
     "shell.execute_reply": "2023-08-09T19:07:41.363303Z"
    },
    "papermill": {
     "duration": 5.531409,
     "end_time": "2023-08-09T19:07:41.367806",
     "exception": false,
     "start_time": "2023-08-09T19:07:35.836397",
     "status": "completed"
    },
    "tags": []
   },
   "outputs": [
    {
     "name": "stdout",
     "output_type": "stream",
     "text": [
      "<class 'pandas.core.frame.DataFrame'>\n",
      "Int64Index: 3444649 entries, 182 to 2629572\n",
      "Data columns (total 58 columns):\n",
      " #   Column                                             Dtype  \n",
      "---  ------                                             -----  \n",
      " 0   Quarter                                            float64\n",
      " 1   DayOfWeek                                          float64\n",
      " 2   OriginState                                        object \n",
      " 3   Dest                                               object \n",
      " 4   DestState                                          object \n",
      " 5   Distance                                           float64\n",
      " 6   dep_min_delay                                      float64\n",
      " 7   Year                                               float64\n",
      " 8   Month                                              float64\n",
      " 9   Day                                                float64\n",
      " 10  schedule_dep_hour                                  float64\n",
      " 11  Airline_Alaska Airlines Inc.                       float64\n",
      " 12  Airline_American Airlines Inc.                     float64\n",
      " 13  Airline_Capital Cargo International                float64\n",
      " 14  Airline_Comair Inc.                                float64\n",
      " 15  Airline_Commutair Aka Champlain Enterprises, Inc.  float64\n",
      " 16  Airline_Compass Airlines                           float64\n",
      " 17  Airline_Delta Air Lines Inc.                       float64\n",
      " 18  Airline_Endeavor Air Inc.                          float64\n",
      " 19  Airline_Envoy Air                                  float64\n",
      " 20  Airline_ExpressJet Airlines Inc.                   float64\n",
      " 21  Airline_Frontier Airlines Inc.                     float64\n",
      " 22  Airline_GoJet Airlines, LLC d/b/a United Express   float64\n",
      " 23  Airline_Horizon Air                                float64\n",
      " 24  Airline_JetBlue Airways                            float64\n",
      " 25  Airline_Mesa Airlines Inc.                         float64\n",
      " 26  Airline_Republic Airlines                          float64\n",
      " 27  Airline_SkyWest Airlines Inc.                      float64\n",
      " 28  Airline_Southwest Airlines Co.                     float64\n",
      " 29  Airline_Spirit Air Lines                           float64\n",
      " 30  Airline_Trans States Airlines                      float64\n",
      " 31  Airline_United Air Lines Inc.                      float64\n",
      " 32  Airline_Virgin America                             float64\n",
      " 33  Origin_BOS                                         float64\n",
      " 34  Origin_BWI                                         float64\n",
      " 35  Origin_CLT                                         float64\n",
      " 36  Origin_DCA                                         float64\n",
      " 37  Origin_DEN                                         float64\n",
      " 38  Origin_DFW                                         float64\n",
      " 39  Origin_DTW                                         float64\n",
      " 40  Origin_EWR                                         float64\n",
      " 41  Origin_FLL                                         float64\n",
      " 42  Origin_IAD                                         float64\n",
      " 43  Origin_IAH                                         float64\n",
      " 44  Origin_JFK                                         float64\n",
      " 45  Origin_LAS                                         float64\n",
      " 46  Origin_LAX                                         float64\n",
      " 47  Origin_LGA                                         float64\n",
      " 48  Origin_MCO                                         float64\n",
      " 49  Origin_MDW                                         float64\n",
      " 50  Origin_MSP                                         float64\n",
      " 51  Origin_ORD                                         float64\n",
      " 52  Origin_PHL                                         float64\n",
      " 53  Origin_PHX                                         float64\n",
      " 54  Origin_SAN                                         float64\n",
      " 55  Origin_SEA                                         float64\n",
      " 56  Origin_SFO                                         float64\n",
      " 57  Origin_nan                                         float64\n",
      "dtypes: float64(55), object(3)\n",
      "memory usage: 1.5+ GB\n",
      "None\n"
     ]
    }
   ],
   "source": [
    "#Great! One of our five categorical columns is encoded. Now lets do the last five.\n",
    "\n",
    "encoder = OneHotEncoder(drop='first', sparse_output=False)\n",
    "origin_data = df_flights_modeling_v1_encoded[['Origin']]\n",
    "origin_data_reshaped = origin_data.values.reshape(-1, 1)\n",
    "encoded_origin = pd.DataFrame(encoder.fit_transform(origin_data_reshaped), columns=encoder.get_feature_names_out(['Origin']))\n",
    "df_flights_modeling_v1_encoded = pd.concat([df_flights_modeling_v1_encoded, encoded_origin], axis=1)\n",
    "df_flights_modeling_v1_encoded.drop(columns=['Origin'], inplace=True)\n",
    "\n",
    "print(df_flights_modeling_v1_encoded.info())"
   ]
  },
  {
   "cell_type": "markdown",
   "id": "ef5f051b",
   "metadata": {
    "papermill": {
     "duration": 0.023889,
     "end_time": "2023-08-09T19:07:41.416143",
     "exception": false,
     "start_time": "2023-08-09T19:07:41.392254",
     "status": "completed"
    },
    "tags": []
   },
   "source": [
    "#### Section 4.3: Encode \"OriginState\""
   ]
  },
  {
   "cell_type": "code",
   "execution_count": 32,
   "id": "ebb37e58",
   "metadata": {
    "execution": {
     "iopub.execute_input": "2023-08-09T19:07:41.466854Z",
     "iopub.status.busy": "2023-08-09T19:07:41.466431Z",
     "iopub.status.idle": "2023-08-09T19:07:49.459404Z",
     "shell.execute_reply": "2023-08-09T19:07:49.457863Z"
    },
    "papermill": {
     "duration": 8.022529,
     "end_time": "2023-08-09T19:07:49.462140",
     "exception": false,
     "start_time": "2023-08-09T19:07:41.439611",
     "status": "completed"
    },
    "tags": []
   },
   "outputs": [
    {
     "name": "stdout",
     "output_type": "stream",
     "text": [
      "<class 'pandas.core.frame.DataFrame'>\n",
      "Int64Index: 4043370 entries, 182 to 3444646\n",
      "Data columns (total 75 columns):\n",
      " #   Column                                             Dtype  \n",
      "---  ------                                             -----  \n",
      " 0   Quarter                                            float64\n",
      " 1   DayOfWeek                                          float64\n",
      " 2   Dest                                               object \n",
      " 3   DestState                                          object \n",
      " 4   Distance                                           float64\n",
      " 5   dep_min_delay                                      float64\n",
      " 6   Year                                               float64\n",
      " 7   Month                                              float64\n",
      " 8   Day                                                float64\n",
      " 9   schedule_dep_hour                                  float64\n",
      " 10  Airline_Alaska Airlines Inc.                       float64\n",
      " 11  Airline_American Airlines Inc.                     float64\n",
      " 12  Airline_Capital Cargo International                float64\n",
      " 13  Airline_Comair Inc.                                float64\n",
      " 14  Airline_Commutair Aka Champlain Enterprises, Inc.  float64\n",
      " 15  Airline_Compass Airlines                           float64\n",
      " 16  Airline_Delta Air Lines Inc.                       float64\n",
      " 17  Airline_Endeavor Air Inc.                          float64\n",
      " 18  Airline_Envoy Air                                  float64\n",
      " 19  Airline_ExpressJet Airlines Inc.                   float64\n",
      " 20  Airline_Frontier Airlines Inc.                     float64\n",
      " 21  Airline_GoJet Airlines, LLC d/b/a United Express   float64\n",
      " 22  Airline_Horizon Air                                float64\n",
      " 23  Airline_JetBlue Airways                            float64\n",
      " 24  Airline_Mesa Airlines Inc.                         float64\n",
      " 25  Airline_Republic Airlines                          float64\n",
      " 26  Airline_SkyWest Airlines Inc.                      float64\n",
      " 27  Airline_Southwest Airlines Co.                     float64\n",
      " 28  Airline_Spirit Air Lines                           float64\n",
      " 29  Airline_Trans States Airlines                      float64\n",
      " 30  Airline_United Air Lines Inc.                      float64\n",
      " 31  Airline_Virgin America                             float64\n",
      " 32  Origin_BOS                                         float64\n",
      " 33  Origin_BWI                                         float64\n",
      " 34  Origin_CLT                                         float64\n",
      " 35  Origin_DCA                                         float64\n",
      " 36  Origin_DEN                                         float64\n",
      " 37  Origin_DFW                                         float64\n",
      " 38  Origin_DTW                                         float64\n",
      " 39  Origin_EWR                                         float64\n",
      " 40  Origin_FLL                                         float64\n",
      " 41  Origin_IAD                                         float64\n",
      " 42  Origin_IAH                                         float64\n",
      " 43  Origin_JFK                                         float64\n",
      " 44  Origin_LAS                                         float64\n",
      " 45  Origin_LAX                                         float64\n",
      " 46  Origin_LGA                                         float64\n",
      " 47  Origin_MCO                                         float64\n",
      " 48  Origin_MDW                                         float64\n",
      " 49  Origin_MSP                                         float64\n",
      " 50  Origin_ORD                                         float64\n",
      " 51  Origin_PHL                                         float64\n",
      " 52  Origin_PHX                                         float64\n",
      " 53  Origin_SAN                                         float64\n",
      " 54  Origin_SEA                                         float64\n",
      " 55  Origin_SFO                                         float64\n",
      " 56  Origin_nan                                         float64\n",
      " 57  OriginState_CA                                     float64\n",
      " 58  OriginState_CO                                     float64\n",
      " 59  OriginState_FL                                     float64\n",
      " 60  OriginState_GA                                     float64\n",
      " 61  OriginState_IL                                     float64\n",
      " 62  OriginState_MA                                     float64\n",
      " 63  OriginState_MD                                     float64\n",
      " 64  OriginState_MI                                     float64\n",
      " 65  OriginState_MN                                     float64\n",
      " 66  OriginState_NC                                     float64\n",
      " 67  OriginState_NJ                                     float64\n",
      " 68  OriginState_NV                                     float64\n",
      " 69  OriginState_NY                                     float64\n",
      " 70  OriginState_PA                                     float64\n",
      " 71  OriginState_TX                                     float64\n",
      " 72  OriginState_VA                                     float64\n",
      " 73  OriginState_WA                                     float64\n",
      " 74  OriginState_nan                                    float64\n",
      "dtypes: float64(73), object(2)\n",
      "memory usage: 2.3+ GB\n",
      "None\n"
     ]
    }
   ],
   "source": [
    "encoder = OneHotEncoder(drop='first', sparse_output=False)\n",
    "origin_state_data = df_flights_modeling_v1_encoded[['OriginState']]\n",
    "origin_state_data_reshaped = origin_state_data.values.reshape(-1, 1)\n",
    "encoded_origin_state = pd.DataFrame(encoder.fit_transform(origin_state_data_reshaped), columns=encoder.get_feature_names_out(['OriginState']))\n",
    "df_flights_modeling_v1_encoded = pd.concat([df_flights_modeling_v1_encoded, encoded_origin_state], axis=1)\n",
    "df_flights_modeling_v1_encoded.drop(columns=['OriginState'], inplace=True)\n",
    "\n",
    "print(df_flights_modeling_v1_encoded.info())"
   ]
  },
  {
   "cell_type": "markdown",
   "id": "fd4ae9fa",
   "metadata": {
    "papermill": {
     "duration": 0.023416,
     "end_time": "2023-08-09T19:07:49.510436",
     "exception": false,
     "start_time": "2023-08-09T19:07:49.487020",
     "status": "completed"
    },
    "tags": []
   },
   "source": [
    "#### Section 4.4: Encode \"Dest\""
   ]
  },
  {
   "cell_type": "code",
   "execution_count": 33,
   "id": "cb1d06d3",
   "metadata": {
    "execution": {
     "iopub.execute_input": "2023-08-09T19:07:49.560293Z",
     "iopub.status.busy": "2023-08-09T19:07:49.559903Z",
     "iopub.status.idle": "2023-08-09T19:08:00.960632Z",
     "shell.execute_reply": "2023-08-09T19:08:00.959765Z"
    },
    "papermill": {
     "duration": 11.42876,
     "end_time": "2023-08-09T19:08:00.963453",
     "exception": false,
     "start_time": "2023-08-09T19:07:49.534693",
     "status": "completed"
    },
    "tags": []
   },
   "outputs": [
    {
     "name": "stdout",
     "output_type": "stream",
     "text": [
      "<class 'pandas.core.frame.DataFrame'>\n",
      "Int64Index: 4482707 entries, 182 to 4043369\n",
      "Data columns (total 99 columns):\n",
      " #   Column                                             Dtype  \n",
      "---  ------                                             -----  \n",
      " 0   Quarter                                            float64\n",
      " 1   DayOfWeek                                          float64\n",
      " 2   DestState                                          object \n",
      " 3   Distance                                           float64\n",
      " 4   dep_min_delay                                      float64\n",
      " 5   Year                                               float64\n",
      " 6   Month                                              float64\n",
      " 7   Day                                                float64\n",
      " 8   schedule_dep_hour                                  float64\n",
      " 9   Airline_Alaska Airlines Inc.                       float64\n",
      " 10  Airline_American Airlines Inc.                     float64\n",
      " 11  Airline_Capital Cargo International                float64\n",
      " 12  Airline_Comair Inc.                                float64\n",
      " 13  Airline_Commutair Aka Champlain Enterprises, Inc.  float64\n",
      " 14  Airline_Compass Airlines                           float64\n",
      " 15  Airline_Delta Air Lines Inc.                       float64\n",
      " 16  Airline_Endeavor Air Inc.                          float64\n",
      " 17  Airline_Envoy Air                                  float64\n",
      " 18  Airline_ExpressJet Airlines Inc.                   float64\n",
      " 19  Airline_Frontier Airlines Inc.                     float64\n",
      " 20  Airline_GoJet Airlines, LLC d/b/a United Express   float64\n",
      " 21  Airline_Horizon Air                                float64\n",
      " 22  Airline_JetBlue Airways                            float64\n",
      " 23  Airline_Mesa Airlines Inc.                         float64\n",
      " 24  Airline_Republic Airlines                          float64\n",
      " 25  Airline_SkyWest Airlines Inc.                      float64\n",
      " 26  Airline_Southwest Airlines Co.                     float64\n",
      " 27  Airline_Spirit Air Lines                           float64\n",
      " 28  Airline_Trans States Airlines                      float64\n",
      " 29  Airline_United Air Lines Inc.                      float64\n",
      " 30  Airline_Virgin America                             float64\n",
      " 31  Origin_BOS                                         float64\n",
      " 32  Origin_BWI                                         float64\n",
      " 33  Origin_CLT                                         float64\n",
      " 34  Origin_DCA                                         float64\n",
      " 35  Origin_DEN                                         float64\n",
      " 36  Origin_DFW                                         float64\n",
      " 37  Origin_DTW                                         float64\n",
      " 38  Origin_EWR                                         float64\n",
      " 39  Origin_FLL                                         float64\n",
      " 40  Origin_IAD                                         float64\n",
      " 41  Origin_IAH                                         float64\n",
      " 42  Origin_JFK                                         float64\n",
      " 43  Origin_LAS                                         float64\n",
      " 44  Origin_LAX                                         float64\n",
      " 45  Origin_LGA                                         float64\n",
      " 46  Origin_MCO                                         float64\n",
      " 47  Origin_MDW                                         float64\n",
      " 48  Origin_MSP                                         float64\n",
      " 49  Origin_ORD                                         float64\n",
      " 50  Origin_PHL                                         float64\n",
      " 51  Origin_PHX                                         float64\n",
      " 52  Origin_SAN                                         float64\n",
      " 53  Origin_SEA                                         float64\n",
      " 54  Origin_SFO                                         float64\n",
      " 55  Origin_nan                                         float64\n",
      " 56  OriginState_CA                                     float64\n",
      " 57  OriginState_CO                                     float64\n",
      " 58  OriginState_FL                                     float64\n",
      " 59  OriginState_GA                                     float64\n",
      " 60  OriginState_IL                                     float64\n",
      " 61  OriginState_MA                                     float64\n",
      " 62  OriginState_MD                                     float64\n",
      " 63  OriginState_MI                                     float64\n",
      " 64  OriginState_MN                                     float64\n",
      " 65  OriginState_NC                                     float64\n",
      " 66  OriginState_NJ                                     float64\n",
      " 67  OriginState_NV                                     float64\n",
      " 68  OriginState_NY                                     float64\n",
      " 69  OriginState_PA                                     float64\n",
      " 70  OriginState_TX                                     float64\n",
      " 71  OriginState_VA                                     float64\n",
      " 72  OriginState_WA                                     float64\n",
      " 73  OriginState_nan                                    float64\n",
      " 74  Dest_BOS                                           float64\n",
      " 75  Dest_BWI                                           float64\n",
      " 76  Dest_CLT                                           float64\n",
      " 77  Dest_DCA                                           float64\n",
      " 78  Dest_DEN                                           float64\n",
      " 79  Dest_DFW                                           float64\n",
      " 80  Dest_DTW                                           float64\n",
      " 81  Dest_EWR                                           float64\n",
      " 82  Dest_FLL                                           float64\n",
      " 83  Dest_IAD                                           float64\n",
      " 84  Dest_IAH                                           float64\n",
      " 85  Dest_JFK                                           float64\n",
      " 86  Dest_LAS                                           float64\n",
      " 87  Dest_LAX                                           float64\n",
      " 88  Dest_LGA                                           float64\n",
      " 89  Dest_MCO                                           float64\n",
      " 90  Dest_MDW                                           float64\n",
      " 91  Dest_MSP                                           float64\n",
      " 92  Dest_ORD                                           float64\n",
      " 93  Dest_PHL                                           float64\n",
      " 94  Dest_PHX                                           float64\n",
      " 95  Dest_SAN                                           float64\n",
      " 96  Dest_SEA                                           float64\n",
      " 97  Dest_SFO                                           float64\n",
      " 98  Dest_nan                                           float64\n",
      "dtypes: float64(98), object(1)\n",
      "memory usage: 3.3+ GB\n",
      "None\n"
     ]
    }
   ],
   "source": [
    "encoder = OneHotEncoder(drop='first', sparse_output=False)\n",
    "dest_data = df_flights_modeling_v1_encoded[['Dest']]\n",
    "dest_data_reshaped = dest_data.values.reshape(-1, 1)\n",
    "encoded_dest = pd.DataFrame(encoder.fit_transform(dest_data_reshaped), columns=encoder.get_feature_names_out(['Dest']))\n",
    "df_flights_modeling_v1_encoded = pd.concat([df_flights_modeling_v1_encoded, encoded_dest], axis=1)\n",
    "df_flights_modeling_v1_encoded.drop(columns=['Dest'], inplace=True)\n",
    "\n",
    "print(df_flights_modeling_v1_encoded.info())"
   ]
  },
  {
   "cell_type": "markdown",
   "id": "5e619e30",
   "metadata": {
    "papermill": {
     "duration": 0.023629,
     "end_time": "2023-08-09T19:08:01.010894",
     "exception": false,
     "start_time": "2023-08-09T19:08:00.987265",
     "status": "completed"
    },
    "tags": []
   },
   "source": [
    "#### Section 4.5: Encode \"DestState\""
   ]
  },
  {
   "cell_type": "code",
   "execution_count": 34,
   "id": "f20b44eb",
   "metadata": {
    "execution": {
     "iopub.execute_input": "2023-08-09T19:08:01.059426Z",
     "iopub.status.busy": "2023-08-09T19:08:01.059057Z",
     "iopub.status.idle": "2023-08-09T19:08:06.244754Z",
     "shell.execute_reply": "2023-08-09T19:08:06.243562Z"
    },
    "papermill": {
     "duration": 5.212537,
     "end_time": "2023-08-09T19:08:06.246930",
     "exception": false,
     "start_time": "2023-08-09T19:08:01.034393",
     "status": "completed"
    },
    "tags": []
   },
   "outputs": [
    {
     "name": "stdout",
     "output_type": "stream",
     "text": [
      "<class 'pandas.core.frame.DataFrame'>\n",
      "Int64Index: 4482707 entries, 182 to 4043369\n",
      "Columns: 115 entries, Quarter to DestState_WA\n",
      "dtypes: float64(115)\n",
      "memory usage: 3.9 GB\n",
      "None\n"
     ]
    }
   ],
   "source": [
    "encoder = OneHotEncoder(drop='first', sparse_output=False)\n",
    "destState_data = df_flights_modeling_v1[['DestState']]\n",
    "destState_data_reshaped = destState_data.values.reshape(-1, 1)\n",
    "encoded_airline = pd.DataFrame(encoder.fit_transform(destState_data_reshaped), columns=encoder.get_feature_names_out(['DestState']))\n",
    "df_flights_modeling_v1_encoded = pd.concat([df_flights_modeling_v1_encoded, encoded_airline], axis=1)\n",
    "df_flights_modeling_v1_encoded.drop(columns=['DestState'], inplace=True)\n",
    "\n",
    "\n",
    "print(df_flights_modeling_v1_encoded.info())"
   ]
  },
  {
   "cell_type": "code",
   "execution_count": 35,
   "id": "ceaec13f",
   "metadata": {
    "execution": {
     "iopub.execute_input": "2023-08-09T19:08:06.297901Z",
     "iopub.status.busy": "2023-08-09T19:08:06.296629Z",
     "iopub.status.idle": "2023-08-09T19:08:11.774653Z",
     "shell.execute_reply": "2023-08-09T19:08:11.773822Z"
    },
    "papermill": {
     "duration": 5.506218,
     "end_time": "2023-08-09T19:08:11.777476",
     "exception": false,
     "start_time": "2023-08-09T19:08:06.271258",
     "status": "completed"
    },
    "tags": []
   },
   "outputs": [],
   "source": [
    "#we need to fill all the nan values as 0 to do linear regression. Otherwise we get an error because linear regression can't handle Nan\n",
    "df_flights_modeling_v1_encoded = df_flights_modeling_v1_encoded.fillna(0)"
   ]
  },
  {
   "cell_type": "code",
   "execution_count": 36,
   "id": "9a88a2b1",
   "metadata": {
    "execution": {
     "iopub.execute_input": "2023-08-09T19:08:11.830284Z",
     "iopub.status.busy": "2023-08-09T19:08:11.829890Z",
     "iopub.status.idle": "2023-08-09T19:08:21.209005Z",
     "shell.execute_reply": "2023-08-09T19:08:21.207839Z"
    },
    "papermill": {
     "duration": 9.408329,
     "end_time": "2023-08-09T19:08:21.211493",
     "exception": false,
     "start_time": "2023-08-09T19:08:11.803164",
     "status": "completed"
    },
    "tags": []
   },
   "outputs": [],
   "source": [
    "#The last thing we need to do is prep our datasets! We need train and test values for x's and y's\n",
    "#Our x value (input features) will be everything EXCEPT dep_min_delay\n",
    "X = df_flights_modeling_v1_encoded.drop(columns=['dep_min_delay'])\n",
    "\n",
    "#Our y values (prediction targets) will be the dep_min_delay value\n",
    "y = df_flights_modeling_v1_encoded['dep_min_delay']\n",
    "\n",
    "#We split training and testing with an 80% / 20% split\n",
    "X_train, X_test, y_train, y_test = train_test_split(X, y, test_size=0.2, random_state=11)\n"
   ]
  },
  {
   "cell_type": "markdown",
   "id": "7ebbbb26",
   "metadata": {
    "papermill": {
     "duration": 0.024265,
     "end_time": "2023-08-09T19:08:21.268804",
     "exception": false,
     "start_time": "2023-08-09T19:08:21.244539",
     "status": "completed"
    },
    "tags": []
   },
   "source": [
    "### Section 5: Linear Regression\n",
    "\n",
    "We will initially do four linear regression comparisons across our data to see how each performs\n",
    "1. Simple Linear Regression\n",
    "2. L1 Lasso Regression\n",
    "3. L2 Ridge Regression\n",
    "4. Elastic Net Regression\n",
    "\n",
    "We will get the MSE and the R^2 for each to compare"
   ]
  },
  {
   "cell_type": "markdown",
   "id": "86cadd9c",
   "metadata": {
    "papermill": {
     "duration": 0.024246,
     "end_time": "2023-08-09T19:08:21.317912",
     "exception": false,
     "start_time": "2023-08-09T19:08:21.293666",
     "status": "completed"
    },
    "tags": []
   },
   "source": [
    "#### Section 5.1: Simple Linear Regression"
   ]
  },
  {
   "cell_type": "code",
   "execution_count": 37,
   "id": "e055a46c",
   "metadata": {
    "execution": {
     "iopub.execute_input": "2023-08-09T19:08:21.368402Z",
     "iopub.status.busy": "2023-08-09T19:08:21.367994Z",
     "iopub.status.idle": "2023-08-09T19:09:10.014249Z",
     "shell.execute_reply": "2023-08-09T19:09:10.003404Z"
    },
    "papermill": {
     "duration": 48.708029,
     "end_time": "2023-08-09T19:09:10.050483",
     "exception": false,
     "start_time": "2023-08-09T19:08:21.342454",
     "status": "completed"
    },
    "tags": []
   },
   "outputs": [
    {
     "name": "stdout",
     "output_type": "stream",
     "text": [
      "MSE: 643.2036914042943\n",
      "R-squared: 0.05771829894955749\n"
     ]
    }
   ],
   "source": [
    "#import model\n",
    "from sklearn.linear_model import LinearRegression\n",
    "\n",
    "#create the model\n",
    "lr_model = LinearRegression()\n",
    "\n",
    "#fit the model\n",
    "lr_model.fit(X_train, y_train)\n",
    "\n",
    "#make predictions on the X_test inputs\n",
    "y_pred = lr_model.predict(X_test)\n",
    "\n",
    "#get the mse using our model prediction values (y_pred) vs the actual y values (y_test)\n",
    "mse = mean_squared_error(y_test, y_pred)\n",
    "\n",
    "#get the r^2 the same way\n",
    "r2 = r2_score(y_test, y_pred)\n",
    "\n",
    "print(\"MSE:\", mse)\n",
    "print(\"R-squared:\", r2)"
   ]
  },
  {
   "cell_type": "code",
   "execution_count": 38,
   "id": "e552c8eb",
   "metadata": {
    "execution": {
     "iopub.execute_input": "2023-08-09T19:09:10.121074Z",
     "iopub.status.busy": "2023-08-09T19:09:10.120665Z",
     "iopub.status.idle": "2023-08-09T19:09:10.124923Z",
     "shell.execute_reply": "2023-08-09T19:09:10.124094Z"
    },
    "papermill": {
     "duration": 0.035686,
     "end_time": "2023-08-09T19:09:10.127027",
     "exception": false,
     "start_time": "2023-08-09T19:09:10.091341",
     "status": "completed"
    },
    "tags": []
   },
   "outputs": [],
   "source": [
    "#MSE: 1060.573956012466\n",
    "#R-squared: 0.04367785328314888\n",
    "#Ok, so this model performs pretty poorly. While it's MSE is hard to interpret, an R^2 of 0.04 is pretty bad. Let's see if L1 regression is any better"
   ]
  },
  {
   "cell_type": "markdown",
   "id": "16c9d0c8",
   "metadata": {
    "papermill": {
     "duration": 0.024109,
     "end_time": "2023-08-09T19:09:10.176150",
     "exception": false,
     "start_time": "2023-08-09T19:09:10.152041",
     "status": "completed"
    },
    "tags": []
   },
   "source": [
    "#### Section 5.2: L1 Lasso Regression"
   ]
  },
  {
   "cell_type": "code",
   "execution_count": 39,
   "id": "daf8f022",
   "metadata": {
    "execution": {
     "iopub.execute_input": "2023-08-09T19:09:10.226958Z",
     "iopub.status.busy": "2023-08-09T19:09:10.226198Z",
     "iopub.status.idle": "2023-08-09T19:09:44.142688Z",
     "shell.execute_reply": "2023-08-09T19:09:44.141509Z"
    },
    "papermill": {
     "duration": 33.986475,
     "end_time": "2023-08-09T19:09:44.186705",
     "exception": false,
     "start_time": "2023-08-09T19:09:10.200230",
     "status": "completed"
    },
    "tags": []
   },
   "outputs": [
    {
     "name": "stdout",
     "output_type": "stream",
     "text": [
      "MSE: 644.3614153528672\n",
      "R-squared: 0.05602225443646347\n"
     ]
    }
   ],
   "source": [
    "#import model and tools\n",
    "from sklearn.linear_model import Lasso\n",
    "\n",
    "#create the alpha value and lasso_reg model\n",
    "#set our initial alpha_value to 0.1\n",
    "alpha_value = 0.1\n",
    "\n",
    "#make the model\n",
    "l1_model = Lasso(alpha=alpha_value)\n",
    "\n",
    "#fit the model\n",
    "l1_model.fit(X_train, y_train)\n",
    "\n",
    "#make predictions\n",
    "y_pred = l1_model.predict(X_test)\n",
    "\n",
    "#get the mse and r^2\n",
    "mse = mean_squared_error(y_test, y_pred)\n",
    "r2 = r2_score(y_test, y_pred)\n",
    "print(\"MSE:\", mse)\n",
    "print(\"R-squared:\", r2)"
   ]
  },
  {
   "cell_type": "code",
   "execution_count": 40,
   "id": "7c4fc181",
   "metadata": {
    "execution": {
     "iopub.execute_input": "2023-08-09T19:09:44.257423Z",
     "iopub.status.busy": "2023-08-09T19:09:44.257022Z",
     "iopub.status.idle": "2023-08-09T19:09:44.262087Z",
     "shell.execute_reply": "2023-08-09T19:09:44.260683Z"
    },
    "papermill": {
     "duration": 0.036649,
     "end_time": "2023-08-09T19:09:44.264359",
     "exception": false,
     "start_time": "2023-08-09T19:09:44.227710",
     "status": "completed"
    },
    "tags": []
   },
   "outputs": [],
   "source": [
    "#oh wow this model isn't much better"
   ]
  },
  {
   "cell_type": "markdown",
   "id": "ac736369",
   "metadata": {
    "papermill": {
     "duration": 0.024059,
     "end_time": "2023-08-09T19:09:44.312502",
     "exception": false,
     "start_time": "2023-08-09T19:09:44.288443",
     "status": "completed"
    },
    "tags": []
   },
   "source": [
    "#### Section 5.3: L2 Ridge Regression"
   ]
  },
  {
   "cell_type": "code",
   "execution_count": 41,
   "id": "dda2f7ca",
   "metadata": {
    "execution": {
     "iopub.execute_input": "2023-08-09T19:09:44.363110Z",
     "iopub.status.busy": "2023-08-09T19:09:44.362691Z",
     "iopub.status.idle": "2023-08-09T19:09:49.044553Z",
     "shell.execute_reply": "2023-08-09T19:09:49.043356Z"
    },
    "papermill": {
     "duration": 4.710892,
     "end_time": "2023-08-09T19:09:49.047636",
     "exception": false,
     "start_time": "2023-08-09T19:09:44.336744",
     "status": "completed"
    },
    "tags": []
   },
   "outputs": [
    {
     "name": "stdout",
     "output_type": "stream",
     "text": [
      "MSE: 643.2037083536601\n",
      "R-squared: 0.057718274119045065\n"
     ]
    }
   ],
   "source": [
    "#import model\n",
    "from sklearn.linear_model import Ridge\n",
    "\n",
    "#create rr_model and set the alpha\n",
    "alpha_value = 1.0\n",
    "l2_model = Ridge(alpha=alpha_value)\n",
    "\n",
    "# fit the model\n",
    "l2_model.fit(X_train, y_train)\n",
    "\n",
    "#make predictions\n",
    "y_pred = l2_model.predict(X_test)\n",
    "\n",
    "#get the mse and r^2\n",
    "mse = mean_squared_error(y_test, y_pred)\n",
    "r2 = r2_score(y_test, y_pred)\n",
    "print(\"MSE:\", mse)\n",
    "print(\"R-squared:\", r2)"
   ]
  },
  {
   "cell_type": "code",
   "execution_count": 42,
   "id": "ed171bda",
   "metadata": {
    "execution": {
     "iopub.execute_input": "2023-08-09T19:09:49.133205Z",
     "iopub.status.busy": "2023-08-09T19:09:49.132640Z",
     "iopub.status.idle": "2023-08-09T19:09:49.140597Z",
     "shell.execute_reply": "2023-08-09T19:09:49.139288Z"
    },
    "papermill": {
     "duration": 0.054052,
     "end_time": "2023-08-09T19:09:49.143703",
     "exception": false,
     "start_time": "2023-08-09T19:09:49.089651",
     "status": "completed"
    },
    "tags": []
   },
   "outputs": [],
   "source": [
    "#Yup not much better. We're going to really need to work on this dataset I think to make a decent model. Or try a different modeling approach"
   ]
  },
  {
   "cell_type": "markdown",
   "id": "7cf73af5",
   "metadata": {
    "papermill": {
     "duration": 0.024241,
     "end_time": "2023-08-09T19:09:49.192603",
     "exception": false,
     "start_time": "2023-08-09T19:09:49.168362",
     "status": "completed"
    },
    "tags": []
   },
   "source": [
    "#### Section 5.4 Elastic Net Regression"
   ]
  },
  {
   "cell_type": "code",
   "execution_count": 43,
   "id": "910035b4",
   "metadata": {
    "execution": {
     "iopub.execute_input": "2023-08-09T19:09:49.244242Z",
     "iopub.status.busy": "2023-08-09T19:09:49.243883Z",
     "iopub.status.idle": "2023-08-09T19:10:35.287316Z",
     "shell.execute_reply": "2023-08-09T19:10:35.285891Z"
    },
    "papermill": {
     "duration": 46.103201,
     "end_time": "2023-08-09T19:10:35.321581",
     "exception": false,
     "start_time": "2023-08-09T19:09:49.218380",
     "status": "completed"
    },
    "tags": []
   },
   "outputs": [
    {
     "name": "stdout",
     "output_type": "stream",
     "text": [
      "Elastic Net Regression Model:\n",
      "MSE: 644.7792441565337\n",
      "R-squared: 0.05541014284393342\n"
     ]
    }
   ],
   "source": [
    "#import model\n",
    "from sklearn.linear_model import ElasticNet\n",
    "\n",
    "#create en_model with alpha, L1_ratio\n",
    "alpha = 1.0  \n",
    "l1_ratio = 0.5  \n",
    "en_model = ElasticNet(alpha=alpha, l1_ratio=l1_ratio)\n",
    "en_model.fit(X_train, y_train)\n",
    "\n",
    "#fit the model\n",
    "en_model.fit(X_train, y_train)\n",
    "\n",
    "#make predictions\n",
    "y_pred = en_model.predict(X_test)\n",
    "\n",
    "#get the mse and r^2\n",
    "mse = mean_squared_error(y_test, y_pred)\n",
    "r2 = r2_score(y_test, y_pred)\n",
    "print(\"Elastic Net Regression Model:\")\n",
    "print(\"MSE:\", mse)\n",
    "print(\"R-squared:\", r2)"
   ]
  },
  {
   "cell_type": "markdown",
   "id": "307976f4",
   "metadata": {
    "papermill": {
     "duration": 0.024555,
     "end_time": "2023-08-09T19:10:35.385815",
     "exception": false,
     "start_time": "2023-08-09T19:10:35.361260",
     "status": "completed"
    },
    "tags": []
   },
   "source": [
    "#### Section 5.5: Summary of Findings"
   ]
  },
  {
   "cell_type": "code",
   "execution_count": 44,
   "id": "a55096e3",
   "metadata": {
    "execution": {
     "iopub.execute_input": "2023-08-09T19:10:35.438246Z",
     "iopub.status.busy": "2023-08-09T19:10:35.437855Z",
     "iopub.status.idle": "2023-08-09T19:10:35.442656Z",
     "shell.execute_reply": "2023-08-09T19:10:35.441456Z"
    },
    "papermill": {
     "duration": 0.034917,
     "end_time": "2023-08-09T19:10:35.445065",
     "exception": false,
     "start_time": "2023-08-09T19:10:35.410148",
     "status": "completed"
    },
    "tags": []
   },
   "outputs": [],
   "source": [
    "#Do the MSEs change across all four models?\n",
    "#Do the R^2 change across all four models?\n",
    "#Is one model clearly performing better? Why or why not?"
   ]
  },
  {
   "cell_type": "markdown",
   "id": "e67cbb57",
   "metadata": {
    "papermill": {
     "duration": 0.024546,
     "end_time": "2023-08-09T19:10:35.494866",
     "exception": false,
     "start_time": "2023-08-09T19:10:35.470320",
     "status": "completed"
    },
    "tags": []
   },
   "source": [
    "### Section 6: Advanced Linear Regression"
   ]
  },
  {
   "cell_type": "code",
   "execution_count": 45,
   "id": "a86be248",
   "metadata": {
    "execution": {
     "iopub.execute_input": "2023-08-09T19:10:35.546313Z",
     "iopub.status.busy": "2023-08-09T19:10:35.545846Z",
     "iopub.status.idle": "2023-08-09T19:10:54.080092Z",
     "shell.execute_reply": "2023-08-09T19:10:54.078851Z"
    },
    "papermill": {
     "duration": 18.563169,
     "end_time": "2023-08-09T19:10:54.082913",
     "exception": false,
     "start_time": "2023-08-09T19:10:35.519744",
     "status": "completed"
    },
    "tags": []
   },
   "outputs": [],
   "source": [
    "#Now we're going to do the same four models but at an advanced level with more tuning and tweaking\n",
    "from sklearn.preprocessing import StandardScaler\n",
    "\n",
    "#Section 6.0 Feature scaling to the dataset. We want to standardize/normalize the input features with probably StandardScaler (vs MinMaxScaler)\n",
    "#build a scaler. \n",
    "\n",
    "#import our scaler\n",
    "from sklearn.preprocessing import StandardScaler\n",
    "\n",
    "#make a scaler and fit it\n",
    "scaler = StandardScaler()\n",
    "X_scaled = scaler.fit_transform(X)\n",
    "\n",
    "#Get new datasets\n",
    "X_train, X_test, y_train, y_test = train_test_split(X_scaled, y, test_size=0.2, random_state=11)"
   ]
  },
  {
   "cell_type": "markdown",
   "id": "dbe48b03",
   "metadata": {
    "papermill": {
     "duration": 0.024302,
     "end_time": "2023-08-09T19:10:54.134128",
     "exception": false,
     "start_time": "2023-08-09T19:10:54.109826",
     "status": "completed"
    },
    "tags": []
   },
   "source": [
    "#### Section 6.1: Linear Regression w/ scaling and Cross-Validation"
   ]
  },
  {
   "cell_type": "code",
   "execution_count": 46,
   "id": "887f3fc7",
   "metadata": {
    "execution": {
     "iopub.execute_input": "2023-08-09T19:10:54.185908Z",
     "iopub.status.busy": "2023-08-09T19:10:54.185538Z",
     "iopub.status.idle": "2023-08-09T19:11:42.291721Z",
     "shell.execute_reply": "2023-08-09T19:11:42.290049Z"
    },
    "papermill": {
     "duration": 48.169412,
     "end_time": "2023-08-09T19:11:42.328063",
     "exception": false,
     "start_time": "2023-08-09T19:10:54.158651",
     "status": "completed"
    },
    "tags": []
   },
   "outputs": [
    {
     "name": "stdout",
     "output_type": "stream",
     "text": [
      "MSE Part 2: 643.2090827330932\n",
      "R-squared Part 2: 0.057710400750993984\n"
     ]
    }
   ],
   "source": [
    "#fit_transform our dataset for modeling\n",
    "\n",
    "#create the model\n",
    "lr_model_2 = LinearRegression()\n",
    "\n",
    "#fit the model\n",
    "lr_model_2.fit(X_train, y_train)\n",
    "\n",
    "#make predictions on the X_test inputs\n",
    "y_pred = lr_model_2.predict(X_test)\n",
    "\n",
    "#get the mse using our model prediction values (y_pred) vs the actual y values (y_test)\n",
    "mse = mean_squared_error(y_test, y_pred)\n",
    "\n",
    "#get the r^2 the same way\n",
    "r2 = r2_score(y_test, y_pred)\n",
    "\n",
    "print(\"MSE Part 2:\", mse)\n",
    "print(\"R-squared Part 2:\", r2)\n",
    "\n",
    "#Our model is getting worse...\n",
    "#MSE Part 2: 484.6217494990029\n",
    "#R-squared Part 2: 0.06399257779480028"
   ]
  },
  {
   "cell_type": "markdown",
   "id": "6952ea3f",
   "metadata": {
    "papermill": {
     "duration": 0.025099,
     "end_time": "2023-08-09T19:11:42.396495",
     "exception": false,
     "start_time": "2023-08-09T19:11:42.371396",
     "status": "completed"
    },
    "tags": []
   },
   "source": [
    "#### Section 6.2: L1 Lasso Regression with scaling and cross validation"
   ]
  },
  {
   "cell_type": "code",
   "execution_count": 47,
   "id": "abdd579c",
   "metadata": {
    "execution": {
     "iopub.execute_input": "2023-08-09T19:11:42.447636Z",
     "iopub.status.busy": "2023-08-09T19:11:42.447219Z",
     "iopub.status.idle": "2023-08-09T19:12:04.285406Z",
     "shell.execute_reply": "2023-08-09T19:12:04.284041Z"
    },
    "papermill": {
     "duration": 21.86751,
     "end_time": "2023-08-09T19:12:04.288896",
     "exception": false,
     "start_time": "2023-08-09T19:11:42.421386",
     "status": "completed"
    },
    "tags": []
   },
   "outputs": [
    {
     "name": "stdout",
     "output_type": "stream",
     "text": [
      "L1 Lasso\n",
      "MSE Part 2: 644.3207341106541\n",
      "R-squared Part 2: 0.05608185171587232\n"
     ]
    }
   ],
   "source": [
    "alpha_value = 0.1\n",
    "l1_model_2 = Lasso(alpha=alpha_value)\n",
    "l1_model_2.fit(X_train, y_train)\n",
    "y_pred = l1_model_2.predict(X_test)\n",
    "mse = mean_squared_error(y_test, y_pred)\n",
    "r2 = r2_score(y_test, y_pred)\n",
    "print(\"L1 Lasso\")\n",
    "print(\"MSE Part 2:\", mse)\n",
    "print(\"R-squared Part 2:\", r2)"
   ]
  },
  {
   "cell_type": "markdown",
   "id": "39bc8a89",
   "metadata": {
    "papermill": {
     "duration": 0.04149,
     "end_time": "2023-08-09T19:12:04.373587",
     "exception": false,
     "start_time": "2023-08-09T19:12:04.332097",
     "status": "completed"
    },
    "tags": []
   },
   "source": [
    "#### Section 6.3: L2 Ridge Regression with scaling and cross validation"
   ]
  },
  {
   "cell_type": "code",
   "execution_count": 48,
   "id": "ea22de01",
   "metadata": {
    "execution": {
     "iopub.execute_input": "2023-08-09T19:12:04.428207Z",
     "iopub.status.busy": "2023-08-09T19:12:04.427800Z",
     "iopub.status.idle": "2023-08-09T19:12:10.972965Z",
     "shell.execute_reply": "2023-08-09T19:12:10.969857Z"
    },
    "papermill": {
     "duration": 6.576751,
     "end_time": "2023-08-09T19:12:10.976910",
     "exception": false,
     "start_time": "2023-08-09T19:12:04.400159",
     "status": "completed"
    },
    "tags": []
   },
   "outputs": [
    {
     "name": "stdout",
     "output_type": "stream",
     "text": [
      "L2 Ridge\n",
      "MSE Part 2: 643.2036929111008\n",
      "R-squared Part 2: 0.05771829674211337\n"
     ]
    }
   ],
   "source": [
    "alpha_value = 1.0\n",
    "l2_model_2 = Ridge(alpha=alpha_value)\n",
    "l2_model_2.fit(X_train, y_train)\n",
    "y_pred = l2_model_2.predict(X_test)\n",
    "mse = mean_squared_error(y_test, y_pred)\n",
    "r2 = r2_score(y_test, y_pred)\n",
    "print(\"L2 Ridge\")\n",
    "print(\"MSE Part 2:\", mse)\n",
    "print(\"R-squared Part 2:\", r2)"
   ]
  },
  {
   "cell_type": "markdown",
   "id": "7e739458",
   "metadata": {
    "papermill": {
     "duration": 0.042314,
     "end_time": "2023-08-09T19:12:11.063175",
     "exception": false,
     "start_time": "2023-08-09T19:12:11.020861",
     "status": "completed"
    },
    "tags": []
   },
   "source": [
    "#### Section 6.4 Elastic Net Regression with scaling and cross validation"
   ]
  },
  {
   "cell_type": "code",
   "execution_count": 49,
   "id": "e0222b2c",
   "metadata": {
    "execution": {
     "iopub.execute_input": "2023-08-09T19:12:11.115300Z",
     "iopub.status.busy": "2023-08-09T19:12:11.114922Z",
     "iopub.status.idle": "2023-08-09T19:12:42.550235Z",
     "shell.execute_reply": "2023-08-09T19:12:42.536010Z"
    },
    "papermill": {
     "duration": 31.503781,
     "end_time": "2023-08-09T19:12:42.592949",
     "exception": false,
     "start_time": "2023-08-09T19:12:11.089168",
     "status": "completed"
    },
    "tags": []
   },
   "outputs": [
    {
     "name": "stdout",
     "output_type": "stream",
     "text": [
      "Elastic Net Regression Model:\n",
      "MSE Part 2: 650.5406527638928\n",
      "R-squared Part 2: 0.046969784096712375\n"
     ]
    }
   ],
   "source": [
    "alpha = 1.0  \n",
    "l1_ratio = 0.5  \n",
    "en_model_2 = ElasticNet(alpha=alpha, l1_ratio=l1_ratio)\n",
    "en_model_2.fit(X_train, y_train)\n",
    "en_model_2.fit(X_train, y_train)\n",
    "y_pred = en_model_2.predict(X_test)\n",
    "mse = mean_squared_error(y_test, y_pred)\n",
    "r2 = r2_score(y_test, y_pred)\n",
    "print(\"Elastic Net Regression Model:\")\n",
    "print(\"MSE Part 2:\", mse)\n",
    "print(\"R-squared Part 2:\", r2)"
   ]
  },
  {
   "cell_type": "markdown",
   "id": "a2f89f9e",
   "metadata": {
    "papermill": {
     "duration": 0.024284,
     "end_time": "2023-08-09T19:12:42.643302",
     "exception": false,
     "start_time": "2023-08-09T19:12:42.619018",
     "status": "completed"
    },
    "tags": []
   },
   "source": [
    "### Section 7: Let's try Light Gradient Boosted models"
   ]
  },
  {
   "cell_type": "code",
   "execution_count": 50,
   "id": "3e208abc",
   "metadata": {
    "execution": {
     "iopub.execute_input": "2023-08-09T19:12:42.695569Z",
     "iopub.status.busy": "2023-08-09T19:12:42.693901Z",
     "iopub.status.idle": "2023-08-09T19:12:55.284242Z",
     "shell.execute_reply": "2023-08-09T19:12:55.282847Z"
    },
    "papermill": {
     "duration": 12.619077,
     "end_time": "2023-08-09T19:12:55.287055",
     "exception": false,
     "start_time": "2023-08-09T19:12:42.667978",
     "status": "completed"
    },
    "tags": []
   },
   "outputs": [
    {
     "name": "stderr",
     "output_type": "stream",
     "text": [
      "/opt/conda/lib/python3.10/site-packages/lightgbm/engine.py:181: UserWarning: 'early_stopping_rounds' argument is deprecated and will be removed in a future release of LightGBM. Pass 'early_stopping()' callback via 'callbacks' argument instead.\n",
      "  _log_warning(\"'early_stopping_rounds' argument is deprecated and will be removed in a future release of LightGBM. \"\n"
     ]
    },
    {
     "name": "stdout",
     "output_type": "stream",
     "text": [
      "[LightGBM] [Warning] Auto-choosing row-wise multi-threading, the overhead of testing was 1.289960 seconds.\n",
      "You can set `force_row_wise=true` to remove the overhead.\n",
      "And if memory is not enough, you can set `force_col_wise=true`.\n",
      "[LightGBM] [Info] Total Bins 654\n",
      "[LightGBM] [Info] Number of data points in the train set: 3586165, number of used features: 114\n",
      "[LightGBM] [Info] Start training from score 3.767843\n",
      "[1]\tvalid_0's l2: 672.802\n",
      "Training until validation scores don't improve for 10 rounds\n",
      "[2]\tvalid_0's l2: 662.764\n",
      "[3]\tvalid_0's l2: 654.977\n",
      "[4]\tvalid_0's l2: 647.998\n",
      "[5]\tvalid_0's l2: 642.255\n",
      "[6]\tvalid_0's l2: 637.745\n",
      "[7]\tvalid_0's l2: 633.768\n",
      "[8]\tvalid_0's l2: 630.66\n",
      "[9]\tvalid_0's l2: 628.151\n",
      "[10]\tvalid_0's l2: 625.196\n",
      "Did not meet early stopping. Best iteration is:\n",
      "[10]\tvalid_0's l2: 625.196\n",
      "LGB MSE: 625.1958340164471\n",
      "LGB R-squared: 0.08409948226436015\n"
     ]
    }
   ],
   "source": [
    "import lightgbm as lgb\n",
    "\n",
    "train_data = lgb.Dataset(X_train, label=y_train)\n",
    "test_data = lgb.Dataset(X_test, label=y_test, reference=train_data)\n",
    "\n",
    "#put our params in a dict to reference\n",
    "parameters = {\n",
    "    'objective': 'regression',\n",
    "    'boosting_type': 'gbdt',\n",
    "    'metric': 'mse',\n",
    "    'num_leaves': 200,\n",
    "    'learning_rate': 0.1,\n",
    "    'feature_fraction': 0.9\n",
    "}\n",
    "\n",
    "#how many boosting rounds\n",
    "num_round = 10 \n",
    "model = lgb.train(parameters, train_data, num_round, valid_sets=[test_data], early_stopping_rounds=10)\n",
    "y_pred = model.predict(X_test, num_iteration=model.best_iteration)\n",
    "mse = mean_squared_error(y_test, y_pred)\n",
    "print(\"LGB MSE:\", mse)\n",
    "r2 = r2_score(y_test, y_pred)\n",
    "print(\"LGB R-squared:\", r2)\n",
    "\n",
    "#We see a lot of progress using a LGB regressor, around 50% performance in R^2. The overall performance is still\n",
    "#pretty bad, but we can see how this model is much more effective. We tried a variety of leave numbers (50, 100, 150, 200)\n",
    "# and feature_fractions (0.7, 0.8, 0.9). 200 and 0.9 seem to work good and in a fast manner."
   ]
  },
  {
   "cell_type": "markdown",
   "id": "35226b44",
   "metadata": {
    "papermill": {
     "duration": 0.025081,
     "end_time": "2023-08-09T19:12:55.337799",
     "exception": false,
     "start_time": "2023-08-09T19:12:55.312718",
     "status": "completed"
    },
    "tags": []
   },
   "source": [
    "### Section 8: Decision Tree"
   ]
  },
  {
   "cell_type": "code",
   "execution_count": 51,
   "id": "c664c801",
   "metadata": {
    "execution": {
     "iopub.execute_input": "2023-08-09T19:12:55.390999Z",
     "iopub.status.busy": "2023-08-09T19:12:55.390032Z",
     "iopub.status.idle": "2023-08-09T19:14:34.939265Z",
     "shell.execute_reply": "2023-08-09T19:14:34.937881Z"
    },
    "papermill": {
     "duration": 99.603669,
     "end_time": "2023-08-09T19:14:34.966940",
     "exception": false,
     "start_time": "2023-08-09T19:12:55.363271",
     "status": "completed"
    },
    "tags": []
   },
   "outputs": [
    {
     "name": "stdout",
     "output_type": "stream",
     "text": [
      "Decision Tree MSE: 1108.019223125274\n",
      "Decision Tree R-squared: -0.6232279949817812\n"
     ]
    }
   ],
   "source": [
    "#Let's try a decision tree model too and see what happens\n",
    "from sklearn.tree import DecisionTreeRegressor\n",
    "#make the regressor\n",
    "regressor = DecisionTreeRegressor(random_state=11)\n",
    "#fit\n",
    "regressor.fit(X_train, y_train)\n",
    "#predict\n",
    "y_pred = regressor.predict(X_test)\n",
    "#get performance values\n",
    "mse = mean_squared_error(y_test, y_pred)\n",
    "print(\"Decision Tree MSE:\", mse)\n",
    "r2 = r2_score(y_test, y_pred)\n",
    "print(\"Decision Tree R-squared:\", r2)\n",
    "\n",
    "#Oh wow this turns out horrible"
   ]
  }
 ],
 "metadata": {
  "kernelspec": {
   "display_name": "Python 3",
   "language": "python",
   "name": "python3"
  },
  "language_info": {
   "codemirror_mode": {
    "name": "ipython",
    "version": 3
   },
   "file_extension": ".py",
   "mimetype": "text/x-python",
   "name": "python",
   "nbconvert_exporter": "python",
   "pygments_lexer": "ipython3",
   "version": "3.10.12"
  },
  "papermill": {
   "default_parameters": {},
   "duration": 573.596933,
   "end_time": "2023-08-09T19:14:37.019975",
   "environment_variables": {},
   "exception": null,
   "input_path": "__notebook__.ipynb",
   "output_path": "__notebook__.ipynb",
   "parameters": {},
   "start_time": "2023-08-09T19:05:03.423042",
   "version": "2.4.0"
  }
 },
 "nbformat": 4,
 "nbformat_minor": 5
}
