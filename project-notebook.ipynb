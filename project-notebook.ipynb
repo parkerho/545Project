{
 "cells": [
  {
   "cell_type": "code",
   "execution_count": 1,
   "id": "70fdb04c",
   "metadata": {
    "_cell_guid": "b1076dfc-b9ad-4769-8c92-a6c4dae69d19",
    "_uuid": "8f2839f25d086af736a60e9eeb907d3b93b6e0e5",
    "execution": {
     "iopub.execute_input": "2023-08-06T23:14:33.018157Z",
     "iopub.status.busy": "2023-08-06T23:14:33.017606Z",
     "iopub.status.idle": "2023-08-06T23:14:33.049655Z",
     "shell.execute_reply": "2023-08-06T23:14:33.048676Z"
    },
    "papermill": {
     "duration": 0.052688,
     "end_time": "2023-08-06T23:14:33.052267",
     "exception": false,
     "start_time": "2023-08-06T23:14:32.999579",
     "status": "completed"
    },
    "tags": []
   },
   "outputs": [
    {
     "name": "stdout",
     "output_type": "stream",
     "text": [
      "/kaggle/input/flight-delay-dataset-20182022/Combined_Flights_2022.parquet\n",
      "/kaggle/input/flight-delay-dataset-20182022/Combined_Flights_2021.parquet\n",
      "/kaggle/input/flight-delay-dataset-20182022/Combined_Flights_2018.csv\n",
      "/kaggle/input/flight-delay-dataset-20182022/Combined_Flights_2018.parquet\n",
      "/kaggle/input/flight-delay-dataset-20182022/Airlines.csv\n",
      "/kaggle/input/flight-delay-dataset-20182022/readme.md\n",
      "/kaggle/input/flight-delay-dataset-20182022/Combined_Flights_2022.csv\n",
      "/kaggle/input/flight-delay-dataset-20182022/Combined_Flights_2020.csv\n",
      "/kaggle/input/flight-delay-dataset-20182022/Combined_Flights_2020.parquet\n",
      "/kaggle/input/flight-delay-dataset-20182022/Combined_Flights_2019.csv\n",
      "/kaggle/input/flight-delay-dataset-20182022/readme.html\n",
      "/kaggle/input/flight-delay-dataset-20182022/Combined_Flights_2021.csv\n",
      "/kaggle/input/flight-delay-dataset-20182022/Combined_Flights_2019.parquet\n",
      "/kaggle/input/flight-delay-dataset-20182022/raw/Flights_2018_7.csv\n",
      "/kaggle/input/flight-delay-dataset-20182022/raw/Flights_2018_6.csv\n",
      "/kaggle/input/flight-delay-dataset-20182022/raw/Flights_2020_1.csv\n",
      "/kaggle/input/flight-delay-dataset-20182022/raw/Flights_2018_1.csv\n",
      "/kaggle/input/flight-delay-dataset-20182022/raw/Flights_2022_1.csv\n",
      "/kaggle/input/flight-delay-dataset-20182022/raw/Flights_2018_9.csv\n",
      "/kaggle/input/flight-delay-dataset-20182022/raw/Flights_2020_3.csv\n",
      "/kaggle/input/flight-delay-dataset-20182022/raw/Flights_2020_7.csv\n",
      "/kaggle/input/flight-delay-dataset-20182022/raw/Flights_2021_8.csv\n",
      "/kaggle/input/flight-delay-dataset-20182022/raw/Flights_2020_11.csv\n",
      "/kaggle/input/flight-delay-dataset-20182022/raw/Flights_2020_6.csv\n",
      "/kaggle/input/flight-delay-dataset-20182022/raw/Flights_2019_8.csv\n",
      "/kaggle/input/flight-delay-dataset-20182022/raw/Flights_2022_6.csv\n",
      "/kaggle/input/flight-delay-dataset-20182022/raw/Flights_2018_11.csv\n",
      "/kaggle/input/flight-delay-dataset-20182022/raw/Flights_2018_5.csv\n",
      "/kaggle/input/flight-delay-dataset-20182022/raw/Flights_2018_2.csv\n",
      "/kaggle/input/flight-delay-dataset-20182022/raw/Flights_2022_3.csv\n",
      "/kaggle/input/flight-delay-dataset-20182022/raw/Flights_2019_12.csv\n",
      "/kaggle/input/flight-delay-dataset-20182022/raw/Flights_2019_7.csv\n",
      "/kaggle/input/flight-delay-dataset-20182022/raw/Flights_2019_2.csv\n",
      "/kaggle/input/flight-delay-dataset-20182022/raw/Flights_2020_2.csv\n",
      "/kaggle/input/flight-delay-dataset-20182022/raw/Flights_2022_7.csv\n",
      "/kaggle/input/flight-delay-dataset-20182022/raw/Flights_2019_3.csv\n",
      "/kaggle/input/flight-delay-dataset-20182022/raw/Flights_2019_5.csv\n",
      "/kaggle/input/flight-delay-dataset-20182022/raw/Flights_2022_5.csv\n",
      "/kaggle/input/flight-delay-dataset-20182022/raw/Flights_2019_10.csv\n",
      "/kaggle/input/flight-delay-dataset-20182022/raw/Flights_2021_9.csv\n",
      "/kaggle/input/flight-delay-dataset-20182022/raw/Flights_2020_5.csv\n",
      "/kaggle/input/flight-delay-dataset-20182022/raw/Flights_2022_4.csv\n",
      "/kaggle/input/flight-delay-dataset-20182022/raw/Flights_2019_1.csv\n",
      "/kaggle/input/flight-delay-dataset-20182022/raw/Flights_2021_1.csv\n",
      "/kaggle/input/flight-delay-dataset-20182022/raw/Flights_2021_7.csv\n",
      "/kaggle/input/flight-delay-dataset-20182022/raw/Flights_2020_4.csv\n",
      "/kaggle/input/flight-delay-dataset-20182022/raw/Flights_2022_2.csv\n",
      "/kaggle/input/flight-delay-dataset-20182022/raw/Flights_2021_2.csv\n",
      "/kaggle/input/flight-delay-dataset-20182022/raw/Flights_2021_10.csv\n",
      "/kaggle/input/flight-delay-dataset-20182022/raw/Flights_2018_10.csv\n",
      "/kaggle/input/flight-delay-dataset-20182022/raw/Flights_2018_4.csv\n",
      "/kaggle/input/flight-delay-dataset-20182022/raw/Flights_2020_9.csv\n",
      "/kaggle/input/flight-delay-dataset-20182022/raw/Flights_2020_10.csv\n",
      "/kaggle/input/flight-delay-dataset-20182022/raw/Flights_2021_11.csv\n",
      "/kaggle/input/flight-delay-dataset-20182022/raw/Flights_2020_12.csv\n",
      "/kaggle/input/flight-delay-dataset-20182022/raw/Flights_2021_12.csv\n",
      "/kaggle/input/flight-delay-dataset-20182022/raw/Flights_2021_4.csv\n",
      "/kaggle/input/flight-delay-dataset-20182022/raw/Flights_2019_9.csv\n",
      "/kaggle/input/flight-delay-dataset-20182022/raw/Flights_2019_11.csv\n",
      "/kaggle/input/flight-delay-dataset-20182022/raw/Flights_2021_6.csv\n",
      "/kaggle/input/flight-delay-dataset-20182022/raw/Flights_2019_6.csv\n",
      "/kaggle/input/flight-delay-dataset-20182022/raw/Flights_2020_8.csv\n",
      "/kaggle/input/flight-delay-dataset-20182022/raw/Flights_2018_12.csv\n",
      "/kaggle/input/flight-delay-dataset-20182022/raw/Flights_2021_3.csv\n",
      "/kaggle/input/flight-delay-dataset-20182022/raw/Flights_2018_8.csv\n",
      "/kaggle/input/flight-delay-dataset-20182022/raw/Flights_2021_5.csv\n",
      "/kaggle/input/flight-delay-dataset-20182022/raw/Flights_2018_3.csv\n",
      "/kaggle/input/flight-delay-dataset-20182022/raw/Flights_2019_4.csv\n"
     ]
    }
   ],
   "source": [
    "# This Python 3 environment comes with many helpful analytics libraries installed\n",
    "# It is defined by the kaggle/python Docker image: https://github.com/kaggle/docker-python\n",
    "# For example, here's several helpful packages to load\n",
    "\n",
    "import numpy as np # linear algebra\n",
    "import pandas as pd # data processing, CSV file I/O (e.g. pd.read_csv)\n",
    "import matplotlib.pyplot as plt\n",
    "\n",
    "# Input data files are available in the read-only \"../input/\" directory\n",
    "# For example, running this (by clicking run or pressing Shift+Enter) will list all files under the input directory\n",
    "\n",
    "import os\n",
    "for dirname, _, filenames in os.walk('/kaggle/input'):\n",
    "    for filename in filenames:\n",
    "        print(os.path.join(dirname, filename))\n",
    "\n",
    "# You can write up to 20GB to the current directory (/kaggle/working/) that gets preserved as output when you create a version using \"Save & Run All\" \n",
    "# You can also write temporary files to /kaggle/temp/, but they won't be saved outside of the current session"
   ]
  },
  {
   "cell_type": "markdown",
   "id": "38cb20f2",
   "metadata": {
    "papermill": {
     "duration": 0.016611,
     "end_time": "2023-08-06T23:14:33.084509",
     "exception": false,
     "start_time": "2023-08-06T23:14:33.067898",
     "status": "completed"
    },
    "tags": []
   },
   "source": [
    "# Introduction\n",
    "\n",
    "### What we will be doing with this dataset:\n",
    "- We will be using this dataset to effectively and accurately predict length of time for flight delays. We will use various regression and machine learning techniques to learn from the training data and then test our prediction models with our test data.\n",
    "\n",
    "### Why we chose this dataset:\n",
    "- We chose the given dataset as it is both rich and robust. The size allows us to adjust various factors in order to observe common phenomena. The number of columns allows us to explore which variables affect flight delays; whereas, the number of rows ensure we have enough data to make good judgements.\n",
    "\n",
    "### What results we hope to achieve:\n",
    "- We aim to predict the length of flight delays with high confidence."
   ]
  },
  {
   "cell_type": "markdown",
   "id": "5b087555",
   "metadata": {
    "papermill": {
     "duration": 0.015527,
     "end_time": "2023-08-06T23:14:33.115342",
     "exception": false,
     "start_time": "2023-08-06T23:14:33.099815",
     "status": "completed"
    },
    "tags": []
   },
   "source": [
    "### Section 1: Load data from CSV into Pandas Dataframe"
   ]
  },
  {
   "cell_type": "code",
   "execution_count": 2,
   "id": "65d05d01",
   "metadata": {
    "execution": {
     "iopub.execute_input": "2023-08-06T23:14:33.149476Z",
     "iopub.status.busy": "2023-08-06T23:14:33.148562Z",
     "iopub.status.idle": "2023-08-06T23:16:27.167463Z",
     "shell.execute_reply": "2023-08-06T23:16:27.166055Z"
    },
    "papermill": {
     "duration": 114.039011,
     "end_time": "2023-08-06T23:16:27.170573",
     "exception": false,
     "start_time": "2023-08-06T23:14:33.131562",
     "status": "completed"
    },
    "tags": []
   },
   "outputs": [],
   "source": [
    "# This dataset in its entirety is very large, containing millions and millions of records, which is going to\n",
    "# be quite costly to compute over. We feel that we can generate a sufficent level of accuracy by computing\n",
    "# over a subset of the data. We have chosen to work with 2018 with the idea that the years 2020-2022 will \n",
    "# likely be biased by the events and effects of the COVID-19 pandemic.\n",
    "\n",
    "df_flights_2018 = pd.read_csv(\"/kaggle/input/flight-delay-dataset-20182022/Combined_Flights_2018.csv\")\n",
    "\n",
    "# Because we have such an abundance of data, we are not necessarily concerned with dropping values in place. \n",
    "# We would most certainly consider value imputation instead of simply dropping NA values, if our dataset were\n",
    "# not so rich.\n",
    "\n",
    "df_flights_2018.dropna(inplace = True)"
   ]
  },
  {
   "cell_type": "code",
   "execution_count": 3,
   "id": "4ae9a720",
   "metadata": {
    "execution": {
     "iopub.execute_input": "2023-08-06T23:16:27.203602Z",
     "iopub.status.busy": "2023-08-06T23:16:27.203115Z",
     "iopub.status.idle": "2023-08-06T23:16:27.251216Z",
     "shell.execute_reply": "2023-08-06T23:16:27.250044Z"
    },
    "papermill": {
     "duration": 0.067735,
     "end_time": "2023-08-06T23:16:27.254111",
     "exception": false,
     "start_time": "2023-08-06T23:16:27.186376",
     "status": "completed"
    },
    "tags": []
   },
   "outputs": [
    {
     "data": {
      "text/html": [
       "<div>\n",
       "<style scoped>\n",
       "    .dataframe tbody tr th:only-of-type {\n",
       "        vertical-align: middle;\n",
       "    }\n",
       "\n",
       "    .dataframe tbody tr th {\n",
       "        vertical-align: top;\n",
       "    }\n",
       "\n",
       "    .dataframe thead th {\n",
       "        text-align: right;\n",
       "    }\n",
       "</style>\n",
       "<table border=\"1\" class=\"dataframe\">\n",
       "  <thead>\n",
       "    <tr style=\"text-align: right;\">\n",
       "      <th></th>\n",
       "      <th>FlightDate</th>\n",
       "      <th>Airline</th>\n",
       "      <th>Origin</th>\n",
       "      <th>Dest</th>\n",
       "      <th>Cancelled</th>\n",
       "      <th>Diverted</th>\n",
       "      <th>CRSDepTime</th>\n",
       "      <th>DepTime</th>\n",
       "      <th>DepDelayMinutes</th>\n",
       "      <th>DepDelay</th>\n",
       "      <th>...</th>\n",
       "      <th>WheelsOff</th>\n",
       "      <th>WheelsOn</th>\n",
       "      <th>TaxiIn</th>\n",
       "      <th>CRSArrTime</th>\n",
       "      <th>ArrDelay</th>\n",
       "      <th>ArrDel15</th>\n",
       "      <th>ArrivalDelayGroups</th>\n",
       "      <th>ArrTimeBlk</th>\n",
       "      <th>DistanceGroup</th>\n",
       "      <th>DivAirportLandings</th>\n",
       "    </tr>\n",
       "  </thead>\n",
       "  <tbody>\n",
       "    <tr>\n",
       "      <th>0</th>\n",
       "      <td>2018-01-23</td>\n",
       "      <td>Endeavor Air Inc.</td>\n",
       "      <td>ABY</td>\n",
       "      <td>ATL</td>\n",
       "      <td>False</td>\n",
       "      <td>False</td>\n",
       "      <td>1202</td>\n",
       "      <td>1157.0</td>\n",
       "      <td>0.0</td>\n",
       "      <td>-5.0</td>\n",
       "      <td>...</td>\n",
       "      <td>1211.0</td>\n",
       "      <td>1249.0</td>\n",
       "      <td>7.0</td>\n",
       "      <td>1304</td>\n",
       "      <td>-8.0</td>\n",
       "      <td>0.0</td>\n",
       "      <td>-1.0</td>\n",
       "      <td>1300-1359</td>\n",
       "      <td>1</td>\n",
       "      <td>0.0</td>\n",
       "    </tr>\n",
       "    <tr>\n",
       "      <th>1</th>\n",
       "      <td>2018-01-24</td>\n",
       "      <td>Endeavor Air Inc.</td>\n",
       "      <td>ABY</td>\n",
       "      <td>ATL</td>\n",
       "      <td>False</td>\n",
       "      <td>False</td>\n",
       "      <td>1202</td>\n",
       "      <td>1157.0</td>\n",
       "      <td>0.0</td>\n",
       "      <td>-5.0</td>\n",
       "      <td>...</td>\n",
       "      <td>1210.0</td>\n",
       "      <td>1246.0</td>\n",
       "      <td>12.0</td>\n",
       "      <td>1304</td>\n",
       "      <td>-6.0</td>\n",
       "      <td>0.0</td>\n",
       "      <td>-1.0</td>\n",
       "      <td>1300-1359</td>\n",
       "      <td>1</td>\n",
       "      <td>0.0</td>\n",
       "    </tr>\n",
       "    <tr>\n",
       "      <th>2</th>\n",
       "      <td>2018-01-25</td>\n",
       "      <td>Endeavor Air Inc.</td>\n",
       "      <td>ABY</td>\n",
       "      <td>ATL</td>\n",
       "      <td>False</td>\n",
       "      <td>False</td>\n",
       "      <td>1202</td>\n",
       "      <td>1153.0</td>\n",
       "      <td>0.0</td>\n",
       "      <td>-9.0</td>\n",
       "      <td>...</td>\n",
       "      <td>1211.0</td>\n",
       "      <td>1251.0</td>\n",
       "      <td>11.0</td>\n",
       "      <td>1304</td>\n",
       "      <td>-2.0</td>\n",
       "      <td>0.0</td>\n",
       "      <td>-1.0</td>\n",
       "      <td>1300-1359</td>\n",
       "      <td>1</td>\n",
       "      <td>0.0</td>\n",
       "    </tr>\n",
       "    <tr>\n",
       "      <th>3</th>\n",
       "      <td>2018-01-26</td>\n",
       "      <td>Endeavor Air Inc.</td>\n",
       "      <td>ABY</td>\n",
       "      <td>ATL</td>\n",
       "      <td>False</td>\n",
       "      <td>False</td>\n",
       "      <td>1202</td>\n",
       "      <td>1150.0</td>\n",
       "      <td>0.0</td>\n",
       "      <td>-12.0</td>\n",
       "      <td>...</td>\n",
       "      <td>1207.0</td>\n",
       "      <td>1242.0</td>\n",
       "      <td>11.0</td>\n",
       "      <td>1304</td>\n",
       "      <td>-11.0</td>\n",
       "      <td>0.0</td>\n",
       "      <td>-1.0</td>\n",
       "      <td>1300-1359</td>\n",
       "      <td>1</td>\n",
       "      <td>0.0</td>\n",
       "    </tr>\n",
       "    <tr>\n",
       "      <th>4</th>\n",
       "      <td>2018-01-27</td>\n",
       "      <td>Endeavor Air Inc.</td>\n",
       "      <td>ABY</td>\n",
       "      <td>ATL</td>\n",
       "      <td>False</td>\n",
       "      <td>False</td>\n",
       "      <td>1400</td>\n",
       "      <td>1355.0</td>\n",
       "      <td>0.0</td>\n",
       "      <td>-5.0</td>\n",
       "      <td>...</td>\n",
       "      <td>1412.0</td>\n",
       "      <td>1448.0</td>\n",
       "      <td>11.0</td>\n",
       "      <td>1500</td>\n",
       "      <td>-1.0</td>\n",
       "      <td>0.0</td>\n",
       "      <td>-1.0</td>\n",
       "      <td>1500-1559</td>\n",
       "      <td>1</td>\n",
       "      <td>0.0</td>\n",
       "    </tr>\n",
       "  </tbody>\n",
       "</table>\n",
       "<p>5 rows × 61 columns</p>\n",
       "</div>"
      ],
      "text/plain": [
       "   FlightDate            Airline Origin Dest  Cancelled  Diverted  CRSDepTime  \\\n",
       "0  2018-01-23  Endeavor Air Inc.    ABY  ATL      False     False        1202   \n",
       "1  2018-01-24  Endeavor Air Inc.    ABY  ATL      False     False        1202   \n",
       "2  2018-01-25  Endeavor Air Inc.    ABY  ATL      False     False        1202   \n",
       "3  2018-01-26  Endeavor Air Inc.    ABY  ATL      False     False        1202   \n",
       "4  2018-01-27  Endeavor Air Inc.    ABY  ATL      False     False        1400   \n",
       "\n",
       "   DepTime  DepDelayMinutes  DepDelay  ...  WheelsOff  WheelsOn  TaxiIn  \\\n",
       "0   1157.0              0.0      -5.0  ...     1211.0    1249.0     7.0   \n",
       "1   1157.0              0.0      -5.0  ...     1210.0    1246.0    12.0   \n",
       "2   1153.0              0.0      -9.0  ...     1211.0    1251.0    11.0   \n",
       "3   1150.0              0.0     -12.0  ...     1207.0    1242.0    11.0   \n",
       "4   1355.0              0.0      -5.0  ...     1412.0    1448.0    11.0   \n",
       "\n",
       "   CRSArrTime  ArrDelay  ArrDel15  ArrivalDelayGroups  ArrTimeBlk  \\\n",
       "0        1304      -8.0       0.0                -1.0   1300-1359   \n",
       "1        1304      -6.0       0.0                -1.0   1300-1359   \n",
       "2        1304      -2.0       0.0                -1.0   1300-1359   \n",
       "3        1304     -11.0       0.0                -1.0   1300-1359   \n",
       "4        1500      -1.0       0.0                -1.0   1500-1559   \n",
       "\n",
       "   DistanceGroup  DivAirportLandings  \n",
       "0              1                 0.0  \n",
       "1              1                 0.0  \n",
       "2              1                 0.0  \n",
       "3              1                 0.0  \n",
       "4              1                 0.0  \n",
       "\n",
       "[5 rows x 61 columns]"
      ]
     },
     "execution_count": 3,
     "metadata": {},
     "output_type": "execute_result"
    }
   ],
   "source": [
    "# Visualize dataframe to ensure it loaded correctly\n",
    "df_flights_2018.head()"
   ]
  },
  {
   "cell_type": "code",
   "execution_count": 4,
   "id": "8e2d4f93",
   "metadata": {
    "execution": {
     "iopub.execute_input": "2023-08-06T23:16:27.288242Z",
     "iopub.status.busy": "2023-08-06T23:16:27.287812Z",
     "iopub.status.idle": "2023-08-06T23:16:27.315344Z",
     "shell.execute_reply": "2023-08-06T23:16:27.313703Z"
    },
    "papermill": {
     "duration": 0.047669,
     "end_time": "2023-08-06T23:16:27.317820",
     "exception": false,
     "start_time": "2023-08-06T23:16:27.270151",
     "status": "completed"
    },
    "tags": []
   },
   "outputs": [
    {
     "name": "stdout",
     "output_type": "stream",
     "text": [
      "<class 'pandas.core.frame.DataFrame'>\n",
      "Int64Index: 5578618 entries, 0 to 5689511\n",
      "Data columns (total 61 columns):\n",
      " #   Column                                   Dtype  \n",
      "---  ------                                   -----  \n",
      " 0   FlightDate                               object \n",
      " 1   Airline                                  object \n",
      " 2   Origin                                   object \n",
      " 3   Dest                                     object \n",
      " 4   Cancelled                                bool   \n",
      " 5   Diverted                                 bool   \n",
      " 6   CRSDepTime                               int64  \n",
      " 7   DepTime                                  float64\n",
      " 8   DepDelayMinutes                          float64\n",
      " 9   DepDelay                                 float64\n",
      " 10  ArrTime                                  float64\n",
      " 11  ArrDelayMinutes                          float64\n",
      " 12  AirTime                                  float64\n",
      " 13  CRSElapsedTime                           float64\n",
      " 14  ActualElapsedTime                        float64\n",
      " 15  Distance                                 float64\n",
      " 16  Year                                     int64  \n",
      " 17  Quarter                                  int64  \n",
      " 18  Month                                    int64  \n",
      " 19  DayofMonth                               int64  \n",
      " 20  DayOfWeek                                int64  \n",
      " 21  Marketing_Airline_Network                object \n",
      " 22  Operated_or_Branded_Code_Share_Partners  object \n",
      " 23  DOT_ID_Marketing_Airline                 int64  \n",
      " 24  IATA_Code_Marketing_Airline              object \n",
      " 25  Flight_Number_Marketing_Airline          int64  \n",
      " 26  Operating_Airline                        object \n",
      " 27  DOT_ID_Operating_Airline                 int64  \n",
      " 28  IATA_Code_Operating_Airline              object \n",
      " 29  Tail_Number                              object \n",
      " 30  Flight_Number_Operating_Airline          int64  \n",
      " 31  OriginAirportID                          int64  \n",
      " 32  OriginAirportSeqID                       int64  \n",
      " 33  OriginCityMarketID                       int64  \n",
      " 34  OriginCityName                           object \n",
      " 35  OriginState                              object \n",
      " 36  OriginStateFips                          int64  \n",
      " 37  OriginStateName                          object \n",
      " 38  OriginWac                                int64  \n",
      " 39  DestAirportID                            int64  \n",
      " 40  DestAirportSeqID                         int64  \n",
      " 41  DestCityMarketID                         int64  \n",
      " 42  DestCityName                             object \n",
      " 43  DestState                                object \n",
      " 44  DestStateFips                            int64  \n",
      " 45  DestStateName                            object \n",
      " 46  DestWac                                  int64  \n",
      " 47  DepDel15                                 float64\n",
      " 48  DepartureDelayGroups                     float64\n",
      " 49  DepTimeBlk                               object \n",
      " 50  TaxiOut                                  float64\n",
      " 51  WheelsOff                                float64\n",
      " 52  WheelsOn                                 float64\n",
      " 53  TaxiIn                                   float64\n",
      " 54  CRSArrTime                               int64  \n",
      " 55  ArrDelay                                 float64\n",
      " 56  ArrDel15                                 float64\n",
      " 57  ArrivalDelayGroups                       float64\n",
      " 58  ArrTimeBlk                               object \n",
      " 59  DistanceGroup                            int64  \n",
      " 60  DivAirportLandings                       float64\n",
      "dtypes: bool(2), float64(19), int64(22), object(18)\n",
      "memory usage: 2.5+ GB\n"
     ]
    }
   ],
   "source": [
    "# Vizualize columns and data types \n",
    "df_flights_2018.info()"
   ]
  },
  {
   "cell_type": "markdown",
   "id": "bfc14341",
   "metadata": {
    "papermill": {
     "duration": 0.015758,
     "end_time": "2023-08-06T23:16:27.349755",
     "exception": false,
     "start_time": "2023-08-06T23:16:27.333997",
     "status": "completed"
    },
    "tags": []
   },
   "source": [
    "### Section 2: Initial Data Cleaning and Wrangling"
   ]
  },
  {
   "cell_type": "code",
   "execution_count": 5,
   "id": "bbcf709f",
   "metadata": {
    "execution": {
     "iopub.execute_input": "2023-08-06T23:16:27.385985Z",
     "iopub.status.busy": "2023-08-06T23:16:27.385294Z",
     "iopub.status.idle": "2023-08-06T23:16:38.150664Z",
     "shell.execute_reply": "2023-08-06T23:16:38.149063Z"
    },
    "papermill": {
     "duration": 10.787307,
     "end_time": "2023-08-06T23:16:38.153695",
     "exception": false,
     "start_time": "2023-08-06T23:16:27.366388",
     "status": "completed"
    },
    "tags": []
   },
   "outputs": [],
   "source": [
    "# Cast FlightDate column to datetime format\n",
    "df_flights_2018[\"FlightDate\"] = pd.to_datetime(df_flights_2018[\"FlightDate\"])\n",
    "\n",
    "# Cast Airline column to String\n",
    "df_flights_2018[\"Airline\"] = df_flights_2018[\"Airline\"].astype(str)\n",
    "\n",
    "# Change Origin and Destination columns to String\n",
    "df_flights_2018[\"Origin\"] = df_flights_2018[\"Origin\"].astype(str)\n",
    "df_flights_2018[\"Dest\"] = df_flights_2018[\"Dest\"].astype(str)\n",
    "\n",
    "# Now we want to remove any 'known' values that could predict the outcome. For example, DepDel15 would \n",
    "# indicate we're going to be delayed and bias the model. So we're going to drop all these values \n",
    "# that we would not know in advance while we're waiting for a plane to take off. This includes \n",
    "# all the arrival values, diverted values, cancelled values, etc... We also remove a lot of the \n",
    "# redudant location information to make the dataset more manageable with regard to memory size.\n",
    "keeper_columns = [\"Quarter\",\"DayOfWeek\", \"FlightDate\",\n",
    "                  \"Airline\",\"Origin\", \"OriginState\",\n",
    "                  \"Dest\", \"DestState\",\"CRSDepTime\",\n",
    "                  \"Distance\", \"DepDelayMinutes\"]\n",
    "\n",
    "# Save a smaller projection of our original (large) dataset to work with\n",
    "df_flights_2018_clean = df_flights_2018[keeper_columns].copy() # IS .COPY() METHOD REDUNDANT HERE?\n",
    "\n",
    "# DepDelay is our target column for prediction. Let's rename that as dep_min_delay for readability.\n",
    "df_flights_2018_clean.rename(columns={\"DepDelayMinutes\": \"dep_min_delay\"}, inplace=True)\n",
    "\n",
    "# CRSDepTime and DepTimeBlk are unclear. Let's rename those for readability.\n",
    "df_flights_2018_clean.rename(columns={\"CRSDepTime\": \"schedule_dep_time\", \n",
    "                                      \"DepTimeBlk\": \"scheduled_dep_block\"}, inplace=True)\n",
    "\n",
    "# Convert the type of our target value - dep_min_delay - to int and round it\n",
    "df_flights_2018_clean[\"dep_min_delay\"] = df_flights_2018_clean[\"dep_min_delay\"].round().astype(int)\n",
    "\n",
    "# Convert Distance column to int \n",
    "df_flights_2018_clean[\"Distance\"] = df_flights_2018_clean[\"Distance\"].astype(int)\n",
    "\n",
    "# Adjusting our date time fields (year, month, day)\n",
    "# Handling datetime data (if applicable)\n",
    "df_flights_2018_clean['Year'] = df_flights_2018_clean['FlightDate'].dt.year # IT SEEMS LIKE WE WOULD NOT NEED THIS AS \n",
    "# ALL DATA IS IN THE SAME YEAR - 2018\n",
    "df_flights_2018_clean['Month'] = df_flights_2018_clean['FlightDate'].dt.month\n",
    "df_flights_2018_clean['Day'] = df_flights_2018_clean['FlightDate'].dt.day"
   ]
  },
  {
   "cell_type": "code",
   "execution_count": 6,
   "id": "aed6f8bd",
   "metadata": {
    "execution": {
     "iopub.execute_input": "2023-08-06T23:16:38.188920Z",
     "iopub.status.busy": "2023-08-06T23:16:38.188464Z",
     "iopub.status.idle": "2023-08-06T23:16:38.193641Z",
     "shell.execute_reply": "2023-08-06T23:16:38.192717Z"
    },
    "papermill": {
     "duration": 0.025693,
     "end_time": "2023-08-06T23:16:38.195898",
     "exception": false,
     "start_time": "2023-08-06T23:16:38.170205",
     "status": "completed"
    },
    "tags": []
   },
   "outputs": [],
   "source": [
    "# To save memory we now delete our original dataset\n",
    "# del df_flights_2018\n",
    "# gc.collect()"
   ]
  },
  {
   "cell_type": "code",
   "execution_count": 7,
   "id": "98940e78",
   "metadata": {
    "execution": {
     "iopub.execute_input": "2023-08-06T23:16:38.230944Z",
     "iopub.status.busy": "2023-08-06T23:16:38.230107Z",
     "iopub.status.idle": "2023-08-06T23:16:38.247929Z",
     "shell.execute_reply": "2023-08-06T23:16:38.246565Z"
    },
    "papermill": {
     "duration": 0.038107,
     "end_time": "2023-08-06T23:16:38.250641",
     "exception": false,
     "start_time": "2023-08-06T23:16:38.212534",
     "status": "completed"
    },
    "tags": []
   },
   "outputs": [
    {
     "data": {
      "text/html": [
       "<div>\n",
       "<style scoped>\n",
       "    .dataframe tbody tr th:only-of-type {\n",
       "        vertical-align: middle;\n",
       "    }\n",
       "\n",
       "    .dataframe tbody tr th {\n",
       "        vertical-align: top;\n",
       "    }\n",
       "\n",
       "    .dataframe thead th {\n",
       "        text-align: right;\n",
       "    }\n",
       "</style>\n",
       "<table border=\"1\" class=\"dataframe\">\n",
       "  <thead>\n",
       "    <tr style=\"text-align: right;\">\n",
       "      <th></th>\n",
       "      <th>Quarter</th>\n",
       "      <th>DayOfWeek</th>\n",
       "      <th>FlightDate</th>\n",
       "      <th>Airline</th>\n",
       "      <th>Origin</th>\n",
       "      <th>OriginState</th>\n",
       "      <th>Dest</th>\n",
       "      <th>DestState</th>\n",
       "      <th>schedule_dep_time</th>\n",
       "      <th>Distance</th>\n",
       "      <th>dep_min_delay</th>\n",
       "      <th>Year</th>\n",
       "      <th>Month</th>\n",
       "      <th>Day</th>\n",
       "    </tr>\n",
       "  </thead>\n",
       "  <tbody>\n",
       "    <tr>\n",
       "      <th>0</th>\n",
       "      <td>1</td>\n",
       "      <td>2</td>\n",
       "      <td>2018-01-23</td>\n",
       "      <td>Endeavor Air Inc.</td>\n",
       "      <td>ABY</td>\n",
       "      <td>GA</td>\n",
       "      <td>ATL</td>\n",
       "      <td>GA</td>\n",
       "      <td>1202</td>\n",
       "      <td>145</td>\n",
       "      <td>0</td>\n",
       "      <td>2018</td>\n",
       "      <td>1</td>\n",
       "      <td>23</td>\n",
       "    </tr>\n",
       "    <tr>\n",
       "      <th>1</th>\n",
       "      <td>1</td>\n",
       "      <td>3</td>\n",
       "      <td>2018-01-24</td>\n",
       "      <td>Endeavor Air Inc.</td>\n",
       "      <td>ABY</td>\n",
       "      <td>GA</td>\n",
       "      <td>ATL</td>\n",
       "      <td>GA</td>\n",
       "      <td>1202</td>\n",
       "      <td>145</td>\n",
       "      <td>0</td>\n",
       "      <td>2018</td>\n",
       "      <td>1</td>\n",
       "      <td>24</td>\n",
       "    </tr>\n",
       "    <tr>\n",
       "      <th>2</th>\n",
       "      <td>1</td>\n",
       "      <td>4</td>\n",
       "      <td>2018-01-25</td>\n",
       "      <td>Endeavor Air Inc.</td>\n",
       "      <td>ABY</td>\n",
       "      <td>GA</td>\n",
       "      <td>ATL</td>\n",
       "      <td>GA</td>\n",
       "      <td>1202</td>\n",
       "      <td>145</td>\n",
       "      <td>0</td>\n",
       "      <td>2018</td>\n",
       "      <td>1</td>\n",
       "      <td>25</td>\n",
       "    </tr>\n",
       "    <tr>\n",
       "      <th>3</th>\n",
       "      <td>1</td>\n",
       "      <td>5</td>\n",
       "      <td>2018-01-26</td>\n",
       "      <td>Endeavor Air Inc.</td>\n",
       "      <td>ABY</td>\n",
       "      <td>GA</td>\n",
       "      <td>ATL</td>\n",
       "      <td>GA</td>\n",
       "      <td>1202</td>\n",
       "      <td>145</td>\n",
       "      <td>0</td>\n",
       "      <td>2018</td>\n",
       "      <td>1</td>\n",
       "      <td>26</td>\n",
       "    </tr>\n",
       "    <tr>\n",
       "      <th>4</th>\n",
       "      <td>1</td>\n",
       "      <td>6</td>\n",
       "      <td>2018-01-27</td>\n",
       "      <td>Endeavor Air Inc.</td>\n",
       "      <td>ABY</td>\n",
       "      <td>GA</td>\n",
       "      <td>ATL</td>\n",
       "      <td>GA</td>\n",
       "      <td>1400</td>\n",
       "      <td>145</td>\n",
       "      <td>0</td>\n",
       "      <td>2018</td>\n",
       "      <td>1</td>\n",
       "      <td>27</td>\n",
       "    </tr>\n",
       "  </tbody>\n",
       "</table>\n",
       "</div>"
      ],
      "text/plain": [
       "   Quarter  DayOfWeek FlightDate            Airline Origin OriginState Dest  \\\n",
       "0        1          2 2018-01-23  Endeavor Air Inc.    ABY          GA  ATL   \n",
       "1        1          3 2018-01-24  Endeavor Air Inc.    ABY          GA  ATL   \n",
       "2        1          4 2018-01-25  Endeavor Air Inc.    ABY          GA  ATL   \n",
       "3        1          5 2018-01-26  Endeavor Air Inc.    ABY          GA  ATL   \n",
       "4        1          6 2018-01-27  Endeavor Air Inc.    ABY          GA  ATL   \n",
       "\n",
       "  DestState  schedule_dep_time  Distance  dep_min_delay  Year  Month  Day  \n",
       "0        GA               1202       145              0  2018      1   23  \n",
       "1        GA               1202       145              0  2018      1   24  \n",
       "2        GA               1202       145              0  2018      1   25  \n",
       "3        GA               1202       145              0  2018      1   26  \n",
       "4        GA               1400       145              0  2018      1   27  "
      ]
     },
     "execution_count": 7,
     "metadata": {},
     "output_type": "execute_result"
    }
   ],
   "source": [
    "# Visualize our DataFrame to ensure all operations were a success\n",
    "\n",
    "df_flights_2018_clean.head()"
   ]
  },
  {
   "cell_type": "code",
   "execution_count": 8,
   "id": "62d838ed",
   "metadata": {
    "execution": {
     "iopub.execute_input": "2023-08-06T23:16:38.285177Z",
     "iopub.status.busy": "2023-08-06T23:16:38.284756Z",
     "iopub.status.idle": "2023-08-06T23:16:38.297827Z",
     "shell.execute_reply": "2023-08-06T23:16:38.296559Z"
    },
    "papermill": {
     "duration": 0.033812,
     "end_time": "2023-08-06T23:16:38.300881",
     "exception": false,
     "start_time": "2023-08-06T23:16:38.267069",
     "status": "completed"
    },
    "tags": []
   },
   "outputs": [
    {
     "name": "stdout",
     "output_type": "stream",
     "text": [
      "<class 'pandas.core.frame.DataFrame'>\n",
      "Int64Index: 5578618 entries, 0 to 5689511\n",
      "Data columns (total 14 columns):\n",
      " #   Column             Dtype         \n",
      "---  ------             -----         \n",
      " 0   Quarter            int64         \n",
      " 1   DayOfWeek          int64         \n",
      " 2   FlightDate         datetime64[ns]\n",
      " 3   Airline            object        \n",
      " 4   Origin             object        \n",
      " 5   OriginState        object        \n",
      " 6   Dest               object        \n",
      " 7   DestState          object        \n",
      " 8   schedule_dep_time  int64         \n",
      " 9   Distance           int64         \n",
      " 10  dep_min_delay      int64         \n",
      " 11  Year               int64         \n",
      " 12  Month              int64         \n",
      " 13  Day                int64         \n",
      "dtypes: datetime64[ns](1), int64(8), object(5)\n",
      "memory usage: 638.4+ MB\n"
     ]
    }
   ],
   "source": [
    "df_flights_2018_clean.info()"
   ]
  },
  {
   "cell_type": "code",
   "execution_count": 9,
   "id": "4dafffad",
   "metadata": {
    "execution": {
     "iopub.execute_input": "2023-08-06T23:16:38.337333Z",
     "iopub.status.busy": "2023-08-06T23:16:38.336695Z",
     "iopub.status.idle": "2023-08-06T23:16:38.342614Z",
     "shell.execute_reply": "2023-08-06T23:16:38.341403Z"
    },
    "papermill": {
     "duration": 0.027064,
     "end_time": "2023-08-06T23:16:38.345060",
     "exception": false,
     "start_time": "2023-08-06T23:16:38.317996",
     "status": "completed"
    },
    "tags": []
   },
   "outputs": [
    {
     "name": "stdout",
     "output_type": "stream",
     "text": [
      "At this point, our dataset still contains this many observations: 5578618\n"
     ]
    }
   ],
   "source": [
    "# Despite our previous efforts to reduce the absolute size of our data, like prioritizing data from 2018,\n",
    "# our dataframe is still very large. \n",
    "\n",
    "original_length = len(df_flights_2018_clean) # variable used later for printing\n",
    "print(\"At this point, our dataset still contains this many observations: \" + str(len(df_flights_2018_clean)))"
   ]
  },
  {
   "cell_type": "code",
   "execution_count": 10,
   "id": "dcbff1a7",
   "metadata": {
    "execution": {
     "iopub.execute_input": "2023-08-06T23:16:38.385500Z",
     "iopub.status.busy": "2023-08-06T23:16:38.384775Z",
     "iopub.status.idle": "2023-08-06T23:16:39.348955Z",
     "shell.execute_reply": "2023-08-06T23:16:39.347285Z"
    },
    "papermill": {
     "duration": 0.989465,
     "end_time": "2023-08-06T23:16:39.351467",
     "exception": false,
     "start_time": "2023-08-06T23:16:38.362002",
     "status": "completed"
    },
    "tags": []
   },
   "outputs": [
    {
     "name": "stdout",
     "output_type": "stream",
     "text": [
      "ORD    282770\n",
      "DEN    249288\n",
      "ATL    221242\n",
      "LAX    181472\n",
      "IAH    161187\n",
      "SFO    154833\n",
      "EWR    145580\n",
      "LAS    143054\n",
      "SEA    130912\n",
      "DFW    129181\n",
      "PHX    117148\n",
      "MCO    115943\n",
      "BOS    112322\n",
      "CLT    109738\n",
      "DTW     98097\n",
      "LGA     95210\n",
      "BWI     95197\n",
      "MSP     88652\n",
      "FLL     86451\n",
      "IAD     84340\n",
      "Name: Origin, dtype: int64\n"
     ]
    }
   ],
   "source": [
    "# That's a lot of rows! So, before we start our ML modeling, we need to reduce the dataset even further. \n",
    "# It seems reasonable to try to trim down the airports, both as origins and destinations, because this \n",
    "# will take a large number of additional columns (and thus a lot of extra memory) to achieve \n",
    "# one-hot encoding.\n",
    "\n",
    "# Calculate the top 20 most popular airports for departures\n",
    "origin_counts = df_flights_2018_clean['Origin'].value_counts()\n",
    "top_origins = origin_counts.head(20)\n",
    "print(top_origins) # top_origins is of type 'Series' here"
   ]
  },
  {
   "cell_type": "code",
   "execution_count": 11,
   "id": "fdfd2083",
   "metadata": {
    "execution": {
     "iopub.execute_input": "2023-08-06T23:16:39.388556Z",
     "iopub.status.busy": "2023-08-06T23:16:39.387312Z",
     "iopub.status.idle": "2023-08-06T23:16:40.339196Z",
     "shell.execute_reply": "2023-08-06T23:16:40.337696Z"
    },
    "papermill": {
     "duration": 0.973819,
     "end_time": "2023-08-06T23:16:40.342068",
     "exception": false,
     "start_time": "2023-08-06T23:16:39.368249",
     "status": "completed"
    },
    "tags": []
   },
   "outputs": [
    {
     "name": "stdout",
     "output_type": "stream",
     "text": [
      "ORD    282130\n",
      "DEN    248875\n",
      "ATL    221544\n",
      "LAX    181687\n",
      "IAH    160930\n",
      "SFO    154863\n",
      "EWR    145303\n",
      "LAS    143180\n",
      "SEA    130771\n",
      "DFW    128629\n",
      "PHX    116948\n",
      "MCO    115777\n",
      "BOS    112434\n",
      "CLT    109519\n",
      "DTW     98349\n",
      "BWI     95016\n",
      "LGA     95002\n",
      "MSP     88739\n",
      "FLL     86389\n",
      "IAD     84278\n",
      "Name: Dest, dtype: int64\n"
     ]
    }
   ],
   "source": [
    "# Calculate the top 20 most popular airports for arrivals\n",
    "\n",
    "dest_counts = df_flights_2018_clean['Dest'].value_counts()\n",
    "top_dest = dest_counts.head(20)\n",
    "print(top_dest) # top_dest is of type 'Series' here"
   ]
  },
  {
   "cell_type": "code",
   "execution_count": 12,
   "id": "e4c3bc16",
   "metadata": {
    "execution": {
     "iopub.execute_input": "2023-08-06T23:16:40.377419Z",
     "iopub.status.busy": "2023-08-06T23:16:40.377007Z",
     "iopub.status.idle": "2023-08-06T23:16:40.386385Z",
     "shell.execute_reply": "2023-08-06T23:16:40.385174Z"
    },
    "papermill": {
     "duration": 0.030387,
     "end_time": "2023-08-06T23:16:40.389250",
     "exception": false,
     "start_time": "2023-08-06T23:16:40.358863",
     "status": "completed"
    },
    "tags": []
   },
   "outputs": [
    {
     "name": "stdout",
     "output_type": "stream",
     "text": [
      "There are 0 different values between the top 20 destination and arrival airports.\n",
      "Wow, it actually looks like the lists are exactly the same, even their order!\n"
     ]
    }
   ],
   "source": [
    "# Now that we have our most popular destination and arrival airports, how many unique values are \n",
    "# represented between these 2 lists?\n",
    "\n",
    "different_values = len(set(list(top_origins.reset_index()['index'])) ^ set(list(top_dest.reset_index()['index'])))\n",
    "\n",
    "print(\"There are \" + str(different_values) + \" different values between the top 20 destination and arrival airports.\")\n",
    "print(\"Wow, it actually looks like the lists are exactly the same, even their order!\")"
   ]
  },
  {
   "cell_type": "code",
   "execution_count": 13,
   "id": "1d344fc4",
   "metadata": {
    "execution": {
     "iopub.execute_input": "2023-08-06T23:16:40.425364Z",
     "iopub.status.busy": "2023-08-06T23:16:40.424965Z",
     "iopub.status.idle": "2023-08-06T23:16:41.829396Z",
     "shell.execute_reply": "2023-08-06T23:16:41.828103Z"
    },
    "papermill": {
     "duration": 1.426086,
     "end_time": "2023-08-06T23:16:41.832664",
     "exception": false,
     "start_time": "2023-08-06T23:16:40.406578",
     "status": "completed"
    },
    "tags": []
   },
   "outputs": [
    {
     "name": "stdout",
     "output_type": "stream",
     "text": [
      "Our original dataset had this many observations: 5578618\n",
      "After filtering on origin airports, it's now: 2802617\n",
      "After filtering on destination airports, it's now: 1113556\n",
      "\n",
      "Wow, we reduced our dataset by around 80.04 percent!\n"
     ]
    }
   ],
   "source": [
    "# Reduce our dataset even further by filtering out any observation whose origin AND destination \n",
    "# is not among the list of most popular airports that we computed above. Then visualize how \n",
    "# many observations were removedfrom our dataset after each step.\n",
    "\n",
    "# First we filter out any observation whose origin airport is not among the most popular airports computed above\n",
    "df_flights_2018_clean_reduced = df_flights_2018_clean[df_flights_2018_clean['Origin'].isin(top_origins.index)]\n",
    "reduced_1 = len(df_flights_2018_clean_reduced)\n",
    "\n",
    "# Next we filter out any observation whose destination airport is not among the most popular airports computed above\n",
    "df_flights_2018_clean_reduced = df_flights_2018_clean_reduced[df_flights_2018_clean_reduced['Dest'].isin(top_dest.index)]\n",
    "reduced_2 = len(df_flights_2018_clean_reduced)\n",
    "\n",
    "# Display results \n",
    "print(\"Our original dataset had this many observations: \" + str(original_length)) # original is 5.5 million rows\n",
    "print(\"After filtering on origin airports, it's now: \" \n",
    "      + str(reduced_1)) # after filtering origin 2.8 million rows\n",
    "print(\"After filtering on destination airports, it's now: \" \n",
    "      + str(reduced_2)) # now 1.1 million rows\n",
    "print(\"\\nWow, we reduced our dataset by around \" + str(round(100 *(1 - (reduced_2/original_length)), 2)) + \" percent!\")"
   ]
  },
  {
   "cell_type": "markdown",
   "id": "b9419229",
   "metadata": {
    "papermill": {
     "duration": 0.016883,
     "end_time": "2023-08-06T23:16:41.866672",
     "exception": false,
     "start_time": "2023-08-06T23:16:41.849789",
     "status": "completed"
    },
    "tags": []
   },
   "source": [
    "### Section 3: Exploratory Data Analysis (EDA)"
   ]
  },
  {
   "cell_type": "code",
   "execution_count": 14,
   "id": "89f670fa",
   "metadata": {
    "execution": {
     "iopub.execute_input": "2023-08-06T23:16:41.902947Z",
     "iopub.status.busy": "2023-08-06T23:16:41.902515Z",
     "iopub.status.idle": "2023-08-06T23:16:42.199416Z",
     "shell.execute_reply": "2023-08-06T23:16:42.198173Z"
    },
    "papermill": {
     "duration": 0.318144,
     "end_time": "2023-08-06T23:16:42.202029",
     "exception": false,
     "start_time": "2023-08-06T23:16:41.883885",
     "status": "completed"
    },
    "tags": []
   },
   "outputs": [
    {
     "name": "stdout",
     "output_type": "stream",
     "text": [
      "Unique values in Airline column: 22\n",
      "\n",
      "Unique states in OriginState column: 17\n",
      "\n",
      "Unique states in DestState column: 17\n"
     ]
    }
   ],
   "source": [
    "# Now we want to make sure we haven't biased our data in some way by filtering as we have. Let's \n",
    "# verify a few statistics about our new working dataset to ensure we still have enough variety.\n",
    "\n",
    "# How many airlines are represented in our now filtered DataFrame\n",
    "print(\"Unique values in Airline column:\", df_flights_2018_clean_reduced['Airline'].nunique())\n",
    "#Ok, we still have 22 different airlines represented. This is good.\n",
    "\n",
    "# How many different states appear among our departure airports\n",
    "print(\"\\nUnique states in OriginState column:\", df_flights_2018_clean_reduced['OriginState'].nunique())\n",
    "\n",
    "# How many different states appear among our arrival airports\n",
    "print(\"\\nUnique states in DestState column:\", df_flights_2018_clean_reduced['OriginState'].nunique())"
   ]
  },
  {
   "cell_type": "code",
   "execution_count": 15,
   "id": "b301fe63",
   "metadata": {
    "execution": {
     "iopub.execute_input": "2023-08-06T23:16:42.240163Z",
     "iopub.status.busy": "2023-08-06T23:16:42.239452Z",
     "iopub.status.idle": "2023-08-06T23:16:42.916672Z",
     "shell.execute_reply": "2023-08-06T23:16:42.915544Z"
    },
    "papermill": {
     "duration": 0.699452,
     "end_time": "2023-08-06T23:16:42.919663",
     "exception": false,
     "start_time": "2023-08-06T23:16:42.220211",
     "status": "completed"
    },
    "tags": []
   },
   "outputs": [
    {
     "data": {
      "text/plain": [
       "<Figure size 800x600 with 0 Axes>"
      ]
     },
     "execution_count": 15,
     "metadata": {},
     "output_type": "execute_result"
    },
    {
     "data": {
      "image/png": "[encoded data removed]",
      "text/plain": [
       "<Figure size 640x480 with 1 Axes>"
      ]
     },
     "metadata": {},
     "output_type": "display_data"
    },
    {
     "data": {
      "text/plain": [
       "<Figure size 800x600 with 0 Axes>"
      ]
     },
     "metadata": {},
     "output_type": "display_data"
    }
   ],
   "source": [
    "# We feel that the values printed by the above cell are going to be a wide enough sample to \n",
    "# give us reliable results from our ML models. Now, let's explore our data a little bit.\n",
    "# Firstly, let's visualize our states to see where the bulk of our data is coming from.\n",
    "\n",
    "# Visualize most popular departure states\n",
    "temp_df = df_flights_2018_clean_reduced['OriginState'].value_counts().reset_index()\n",
    "\n",
    "plt.bar(temp_df['index'], temp_df['OriginState'], width=0.8, align='center')\n",
    "plt.xlabel(\"Departure State\")\n",
    "plt.ylabel(\"Number of Flights\")\n",
    "plt.title(\"Number of Departing Flights by State in Our Working Dataset\")\n",
    "plt.figure(figsize=(8,6))\n",
    "\n"
   ]
  },
  {
   "cell_type": "code",
   "execution_count": 16,
   "id": "0b9b55aa",
   "metadata": {
    "execution": {
     "iopub.execute_input": "2023-08-06T23:16:42.958908Z",
     "iopub.status.busy": "2023-08-06T23:16:42.958455Z",
     "iopub.status.idle": "2023-08-06T23:16:43.609482Z",
     "shell.execute_reply": "2023-08-06T23:16:43.608113Z"
    },
    "papermill": {
     "duration": 0.674042,
     "end_time": "2023-08-06T23:16:43.612117",
     "exception": false,
     "start_time": "2023-08-06T23:16:42.938075",
     "status": "completed"
    },
    "tags": []
   },
   "outputs": [
    {
     "data": {
      "text/plain": [
       "<Figure size 800x600 with 0 Axes>"
      ]
     },
     "execution_count": 16,
     "metadata": {},
     "output_type": "execute_result"
    },
    {
     "data": {
      "image/png": "[encoded data removed]",
      "text/plain": [
       "<Figure size 640x480 with 1 Axes>"
      ]
     },
     "metadata": {},
     "output_type": "display_data"
    },
    {
     "data": {
      "text/plain": [
       "<Figure size 800x600 with 0 Axes>"
      ]
     },
     "metadata": {},
     "output_type": "display_data"
    }
   ],
   "source": [
    "# Visualize most popular destination states\n",
    "temp_df2 = df_flights_2018_clean_reduced['DestState'].value_counts().reset_index()\n",
    "\n",
    "plt.bar(temp_df2['index'], temp_df2['DestState'], width=0.8, align='center')\n",
    "plt.xlabel(\"Arrival State\")\n",
    "plt.ylabel(\"Number of Flights\")\n",
    "plt.title(\"Number of Arrival Flights by State in Our Working Dataset\")\n",
    "plt.figure(figsize=(8,6))"
   ]
  },
  {
   "cell_type": "code",
   "execution_count": 17,
   "id": "32a36885",
   "metadata": {
    "execution": {
     "iopub.execute_input": "2023-08-06T23:16:43.653032Z",
     "iopub.status.busy": "2023-08-06T23:16:43.652583Z",
     "iopub.status.idle": "2023-08-06T23:16:43.657442Z",
     "shell.execute_reply": "2023-08-06T23:16:43.656174Z"
    },
    "papermill": {
     "duration": 0.028888,
     "end_time": "2023-08-06T23:16:43.659909",
     "exception": false,
     "start_time": "2023-08-06T23:16:43.631021",
     "status": "completed"
    },
    "tags": []
   },
   "outputs": [],
   "source": [
    "# Visually, we can see that there are not 20 states in the above lists. That means that there are \n",
    "# multiple most popular airports in a single state as per the 'Pigeonhole Principle.' Yes, we did\n",
    "# pay attention in Math Foundations 5920!"
   ]
  },
  {
   "cell_type": "code",
   "execution_count": 18,
   "id": "055fd0b3",
   "metadata": {
    "execution": {
     "iopub.execute_input": "2023-08-06T23:16:43.700330Z",
     "iopub.status.busy": "2023-08-06T23:16:43.699920Z",
     "iopub.status.idle": "2023-08-06T23:16:43.819116Z",
     "shell.execute_reply": "2023-08-06T23:16:43.817480Z"
    },
    "papermill": {
     "duration": 0.143129,
     "end_time": "2023-08-06T23:16:43.822265",
     "exception": false,
     "start_time": "2023-08-06T23:16:43.679136",
     "status": "completed"
    },
    "tags": []
   },
   "outputs": [
    {
     "name": "stdout",
     "output_type": "stream",
     "text": [
      "Origin\n",
      "EWR    17.931341\n",
      "BOS    16.314066\n",
      "DFW    16.153983\n",
      "MCO    15.949080\n",
      "LGA    15.807175\n",
      "ORD    15.750035\n",
      "FLL    14.669313\n",
      "DEN    13.960658\n",
      "BWI    13.850032\n",
      "SFO    13.765634\n",
      "IAD    13.574876\n",
      "LAS    13.236586\n",
      "CLT    13.141245\n",
      "IAH    12.873830\n",
      "PHX    12.770934\n",
      "ATL    12.721729\n",
      "DTW    11.548905\n",
      "SEA    11.321615\n",
      "LAX    11.310037\n",
      "MSP    11.278221\n",
      "Name: dep_min_delay, dtype: float64\n"
     ]
    }
   ],
   "source": [
    "#Now let's see which airports have the most departure delays\n",
    "\n",
    "#group by Origin and we want the dep_min_delay to get an average for all flights coming out of that airport\n",
    "airport_delays = df_flights_2018_clean_reduced.groupby('Origin')['dep_min_delay'].mean()\n",
    "#now we sort by descending value\n",
    "airport_delays_sorted = airport_delays.sort_values(ascending=False)\n",
    "print(airport_delays_sorted.head(20))\n",
    "\n",
    "#Interesting. So EWR (Newark) has the worst average delay with 14.7 minutes, then Dallas is second with 13.3 mins of delay. \n",
    "#Seattle is the best of our major airports with only 8.03 mins of average delay."
   ]
  },
  {
   "cell_type": "code",
   "execution_count": 19,
   "id": "a3aa5dc9",
   "metadata": {
    "execution": {
     "iopub.execute_input": "2023-08-06T23:16:43.863365Z",
     "iopub.status.busy": "2023-08-06T23:16:43.862901Z",
     "iopub.status.idle": "2023-08-06T23:16:44.089332Z",
     "shell.execute_reply": "2023-08-06T23:16:44.088204Z"
    },
    "papermill": {
     "duration": 0.249506,
     "end_time": "2023-08-06T23:16:44.091839",
     "exception": false,
     "start_time": "2023-08-06T23:16:43.842333",
     "status": "completed"
    },
    "tags": []
   },
   "outputs": [
    {
     "name": "stdout",
     "output_type": "stream",
     "text": [
      "Airline\n",
      "Commutair Aka Champlain Enterprises, Inc.    33.449130\n",
      "JetBlue Airways                              29.137893\n",
      "GoJet Airlines, LLC d/b/a United Express     24.712707\n",
      "SkyWest Airlines Inc.                        23.080597\n",
      "United Air Lines Inc.                        17.828883\n",
      "Endeavor Air Inc.                            17.422907\n",
      "Spirit Air Lines                             17.165151\n",
      "ExpressJet Airlines Inc.                     16.217718\n",
      "Southwest Airlines Co.                       15.275273\n",
      "Delta Air Lines Inc.                         13.630078\n",
      "Alaska Airlines Inc.                         13.369603\n",
      "Virgin America                               12.693204\n",
      "American Airlines Inc.                       12.576264\n",
      "Republic Airlines                            11.540554\n",
      "Envoy Air                                     9.394737\n",
      "Name: dep_min_delay, dtype: float64\n"
     ]
    }
   ],
   "source": [
    "#let's dig into the Newark data more to find out why the delays are so bad.\n",
    "#which airlines at Newark have the worst delays?\n",
    "#get the flights only from Newark\n",
    "flights_from_EWR = df_flights_2018_clean_reduced[df_flights_2018_clean_reduced['Origin'] == 'EWR']\n",
    "\n",
    "#groupby airline and rank the average delay\n",
    "EWR_delays = flights_from_EWR.groupby('Airline')['dep_min_delay'].mean()\n",
    "print(EWR_delays.sort_values(ascending=False))\n",
    "\n",
    "#Wow! Hopefully you're not flying Commutiar or JetBlue anytime soon out of Newark!"
   ]
  },
  {
   "cell_type": "markdown",
   "id": "4014605e",
   "metadata": {
    "papermill": {
     "duration": 0.01904,
     "end_time": "2023-08-06T23:16:44.129997",
     "exception": false,
     "start_time": "2023-08-06T23:16:44.110957",
     "status": "completed"
    },
    "tags": []
   },
   "source": [
    "### Section 4: Prep for modeling"
   ]
  },
  {
   "cell_type": "code",
   "execution_count": 20,
   "id": "349d4f7d",
   "metadata": {
    "execution": {
     "iopub.execute_input": "2023-08-06T23:16:44.170593Z",
     "iopub.status.busy": "2023-08-06T23:16:44.169579Z",
     "iopub.status.idle": "2023-08-06T23:16:46.039537Z",
     "shell.execute_reply": "2023-08-06T23:16:46.037942Z"
    },
    "papermill": {
     "duration": 1.8932,
     "end_time": "2023-08-06T23:16:46.042359",
     "exception": false,
     "start_time": "2023-08-06T23:16:44.149159",
     "status": "completed"
    },
    "tags": []
   },
   "outputs": [
    {
     "name": "stdout",
     "output_type": "stream",
     "text": [
      "     Quarter  DayOfWeek FlightDate            Airline Origin OriginState Dest  \\\n",
      "305        1          1 2018-01-01  Endeavor Air Inc.    ATL          GA  IAH   \n",
      "365        1          2 2018-01-02  Endeavor Air Inc.    DTW          MI  DFW   \n",
      "399        1          2 2018-01-02  Endeavor Air Inc.    DTW          MI  LGA   \n",
      "452        1          3 2018-01-10  Endeavor Air Inc.    DTW          MI  IAD   \n",
      "453        1          3 2018-01-10  Endeavor Air Inc.    IAD          VA  DTW   \n",
      "\n",
      "    DestState  schedule_dep_time  Distance  dep_min_delay  Year  Month  Day  \n",
      "305        TX               1151       689            141  2018      1    1  \n",
      "365        TX               1540       986              7  2018      1    2  \n",
      "399        NY               1733       502             14  2018      1    2  \n",
      "452        VA                720       383              0  2018      1   10  \n",
      "453        MI                944       383              2  2018      1   10  \n",
      "<class 'pandas.core.frame.DataFrame'>\n",
      "Int64Index: 1113556 entries, 305 to 5689396\n",
      "Data columns (total 14 columns):\n",
      " #   Column             Non-Null Count    Dtype         \n",
      "---  ------             --------------    -----         \n",
      " 0   Quarter            1113556 non-null  int64         \n",
      " 1   DayOfWeek          1113556 non-null  int64         \n",
      " 2   FlightDate         1113556 non-null  datetime64[ns]\n",
      " 3   Airline            1113556 non-null  object        \n",
      " 4   Origin             1113556 non-null  object        \n",
      " 5   OriginState        1113556 non-null  object        \n",
      " 6   Dest               1113556 non-null  object        \n",
      " 7   DestState          1113556 non-null  object        \n",
      " 8   schedule_dep_time  1113556 non-null  int64         \n",
      " 9   Distance           1113556 non-null  int64         \n",
      " 10  dep_min_delay      1113556 non-null  int64         \n",
      " 11  Year               1113556 non-null  int64         \n",
      " 12  Month              1113556 non-null  int64         \n",
      " 13  Day                1113556 non-null  int64         \n",
      "dtypes: datetime64[ns](1), int64(8), object(5)\n",
      "memory usage: 127.4+ MB\n",
      "None\n"
     ]
    }
   ],
   "source": [
    "#First lets remind ourselves what our current dataset looks like\n",
    "print(df_flights_2018_clean_reduced.head())\n",
    "print(df_flights_2018_clean_reduced.info())"
   ]
  },
  {
   "cell_type": "code",
   "execution_count": 21,
   "id": "1e84ffb0",
   "metadata": {
    "execution": {
     "iopub.execute_input": "2023-08-06T23:16:46.085599Z",
     "iopub.status.busy": "2023-08-06T23:16:46.084964Z",
     "iopub.status.idle": "2023-08-06T23:16:49.426876Z",
     "shell.execute_reply": "2023-08-06T23:16:49.425446Z"
    },
    "papermill": {
     "duration": 3.367349,
     "end_time": "2023-08-06T23:16:49.429762",
     "exception": false,
     "start_time": "2023-08-06T23:16:46.062413",
     "status": "completed"
    },
    "tags": []
   },
   "outputs": [
    {
     "name": "stderr",
     "output_type": "stream",
     "text": [
      "/opt/conda/lib/python3.10/site-packages/scipy/__init__.py:146: UserWarning: A NumPy version >=1.16.5 and <1.23.0 is required for this version of SciPy (detected version 1.23.5\n",
      "  warnings.warn(f\"A NumPy version >={np_minversion} and <{np_maxversion}\"\n"
     ]
    }
   ],
   "source": [
    "from sklearn.model_selection import train_test_split\n",
    "from sklearn.metrics import mean_squared_error, r2_score\n",
    "from sklearn.preprocessing import OneHotEncoder\n",
    "\n",
    "#One hot encoding before modeling\n",
    "#In order to effectively model, we need to one-hot-encode five values:\n",
    "#\"Airline\" (22 values)\n",
    "#\"Origin\" (20 values)\n",
    "#\"OriginState\" (20 values)\n",
    "#\"Dest\"(17 values)\n",
    "#\"DestState\" (17 values)\n",
    "\n",
    "#4.1 encode \"Airline\"\n",
    "#create an encoder instance\n",
    "encoder = OneHotEncoder(drop='first', sparse_output=False)\n",
    "#reshape the column \n",
    "airline_data = df_flights_2018_clean_reduced[['Airline']]\n",
    "airline_data_reshaped = airline_data.values.reshape(-1, 1)\n",
    "#encode with fit_transform\n",
    "encoded_airline = pd.DataFrame(encoder.fit_transform(airline_data_reshaped), columns=encoder.get_feature_names_out(['Airline']))\n",
    "#concatenate bback with originl\n",
    "df_flights_2018_encoded = pd.concat([df_flights_2018_clean_reduced, encoded_airline], axis=1)\n",
    "#drop the original airline column\n",
    "df_flights_2018_encoded.drop(columns=['Airline'], inplace=True)\n",
    "\n",
    "#we also need to drop the datetime column\n",
    "df_flights_2018_encoded.drop(columns=['FlightDate'], inplace=True)"
   ]
  },
  {
   "cell_type": "code",
   "execution_count": 22,
   "id": "59faaba0",
   "metadata": {
    "execution": {
     "iopub.execute_input": "2023-08-06T23:16:49.474178Z",
     "iopub.status.busy": "2023-08-06T23:16:49.473439Z",
     "iopub.status.idle": "2023-08-06T23:16:49.501869Z",
     "shell.execute_reply": "2023-08-06T23:16:49.500543Z"
    },
    "papermill": {
     "duration": 0.053401,
     "end_time": "2023-08-06T23:16:49.504720",
     "exception": false,
     "start_time": "2023-08-06T23:16:49.451319",
     "status": "completed"
    },
    "tags": []
   },
   "outputs": [
    {
     "name": "stdout",
     "output_type": "stream",
     "text": [
      "     Quarter  DayOfWeek Origin OriginState Dest DestState  schedule_dep_time  \\\n",
      "305      1.0        1.0    ATL          GA  IAH        TX             1151.0   \n",
      "365      1.0        2.0    DTW          MI  DFW        TX             1540.0   \n",
      "399      1.0        2.0    DTW          MI  LGA        NY             1733.0   \n",
      "452      1.0        3.0    DTW          MI  IAD        VA              720.0   \n",
      "453      1.0        3.0    IAD          VA  DTW        MI              944.0   \n",
      "\n",
      "     Distance  dep_min_delay    Year  ...  Airline_Horizon Air  \\\n",
      "305     689.0          141.0  2018.0  ...                  0.0   \n",
      "365     986.0            7.0  2018.0  ...                  0.0   \n",
      "399     502.0           14.0  2018.0  ...                  0.0   \n",
      "452     383.0            0.0  2018.0  ...                  0.0   \n",
      "453     383.0            2.0  2018.0  ...                  0.0   \n",
      "\n",
      "     Airline_JetBlue Airways  Airline_Mesa Airlines Inc.  \\\n",
      "305                      1.0                         0.0   \n",
      "365                      1.0                         0.0   \n",
      "399                      1.0                         0.0   \n",
      "452                      1.0                         0.0   \n",
      "453                      1.0                         0.0   \n",
      "\n",
      "     Airline_Republic Airlines  Airline_SkyWest Airlines Inc.  \\\n",
      "305                        0.0                            0.0   \n",
      "365                        0.0                            0.0   \n",
      "399                        0.0                            0.0   \n",
      "452                        0.0                            0.0   \n",
      "453                        0.0                            0.0   \n",
      "\n",
      "     Airline_Southwest Airlines Co.  Airline_Spirit Air Lines  \\\n",
      "305                             0.0                       0.0   \n",
      "365                             0.0                       0.0   \n",
      "399                             0.0                       0.0   \n",
      "452                             0.0                       0.0   \n",
      "453                             0.0                       0.0   \n",
      "\n",
      "     Airline_Trans States Airlines  Airline_United Air Lines Inc.  \\\n",
      "305                            0.0                            0.0   \n",
      "365                            0.0                            0.0   \n",
      "399                            0.0                            0.0   \n",
      "452                            0.0                            0.0   \n",
      "453                            0.0                            0.0   \n",
      "\n",
      "     Airline_Virgin America  \n",
      "305                     0.0  \n",
      "365                     0.0  \n",
      "399                     0.0  \n",
      "452                     0.0  \n",
      "453                     0.0  \n",
      "\n",
      "[5 rows x 33 columns]\n",
      "<class 'pandas.core.frame.DataFrame'>\n",
      "Int64Index: 2007634 entries, 305 to 1113555\n",
      "Data columns (total 33 columns):\n",
      " #   Column                                             Dtype  \n",
      "---  ------                                             -----  \n",
      " 0   Quarter                                            float64\n",
      " 1   DayOfWeek                                          float64\n",
      " 2   Origin                                             object \n",
      " 3   OriginState                                        object \n",
      " 4   Dest                                               object \n",
      " 5   DestState                                          object \n",
      " 6   schedule_dep_time                                  float64\n",
      " 7   Distance                                           float64\n",
      " 8   dep_min_delay                                      float64\n",
      " 9   Year                                               float64\n",
      " 10  Month                                              float64\n",
      " 11  Day                                                float64\n",
      " 12  Airline_Alaska Airlines Inc.                       float64\n",
      " 13  Airline_American Airlines Inc.                     float64\n",
      " 14  Airline_Comair Inc.                                float64\n",
      " 15  Airline_Commutair Aka Champlain Enterprises, Inc.  float64\n",
      " 16  Airline_Compass Airlines                           float64\n",
      " 17  Airline_Delta Air Lines Inc.                       float64\n",
      " 18  Airline_Endeavor Air Inc.                          float64\n",
      " 19  Airline_Envoy Air                                  float64\n",
      " 20  Airline_ExpressJet Airlines Inc.                   float64\n",
      " 21  Airline_Frontier Airlines Inc.                     float64\n",
      " 22  Airline_GoJet Airlines, LLC d/b/a United Express   float64\n",
      " 23  Airline_Horizon Air                                float64\n",
      " 24  Airline_JetBlue Airways                            float64\n",
      " 25  Airline_Mesa Airlines Inc.                         float64\n",
      " 26  Airline_Republic Airlines                          float64\n",
      " 27  Airline_SkyWest Airlines Inc.                      float64\n",
      " 28  Airline_Southwest Airlines Co.                     float64\n",
      " 29  Airline_Spirit Air Lines                           float64\n",
      " 30  Airline_Trans States Airlines                      float64\n",
      " 31  Airline_United Air Lines Inc.                      float64\n",
      " 32  Airline_Virgin America                             float64\n",
      "dtypes: float64(29), object(4)\n",
      "memory usage: 520.8+ MB\n",
      "None\n"
     ]
    }
   ],
   "source": [
    "print(df_flights_2018_encoded.head())\n",
    "print(df_flights_2018_encoded.info())"
   ]
  },
  {
   "cell_type": "code",
   "execution_count": 23,
   "id": "0925733f",
   "metadata": {
    "execution": {
     "iopub.execute_input": "2023-08-06T23:16:49.546855Z",
     "iopub.status.busy": "2023-08-06T23:16:49.546393Z",
     "iopub.status.idle": "2023-08-06T23:16:57.817217Z",
     "shell.execute_reply": "2023-08-06T23:16:57.815033Z"
    },
    "papermill": {
     "duration": 8.29511,
     "end_time": "2023-08-06T23:16:57.820193",
     "exception": false,
     "start_time": "2023-08-06T23:16:49.525083",
     "status": "completed"
    },
    "tags": []
   },
   "outputs": [
    {
     "name": "stdout",
     "output_type": "stream",
     "text": [
      "<class 'pandas.core.frame.DataFrame'>\n",
      "Int64Index: 2007634 entries, 305 to 1113555\n",
      "Data columns (total 99 columns):\n",
      " #   Column                                             Dtype  \n",
      "---  ------                                             -----  \n",
      " 0   Quarter                                            float64\n",
      " 1   DayOfWeek                                          float64\n",
      " 2   schedule_dep_time                                  float64\n",
      " 3   Distance                                           float64\n",
      " 4   dep_min_delay                                      float64\n",
      " 5   Year                                               float64\n",
      " 6   Month                                              float64\n",
      " 7   Day                                                float64\n",
      " 8   Airline_Alaska Airlines Inc.                       float64\n",
      " 9   Airline_American Airlines Inc.                     float64\n",
      " 10  Airline_Comair Inc.                                float64\n",
      " 11  Airline_Commutair Aka Champlain Enterprises, Inc.  float64\n",
      " 12  Airline_Compass Airlines                           float64\n",
      " 13  Airline_Delta Air Lines Inc.                       float64\n",
      " 14  Airline_Endeavor Air Inc.                          float64\n",
      " 15  Airline_Envoy Air                                  float64\n",
      " 16  Airline_ExpressJet Airlines Inc.                   float64\n",
      " 17  Airline_Frontier Airlines Inc.                     float64\n",
      " 18  Airline_GoJet Airlines, LLC d/b/a United Express   float64\n",
      " 19  Airline_Horizon Air                                float64\n",
      " 20  Airline_JetBlue Airways                            float64\n",
      " 21  Airline_Mesa Airlines Inc.                         float64\n",
      " 22  Airline_Republic Airlines                          float64\n",
      " 23  Airline_SkyWest Airlines Inc.                      float64\n",
      " 24  Airline_Southwest Airlines Co.                     float64\n",
      " 25  Airline_Spirit Air Lines                           float64\n",
      " 26  Airline_Trans States Airlines                      float64\n",
      " 27  Airline_United Air Lines Inc.                      float64\n",
      " 28  Airline_Virgin America                             float64\n",
      " 29  Origin_BOS                                         float64\n",
      " 30  Origin_BWI                                         float64\n",
      " 31  Origin_CLT                                         float64\n",
      " 32  Origin_DEN                                         float64\n",
      " 33  Origin_DFW                                         float64\n",
      " 34  Origin_DTW                                         float64\n",
      " 35  Origin_EWR                                         float64\n",
      " 36  Origin_FLL                                         float64\n",
      " 37  Origin_IAD                                         float64\n",
      " 38  Origin_IAH                                         float64\n",
      " 39  Origin_LAS                                         float64\n",
      " 40  Origin_LAX                                         float64\n",
      " 41  Origin_LGA                                         float64\n",
      " 42  Origin_MCO                                         float64\n",
      " 43  Origin_MSP                                         float64\n",
      " 44  Origin_ORD                                         float64\n",
      " 45  Origin_PHX                                         float64\n",
      " 46  Origin_SEA                                         float64\n",
      " 47  Origin_SFO                                         float64\n",
      " 48  OriginState_CA                                     float64\n",
      " 49  OriginState_CO                                     float64\n",
      " 50  OriginState_FL                                     float64\n",
      " 51  OriginState_GA                                     float64\n",
      " 52  OriginState_IL                                     float64\n",
      " 53  OriginState_MA                                     float64\n",
      " 54  OriginState_MD                                     float64\n",
      " 55  OriginState_MI                                     float64\n",
      " 56  OriginState_MN                                     float64\n",
      " 57  OriginState_NC                                     float64\n",
      " 58  OriginState_NJ                                     float64\n",
      " 59  OriginState_NV                                     float64\n",
      " 60  OriginState_NY                                     float64\n",
      " 61  OriginState_TX                                     float64\n",
      " 62  OriginState_VA                                     float64\n",
      " 63  OriginState_WA                                     float64\n",
      " 64  Dest_BOS                                           float64\n",
      " 65  Dest_BWI                                           float64\n",
      " 66  Dest_CLT                                           float64\n",
      " 67  Dest_DEN                                           float64\n",
      " 68  Dest_DFW                                           float64\n",
      " 69  Dest_DTW                                           float64\n",
      " 70  Dest_EWR                                           float64\n",
      " 71  Dest_FLL                                           float64\n",
      " 72  Dest_IAD                                           float64\n",
      " 73  Dest_IAH                                           float64\n",
      " 74  Dest_LAS                                           float64\n",
      " 75  Dest_LAX                                           float64\n",
      " 76  Dest_LGA                                           float64\n",
      " 77  Dest_MCO                                           float64\n",
      " 78  Dest_MSP                                           float64\n",
      " 79  Dest_ORD                                           float64\n",
      " 80  Dest_PHX                                           float64\n",
      " 81  Dest_SEA                                           float64\n",
      " 82  Dest_SFO                                           float64\n",
      " 83  DestState_CA                                       float64\n",
      " 84  DestState_CO                                       float64\n",
      " 85  DestState_FL                                       float64\n",
      " 86  DestState_GA                                       float64\n",
      " 87  DestState_IL                                       float64\n",
      " 88  DestState_MA                                       float64\n",
      " 89  DestState_MD                                       float64\n",
      " 90  DestState_MI                                       float64\n",
      " 91  DestState_MN                                       float64\n",
      " 92  DestState_NC                                       float64\n",
      " 93  DestState_NJ                                       float64\n",
      " 94  DestState_NV                                       float64\n",
      " 95  DestState_NY                                       float64\n",
      " 96  DestState_TX                                       float64\n",
      " 97  DestState_VA                                       float64\n",
      " 98  DestState_WA                                       float64\n",
      "dtypes: float64(99)\n",
      "memory usage: 1.5 GB\n",
      "None\n"
     ]
    }
   ],
   "source": [
    "#Great! One of our five categorical columns is encoded. Now lets do the last five.\n",
    "#4.2 encode \"Origin\"\n",
    "encoder = OneHotEncoder(drop='first', sparse_output=False)\n",
    "origin_data = df_flights_2018_clean_reduced[['Origin']]\n",
    "origin_data_reshaped = origin_data.values.reshape(-1, 1)\n",
    "encoded_airline = pd.DataFrame(encoder.fit_transform(origin_data_reshaped), columns=encoder.get_feature_names_out(['Origin']))\n",
    "df_flights_2018_encoded = pd.concat([df_flights_2018_encoded, encoded_airline], axis=1)\n",
    "df_flights_2018_encoded.drop(columns=['Origin'], inplace=True)\n",
    "\n",
    "#4.3 encode \"OriginState\"\n",
    "encoder = OneHotEncoder(drop='first', sparse_output=False)\n",
    "originState_data = df_flights_2018_clean_reduced[['OriginState']]\n",
    "originState_data_reshaped = originState_data.values.reshape(-1, 1)\n",
    "encoded_airline = pd.DataFrame(encoder.fit_transform(originState_data_reshaped), columns=encoder.get_feature_names_out(['OriginState']))\n",
    "df_flights_2018_encoded = pd.concat([df_flights_2018_encoded, encoded_airline], axis=1)\n",
    "df_flights_2018_encoded.drop(columns=['OriginState'], inplace=True)\n",
    "\n",
    "#4.4 encode \"Dest\"\n",
    "encoder = OneHotEncoder(drop='first', sparse_output=False)\n",
    "dest_data = df_flights_2018_clean_reduced[['Dest']]\n",
    "dest_data_reshaped = dest_data.values.reshape(-1, 1)\n",
    "encoded_airline = pd.DataFrame(encoder.fit_transform(dest_data_reshaped), columns=encoder.get_feature_names_out(['Dest']))\n",
    "df_flights_2018_encoded = pd.concat([df_flights_2018_encoded, encoded_airline], axis=1)\n",
    "df_flights_2018_encoded.drop(columns=['Dest'], inplace=True)\n",
    "\n",
    "#4.5 encode \"DestState\"\n",
    "encoder = OneHotEncoder(drop='first', sparse_output=False)\n",
    "destState_data = df_flights_2018_clean_reduced[['DestState']]\n",
    "destState_data_reshaped = destState_data.values.reshape(-1, 1)\n",
    "encoded_airline = pd.DataFrame(encoder.fit_transform(destState_data_reshaped), columns=encoder.get_feature_names_out(['DestState']))\n",
    "df_flights_2018_encoded = pd.concat([df_flights_2018_encoded, encoded_airline], axis=1)\n",
    "df_flights_2018_encoded.drop(columns=['DestState'], inplace=True)\n",
    "\n",
    "\n",
    "print(df_flights_2018_encoded.info())"
   ]
  },
  {
   "cell_type": "code",
   "execution_count": 24,
   "id": "af165000",
   "metadata": {
    "execution": {
     "iopub.execute_input": "2023-08-06T23:16:57.864697Z",
     "iopub.status.busy": "2023-08-06T23:16:57.863348Z",
     "iopub.status.idle": "2023-08-06T23:16:59.916415Z",
     "shell.execute_reply": "2023-08-06T23:16:59.915518Z"
    },
    "papermill": {
     "duration": 2.077836,
     "end_time": "2023-08-06T23:16:59.919442",
     "exception": false,
     "start_time": "2023-08-06T23:16:57.841606",
     "status": "completed"
    },
    "tags": []
   },
   "outputs": [],
   "source": [
    "#we need to fill all the nan values as 0 to do linear regression. Otherwise we get an error because linear regression can't handle Nan\n",
    "df_flights_2018_encoded = df_flights_2018_encoded.fillna(0)"
   ]
  },
  {
   "cell_type": "code",
   "execution_count": 25,
   "id": "125a228d",
   "metadata": {
    "execution": {
     "iopub.execute_input": "2023-08-06T23:16:59.963464Z",
     "iopub.status.busy": "2023-08-06T23:16:59.962272Z",
     "iopub.status.idle": "2023-08-06T23:17:02.966224Z",
     "shell.execute_reply": "2023-08-06T23:17:02.964966Z"
    },
    "papermill": {
     "duration": 3.028719,
     "end_time": "2023-08-06T23:17:02.969394",
     "exception": false,
     "start_time": "2023-08-06T23:16:59.940675",
     "status": "completed"
    },
    "tags": []
   },
   "outputs": [],
   "source": [
    "#The last thing we need to do is prep our datasets! We need train and test values for x's and y's\n",
    "#Our x value (input features) will be everything EXCEPT dep_min_delay\n",
    "X = df_flights_2018_encoded.drop(columns=['dep_min_delay'])\n",
    "\n",
    "#Our y values (prediction targets) will be the dep_min_delay value\n",
    "y = df_flights_2018_encoded['dep_min_delay']\n",
    "\n",
    "#We split training and testing with an 80% / 20% split\n",
    "X_train, X_test, y_train, y_test = train_test_split(X, y, test_size=0.2, random_state=42)\n"
   ]
  },
  {
   "cell_type": "markdown",
   "id": "f2c080bc",
   "metadata": {
    "papermill": {
     "duration": 0.020959,
     "end_time": "2023-08-06T23:17:03.011091",
     "exception": false,
     "start_time": "2023-08-06T23:17:02.990132",
     "status": "completed"
    },
    "tags": []
   },
   "source": [
    "### Section 5: Linear Regression"
   ]
  },
  {
   "cell_type": "markdown",
   "id": "05d939ef",
   "metadata": {
    "papermill": {
     "duration": 0.019775,
     "end_time": "2023-08-06T23:17:03.051264",
     "exception": false,
     "start_time": "2023-08-06T23:17:03.031489",
     "status": "completed"
    },
    "tags": []
   },
   "source": [
    "##### We will initially do four linear regression comparisons across our data to see how each performs\n",
    "1. Simple Linear Regression\n",
    "2. L1 Lasso Regression\n",
    "3. L2 Ridge Regression\n",
    "4. Elastic Net Regression\n",
    "\n",
    "##### We will get the MSE and the R^2 for each to compare"
   ]
  },
  {
   "cell_type": "code",
   "execution_count": 26,
   "id": "218aa472",
   "metadata": {
    "execution": {
     "iopub.execute_input": "2023-08-06T23:17:03.094347Z",
     "iopub.status.busy": "2023-08-06T23:17:03.093308Z",
     "iopub.status.idle": "2023-08-06T23:17:04.070825Z",
     "shell.execute_reply": "2023-08-06T23:17:04.069545Z"
    },
    "papermill": {
     "duration": 1.003642,
     "end_time": "2023-08-06T23:17:04.075036",
     "exception": false,
     "start_time": "2023-08-06T23:17:03.071394",
     "status": "completed"
    },
    "tags": []
   },
   "outputs": [
    {
     "name": "stdout",
     "output_type": "stream",
     "text": [
      "<class 'pandas.core.frame.DataFrame'>\n",
      "Int64Index: 2007634 entries, 305 to 1113555\n",
      "Data columns (total 99 columns):\n",
      " #   Column                                             Dtype  \n",
      "---  ------                                             -----  \n",
      " 0   Quarter                                            float64\n",
      " 1   DayOfWeek                                          float64\n",
      " 2   schedule_dep_time                                  float64\n",
      " 3   Distance                                           float64\n",
      " 4   dep_min_delay                                      float64\n",
      " 5   Year                                               float64\n",
      " 6   Month                                              float64\n",
      " 7   Day                                                float64\n",
      " 8   Airline_Alaska Airlines Inc.                       float64\n",
      " 9   Airline_American Airlines Inc.                     float64\n",
      " 10  Airline_Comair Inc.                                float64\n",
      " 11  Airline_Commutair Aka Champlain Enterprises, Inc.  float64\n",
      " 12  Airline_Compass Airlines                           float64\n",
      " 13  Airline_Delta Air Lines Inc.                       float64\n",
      " 14  Airline_Endeavor Air Inc.                          float64\n",
      " 15  Airline_Envoy Air                                  float64\n",
      " 16  Airline_ExpressJet Airlines Inc.                   float64\n",
      " 17  Airline_Frontier Airlines Inc.                     float64\n",
      " 18  Airline_GoJet Airlines, LLC d/b/a United Express   float64\n",
      " 19  Airline_Horizon Air                                float64\n",
      " 20  Airline_JetBlue Airways                            float64\n",
      " 21  Airline_Mesa Airlines Inc.                         float64\n",
      " 22  Airline_Republic Airlines                          float64\n",
      " 23  Airline_SkyWest Airlines Inc.                      float64\n",
      " 24  Airline_Southwest Airlines Co.                     float64\n",
      " 25  Airline_Spirit Air Lines                           float64\n",
      " 26  Airline_Trans States Airlines                      float64\n",
      " 27  Airline_United Air Lines Inc.                      float64\n",
      " 28  Airline_Virgin America                             float64\n",
      " 29  Origin_BOS                                         float64\n",
      " 30  Origin_BWI                                         float64\n",
      " 31  Origin_CLT                                         float64\n",
      " 32  Origin_DEN                                         float64\n",
      " 33  Origin_DFW                                         float64\n",
      " 34  Origin_DTW                                         float64\n",
      " 35  Origin_EWR                                         float64\n",
      " 36  Origin_FLL                                         float64\n",
      " 37  Origin_IAD                                         float64\n",
      " 38  Origin_IAH                                         float64\n",
      " 39  Origin_LAS                                         float64\n",
      " 40  Origin_LAX                                         float64\n",
      " 41  Origin_LGA                                         float64\n",
      " 42  Origin_MCO                                         float64\n",
      " 43  Origin_MSP                                         float64\n",
      " 44  Origin_ORD                                         float64\n",
      " 45  Origin_PHX                                         float64\n",
      " 46  Origin_SEA                                         float64\n",
      " 47  Origin_SFO                                         float64\n",
      " 48  OriginState_CA                                     float64\n",
      " 49  OriginState_CO                                     float64\n",
      " 50  OriginState_FL                                     float64\n",
      " 51  OriginState_GA                                     float64\n",
      " 52  OriginState_IL                                     float64\n",
      " 53  OriginState_MA                                     float64\n",
      " 54  OriginState_MD                                     float64\n",
      " 55  OriginState_MI                                     float64\n",
      " 56  OriginState_MN                                     float64\n",
      " 57  OriginState_NC                                     float64\n",
      " 58  OriginState_NJ                                     float64\n",
      " 59  OriginState_NV                                     float64\n",
      " 60  OriginState_NY                                     float64\n",
      " 61  OriginState_TX                                     float64\n",
      " 62  OriginState_VA                                     float64\n",
      " 63  OriginState_WA                                     float64\n",
      " 64  Dest_BOS                                           float64\n",
      " 65  Dest_BWI                                           float64\n",
      " 66  Dest_CLT                                           float64\n",
      " 67  Dest_DEN                                           float64\n",
      " 68  Dest_DFW                                           float64\n",
      " 69  Dest_DTW                                           float64\n",
      " 70  Dest_EWR                                           float64\n",
      " 71  Dest_FLL                                           float64\n",
      " 72  Dest_IAD                                           float64\n",
      " 73  Dest_IAH                                           float64\n",
      " 74  Dest_LAS                                           float64\n",
      " 75  Dest_LAX                                           float64\n",
      " 76  Dest_LGA                                           float64\n",
      " 77  Dest_MCO                                           float64\n",
      " 78  Dest_MSP                                           float64\n",
      " 79  Dest_ORD                                           float64\n",
      " 80  Dest_PHX                                           float64\n",
      " 81  Dest_SEA                                           float64\n",
      " 82  Dest_SFO                                           float64\n",
      " 83  DestState_CA                                       float64\n",
      " 84  DestState_CO                                       float64\n",
      " 85  DestState_FL                                       float64\n",
      " 86  DestState_GA                                       float64\n",
      " 87  DestState_IL                                       float64\n",
      " 88  DestState_MA                                       float64\n",
      " 89  DestState_MD                                       float64\n",
      " 90  DestState_MI                                       float64\n",
      " 91  DestState_MN                                       float64\n",
      " 92  DestState_NC                                       float64\n",
      " 93  DestState_NJ                                       float64\n",
      " 94  DestState_NV                                       float64\n",
      " 95  DestState_NY                                       float64\n",
      " 96  DestState_TX                                       float64\n",
      " 97  DestState_VA                                       float64\n",
      " 98  DestState_WA                                       float64\n",
      "dtypes: float64(99)\n",
      "memory usage: 1.5 GB\n",
      "None\n"
     ]
    }
   ],
   "source": [
    "df_flights_2018_encoded = df_flights_2018_encoded.dropna()\n",
    "print(df_flights_2018_encoded.info())"
   ]
  },
  {
   "cell_type": "markdown",
   "id": "3889616d",
   "metadata": {
    "papermill": {
     "duration": 0.021183,
     "end_time": "2023-08-06T23:17:04.117728",
     "exception": false,
     "start_time": "2023-08-06T23:17:04.096545",
     "status": "completed"
    },
    "tags": []
   },
   "source": [
    "#### Section 5.1: Simple Linear Regression"
   ]
  },
  {
   "cell_type": "code",
   "execution_count": 27,
   "id": "697eb636",
   "metadata": {
    "execution": {
     "iopub.execute_input": "2023-08-06T23:17:04.162137Z",
     "iopub.status.busy": "2023-08-06T23:17:04.161595Z",
     "iopub.status.idle": "2023-08-06T23:17:20.457105Z",
     "shell.execute_reply": "2023-08-06T23:17:20.455525Z"
    },
    "papermill": {
     "duration": 16.322975,
     "end_time": "2023-08-06T23:17:20.461404",
     "exception": false,
     "start_time": "2023-08-06T23:17:04.138429",
     "status": "completed"
    },
    "tags": []
   },
   "outputs": [
    {
     "name": "stdout",
     "output_type": "stream",
     "text": [
      "MSE: 1012.2804002204958\n",
      "R-squared: 0.059235444740022514\n"
     ]
    }
   ],
   "source": [
    "#import model\n",
    "from sklearn.linear_model import LinearRegression\n",
    "\n",
    "#create the model\n",
    "lr_model = LinearRegression()\n",
    "\n",
    "#fit the model\n",
    "lr_model.fit(X_train, y_train)\n",
    "\n",
    "#make predictions on the X_test inputs\n",
    "y_pred = lr_model.predict(X_test)\n",
    "\n",
    "#get the mse using our model prediction values (y_pred) vs the actual y values (y_test)\n",
    "mse = mean_squared_error(y_test, y_pred)\n",
    "\n",
    "#get the r^2 the same way\n",
    "r2 = r2_score(y_test, y_pred)\n",
    "\n",
    "print(\"MSE:\", mse)\n",
    "print(\"R-squared:\", r2)"
   ]
  },
  {
   "cell_type": "code",
   "execution_count": 28,
   "id": "427110d6",
   "metadata": {
    "execution": {
     "iopub.execute_input": "2023-08-06T23:17:20.554794Z",
     "iopub.status.busy": "2023-08-06T23:17:20.552827Z",
     "iopub.status.idle": "2023-08-06T23:17:20.562763Z",
     "shell.execute_reply": "2023-08-06T23:17:20.561267Z"
    },
    "papermill": {
     "duration": 0.058306,
     "end_time": "2023-08-06T23:17:20.565498",
     "exception": false,
     "start_time": "2023-08-06T23:17:20.507192",
     "status": "completed"
    },
    "tags": []
   },
   "outputs": [],
   "source": [
    "#MSE: 1060.573956012466\n",
    "#R-squared: 0.04367785328314888\n",
    "#Ok, so this model performs pretty poorly. While it's MSE is hard to interpret, an R^2 of 0.04 is pretty bad. Let's see if L1 regression is any better"
   ]
  },
  {
   "cell_type": "markdown",
   "id": "18808598",
   "metadata": {
    "papermill": {
     "duration": 0.01997,
     "end_time": "2023-08-06T23:17:20.605964",
     "exception": false,
     "start_time": "2023-08-06T23:17:20.585994",
     "status": "completed"
    },
    "tags": []
   },
   "source": [
    "#### Section 5.2: L1 Lasso Regression"
   ]
  },
  {
   "cell_type": "code",
   "execution_count": 29,
   "id": "ba4da591",
   "metadata": {
    "execution": {
     "iopub.execute_input": "2023-08-06T23:17:20.648594Z",
     "iopub.status.busy": "2023-08-06T23:17:20.648174Z",
     "iopub.status.idle": "2023-08-06T23:17:32.089280Z",
     "shell.execute_reply": "2023-08-06T23:17:32.087844Z"
    },
    "papermill": {
     "duration": 11.467203,
     "end_time": "2023-08-06T23:17:32.093447",
     "exception": false,
     "start_time": "2023-08-06T23:17:20.626244",
     "status": "completed"
    },
    "tags": []
   },
   "outputs": [
    {
     "name": "stdout",
     "output_type": "stream",
     "text": [
      "MSE: 1013.6759516320676\n",
      "R-squared: 0.0579384866019772\n"
     ]
    }
   ],
   "source": [
    "#import model and tools\n",
    "from sklearn.linear_model import Lasso\n",
    "\n",
    "#create the alpha value and lasso_reg model\n",
    "#set our initial alpha_value to 0.1\n",
    "alpha_value = 0.1\n",
    "\n",
    "#make the model\n",
    "l1_model = Lasso(alpha=alpha_value)\n",
    "\n",
    "#fit the model\n",
    "l1_model.fit(X_train, y_train)\n",
    "\n",
    "#make predictions\n",
    "y_pred = l1_model.predict(X_test)\n",
    "\n",
    "#get the mse and r^2\n",
    "mse = mean_squared_error(y_test, y_pred)\n",
    "r2 = r2_score(y_test, y_pred)\n",
    "print(\"MSE:\", mse)\n",
    "print(\"R-squared:\", r2)"
   ]
  },
  {
   "cell_type": "code",
   "execution_count": 30,
   "id": "d1d80b65",
   "metadata": {
    "execution": {
     "iopub.execute_input": "2023-08-06T23:17:32.175728Z",
     "iopub.status.busy": "2023-08-06T23:17:32.175006Z",
     "iopub.status.idle": "2023-08-06T23:17:32.180988Z",
     "shell.execute_reply": "2023-08-06T23:17:32.179722Z"
    },
    "papermill": {
     "duration": 0.045896,
     "end_time": "2023-08-06T23:17:32.183447",
     "exception": false,
     "start_time": "2023-08-06T23:17:32.137551",
     "status": "completed"
    },
    "tags": []
   },
   "outputs": [],
   "source": [
    "#oh wow this model isn't much better. 0.04 again and it looks like it might have gotten worse\n",
    "#maybe ridge regression will help?"
   ]
  },
  {
   "cell_type": "markdown",
   "id": "3578d834",
   "metadata": {
    "papermill": {
     "duration": 0.020322,
     "end_time": "2023-08-06T23:17:32.225007",
     "exception": false,
     "start_time": "2023-08-06T23:17:32.204685",
     "status": "completed"
    },
    "tags": []
   },
   "source": [
    "#### Section 5.3: L2 Ridge Regression"
   ]
  },
  {
   "cell_type": "code",
   "execution_count": 31,
   "id": "5bd65081",
   "metadata": {
    "execution": {
     "iopub.execute_input": "2023-08-06T23:17:32.270459Z",
     "iopub.status.busy": "2023-08-06T23:17:32.269074Z",
     "iopub.status.idle": "2023-08-06T23:17:34.203542Z",
     "shell.execute_reply": "2023-08-06T23:17:34.201899Z"
    },
    "papermill": {
     "duration": 1.962284,
     "end_time": "2023-08-06T23:17:34.208864",
     "exception": false,
     "start_time": "2023-08-06T23:17:32.246580",
     "status": "completed"
    },
    "tags": []
   },
   "outputs": [
    {
     "name": "stdout",
     "output_type": "stream",
     "text": [
      "MSE: 1012.2802667278036\n",
      "R-squared: 0.0592355688016889\n"
     ]
    }
   ],
   "source": [
    "#import model\n",
    "from sklearn.linear_model import Ridge\n",
    "\n",
    "#create rr_model and set the alpha\n",
    "alpha_value = 1.0\n",
    "l2_model = Ridge(alpha=alpha_value)\n",
    "\n",
    "# fit the model\n",
    "l2_model.fit(X_train, y_train)\n",
    "\n",
    "#make predictions\n",
    "y_pred = l2_model.predict(X_test)\n",
    "\n",
    "#get the mse and r^2\n",
    "mse = mean_squared_error(y_test, y_pred)\n",
    "r2 = r2_score(y_test, y_pred)\n",
    "print(\"MSE:\", mse)\n",
    "print(\"R-squared:\", r2)"
   ]
  },
  {
   "cell_type": "code",
   "execution_count": 32,
   "id": "da9e61d1",
   "metadata": {
    "execution": {
     "iopub.execute_input": "2023-08-06T23:17:34.303920Z",
     "iopub.status.busy": "2023-08-06T23:17:34.303467Z",
     "iopub.status.idle": "2023-08-06T23:17:34.308016Z",
     "shell.execute_reply": "2023-08-06T23:17:34.307192Z"
    },
    "papermill": {
     "duration": 0.054077,
     "end_time": "2023-08-06T23:17:34.310450",
     "exception": false,
     "start_time": "2023-08-06T23:17:34.256373",
     "status": "completed"
    },
    "tags": []
   },
   "outputs": [],
   "source": [
    "#Yup not much better. We're going to really need to work on this dataset I think to make a decent model."
   ]
  },
  {
   "cell_type": "markdown",
   "id": "a7f16ad5",
   "metadata": {
    "papermill": {
     "duration": 0.020463,
     "end_time": "2023-08-06T23:17:34.351769",
     "exception": false,
     "start_time": "2023-08-06T23:17:34.331306",
     "status": "completed"
    },
    "tags": []
   },
   "source": [
    "#### Section 5.4: Elastic Net Regression"
   ]
  },
  {
   "cell_type": "code",
   "execution_count": 33,
   "id": "49995a22",
   "metadata": {
    "execution": {
     "iopub.execute_input": "2023-08-06T23:17:34.395996Z",
     "iopub.status.busy": "2023-08-06T23:17:34.395562Z",
     "iopub.status.idle": "2023-08-06T23:17:34.400868Z",
     "shell.execute_reply": "2023-08-06T23:17:34.399723Z"
    },
    "papermill": {
     "duration": 0.029655,
     "end_time": "2023-08-06T23:17:34.403182",
     "exception": false,
     "start_time": "2023-08-06T23:17:34.373527",
     "status": "completed"
    },
    "tags": []
   },
   "outputs": [],
   "source": [
    "#import model\n",
    "from sklearn.linear_model import ElasticNet\n",
    "\n",
    "#create en_model with alpha, L1_ratio\n",
    "\n",
    "#fit the model\n",
    "\n",
    "#make predictions\n",
    "\n",
    "#get the mse and r^2"
   ]
  },
  {
   "cell_type": "markdown",
   "id": "227ae5e9",
   "metadata": {
    "papermill": {
     "duration": 0.020431,
     "end_time": "2023-08-06T23:17:34.444382",
     "exception": false,
     "start_time": "2023-08-06T23:17:34.423951",
     "status": "completed"
    },
    "tags": []
   },
   "source": [
    "#### Section 5.5: Summary of Findings"
   ]
  },
  {
   "cell_type": "code",
   "execution_count": 34,
   "id": "6c9eadfc",
   "metadata": {
    "execution": {
     "iopub.execute_input": "2023-08-06T23:17:34.488553Z",
     "iopub.status.busy": "2023-08-06T23:17:34.487716Z",
     "iopub.status.idle": "2023-08-06T23:17:34.493223Z",
     "shell.execute_reply": "2023-08-06T23:17:34.491997Z"
    },
    "papermill": {
     "duration": 0.03049,
     "end_time": "2023-08-06T23:17:34.495814",
     "exception": false,
     "start_time": "2023-08-06T23:17:34.465324",
     "status": "completed"
    },
    "tags": []
   },
   "outputs": [],
   "source": [
    "#Do the MSEs change across all four models?\n",
    "#Do the R^2 change across all four models?\n",
    "#Is one model clearly performing better? Why or why not?"
   ]
  },
  {
   "cell_type": "markdown",
   "id": "6fd1919d",
   "metadata": {
    "papermill": {
     "duration": 0.020689,
     "end_time": "2023-08-06T23:17:34.537551",
     "exception": false,
     "start_time": "2023-08-06T23:17:34.516862",
     "status": "completed"
    },
    "tags": []
   },
   "source": [
    "#### Section 6: Advanced Linear Regression"
   ]
  },
  {
   "cell_type": "code",
   "execution_count": 35,
   "id": "2b163189",
   "metadata": {
    "execution": {
     "iopub.execute_input": "2023-08-06T23:17:34.581681Z",
     "iopub.status.busy": "2023-08-06T23:17:34.581259Z",
     "iopub.status.idle": "2023-08-06T23:17:34.587727Z",
     "shell.execute_reply": "2023-08-06T23:17:34.586355Z"
    },
    "papermill": {
     "duration": 0.031789,
     "end_time": "2023-08-06T23:17:34.590344",
     "exception": false,
     "start_time": "2023-08-06T23:17:34.558555",
     "status": "completed"
    },
    "tags": []
   },
   "outputs": [],
   "source": [
    "#Now we're going to do the same four models but at an advanced level with more tuning and tweaking\n",
    "from sklearn.preprocessing import StandardScaler\n",
    "\n",
    "#Section 6.0 Feature scaling to the dataset. We want to standardize/normalize the input features with probably StandardScaler (vs MinMaxScaler)\n",
    "#build a scaler. Then we're going to also do 5-fold cross validation for each model. This combination: scaling + cross validation : should result\n",
    "# in better performance across our models\n",
    "\n",
    "\n",
    "#Section 6.1: Linear Regression w/ scaling and Cross-Validation\n",
    "#fit_transform our dataset for modeling\n",
    "#should be something like this:\n",
    "#scaler = StandardScaler()\n",
    "#X_scaled = scaler.fit_transform(X)\n",
    "#Get new datasets\n",
    "#X_train, X_test, y_train, y_test = train_test_split(X_scaled, y, test_size=0.2, random_state=23)\n",
    "#make a new model\n",
    "#linear_reg = LinearRegression()\n",
    "#do CV with 5 folds\n",
    "#cv_vals = cross_val_score(linear_reg, X_scaled, y, cv=5, scoring='neg_mean_squared_error')\n",
    "\n",
    "#get the average MSE across all 5 folds\n",
    "\n",
    "#get the average R^2 across all 5 folds"
   ]
  },
  {
   "cell_type": "markdown",
   "id": "cbe5202a",
   "metadata": {
    "papermill": {
     "duration": 0.020645,
     "end_time": "2023-08-06T23:17:34.632152",
     "exception": false,
     "start_time": "2023-08-06T23:17:34.611507",
     "status": "completed"
    },
    "tags": []
   },
   "source": [
    "#### Section 6.2: L1 Lasso Regression with scaling and cross validation"
   ]
  },
  {
   "cell_type": "code",
   "execution_count": 36,
   "id": "732f1851",
   "metadata": {
    "execution": {
     "iopub.execute_input": "2023-08-06T23:17:34.676124Z",
     "iopub.status.busy": "2023-08-06T23:17:34.675663Z",
     "iopub.status.idle": "2023-08-06T23:17:34.680919Z",
     "shell.execute_reply": "2023-08-06T23:17:34.679703Z"
    },
    "papermill": {
     "duration": 0.030245,
     "end_time": "2023-08-06T23:17:34.683478",
     "exception": false,
     "start_time": "2023-08-06T23:17:34.653233",
     "status": "completed"
    },
    "tags": []
   },
   "outputs": [],
   "source": [
    "#TODO"
   ]
  },
  {
   "cell_type": "markdown",
   "id": "123c857a",
   "metadata": {
    "papermill": {
     "duration": 0.020717,
     "end_time": "2023-08-06T23:17:34.725251",
     "exception": false,
     "start_time": "2023-08-06T23:17:34.704534",
     "status": "completed"
    },
    "tags": []
   },
   "source": [
    "#### Section 6.3: L2 Ridge Regression with scaling and cross validation"
   ]
  },
  {
   "cell_type": "code",
   "execution_count": 37,
   "id": "69d0ed13",
   "metadata": {
    "execution": {
     "iopub.execute_input": "2023-08-06T23:17:34.771926Z",
     "iopub.status.busy": "2023-08-06T23:17:34.770663Z",
     "iopub.status.idle": "2023-08-06T23:17:34.776192Z",
     "shell.execute_reply": "2023-08-06T23:17:34.774972Z"
    },
    "papermill": {
     "duration": 0.031516,
     "end_time": "2023-08-06T23:17:34.778413",
     "exception": false,
     "start_time": "2023-08-06T23:17:34.746897",
     "status": "completed"
    },
    "tags": []
   },
   "outputs": [],
   "source": [
    "#TODO"
   ]
  },
  {
   "cell_type": "markdown",
   "id": "b6308c11",
   "metadata": {
    "papermill": {
     "duration": 0.020856,
     "end_time": "2023-08-06T23:17:34.820595",
     "exception": false,
     "start_time": "2023-08-06T23:17:34.799739",
     "status": "completed"
    },
    "tags": []
   },
   "source": [
    "#### Section 6.4 Elastic Net Regression with scaling and cross validation"
   ]
  },
  {
   "cell_type": "code",
   "execution_count": 38,
   "id": "5e24c864",
   "metadata": {
    "execution": {
     "iopub.execute_input": "2023-08-06T23:17:34.865155Z",
     "iopub.status.busy": "2023-08-06T23:17:34.864728Z",
     "iopub.status.idle": "2023-08-06T23:17:34.870075Z",
     "shell.execute_reply": "2023-08-06T23:17:34.868834Z"
    },
    "papermill": {
     "duration": 0.030722,
     "end_time": "2023-08-06T23:17:34.872723",
     "exception": false,
     "start_time": "2023-08-06T23:17:34.842001",
     "status": "completed"
    },
    "tags": []
   },
   "outputs": [],
   "source": [
    "#TODO"
   ]
  },
  {
   "cell_type": "code",
   "execution_count": 39,
   "id": "80d4664b",
   "metadata": {
    "execution": {
     "iopub.execute_input": "2023-08-06T23:17:34.918516Z",
     "iopub.status.busy": "2023-08-06T23:17:34.917669Z",
     "iopub.status.idle": "2023-08-06T23:17:34.922672Z",
     "shell.execute_reply": "2023-08-06T23:17:34.921792Z"
    },
    "papermill": {
     "duration": 0.03027,
     "end_time": "2023-08-06T23:17:34.924964",
     "exception": false,
     "start_time": "2023-08-06T23:17:34.894694",
     "status": "completed"
    },
    "tags": []
   },
   "outputs": [],
   "source": [
    "#Section 7 (if we have time)\n",
    "#if time allows in the project for Section 7 we can do SKLearn Gradient Boosting Regression (GBR) and see how it compares"
   ]
  },
  {
   "cell_type": "code",
   "execution_count": 40,
   "id": "723b58c4",
   "metadata": {
    "execution": {
     "iopub.execute_input": "2023-08-06T23:17:34.970787Z",
     "iopub.status.busy": "2023-08-06T23:17:34.969307Z",
     "iopub.status.idle": "2023-08-06T23:17:34.973962Z",
     "shell.execute_reply": "2023-08-06T23:17:34.973178Z"
    },
    "papermill": {
     "duration": 0.029822,
     "end_time": "2023-08-06T23:17:34.976173",
     "exception": false,
     "start_time": "2023-08-06T23:17:34.946351",
     "status": "completed"
    },
    "tags": []
   },
   "outputs": [],
   "source": [
    "#Section 8 (if we have time)\n",
    "#we can do PyTorch NN regression modeling to see how it compares"
   ]
  }
 ],
 "metadata": {
  "kernelspec": {
   "display_name": "Python 3",
   "language": "python",
   "name": "python3"
  },
  "language_info": {
   "codemirror_mode": {
    "name": "ipython",
    "version": 3
   },
   "file_extension": ".py",
   "mimetype": "text/x-python",
   "name": "python",
   "nbconvert_exporter": "python",
   "pygments_lexer": "ipython3",
   "version": "3.10.12"
  },
  "papermill": {
   "default_parameters": {},
   "duration": 197.226988,
   "end_time": "2023-08-06T23:17:37.426654",
   "environment_variables": {},
   "exception": null,
   "input_path": "__notebook__.ipynb",
   "output_path": "__notebook__.ipynb",
   "parameters": {},
   "start_time": "2023-08-06T23:14:20.199666",
   "version": "2.4.0"
  }
 },
 "nbformat": 4,
 "nbformat_minor": 5
}
