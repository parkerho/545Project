{
 "cells": [
  {
   "cell_type": "code",
   "execution_count": 1,
   "id": "f17962ca",
   "metadata": {
    "_cell_guid": "b1076dfc-b9ad-4769-8c92-a6c4dae69d19",
    "_uuid": "8f2839f25d086af736a60e9eeb907d3b93b6e0e5",
    "execution": {
     "iopub.execute_input": "2023-08-07T16:36:44.847105Z",
     "iopub.status.busy": "2023-08-07T16:36:44.846677Z",
     "iopub.status.idle": "2023-08-07T16:36:44.878794Z",
     "shell.execute_reply": "2023-08-07T16:36:44.877654Z"
    },
    "papermill": {
     "duration": 0.054445,
     "end_time": "2023-08-07T16:36:44.882099",
     "exception": false,
     "start_time": "2023-08-07T16:36:44.827654",
     "status": "completed"
    },
    "tags": []
   },
   "outputs": [
    {
     "name": "stdout",
     "output_type": "stream",
     "text": [
      "/kaggle/input/flight-delay-dataset-20182022/Combined_Flights_2022.parquet\n",
      "/kaggle/input/flight-delay-dataset-20182022/Combined_Flights_2021.parquet\n",
      "/kaggle/input/flight-delay-dataset-20182022/Combined_Flights_2018.csv\n",
      "/kaggle/input/flight-delay-dataset-20182022/Combined_Flights_2018.parquet\n",
      "/kaggle/input/flight-delay-dataset-20182022/Airlines.csv\n",
      "/kaggle/input/flight-delay-dataset-20182022/readme.md\n",
      "/kaggle/input/flight-delay-dataset-20182022/Combined_Flights_2022.csv\n",
      "/kaggle/input/flight-delay-dataset-20182022/Combined_Flights_2020.csv\n",
      "/kaggle/input/flight-delay-dataset-20182022/Combined_Flights_2020.parquet\n",
      "/kaggle/input/flight-delay-dataset-20182022/Combined_Flights_2019.csv\n",
      "/kaggle/input/flight-delay-dataset-20182022/readme.html\n",
      "/kaggle/input/flight-delay-dataset-20182022/Combined_Flights_2021.csv\n",
      "/kaggle/input/flight-delay-dataset-20182022/Combined_Flights_2019.parquet\n",
      "/kaggle/input/flight-delay-dataset-20182022/raw/Flights_2018_7.csv\n",
      "/kaggle/input/flight-delay-dataset-20182022/raw/Flights_2018_6.csv\n",
      "/kaggle/input/flight-delay-dataset-20182022/raw/Flights_2020_1.csv\n",
      "/kaggle/input/flight-delay-dataset-20182022/raw/Flights_2018_1.csv\n",
      "/kaggle/input/flight-delay-dataset-20182022/raw/Flights_2022_1.csv\n",
      "/kaggle/input/flight-delay-dataset-20182022/raw/Flights_2018_9.csv\n",
      "/kaggle/input/flight-delay-dataset-20182022/raw/Flights_2020_3.csv\n",
      "/kaggle/input/flight-delay-dataset-20182022/raw/Flights_2020_7.csv\n",
      "/kaggle/input/flight-delay-dataset-20182022/raw/Flights_2021_8.csv\n",
      "/kaggle/input/flight-delay-dataset-20182022/raw/Flights_2020_11.csv\n",
      "/kaggle/input/flight-delay-dataset-20182022/raw/Flights_2020_6.csv\n",
      "/kaggle/input/flight-delay-dataset-20182022/raw/Flights_2019_8.csv\n",
      "/kaggle/input/flight-delay-dataset-20182022/raw/Flights_2022_6.csv\n",
      "/kaggle/input/flight-delay-dataset-20182022/raw/Flights_2018_11.csv\n",
      "/kaggle/input/flight-delay-dataset-20182022/raw/Flights_2018_5.csv\n",
      "/kaggle/input/flight-delay-dataset-20182022/raw/Flights_2018_2.csv\n",
      "/kaggle/input/flight-delay-dataset-20182022/raw/Flights_2022_3.csv\n",
      "/kaggle/input/flight-delay-dataset-20182022/raw/Flights_2019_12.csv\n",
      "/kaggle/input/flight-delay-dataset-20182022/raw/Flights_2019_7.csv\n",
      "/kaggle/input/flight-delay-dataset-20182022/raw/Flights_2019_2.csv\n",
      "/kaggle/input/flight-delay-dataset-20182022/raw/Flights_2020_2.csv\n",
      "/kaggle/input/flight-delay-dataset-20182022/raw/Flights_2022_7.csv\n",
      "/kaggle/input/flight-delay-dataset-20182022/raw/Flights_2019_3.csv\n",
      "/kaggle/input/flight-delay-dataset-20182022/raw/Flights_2019_5.csv\n",
      "/kaggle/input/flight-delay-dataset-20182022/raw/Flights_2022_5.csv\n",
      "/kaggle/input/flight-delay-dataset-20182022/raw/Flights_2019_10.csv\n",
      "/kaggle/input/flight-delay-dataset-20182022/raw/Flights_2021_9.csv\n",
      "/kaggle/input/flight-delay-dataset-20182022/raw/Flights_2020_5.csv\n",
      "/kaggle/input/flight-delay-dataset-20182022/raw/Flights_2022_4.csv\n",
      "/kaggle/input/flight-delay-dataset-20182022/raw/Flights_2019_1.csv\n",
      "/kaggle/input/flight-delay-dataset-20182022/raw/Flights_2021_1.csv\n",
      "/kaggle/input/flight-delay-dataset-20182022/raw/Flights_2021_7.csv\n",
      "/kaggle/input/flight-delay-dataset-20182022/raw/Flights_2020_4.csv\n",
      "/kaggle/input/flight-delay-dataset-20182022/raw/Flights_2022_2.csv\n",
      "/kaggle/input/flight-delay-dataset-20182022/raw/Flights_2021_2.csv\n",
      "/kaggle/input/flight-delay-dataset-20182022/raw/Flights_2021_10.csv\n",
      "/kaggle/input/flight-delay-dataset-20182022/raw/Flights_2018_10.csv\n",
      "/kaggle/input/flight-delay-dataset-20182022/raw/Flights_2018_4.csv\n",
      "/kaggle/input/flight-delay-dataset-20182022/raw/Flights_2020_9.csv\n",
      "/kaggle/input/flight-delay-dataset-20182022/raw/Flights_2020_10.csv\n",
      "/kaggle/input/flight-delay-dataset-20182022/raw/Flights_2021_11.csv\n",
      "/kaggle/input/flight-delay-dataset-20182022/raw/Flights_2020_12.csv\n",
      "/kaggle/input/flight-delay-dataset-20182022/raw/Flights_2021_12.csv\n",
      "/kaggle/input/flight-delay-dataset-20182022/raw/Flights_2021_4.csv\n",
      "/kaggle/input/flight-delay-dataset-20182022/raw/Flights_2019_9.csv\n",
      "/kaggle/input/flight-delay-dataset-20182022/raw/Flights_2019_11.csv\n",
      "/kaggle/input/flight-delay-dataset-20182022/raw/Flights_2021_6.csv\n",
      "/kaggle/input/flight-delay-dataset-20182022/raw/Flights_2019_6.csv\n",
      "/kaggle/input/flight-delay-dataset-20182022/raw/Flights_2020_8.csv\n",
      "/kaggle/input/flight-delay-dataset-20182022/raw/Flights_2018_12.csv\n",
      "/kaggle/input/flight-delay-dataset-20182022/raw/Flights_2021_3.csv\n",
      "/kaggle/input/flight-delay-dataset-20182022/raw/Flights_2018_8.csv\n",
      "/kaggle/input/flight-delay-dataset-20182022/raw/Flights_2021_5.csv\n",
      "/kaggle/input/flight-delay-dataset-20182022/raw/Flights_2018_3.csv\n",
      "/kaggle/input/flight-delay-dataset-20182022/raw/Flights_2019_4.csv\n"
     ]
    }
   ],
   "source": [
    "# This Python 3 environment comes with many helpful analytics libraries installed\n",
    "# It is defined by the kaggle/python Docker image: https://github.com/kaggle/docker-python\n",
    "# For example, here's several helpful packages to load\n",
    "\n",
    "import numpy as np # linear algebra\n",
    "import pandas as pd # data processing, CSV file I/O (e.g. pd.read_csv)\n",
    "import matplotlib.pyplot as plt\n",
    "\n",
    "# Input data files are available in the read-only \"../input/\" directory\n",
    "# For example, running this (by clicking run or pressing Shift+Enter) will list all files under the input directory\n",
    "\n",
    "import os\n",
    "for dirname, _, filenames in os.walk('/kaggle/input'):\n",
    "    for filename in filenames:\n",
    "        print(os.path.join(dirname, filename))\n",
    "\n",
    "# You can write up to 20GB to the current directory (/kaggle/working/) that gets preserved as output when you create a version using \"Save & Run All\" \n",
    "# You can also write temporary files to /kaggle/temp/, but they won't be saved outside of the current session"
   ]
  },
  {
   "cell_type": "markdown",
   "id": "b52a180c",
   "metadata": {
    "papermill": {
     "duration": 0.018444,
     "end_time": "2023-08-07T16:36:44.917877",
     "exception": false,
     "start_time": "2023-08-07T16:36:44.899433",
     "status": "completed"
    },
    "tags": []
   },
   "source": [
    "# Introduction\n",
    "\n",
    "### What we will be doing with this dataset:\n",
    "- We will be using this dataset to effectively and accurately predict length of time for flight delays. We will use various regression and machine learning techniques to learn from the training data and then test our prediction models with our test data.\n",
    "\n",
    "### Why we chose this dataset:\n",
    "- We chose the given dataset as it is both rich and robust. The size allows us to adjust various factors in order to observe common phenomena. The number of columns allows us to explore which variables affect flight delays; whereas, the number of rows ensure we have enough data to make good judgements.\n",
    "\n",
    "### What results we hope to achieve:\n",
    "- We aim to predict the length of flight delays with high confidence."
   ]
  },
  {
   "cell_type": "markdown",
   "id": "84ed9cbd",
   "metadata": {
    "papermill": {
     "duration": 0.016797,
     "end_time": "2023-08-07T16:36:44.951960",
     "exception": false,
     "start_time": "2023-08-07T16:36:44.935163",
     "status": "completed"
    },
    "tags": []
   },
   "source": [
    "### Section 1: Load data from CSV into Pandas Dataframe"
   ]
  },
  {
   "cell_type": "code",
   "execution_count": 2,
   "id": "e9d3c4c0",
   "metadata": {
    "execution": {
     "iopub.execute_input": "2023-08-07T16:36:44.987744Z",
     "iopub.status.busy": "2023-08-07T16:36:44.987338Z",
     "iopub.status.idle": "2023-08-07T16:38:54.780925Z",
     "shell.execute_reply": "2023-08-07T16:38:54.779785Z"
    },
    "papermill": {
     "duration": 129.815163,
     "end_time": "2023-08-07T16:38:54.784110",
     "exception": false,
     "start_time": "2023-08-07T16:36:44.968947",
     "status": "completed"
    },
    "tags": []
   },
   "outputs": [],
   "source": [
    "# This dataset in its entirety is very large, containing millions and millions of records, which is going to\n",
    "# be quite costly to compute over. We feel that we can generate a sufficent level of accuracy by computing\n",
    "# over a subset of the data. We have chosen to work with 2018 with the idea that the years 2020-2022 will \n",
    "# likely be biased by the events and effects of the COVID-19 pandemic.\n",
    "\n",
    "df_flights_2018 = pd.read_csv(\"/kaggle/input/flight-delay-dataset-20182022/Combined_Flights_2018.csv\")\n",
    "\n",
    "# Because we have such an abundance of data, we are not necessarily concerned with dropping values in place. \n",
    "# We would most certainly consider value imputation instead of simply dropping NA values, if our dataset were\n",
    "# not so rich.\n",
    "\n",
    "df_flights_2018.dropna(inplace = True)"
   ]
  },
  {
   "cell_type": "code",
   "execution_count": 3,
   "id": "24eab857",
   "metadata": {
    "execution": {
     "iopub.execute_input": "2023-08-07T16:38:54.821129Z",
     "iopub.status.busy": "2023-08-07T16:38:54.820281Z",
     "iopub.status.idle": "2023-08-07T16:38:54.864615Z",
     "shell.execute_reply": "2023-08-07T16:38:54.863428Z"
    },
    "papermill": {
     "duration": 0.065613,
     "end_time": "2023-08-07T16:38:54.867386",
     "exception": false,
     "start_time": "2023-08-07T16:38:54.801773",
     "status": "completed"
    },
    "tags": []
   },
   "outputs": [
    {
     "data": {
      "text/html": [
       "<div>\n",
       "<style scoped>\n",
       "    .dataframe tbody tr th:only-of-type {\n",
       "        vertical-align: middle;\n",
       "    }\n",
       "\n",
       "    .dataframe tbody tr th {\n",
       "        vertical-align: top;\n",
       "    }\n",
       "\n",
       "    .dataframe thead th {\n",
       "        text-align: right;\n",
       "    }\n",
       "</style>\n",
       "<table border=\"1\" class=\"dataframe\">\n",
       "  <thead>\n",
       "    <tr style=\"text-align: right;\">\n",
       "      <th></th>\n",
       "      <th>FlightDate</th>\n",
       "      <th>Airline</th>\n",
       "      <th>Origin</th>\n",
       "      <th>Dest</th>\n",
       "      <th>Cancelled</th>\n",
       "      <th>Diverted</th>\n",
       "      <th>CRSDepTime</th>\n",
       "      <th>DepTime</th>\n",
       "      <th>DepDelayMinutes</th>\n",
       "      <th>DepDelay</th>\n",
       "      <th>...</th>\n",
       "      <th>WheelsOff</th>\n",
       "      <th>WheelsOn</th>\n",
       "      <th>TaxiIn</th>\n",
       "      <th>CRSArrTime</th>\n",
       "      <th>ArrDelay</th>\n",
       "      <th>ArrDel15</th>\n",
       "      <th>ArrivalDelayGroups</th>\n",
       "      <th>ArrTimeBlk</th>\n",
       "      <th>DistanceGroup</th>\n",
       "      <th>DivAirportLandings</th>\n",
       "    </tr>\n",
       "  </thead>\n",
       "  <tbody>\n",
       "    <tr>\n",
       "      <th>0</th>\n",
       "      <td>2018-01-23</td>\n",
       "      <td>Endeavor Air Inc.</td>\n",
       "      <td>ABY</td>\n",
       "      <td>ATL</td>\n",
       "      <td>False</td>\n",
       "      <td>False</td>\n",
       "      <td>1202</td>\n",
       "      <td>1157.0</td>\n",
       "      <td>0.0</td>\n",
       "      <td>-5.0</td>\n",
       "      <td>...</td>\n",
       "      <td>1211.0</td>\n",
       "      <td>1249.0</td>\n",
       "      <td>7.0</td>\n",
       "      <td>1304</td>\n",
       "      <td>-8.0</td>\n",
       "      <td>0.0</td>\n",
       "      <td>-1.0</td>\n",
       "      <td>1300-1359</td>\n",
       "      <td>1</td>\n",
       "      <td>0.0</td>\n",
       "    </tr>\n",
       "    <tr>\n",
       "      <th>1</th>\n",
       "      <td>2018-01-24</td>\n",
       "      <td>Endeavor Air Inc.</td>\n",
       "      <td>ABY</td>\n",
       "      <td>ATL</td>\n",
       "      <td>False</td>\n",
       "      <td>False</td>\n",
       "      <td>1202</td>\n",
       "      <td>1157.0</td>\n",
       "      <td>0.0</td>\n",
       "      <td>-5.0</td>\n",
       "      <td>...</td>\n",
       "      <td>1210.0</td>\n",
       "      <td>1246.0</td>\n",
       "      <td>12.0</td>\n",
       "      <td>1304</td>\n",
       "      <td>-6.0</td>\n",
       "      <td>0.0</td>\n",
       "      <td>-1.0</td>\n",
       "      <td>1300-1359</td>\n",
       "      <td>1</td>\n",
       "      <td>0.0</td>\n",
       "    </tr>\n",
       "    <tr>\n",
       "      <th>2</th>\n",
       "      <td>2018-01-25</td>\n",
       "      <td>Endeavor Air Inc.</td>\n",
       "      <td>ABY</td>\n",
       "      <td>ATL</td>\n",
       "      <td>False</td>\n",
       "      <td>False</td>\n",
       "      <td>1202</td>\n",
       "      <td>1153.0</td>\n",
       "      <td>0.0</td>\n",
       "      <td>-9.0</td>\n",
       "      <td>...</td>\n",
       "      <td>1211.0</td>\n",
       "      <td>1251.0</td>\n",
       "      <td>11.0</td>\n",
       "      <td>1304</td>\n",
       "      <td>-2.0</td>\n",
       "      <td>0.0</td>\n",
       "      <td>-1.0</td>\n",
       "      <td>1300-1359</td>\n",
       "      <td>1</td>\n",
       "      <td>0.0</td>\n",
       "    </tr>\n",
       "    <tr>\n",
       "      <th>3</th>\n",
       "      <td>2018-01-26</td>\n",
       "      <td>Endeavor Air Inc.</td>\n",
       "      <td>ABY</td>\n",
       "      <td>ATL</td>\n",
       "      <td>False</td>\n",
       "      <td>False</td>\n",
       "      <td>1202</td>\n",
       "      <td>1150.0</td>\n",
       "      <td>0.0</td>\n",
       "      <td>-12.0</td>\n",
       "      <td>...</td>\n",
       "      <td>1207.0</td>\n",
       "      <td>1242.0</td>\n",
       "      <td>11.0</td>\n",
       "      <td>1304</td>\n",
       "      <td>-11.0</td>\n",
       "      <td>0.0</td>\n",
       "      <td>-1.0</td>\n",
       "      <td>1300-1359</td>\n",
       "      <td>1</td>\n",
       "      <td>0.0</td>\n",
       "    </tr>\n",
       "    <tr>\n",
       "      <th>4</th>\n",
       "      <td>2018-01-27</td>\n",
       "      <td>Endeavor Air Inc.</td>\n",
       "      <td>ABY</td>\n",
       "      <td>ATL</td>\n",
       "      <td>False</td>\n",
       "      <td>False</td>\n",
       "      <td>1400</td>\n",
       "      <td>1355.0</td>\n",
       "      <td>0.0</td>\n",
       "      <td>-5.0</td>\n",
       "      <td>...</td>\n",
       "      <td>1412.0</td>\n",
       "      <td>1448.0</td>\n",
       "      <td>11.0</td>\n",
       "      <td>1500</td>\n",
       "      <td>-1.0</td>\n",
       "      <td>0.0</td>\n",
       "      <td>-1.0</td>\n",
       "      <td>1500-1559</td>\n",
       "      <td>1</td>\n",
       "      <td>0.0</td>\n",
       "    </tr>\n",
       "  </tbody>\n",
       "</table>\n",
       "<p>5 rows × 61 columns</p>\n",
       "</div>"
      ],
      "text/plain": [
       "   FlightDate            Airline Origin Dest  Cancelled  Diverted  CRSDepTime  \\\n",
       "0  2018-01-23  Endeavor Air Inc.    ABY  ATL      False     False        1202   \n",
       "1  2018-01-24  Endeavor Air Inc.    ABY  ATL      False     False        1202   \n",
       "2  2018-01-25  Endeavor Air Inc.    ABY  ATL      False     False        1202   \n",
       "3  2018-01-26  Endeavor Air Inc.    ABY  ATL      False     False        1202   \n",
       "4  2018-01-27  Endeavor Air Inc.    ABY  ATL      False     False        1400   \n",
       "\n",
       "   DepTime  DepDelayMinutes  DepDelay  ...  WheelsOff  WheelsOn  TaxiIn  \\\n",
       "0   1157.0              0.0      -5.0  ...     1211.0    1249.0     7.0   \n",
       "1   1157.0              0.0      -5.0  ...     1210.0    1246.0    12.0   \n",
       "2   1153.0              0.0      -9.0  ...     1211.0    1251.0    11.0   \n",
       "3   1150.0              0.0     -12.0  ...     1207.0    1242.0    11.0   \n",
       "4   1355.0              0.0      -5.0  ...     1412.0    1448.0    11.0   \n",
       "\n",
       "   CRSArrTime  ArrDelay  ArrDel15  ArrivalDelayGroups  ArrTimeBlk  \\\n",
       "0        1304      -8.0       0.0                -1.0   1300-1359   \n",
       "1        1304      -6.0       0.0                -1.0   1300-1359   \n",
       "2        1304      -2.0       0.0                -1.0   1300-1359   \n",
       "3        1304     -11.0       0.0                -1.0   1300-1359   \n",
       "4        1500      -1.0       0.0                -1.0   1500-1559   \n",
       "\n",
       "   DistanceGroup  DivAirportLandings  \n",
       "0              1                 0.0  \n",
       "1              1                 0.0  \n",
       "2              1                 0.0  \n",
       "3              1                 0.0  \n",
       "4              1                 0.0  \n",
       "\n",
       "[5 rows x 61 columns]"
      ]
     },
     "execution_count": 3,
     "metadata": {},
     "output_type": "execute_result"
    }
   ],
   "source": [
    "# Visualize dataframe to ensure it loaded correctly\n",
    "df_flights_2018.head()"
   ]
  },
  {
   "cell_type": "code",
   "execution_count": 4,
   "id": "4ce82858",
   "metadata": {
    "execution": {
     "iopub.execute_input": "2023-08-07T16:38:54.905159Z",
     "iopub.status.busy": "2023-08-07T16:38:54.904707Z",
     "iopub.status.idle": "2023-08-07T16:38:54.931301Z",
     "shell.execute_reply": "2023-08-07T16:38:54.929205Z"
    },
    "papermill": {
     "duration": 0.049091,
     "end_time": "2023-08-07T16:38:54.934295",
     "exception": false,
     "start_time": "2023-08-07T16:38:54.885204",
     "status": "completed"
    },
    "tags": []
   },
   "outputs": [
    {
     "name": "stdout",
     "output_type": "stream",
     "text": [
      "<class 'pandas.core.frame.DataFrame'>\n",
      "Int64Index: 5578618 entries, 0 to 5689511\n",
      "Data columns (total 61 columns):\n",
      " #   Column                                   Dtype  \n",
      "---  ------                                   -----  \n",
      " 0   FlightDate                               object \n",
      " 1   Airline                                  object \n",
      " 2   Origin                                   object \n",
      " 3   Dest                                     object \n",
      " 4   Cancelled                                bool   \n",
      " 5   Diverted                                 bool   \n",
      " 6   CRSDepTime                               int64  \n",
      " 7   DepTime                                  float64\n",
      " 8   DepDelayMinutes                          float64\n",
      " 9   DepDelay                                 float64\n",
      " 10  ArrTime                                  float64\n",
      " 11  ArrDelayMinutes                          float64\n",
      " 12  AirTime                                  float64\n",
      " 13  CRSElapsedTime                           float64\n",
      " 14  ActualElapsedTime                        float64\n",
      " 15  Distance                                 float64\n",
      " 16  Year                                     int64  \n",
      " 17  Quarter                                  int64  \n",
      " 18  Month                                    int64  \n",
      " 19  DayofMonth                               int64  \n",
      " 20  DayOfWeek                                int64  \n",
      " 21  Marketing_Airline_Network                object \n",
      " 22  Operated_or_Branded_Code_Share_Partners  object \n",
      " 23  DOT_ID_Marketing_Airline                 int64  \n",
      " 24  IATA_Code_Marketing_Airline              object \n",
      " 25  Flight_Number_Marketing_Airline          int64  \n",
      " 26  Operating_Airline                        object \n",
      " 27  DOT_ID_Operating_Airline                 int64  \n",
      " 28  IATA_Code_Operating_Airline              object \n",
      " 29  Tail_Number                              object \n",
      " 30  Flight_Number_Operating_Airline          int64  \n",
      " 31  OriginAirportID                          int64  \n",
      " 32  OriginAirportSeqID                       int64  \n",
      " 33  OriginCityMarketID                       int64  \n",
      " 34  OriginCityName                           object \n",
      " 35  OriginState                              object \n",
      " 36  OriginStateFips                          int64  \n",
      " 37  OriginStateName                          object \n",
      " 38  OriginWac                                int64  \n",
      " 39  DestAirportID                            int64  \n",
      " 40  DestAirportSeqID                         int64  \n",
      " 41  DestCityMarketID                         int64  \n",
      " 42  DestCityName                             object \n",
      " 43  DestState                                object \n",
      " 44  DestStateFips                            int64  \n",
      " 45  DestStateName                            object \n",
      " 46  DestWac                                  int64  \n",
      " 47  DepDel15                                 float64\n",
      " 48  DepartureDelayGroups                     float64\n",
      " 49  DepTimeBlk                               object \n",
      " 50  TaxiOut                                  float64\n",
      " 51  WheelsOff                                float64\n",
      " 52  WheelsOn                                 float64\n",
      " 53  TaxiIn                                   float64\n",
      " 54  CRSArrTime                               int64  \n",
      " 55  ArrDelay                                 float64\n",
      " 56  ArrDel15                                 float64\n",
      " 57  ArrivalDelayGroups                       float64\n",
      " 58  ArrTimeBlk                               object \n",
      " 59  DistanceGroup                            int64  \n",
      " 60  DivAirportLandings                       float64\n",
      "dtypes: bool(2), float64(19), int64(22), object(18)\n",
      "memory usage: 2.5+ GB\n"
     ]
    }
   ],
   "source": [
    "# Vizualize columns and data types \n",
    "df_flights_2018.info()"
   ]
  },
  {
   "cell_type": "markdown",
   "id": "0ba68c0a",
   "metadata": {
    "papermill": {
     "duration": 0.017682,
     "end_time": "2023-08-07T16:38:54.969746",
     "exception": false,
     "start_time": "2023-08-07T16:38:54.952064",
     "status": "completed"
    },
    "tags": []
   },
   "source": [
    "### Section 2: Initial Data Cleaning and Wrangling"
   ]
  },
  {
   "cell_type": "code",
   "execution_count": 5,
   "id": "e0973f22",
   "metadata": {
    "execution": {
     "iopub.execute_input": "2023-08-07T16:38:55.009196Z",
     "iopub.status.busy": "2023-08-07T16:38:55.008756Z",
     "iopub.status.idle": "2023-08-07T16:39:05.892755Z",
     "shell.execute_reply": "2023-08-07T16:39:05.891658Z"
    },
    "papermill": {
     "duration": 10.907018,
     "end_time": "2023-08-07T16:39:05.895684",
     "exception": false,
     "start_time": "2023-08-07T16:38:54.988666",
     "status": "completed"
    },
    "tags": []
   },
   "outputs": [],
   "source": [
    "# Cast FlightDate column to datetime format\n",
    "df_flights_2018[\"FlightDate\"] = pd.to_datetime(df_flights_2018[\"FlightDate\"])\n",
    "\n",
    "# Cast Airline column to String\n",
    "df_flights_2018[\"Airline\"] = df_flights_2018[\"Airline\"].astype(str)\n",
    "\n",
    "# Change Origin and Destination columns to String\n",
    "df_flights_2018[\"Origin\"] = df_flights_2018[\"Origin\"].astype(str)\n",
    "df_flights_2018[\"Dest\"] = df_flights_2018[\"Dest\"].astype(str)\n",
    "\n",
    "# Now we want to remove any 'known' values that could predict the outcome. For example, DepDel15 would \n",
    "# indicate we're going to be delayed and bias the model. So we're going to drop all these values \n",
    "# that we would not know in advance while we're waiting for a plane to take off. This includes \n",
    "# all the arrival values, diverted values, cancelled values, etc... We also remove a lot of the \n",
    "# redudant location information to make the dataset more manageable with regard to memory size.\n",
    "keeper_columns = [\"Quarter\",\"DayOfWeek\", \"FlightDate\",\n",
    "                  \"Airline\",\"Origin\", \"OriginState\",\n",
    "                  \"Dest\", \"DestState\",\"CRSDepTime\",\n",
    "                  \"Distance\", \"DepDelayMinutes\"]\n",
    "\n",
    "# Save a smaller projection of our original (large) dataset to work with\n",
    "df_flights_2018_clean = df_flights_2018[keeper_columns].copy() # IS .COPY() METHOD REDUNDANT HERE?\n",
    "\n",
    "# DepDelay is our target column for prediction. Let's rename that as dep_min_delay for readability.\n",
    "df_flights_2018_clean.rename(columns={\"DepDelayMinutes\": \"dep_min_delay\"}, inplace=True)\n",
    "\n",
    "# CRSDepTime and DepTimeBlk are unclear. Let's rename those for readability.\n",
    "df_flights_2018_clean.rename(columns={\"CRSDepTime\": \"schedule_dep_time\", \n",
    "                                      \"DepTimeBlk\": \"scheduled_dep_block\"}, inplace=True)\n",
    "\n",
    "# Convert the type of our target value - dep_min_delay - to int and round it\n",
    "df_flights_2018_clean[\"dep_min_delay\"] = df_flights_2018_clean[\"dep_min_delay\"].round().astype(int)\n",
    "\n",
    "# Convert Distance column to int \n",
    "df_flights_2018_clean[\"Distance\"] = df_flights_2018_clean[\"Distance\"].astype(int)\n",
    "\n",
    "# Adjusting our date time fields (year, month, day)\n",
    "# Handling datetime data (if applicable)\n",
    "df_flights_2018_clean['Year'] = df_flights_2018_clean['FlightDate'].dt.year # IT SEEMS LIKE WE WOULD NOT NEED THIS AS \n",
    "# ALL DATA IS IN THE SAME YEAR - 2018\n",
    "df_flights_2018_clean['Month'] = df_flights_2018_clean['FlightDate'].dt.month\n",
    "df_flights_2018_clean['Day'] = df_flights_2018_clean['FlightDate'].dt.day"
   ]
  },
  {
   "cell_type": "code",
   "execution_count": 6,
   "id": "f9141fc7",
   "metadata": {
    "execution": {
     "iopub.execute_input": "2023-08-07T16:39:05.936192Z",
     "iopub.status.busy": "2023-08-07T16:39:05.935643Z",
     "iopub.status.idle": "2023-08-07T16:39:05.939969Z",
     "shell.execute_reply": "2023-08-07T16:39:05.939078Z"
    },
    "papermill": {
     "duration": 0.026204,
     "end_time": "2023-08-07T16:39:05.942243",
     "exception": false,
     "start_time": "2023-08-07T16:39:05.916039",
     "status": "completed"
    },
    "tags": []
   },
   "outputs": [],
   "source": [
    "# To save memory we now delete our original dataset\n",
    "# del df_flights_2018\n",
    "# gc.collect()"
   ]
  },
  {
   "cell_type": "code",
   "execution_count": 7,
   "id": "5e4aef34",
   "metadata": {
    "execution": {
     "iopub.execute_input": "2023-08-07T16:39:05.980347Z",
     "iopub.status.busy": "2023-08-07T16:39:05.979051Z",
     "iopub.status.idle": "2023-08-07T16:39:05.997510Z",
     "shell.execute_reply": "2023-08-07T16:39:05.996307Z"
    },
    "papermill": {
     "duration": 0.04055,
     "end_time": "2023-08-07T16:39:06.000458",
     "exception": false,
     "start_time": "2023-08-07T16:39:05.959908",
     "status": "completed"
    },
    "tags": []
   },
   "outputs": [
    {
     "data": {
      "text/html": [
       "<div>\n",
       "<style scoped>\n",
       "    .dataframe tbody tr th:only-of-type {\n",
       "        vertical-align: middle;\n",
       "    }\n",
       "\n",
       "    .dataframe tbody tr th {\n",
       "        vertical-align: top;\n",
       "    }\n",
       "\n",
       "    .dataframe thead th {\n",
       "        text-align: right;\n",
       "    }\n",
       "</style>\n",
       "<table border=\"1\" class=\"dataframe\">\n",
       "  <thead>\n",
       "    <tr style=\"text-align: right;\">\n",
       "      <th></th>\n",
       "      <th>Quarter</th>\n",
       "      <th>DayOfWeek</th>\n",
       "      <th>FlightDate</th>\n",
       "      <th>Airline</th>\n",
       "      <th>Origin</th>\n",
       "      <th>OriginState</th>\n",
       "      <th>Dest</th>\n",
       "      <th>DestState</th>\n",
       "      <th>schedule_dep_time</th>\n",
       "      <th>Distance</th>\n",
       "      <th>dep_min_delay</th>\n",
       "      <th>Year</th>\n",
       "      <th>Month</th>\n",
       "      <th>Day</th>\n",
       "    </tr>\n",
       "  </thead>\n",
       "  <tbody>\n",
       "    <tr>\n",
       "      <th>0</th>\n",
       "      <td>1</td>\n",
       "      <td>2</td>\n",
       "      <td>2018-01-23</td>\n",
       "      <td>Endeavor Air Inc.</td>\n",
       "      <td>ABY</td>\n",
       "      <td>GA</td>\n",
       "      <td>ATL</td>\n",
       "      <td>GA</td>\n",
       "      <td>1202</td>\n",
       "      <td>145</td>\n",
       "      <td>0</td>\n",
       "      <td>2018</td>\n",
       "      <td>1</td>\n",
       "      <td>23</td>\n",
       "    </tr>\n",
       "    <tr>\n",
       "      <th>1</th>\n",
       "      <td>1</td>\n",
       "      <td>3</td>\n",
       "      <td>2018-01-24</td>\n",
       "      <td>Endeavor Air Inc.</td>\n",
       "      <td>ABY</td>\n",
       "      <td>GA</td>\n",
       "      <td>ATL</td>\n",
       "      <td>GA</td>\n",
       "      <td>1202</td>\n",
       "      <td>145</td>\n",
       "      <td>0</td>\n",
       "      <td>2018</td>\n",
       "      <td>1</td>\n",
       "      <td>24</td>\n",
       "    </tr>\n",
       "    <tr>\n",
       "      <th>2</th>\n",
       "      <td>1</td>\n",
       "      <td>4</td>\n",
       "      <td>2018-01-25</td>\n",
       "      <td>Endeavor Air Inc.</td>\n",
       "      <td>ABY</td>\n",
       "      <td>GA</td>\n",
       "      <td>ATL</td>\n",
       "      <td>GA</td>\n",
       "      <td>1202</td>\n",
       "      <td>145</td>\n",
       "      <td>0</td>\n",
       "      <td>2018</td>\n",
       "      <td>1</td>\n",
       "      <td>25</td>\n",
       "    </tr>\n",
       "    <tr>\n",
       "      <th>3</th>\n",
       "      <td>1</td>\n",
       "      <td>5</td>\n",
       "      <td>2018-01-26</td>\n",
       "      <td>Endeavor Air Inc.</td>\n",
       "      <td>ABY</td>\n",
       "      <td>GA</td>\n",
       "      <td>ATL</td>\n",
       "      <td>GA</td>\n",
       "      <td>1202</td>\n",
       "      <td>145</td>\n",
       "      <td>0</td>\n",
       "      <td>2018</td>\n",
       "      <td>1</td>\n",
       "      <td>26</td>\n",
       "    </tr>\n",
       "    <tr>\n",
       "      <th>4</th>\n",
       "      <td>1</td>\n",
       "      <td>6</td>\n",
       "      <td>2018-01-27</td>\n",
       "      <td>Endeavor Air Inc.</td>\n",
       "      <td>ABY</td>\n",
       "      <td>GA</td>\n",
       "      <td>ATL</td>\n",
       "      <td>GA</td>\n",
       "      <td>1400</td>\n",
       "      <td>145</td>\n",
       "      <td>0</td>\n",
       "      <td>2018</td>\n",
       "      <td>1</td>\n",
       "      <td>27</td>\n",
       "    </tr>\n",
       "  </tbody>\n",
       "</table>\n",
       "</div>"
      ],
      "text/plain": [
       "   Quarter  DayOfWeek FlightDate            Airline Origin OriginState Dest  \\\n",
       "0        1          2 2018-01-23  Endeavor Air Inc.    ABY          GA  ATL   \n",
       "1        1          3 2018-01-24  Endeavor Air Inc.    ABY          GA  ATL   \n",
       "2        1          4 2018-01-25  Endeavor Air Inc.    ABY          GA  ATL   \n",
       "3        1          5 2018-01-26  Endeavor Air Inc.    ABY          GA  ATL   \n",
       "4        1          6 2018-01-27  Endeavor Air Inc.    ABY          GA  ATL   \n",
       "\n",
       "  DestState  schedule_dep_time  Distance  dep_min_delay  Year  Month  Day  \n",
       "0        GA               1202       145              0  2018      1   23  \n",
       "1        GA               1202       145              0  2018      1   24  \n",
       "2        GA               1202       145              0  2018      1   25  \n",
       "3        GA               1202       145              0  2018      1   26  \n",
       "4        GA               1400       145              0  2018      1   27  "
      ]
     },
     "execution_count": 7,
     "metadata": {},
     "output_type": "execute_result"
    }
   ],
   "source": [
    "# Visualize our DataFrame to ensure all operations were a success\n",
    "\n",
    "df_flights_2018_clean.head()"
   ]
  },
  {
   "cell_type": "code",
   "execution_count": 8,
   "id": "ec1c9760",
   "metadata": {
    "execution": {
     "iopub.execute_input": "2023-08-07T16:39:06.039803Z",
     "iopub.status.busy": "2023-08-07T16:39:06.039101Z",
     "iopub.status.idle": "2023-08-07T16:39:06.051295Z",
     "shell.execute_reply": "2023-08-07T16:39:06.049831Z"
    },
    "papermill": {
     "duration": 0.034942,
     "end_time": "2023-08-07T16:39:06.054113",
     "exception": false,
     "start_time": "2023-08-07T16:39:06.019171",
     "status": "completed"
    },
    "tags": []
   },
   "outputs": [
    {
     "name": "stdout",
     "output_type": "stream",
     "text": [
      "<class 'pandas.core.frame.DataFrame'>\n",
      "Int64Index: 5578618 entries, 0 to 5689511\n",
      "Data columns (total 14 columns):\n",
      " #   Column             Dtype         \n",
      "---  ------             -----         \n",
      " 0   Quarter            int64         \n",
      " 1   DayOfWeek          int64         \n",
      " 2   FlightDate         datetime64[ns]\n",
      " 3   Airline            object        \n",
      " 4   Origin             object        \n",
      " 5   OriginState        object        \n",
      " 6   Dest               object        \n",
      " 7   DestState          object        \n",
      " 8   schedule_dep_time  int64         \n",
      " 9   Distance           int64         \n",
      " 10  dep_min_delay      int64         \n",
      " 11  Year               int64         \n",
      " 12  Month              int64         \n",
      " 13  Day                int64         \n",
      "dtypes: datetime64[ns](1), int64(8), object(5)\n",
      "memory usage: 638.4+ MB\n"
     ]
    }
   ],
   "source": [
    "df_flights_2018_clean.info()"
   ]
  },
  {
   "cell_type": "code",
   "execution_count": 9,
   "id": "2ff4cc53",
   "metadata": {
    "execution": {
     "iopub.execute_input": "2023-08-07T16:39:06.092205Z",
     "iopub.status.busy": "2023-08-07T16:39:06.091806Z",
     "iopub.status.idle": "2023-08-07T16:39:06.098209Z",
     "shell.execute_reply": "2023-08-07T16:39:06.097057Z"
    },
    "papermill": {
     "duration": 0.028961,
     "end_time": "2023-08-07T16:39:06.101225",
     "exception": false,
     "start_time": "2023-08-07T16:39:06.072264",
     "status": "completed"
    },
    "tags": []
   },
   "outputs": [
    {
     "name": "stdout",
     "output_type": "stream",
     "text": [
      "At this point, our dataset still contains this many observations: 5578618\n"
     ]
    }
   ],
   "source": [
    "# Despite our previous efforts to reduce the absolute size of our data, like prioritizing data from 2018,\n",
    "# our dataframe is still very large. \n",
    "\n",
    "original_length = len(df_flights_2018_clean) # variable used later for printing\n",
    "print(\"At this point, our dataset still contains this many observations: \" + str(len(df_flights_2018_clean)))"
   ]
  },
  {
   "cell_type": "code",
   "execution_count": 10,
   "id": "5ed88a82",
   "metadata": {
    "execution": {
     "iopub.execute_input": "2023-08-07T16:39:06.139729Z",
     "iopub.status.busy": "2023-08-07T16:39:06.139287Z",
     "iopub.status.idle": "2023-08-07T16:39:07.093950Z",
     "shell.execute_reply": "2023-08-07T16:39:07.092155Z"
    },
    "papermill": {
     "duration": 0.976895,
     "end_time": "2023-08-07T16:39:07.096755",
     "exception": false,
     "start_time": "2023-08-07T16:39:06.119860",
     "status": "completed"
    },
    "tags": []
   },
   "outputs": [
    {
     "name": "stdout",
     "output_type": "stream",
     "text": [
      "ORD    282770\n",
      "DEN    249288\n",
      "ATL    221242\n",
      "LAX    181472\n",
      "IAH    161187\n",
      "SFO    154833\n",
      "EWR    145580\n",
      "LAS    143054\n",
      "SEA    130912\n",
      "DFW    129181\n",
      "PHX    117148\n",
      "MCO    115943\n",
      "BOS    112322\n",
      "CLT    109738\n",
      "DTW     98097\n",
      "LGA     95210\n",
      "BWI     95197\n",
      "MSP     88652\n",
      "FLL     86451\n",
      "IAD     84340\n",
      "Name: Origin, dtype: int64\n"
     ]
    }
   ],
   "source": [
    "# That's a lot of rows! So, before we start our ML modeling, we need to reduce the dataset even further. \n",
    "# It seems reasonable to try to trim down the airports, both as origins and destinations, because this \n",
    "# will take a large number of additional columns (and thus a lot of extra memory) to achieve \n",
    "# one-hot encoding.\n",
    "\n",
    "# Calculate the top 20 most popular airports for departures\n",
    "origin_counts = df_flights_2018_clean['Origin'].value_counts()\n",
    "top_origins = origin_counts.head(20)\n",
    "print(top_origins) # top_origins is of type 'Series' here"
   ]
  },
  {
   "cell_type": "code",
   "execution_count": 11,
   "id": "18a61680",
   "metadata": {
    "execution": {
     "iopub.execute_input": "2023-08-07T16:39:07.135601Z",
     "iopub.status.busy": "2023-08-07T16:39:07.134870Z",
     "iopub.status.idle": "2023-08-07T16:39:08.081650Z",
     "shell.execute_reply": "2023-08-07T16:39:08.080784Z"
    },
    "papermill": {
     "duration": 0.968955,
     "end_time": "2023-08-07T16:39:08.084222",
     "exception": false,
     "start_time": "2023-08-07T16:39:07.115267",
     "status": "completed"
    },
    "tags": []
   },
   "outputs": [
    {
     "name": "stdout",
     "output_type": "stream",
     "text": [
      "ORD    282130\n",
      "DEN    248875\n",
      "ATL    221544\n",
      "LAX    181687\n",
      "IAH    160930\n",
      "SFO    154863\n",
      "EWR    145303\n",
      "LAS    143180\n",
      "SEA    130771\n",
      "DFW    128629\n",
      "PHX    116948\n",
      "MCO    115777\n",
      "BOS    112434\n",
      "CLT    109519\n",
      "DTW     98349\n",
      "BWI     95016\n",
      "LGA     95002\n",
      "MSP     88739\n",
      "FLL     86389\n",
      "IAD     84278\n",
      "Name: Dest, dtype: int64\n"
     ]
    }
   ],
   "source": [
    "# Calculate the top 20 most popular airports for arrivals\n",
    "\n",
    "dest_counts = df_flights_2018_clean['Dest'].value_counts()\n",
    "top_dest = dest_counts.head(20)\n",
    "print(top_dest) # top_dest is of type 'Series' here"
   ]
  },
  {
   "cell_type": "code",
   "execution_count": 12,
   "id": "53f70fd0",
   "metadata": {
    "execution": {
     "iopub.execute_input": "2023-08-07T16:39:08.123429Z",
     "iopub.status.busy": "2023-08-07T16:39:08.123010Z",
     "iopub.status.idle": "2023-08-07T16:39:08.132994Z",
     "shell.execute_reply": "2023-08-07T16:39:08.131913Z"
    },
    "papermill": {
     "duration": 0.032281,
     "end_time": "2023-08-07T16:39:08.135426",
     "exception": false,
     "start_time": "2023-08-07T16:39:08.103145",
     "status": "completed"
    },
    "tags": []
   },
   "outputs": [
    {
     "name": "stdout",
     "output_type": "stream",
     "text": [
      "There are 0 different values between the top 20 destination and arrival airports.\n",
      "Wow, it actually looks like the lists are exactly the same, even their order!\n"
     ]
    }
   ],
   "source": [
    "# Now that we have our most popular destination and arrival airports, how many unique values are \n",
    "# represented between these 2 lists?\n",
    "\n",
    "different_values = len(set(list(top_origins.reset_index()['index'])) ^ set(list(top_dest.reset_index()['index'])))\n",
    "\n",
    "print(\"There are \" + str(different_values) + \" different values between the top 20 destination and arrival airports.\")\n",
    "print(\"Wow, it actually looks like the lists are exactly the same, even their order!\")"
   ]
  },
  {
   "cell_type": "code",
   "execution_count": 13,
   "id": "447d7eac",
   "metadata": {
    "execution": {
     "iopub.execute_input": "2023-08-07T16:39:08.176454Z",
     "iopub.status.busy": "2023-08-07T16:39:08.175416Z",
     "iopub.status.idle": "2023-08-07T16:39:09.925085Z",
     "shell.execute_reply": "2023-08-07T16:39:09.923776Z"
    },
    "papermill": {
     "duration": 1.773676,
     "end_time": "2023-08-07T16:39:09.927817",
     "exception": false,
     "start_time": "2023-08-07T16:39:08.154141",
     "status": "completed"
    },
    "tags": []
   },
   "outputs": [
    {
     "name": "stdout",
     "output_type": "stream",
     "text": [
      "Our original dataset had this many observations: 5578618\n",
      "After filtering on origin airports, it's now: 2802617\n",
      "After filtering on destination airports, it's now: 1113556\n",
      "\n",
      "Wow, we reduced our dataset by around 80.04 percent!\n"
     ]
    }
   ],
   "source": [
    "# Reduce our dataset even further by filtering out any observation whose origin AND destination \n",
    "# is not among the list of most popular airports that we computed above. Then visualize how \n",
    "# many observations were removedfrom our dataset after each step.\n",
    "\n",
    "# First we filter out any observation whose origin airport is not among the most popular airports computed above\n",
    "df_flights_2018_clean_reduced = df_flights_2018_clean[df_flights_2018_clean['Origin'].isin(top_origins.index)]\n",
    "reduced_1 = len(df_flights_2018_clean_reduced)\n",
    "\n",
    "# Next we filter out any observation whose destination airport is not among the most popular airports computed above\n",
    "df_flights_2018_clean_reduced = df_flights_2018_clean_reduced[df_flights_2018_clean_reduced['Dest'].isin(top_dest.index)]\n",
    "reduced_2 = len(df_flights_2018_clean_reduced)\n",
    "\n",
    "# Display results \n",
    "print(\"Our original dataset had this many observations: \" + str(original_length)) # original is 5.5 million rows\n",
    "print(\"After filtering on origin airports, it's now: \" \n",
    "      + str(reduced_1)) # after filtering origin 2.8 million rows\n",
    "print(\"After filtering on destination airports, it's now: \" \n",
    "      + str(reduced_2)) # now 1.1 million rows\n",
    "print(\"\\nWow, we reduced our dataset by around \" + str(round(100 *(1 - (reduced_2/original_length)), 2)) + \" percent!\")"
   ]
  },
  {
   "cell_type": "markdown",
   "id": "30e97e45",
   "metadata": {
    "papermill": {
     "duration": 0.018896,
     "end_time": "2023-08-07T16:39:09.966050",
     "exception": false,
     "start_time": "2023-08-07T16:39:09.947154",
     "status": "completed"
    },
    "tags": []
   },
   "source": [
    "### Section 3: Exploratory Data Analysis (EDA)"
   ]
  },
  {
   "cell_type": "code",
   "execution_count": 14,
   "id": "90e7ac5b",
   "metadata": {
    "execution": {
     "iopub.execute_input": "2023-08-07T16:39:10.006381Z",
     "iopub.status.busy": "2023-08-07T16:39:10.005203Z",
     "iopub.status.idle": "2023-08-07T16:39:10.302763Z",
     "shell.execute_reply": "2023-08-07T16:39:10.300995Z"
    },
    "papermill": {
     "duration": 0.320877,
     "end_time": "2023-08-07T16:39:10.305612",
     "exception": false,
     "start_time": "2023-08-07T16:39:09.984735",
     "status": "completed"
    },
    "tags": []
   },
   "outputs": [
    {
     "name": "stdout",
     "output_type": "stream",
     "text": [
      "Unique values in Airline column: 22\n",
      "\n",
      "Unique states in OriginState column: 17\n",
      "\n",
      "Unique states in DestState column: 17\n"
     ]
    }
   ],
   "source": [
    "# Now we want to make sure we haven't biased our data in some way by filtering as we have. Let's \n",
    "# verify a few statistics about our new working dataset to ensure we still have enough variety.\n",
    "\n",
    "# How many airlines are represented in our now filtered DataFrame\n",
    "print(\"Unique values in Airline column:\", df_flights_2018_clean_reduced['Airline'].nunique())\n",
    "#Ok, we still have 22 different airlines represented. This is good.\n",
    "\n",
    "# How many different states appear among our departure airports\n",
    "print(\"\\nUnique states in OriginState column:\", df_flights_2018_clean_reduced['OriginState'].nunique())\n",
    "\n",
    "# How many different states appear among our arrival airports\n",
    "print(\"\\nUnique states in DestState column:\", df_flights_2018_clean_reduced['OriginState'].nunique())"
   ]
  },
  {
   "cell_type": "code",
   "execution_count": 15,
   "id": "9a72f583",
   "metadata": {
    "execution": {
     "iopub.execute_input": "2023-08-07T16:39:10.347089Z",
     "iopub.status.busy": "2023-08-07T16:39:10.346685Z",
     "iopub.status.idle": "2023-08-07T16:39:11.032728Z",
     "shell.execute_reply": "2023-08-07T16:39:11.031548Z"
    },
    "papermill": {
     "duration": 0.710778,
     "end_time": "2023-08-07T16:39:11.035935",
     "exception": false,
     "start_time": "2023-08-07T16:39:10.325157",
     "status": "completed"
    },
    "tags": []
   },
   "outputs": [
    {
     "data": {
      "text/plain": [
       "<Figure size 800x600 with 0 Axes>"
      ]
     },
     "execution_count": 15,
     "metadata": {},
     "output_type": "execute_result"
    },
    {
     "data": {
      "image/png": "[encoded data removed]",
      "text/plain": [
       "<Figure size 640x480 with 1 Axes>"
      ]
     },
     "metadata": {},
     "output_type": "display_data"
    },
    {
     "data": {
      "text/plain": [
       "<Figure size 800x600 with 0 Axes>"
      ]
     },
     "metadata": {},
     "output_type": "display_data"
    }
   ],
   "source": [
    "# We feel that the values printed by the above cell are going to be a wide enough sample to \n",
    "# give us reliable results from our ML models. Now, let's explore our data a little bit.\n",
    "# Firstly, let's visualize our states to see where the bulk of our data is coming from.\n",
    "\n",
    "# Visualize most popular departure states\n",
    "temp_df = df_flights_2018_clean_reduced['OriginState'].value_counts().reset_index()\n",
    "\n",
    "plt.bar(temp_df['index'], temp_df['OriginState'], width=0.8, align='center')\n",
    "plt.xlabel(\"Departure State\")\n",
    "plt.ylabel(\"Number of Flights\")\n",
    "plt.title(\"Number of Departing Flights by State in Our Working Dataset\")\n",
    "plt.figure(figsize=(8,6))\n",
    "\n"
   ]
  },
  {
   "cell_type": "code",
   "execution_count": 16,
   "id": "9aa277de",
   "metadata": {
    "execution": {
     "iopub.execute_input": "2023-08-07T16:39:11.078255Z",
     "iopub.status.busy": "2023-08-07T16:39:11.077865Z",
     "iopub.status.idle": "2023-08-07T16:39:11.790667Z",
     "shell.execute_reply": "2023-08-07T16:39:11.789434Z"
    },
    "papermill": {
     "duration": 0.737631,
     "end_time": "2023-08-07T16:39:11.793796",
     "exception": false,
     "start_time": "2023-08-07T16:39:11.056165",
     "status": "completed"
    },
    "tags": []
   },
   "outputs": [
    {
     "data": {
      "text/plain": [
       "<Figure size 800x600 with 0 Axes>"
      ]
     },
     "execution_count": 16,
     "metadata": {},
     "output_type": "execute_result"
    },
    {
     "data": {
      "image/png": "[encoded data removed]",
      "text/plain": [
       "<Figure size 640x480 with 1 Axes>"
      ]
     },
     "metadata": {},
     "output_type": "display_data"
    },
    {
     "data": {
      "text/plain": [
       "<Figure size 800x600 with 0 Axes>"
      ]
     },
     "metadata": {},
     "output_type": "display_data"
    }
   ],
   "source": [
    "# Visualize most popular destination states\n",
    "temp_df2 = df_flights_2018_clean_reduced['DestState'].value_counts().reset_index()\n",
    "\n",
    "plt.bar(temp_df2['index'], temp_df2['DestState'], width=0.8, align='center')\n",
    "plt.xlabel(\"Arrival State\")\n",
    "plt.ylabel(\"Number of Flights\")\n",
    "plt.title(\"Number of Arrival Flights by State in Our Working Dataset\")\n",
    "plt.figure(figsize=(8,6))"
   ]
  },
  {
   "cell_type": "markdown",
   "id": "57084af0",
   "metadata": {
    "papermill": {
     "duration": 0.020595,
     "end_time": "2023-08-07T16:39:11.838499",
     "exception": false,
     "start_time": "2023-08-07T16:39:11.817904",
     "status": "completed"
    },
    "tags": []
   },
   "source": [
    "Visually, we can see that there are not 20 states in the above graphs. That means that there are \n",
    "multiple most popular airports in a single state as per the 'Pigeonhole Principle.' Yes, we did\n",
    "pay attention in Math Foundations 5920!"
   ]
  },
  {
   "cell_type": "code",
   "execution_count": 17,
   "id": "3339ae3e",
   "metadata": {
    "execution": {
     "iopub.execute_input": "2023-08-07T16:39:11.885030Z",
     "iopub.status.busy": "2023-08-07T16:39:11.883969Z",
     "iopub.status.idle": "2023-08-07T16:39:12.662315Z",
     "shell.execute_reply": "2023-08-07T16:39:12.661066Z"
    },
    "papermill": {
     "duration": 0.805139,
     "end_time": "2023-08-07T16:39:12.665087",
     "exception": false,
     "start_time": "2023-08-07T16:39:11.859948",
     "status": "completed"
    },
    "tags": []
   },
   "outputs": [
    {
     "data": {
      "text/plain": [
       "<Figure size 800x600 with 0 Axes>"
      ]
     },
     "execution_count": 17,
     "metadata": {},
     "output_type": "execute_result"
    },
    {
     "data": {
      "image/png": "[encoded data removed]",
      "text/plain": [
       "<Figure size 640x480 with 1 Axes>"
      ]
     },
     "metadata": {},
     "output_type": "display_data"
    },
    {
     "data": {
      "text/plain": [
       "<Figure size 800x600 with 0 Axes>"
      ]
     },
     "metadata": {},
     "output_type": "display_data"
    }
   ],
   "source": [
    "# We now consider the question of which airports have the worst departure delays\n",
    "\n",
    "airport_delays = df_flights_2018_clean_reduced.groupby('Origin')['dep_min_delay'].mean().sort_values(ascending=False).reset_index()\n",
    "\n",
    "plt.bar(airport_delays['Origin'], airport_delays['dep_min_delay'], width=.9, align='center')\n",
    "plt.xlabel(\"Departure Airport\")\n",
    "plt.ylabel(\"Average Delay of Flight in Minutes\")\n",
    "plt.title(\"Comparing Average Departure Delays by Airport\")\n",
    "plt.xticks(rotation=45)\n",
    "plt.figure(figsize=(8,6))"
   ]
  },
  {
   "cell_type": "markdown",
   "id": "9b9fc493",
   "metadata": {
    "papermill": {
     "duration": 0.021982,
     "end_time": "2023-08-07T16:39:12.709129",
     "exception": false,
     "start_time": "2023-08-07T16:39:12.687147",
     "status": "completed"
    },
    "tags": []
   },
   "source": [
    "Looking at our graph above, we can see that Newark (EWR) ranks the worst with respect to delays, averaging nearly 18 minutes, while LAX in Los Angeles and MSP in Minneapolis, MN have the shortest average delays around 11.3 minutes or so."
   ]
  },
  {
   "cell_type": "code",
   "execution_count": 18,
   "id": "fddd71be",
   "metadata": {
    "execution": {
     "iopub.execute_input": "2023-08-07T16:39:12.755896Z",
     "iopub.status.busy": "2023-08-07T16:39:12.755447Z",
     "iopub.status.idle": "2023-08-07T16:39:13.451575Z",
     "shell.execute_reply": "2023-08-07T16:39:13.450575Z"
    },
    "papermill": {
     "duration": 0.722676,
     "end_time": "2023-08-07T16:39:13.454407",
     "exception": false,
     "start_time": "2023-08-07T16:39:12.731731",
     "status": "completed"
    },
    "tags": []
   },
   "outputs": [
    {
     "data": {
      "text/plain": [
       "<Figure size 800x600 with 0 Axes>"
      ]
     },
     "execution_count": 18,
     "metadata": {},
     "output_type": "execute_result"
    },
    {
     "data": {
      "image/png": "[encoded data removed]",
      "text/plain": [
       "<Figure size 640x480 with 1 Axes>"
      ]
     },
     "metadata": {},
     "output_type": "display_data"
    },
    {
     "data": {
      "text/plain": [
       "<Figure size 800x600 with 0 Axes>"
      ]
     },
     "metadata": {},
     "output_type": "display_data"
    }
   ],
   "source": [
    "# Now that we have identified the airport with the longest average delays, let's explore which airlines\n",
    "# are responsible for the longest average delays.\n",
    "\n",
    "\n",
    "airline_delays = df_flights_2018_clean_reduced.groupby('Airline')['dep_min_delay'].mean().sort_values(ascending=False).reset_index()\n",
    "\n",
    "plt.bar(airline_delays['Airline'], airline_delays['dep_min_delay'], width=.9, align='center')\n",
    "plt.xlabel(\"Airline\")\n",
    "plt.ylabel(\"Average Delay of Flight in Minutes\")\n",
    "plt.title(\"Comparing Average Departure Delays by Airline\")\n",
    "plt.xticks(rotation=90)\n",
    "plt.figure(figsize=(8,6))\n"
   ]
  },
  {
   "cell_type": "markdown",
   "id": "52e2c78b",
   "metadata": {
    "papermill": {
     "duration": 0.023382,
     "end_time": "2023-08-07T16:39:13.501032",
     "exception": false,
     "start_time": "2023-08-07T16:39:13.477650",
     "status": "completed"
    },
    "tags": []
   },
   "source": [
    "Wow! The average delay of Trans States Airlines is nearly 3x that of Delta Air Lines!"
   ]
  },
  {
   "cell_type": "code",
   "execution_count": 19,
   "id": "11cfaee4",
   "metadata": {
    "execution": {
     "iopub.execute_input": "2023-08-07T16:39:13.550012Z",
     "iopub.status.busy": "2023-08-07T16:39:13.549579Z",
     "iopub.status.idle": "2023-08-07T16:39:13.804396Z",
     "shell.execute_reply": "2023-08-07T16:39:13.803248Z"
    },
    "papermill": {
     "duration": 0.281796,
     "end_time": "2023-08-07T16:39:13.807013",
     "exception": false,
     "start_time": "2023-08-07T16:39:13.525217",
     "status": "completed"
    },
    "tags": []
   },
   "outputs": [
    {
     "data": {
      "text/html": [
       "<div>\n",
       "<style scoped>\n",
       "    .dataframe tbody tr th:only-of-type {\n",
       "        vertical-align: middle;\n",
       "    }\n",
       "\n",
       "    .dataframe tbody tr th {\n",
       "        vertical-align: top;\n",
       "    }\n",
       "\n",
       "    .dataframe thead th {\n",
       "        text-align: right;\n",
       "    }\n",
       "</style>\n",
       "<table border=\"1\" class=\"dataframe\">\n",
       "  <thead>\n",
       "    <tr style=\"text-align: right;\">\n",
       "      <th></th>\n",
       "      <th>Airline</th>\n",
       "      <th>Avg_Delays_EWR</th>\n",
       "      <th>Avg_Delays_Overall</th>\n",
       "    </tr>\n",
       "  </thead>\n",
       "  <tbody>\n",
       "    <tr>\n",
       "      <th>0</th>\n",
       "      <td>Commutair Aka Champlain Enterprises, Inc.</td>\n",
       "      <td>33.449130</td>\n",
       "      <td>31.324071</td>\n",
       "    </tr>\n",
       "    <tr>\n",
       "      <th>1</th>\n",
       "      <td>JetBlue Airways</td>\n",
       "      <td>29.137893</td>\n",
       "      <td>21.440701</td>\n",
       "    </tr>\n",
       "    <tr>\n",
       "      <th>2</th>\n",
       "      <td>GoJet Airlines, LLC d/b/a United Express</td>\n",
       "      <td>24.712707</td>\n",
       "      <td>17.472132</td>\n",
       "    </tr>\n",
       "    <tr>\n",
       "      <th>3</th>\n",
       "      <td>SkyWest Airlines Inc.</td>\n",
       "      <td>23.080597</td>\n",
       "      <td>15.701901</td>\n",
       "    </tr>\n",
       "    <tr>\n",
       "      <th>4</th>\n",
       "      <td>United Air Lines Inc.</td>\n",
       "      <td>17.828883</td>\n",
       "      <td>13.885171</td>\n",
       "    </tr>\n",
       "    <tr>\n",
       "      <th>5</th>\n",
       "      <td>Endeavor Air Inc.</td>\n",
       "      <td>17.422907</td>\n",
       "      <td>14.799364</td>\n",
       "    </tr>\n",
       "    <tr>\n",
       "      <th>6</th>\n",
       "      <td>Spirit Air Lines</td>\n",
       "      <td>17.165151</td>\n",
       "      <td>14.202155</td>\n",
       "    </tr>\n",
       "    <tr>\n",
       "      <th>7</th>\n",
       "      <td>ExpressJet Airlines Inc.</td>\n",
       "      <td>16.217718</td>\n",
       "      <td>24.912416</td>\n",
       "    </tr>\n",
       "    <tr>\n",
       "      <th>8</th>\n",
       "      <td>Southwest Airlines Co.</td>\n",
       "      <td>15.275273</td>\n",
       "      <td>14.283506</td>\n",
       "    </tr>\n",
       "    <tr>\n",
       "      <th>9</th>\n",
       "      <td>Delta Air Lines Inc.</td>\n",
       "      <td>13.630078</td>\n",
       "      <td>9.453402</td>\n",
       "    </tr>\n",
       "    <tr>\n",
       "      <th>10</th>\n",
       "      <td>Alaska Airlines Inc.</td>\n",
       "      <td>13.369603</td>\n",
       "      <td>9.735855</td>\n",
       "    </tr>\n",
       "    <tr>\n",
       "      <th>11</th>\n",
       "      <td>Virgin America</td>\n",
       "      <td>12.693204</td>\n",
       "      <td>11.523202</td>\n",
       "    </tr>\n",
       "    <tr>\n",
       "      <th>12</th>\n",
       "      <td>American Airlines Inc.</td>\n",
       "      <td>12.576264</td>\n",
       "      <td>13.470908</td>\n",
       "    </tr>\n",
       "    <tr>\n",
       "      <th>13</th>\n",
       "      <td>Republic Airlines</td>\n",
       "      <td>11.540554</td>\n",
       "      <td>14.328728</td>\n",
       "    </tr>\n",
       "    <tr>\n",
       "      <th>14</th>\n",
       "      <td>Envoy Air</td>\n",
       "      <td>9.394737</td>\n",
       "      <td>11.547651</td>\n",
       "    </tr>\n",
       "  </tbody>\n",
       "</table>\n",
       "</div>"
      ],
      "text/plain": [
       "                                      Airline  Avg_Delays_EWR  \\\n",
       "0   Commutair Aka Champlain Enterprises, Inc.       33.449130   \n",
       "1                             JetBlue Airways       29.137893   \n",
       "2    GoJet Airlines, LLC d/b/a United Express       24.712707   \n",
       "3                       SkyWest Airlines Inc.       23.080597   \n",
       "4                       United Air Lines Inc.       17.828883   \n",
       "5                           Endeavor Air Inc.       17.422907   \n",
       "6                            Spirit Air Lines       17.165151   \n",
       "7                    ExpressJet Airlines Inc.       16.217718   \n",
       "8                      Southwest Airlines Co.       15.275273   \n",
       "9                        Delta Air Lines Inc.       13.630078   \n",
       "10                       Alaska Airlines Inc.       13.369603   \n",
       "11                             Virgin America       12.693204   \n",
       "12                     American Airlines Inc.       12.576264   \n",
       "13                          Republic Airlines       11.540554   \n",
       "14                                  Envoy Air        9.394737   \n",
       "\n",
       "    Avg_Delays_Overall  \n",
       "0            31.324071  \n",
       "1            21.440701  \n",
       "2            17.472132  \n",
       "3            15.701901  \n",
       "4            13.885171  \n",
       "5            14.799364  \n",
       "6            14.202155  \n",
       "7            24.912416  \n",
       "8            14.283506  \n",
       "9             9.453402  \n",
       "10            9.735855  \n",
       "11           11.523202  \n",
       "12           13.470908  \n",
       "13           14.328728  \n",
       "14           11.547651  "
      ]
     },
     "execution_count": 19,
     "metadata": {},
     "output_type": "execute_result"
    }
   ],
   "source": [
    "# Now that we understand which airports and airlines tend to have the longest delays, let's see if there \n",
    "# is any correlation between the slowest airlines at Newark (the slowest airport) and the slowest\n",
    "# airlines overall.\n",
    "\n",
    "airline_delays_EWR = df_flights_2018_clean_reduced[df_flights_2018_clean_reduced['Origin'] == 'EWR'].groupby('Airline')['dep_min_delay'].mean().sort_values(ascending=False).reset_index()\n",
    "\n",
    "pd.merge(airline_delays_EWR, airline_delays, how=\"inner\", on='Airline').rename(columns={\"dep_min_delay_y\": \"Avg_Delays_Overall\", \"dep_min_delay_x\": \"Avg_Delays_EWR\"}).head(20)"
   ]
  },
  {
   "cell_type": "markdown",
   "id": "2046b176",
   "metadata": {
    "papermill": {
     "duration": 0.024003,
     "end_time": "2023-08-07T16:39:13.854896",
     "exception": false,
     "start_time": "2023-08-07T16:39:13.830893",
     "status": "completed"
    },
    "tags": []
   },
   "source": [
    "In looking at how airlines tend to experience delays overall versus at Newark specifically, it actually\n",
    "seems that the airport itself might be having an effect. Of the 15 airlines addressed above,\n",
    "11 perform worse with respect to delays at EWR, meaning that their delays are longer at this\n",
    "particular airport than they tend to be overall. In summary, we hope that you are not flying \n",
    "Commutair or JetBlue out of Newark any time soon!"
   ]
  },
  {
   "cell_type": "markdown",
   "id": "129829a4",
   "metadata": {
    "papermill": {
     "duration": 0.023776,
     "end_time": "2023-08-07T16:39:13.902507",
     "exception": false,
     "start_time": "2023-08-07T16:39:13.878731",
     "status": "completed"
    },
    "tags": []
   },
   "source": [
    "### Section 4: Preparation for Modeling"
   ]
  },
  {
   "cell_type": "code",
   "execution_count": 20,
   "id": "790f0b06",
   "metadata": {
    "execution": {
     "iopub.execute_input": "2023-08-07T16:39:13.952797Z",
     "iopub.status.busy": "2023-08-07T16:39:13.952313Z",
     "iopub.status.idle": "2023-08-07T16:39:13.968978Z",
     "shell.execute_reply": "2023-08-07T16:39:13.968073Z"
    },
    "papermill": {
     "duration": 0.044253,
     "end_time": "2023-08-07T16:39:13.971143",
     "exception": false,
     "start_time": "2023-08-07T16:39:13.926890",
     "status": "completed"
    },
    "tags": []
   },
   "outputs": [
    {
     "data": {
      "text/html": [
       "<div>\n",
       "<style scoped>\n",
       "    .dataframe tbody tr th:only-of-type {\n",
       "        vertical-align: middle;\n",
       "    }\n",
       "\n",
       "    .dataframe tbody tr th {\n",
       "        vertical-align: top;\n",
       "    }\n",
       "\n",
       "    .dataframe thead th {\n",
       "        text-align: right;\n",
       "    }\n",
       "</style>\n",
       "<table border=\"1\" class=\"dataframe\">\n",
       "  <thead>\n",
       "    <tr style=\"text-align: right;\">\n",
       "      <th></th>\n",
       "      <th>Quarter</th>\n",
       "      <th>DayOfWeek</th>\n",
       "      <th>FlightDate</th>\n",
       "      <th>Airline</th>\n",
       "      <th>Origin</th>\n",
       "      <th>OriginState</th>\n",
       "      <th>Dest</th>\n",
       "      <th>DestState</th>\n",
       "      <th>schedule_dep_time</th>\n",
       "      <th>Distance</th>\n",
       "      <th>dep_min_delay</th>\n",
       "      <th>Year</th>\n",
       "      <th>Month</th>\n",
       "      <th>Day</th>\n",
       "    </tr>\n",
       "  </thead>\n",
       "  <tbody>\n",
       "    <tr>\n",
       "      <th>305</th>\n",
       "      <td>1</td>\n",
       "      <td>1</td>\n",
       "      <td>2018-01-01</td>\n",
       "      <td>Endeavor Air Inc.</td>\n",
       "      <td>ATL</td>\n",
       "      <td>GA</td>\n",
       "      <td>IAH</td>\n",
       "      <td>TX</td>\n",
       "      <td>1151</td>\n",
       "      <td>689</td>\n",
       "      <td>141</td>\n",
       "      <td>2018</td>\n",
       "      <td>1</td>\n",
       "      <td>1</td>\n",
       "    </tr>\n",
       "    <tr>\n",
       "      <th>365</th>\n",
       "      <td>1</td>\n",
       "      <td>2</td>\n",
       "      <td>2018-01-02</td>\n",
       "      <td>Endeavor Air Inc.</td>\n",
       "      <td>DTW</td>\n",
       "      <td>MI</td>\n",
       "      <td>DFW</td>\n",
       "      <td>TX</td>\n",
       "      <td>1540</td>\n",
       "      <td>986</td>\n",
       "      <td>7</td>\n",
       "      <td>2018</td>\n",
       "      <td>1</td>\n",
       "      <td>2</td>\n",
       "    </tr>\n",
       "    <tr>\n",
       "      <th>399</th>\n",
       "      <td>1</td>\n",
       "      <td>2</td>\n",
       "      <td>2018-01-02</td>\n",
       "      <td>Endeavor Air Inc.</td>\n",
       "      <td>DTW</td>\n",
       "      <td>MI</td>\n",
       "      <td>LGA</td>\n",
       "      <td>NY</td>\n",
       "      <td>1733</td>\n",
       "      <td>502</td>\n",
       "      <td>14</td>\n",
       "      <td>2018</td>\n",
       "      <td>1</td>\n",
       "      <td>2</td>\n",
       "    </tr>\n",
       "    <tr>\n",
       "      <th>452</th>\n",
       "      <td>1</td>\n",
       "      <td>3</td>\n",
       "      <td>2018-01-10</td>\n",
       "      <td>Endeavor Air Inc.</td>\n",
       "      <td>DTW</td>\n",
       "      <td>MI</td>\n",
       "      <td>IAD</td>\n",
       "      <td>VA</td>\n",
       "      <td>720</td>\n",
       "      <td>383</td>\n",
       "      <td>0</td>\n",
       "      <td>2018</td>\n",
       "      <td>1</td>\n",
       "      <td>10</td>\n",
       "    </tr>\n",
       "    <tr>\n",
       "      <th>453</th>\n",
       "      <td>1</td>\n",
       "      <td>3</td>\n",
       "      <td>2018-01-10</td>\n",
       "      <td>Endeavor Air Inc.</td>\n",
       "      <td>IAD</td>\n",
       "      <td>VA</td>\n",
       "      <td>DTW</td>\n",
       "      <td>MI</td>\n",
       "      <td>944</td>\n",
       "      <td>383</td>\n",
       "      <td>2</td>\n",
       "      <td>2018</td>\n",
       "      <td>1</td>\n",
       "      <td>10</td>\n",
       "    </tr>\n",
       "  </tbody>\n",
       "</table>\n",
       "</div>"
      ],
      "text/plain": [
       "     Quarter  DayOfWeek FlightDate            Airline Origin OriginState Dest  \\\n",
       "305        1          1 2018-01-01  Endeavor Air Inc.    ATL          GA  IAH   \n",
       "365        1          2 2018-01-02  Endeavor Air Inc.    DTW          MI  DFW   \n",
       "399        1          2 2018-01-02  Endeavor Air Inc.    DTW          MI  LGA   \n",
       "452        1          3 2018-01-10  Endeavor Air Inc.    DTW          MI  IAD   \n",
       "453        1          3 2018-01-10  Endeavor Air Inc.    IAD          VA  DTW   \n",
       "\n",
       "    DestState  schedule_dep_time  Distance  dep_min_delay  Year  Month  Day  \n",
       "305        TX               1151       689            141  2018      1    1  \n",
       "365        TX               1540       986              7  2018      1    2  \n",
       "399        NY               1733       502             14  2018      1    2  \n",
       "452        VA                720       383              0  2018      1   10  \n",
       "453        MI                944       383              2  2018      1   10  "
      ]
     },
     "execution_count": 20,
     "metadata": {},
     "output_type": "execute_result"
    }
   ],
   "source": [
    "# First let's remind ourselves what our current dataset looks like currently\n",
    "df_flights_2018_clean_reduced.head()"
   ]
  },
  {
   "cell_type": "code",
   "execution_count": 21,
   "id": "84381ea3",
   "metadata": {
    "execution": {
     "iopub.execute_input": "2023-08-07T16:39:14.022364Z",
     "iopub.status.busy": "2023-08-07T16:39:14.021612Z",
     "iopub.status.idle": "2023-08-07T16:39:15.883087Z",
     "shell.execute_reply": "2023-08-07T16:39:15.882066Z"
    },
    "papermill": {
     "duration": 1.890069,
     "end_time": "2023-08-07T16:39:15.885741",
     "exception": false,
     "start_time": "2023-08-07T16:39:13.995672",
     "status": "completed"
    },
    "tags": []
   },
   "outputs": [
    {
     "name": "stdout",
     "output_type": "stream",
     "text": [
      "<class 'pandas.core.frame.DataFrame'>\n",
      "Int64Index: 1113556 entries, 305 to 5689396\n",
      "Data columns (total 14 columns):\n",
      " #   Column             Non-Null Count    Dtype         \n",
      "---  ------             --------------    -----         \n",
      " 0   Quarter            1113556 non-null  int64         \n",
      " 1   DayOfWeek          1113556 non-null  int64         \n",
      " 2   FlightDate         1113556 non-null  datetime64[ns]\n",
      " 3   Airline            1113556 non-null  object        \n",
      " 4   Origin             1113556 non-null  object        \n",
      " 5   OriginState        1113556 non-null  object        \n",
      " 6   Dest               1113556 non-null  object        \n",
      " 7   DestState          1113556 non-null  object        \n",
      " 8   schedule_dep_time  1113556 non-null  int64         \n",
      " 9   Distance           1113556 non-null  int64         \n",
      " 10  dep_min_delay      1113556 non-null  int64         \n",
      " 11  Year               1113556 non-null  int64         \n",
      " 12  Month              1113556 non-null  int64         \n",
      " 13  Day                1113556 non-null  int64         \n",
      "dtypes: datetime64[ns](1), int64(8), object(5)\n",
      "memory usage: 127.4+ MB\n"
     ]
    }
   ],
   "source": [
    "df_flights_2018_clean_reduced.info()"
   ]
  },
  {
   "cell_type": "code",
   "execution_count": 22,
   "id": "e8e3b098",
   "metadata": {
    "execution": {
     "iopub.execute_input": "2023-08-07T16:39:15.937085Z",
     "iopub.status.busy": "2023-08-07T16:39:15.936074Z",
     "iopub.status.idle": "2023-08-07T16:39:19.352181Z",
     "shell.execute_reply": "2023-08-07T16:39:19.350953Z"
    },
    "papermill": {
     "duration": 3.444854,
     "end_time": "2023-08-07T16:39:19.355119",
     "exception": false,
     "start_time": "2023-08-07T16:39:15.910265",
     "status": "completed"
    },
    "tags": []
   },
   "outputs": [
    {
     "name": "stderr",
     "output_type": "stream",
     "text": [
      "/opt/conda/lib/python3.10/site-packages/scipy/__init__.py:146: UserWarning: A NumPy version >=1.16.5 and <1.23.0 is required for this version of SciPy (detected version 1.23.5\n",
      "  warnings.warn(f\"A NumPy version >={np_minversion} and <{np_maxversion}\"\n"
     ]
    }
   ],
   "source": [
    "# In order to effectively use our dataset with ML models, we need to one-hot-encode five values:\n",
    "# \"Airline\" (22 values), \"Origin\" (20 values), \"OriginState\" (20 values), \"Dest\"(17 values), \n",
    "# \"DestState\" (17 values)\n",
    "\n",
    "from sklearn.model_selection import train_test_split\n",
    "from sklearn.metrics import mean_squared_error, r2_score\n",
    "from sklearn.preprocessing import OneHotEncoder\n",
    "\n",
    "#4.1 encode \"Airline\"\n",
    "#create an encoder instance\n",
    "encoder = OneHotEncoder(drop='first', sparse_output=False)\n",
    "#reshape the column \n",
    "airline_data = df_flights_2018_clean_reduced[['Airline']]\n",
    "airline_data_reshaped = airline_data.values.reshape(-1, 1)\n",
    "#encode with fit_transform\n",
    "encoded_airline = pd.DataFrame(encoder.fit_transform(airline_data_reshaped), columns=encoder.get_feature_names_out(['Airline']))\n",
    "#concatenate bback with originl\n",
    "df_flights_2018_encoded = pd.concat([df_flights_2018_clean_reduced, encoded_airline], axis=1)\n",
    "#drop the original airline column\n",
    "df_flights_2018_encoded.drop(columns=['Airline'], inplace=True)\n",
    "\n",
    "#we also need to drop the datetime column\n",
    "df_flights_2018_encoded.drop(columns=['FlightDate'], inplace=True)"
   ]
  },
  {
   "cell_type": "code",
   "execution_count": 23,
   "id": "08caf5a5",
   "metadata": {
    "execution": {
     "iopub.execute_input": "2023-08-07T16:39:19.405571Z",
     "iopub.status.busy": "2023-08-07T16:39:19.405140Z",
     "iopub.status.idle": "2023-08-07T16:39:19.442503Z",
     "shell.execute_reply": "2023-08-07T16:39:19.441307Z"
    },
    "papermill": {
     "duration": 0.065645,
     "end_time": "2023-08-07T16:39:19.445106",
     "exception": false,
     "start_time": "2023-08-07T16:39:19.379461",
     "status": "completed"
    },
    "tags": []
   },
   "outputs": [
    {
     "data": {
      "text/html": [
       "<div>\n",
       "<style scoped>\n",
       "    .dataframe tbody tr th:only-of-type {\n",
       "        vertical-align: middle;\n",
       "    }\n",
       "\n",
       "    .dataframe tbody tr th {\n",
       "        vertical-align: top;\n",
       "    }\n",
       "\n",
       "    .dataframe thead th {\n",
       "        text-align: right;\n",
       "    }\n",
       "</style>\n",
       "<table border=\"1\" class=\"dataframe\">\n",
       "  <thead>\n",
       "    <tr style=\"text-align: right;\">\n",
       "      <th></th>\n",
       "      <th>Quarter</th>\n",
       "      <th>DayOfWeek</th>\n",
       "      <th>Origin</th>\n",
       "      <th>OriginState</th>\n",
       "      <th>Dest</th>\n",
       "      <th>DestState</th>\n",
       "      <th>schedule_dep_time</th>\n",
       "      <th>Distance</th>\n",
       "      <th>dep_min_delay</th>\n",
       "      <th>Year</th>\n",
       "      <th>...</th>\n",
       "      <th>Airline_Horizon Air</th>\n",
       "      <th>Airline_JetBlue Airways</th>\n",
       "      <th>Airline_Mesa Airlines Inc.</th>\n",
       "      <th>Airline_Republic Airlines</th>\n",
       "      <th>Airline_SkyWest Airlines Inc.</th>\n",
       "      <th>Airline_Southwest Airlines Co.</th>\n",
       "      <th>Airline_Spirit Air Lines</th>\n",
       "      <th>Airline_Trans States Airlines</th>\n",
       "      <th>Airline_United Air Lines Inc.</th>\n",
       "      <th>Airline_Virgin America</th>\n",
       "    </tr>\n",
       "  </thead>\n",
       "  <tbody>\n",
       "    <tr>\n",
       "      <th>305</th>\n",
       "      <td>1.0</td>\n",
       "      <td>1.0</td>\n",
       "      <td>ATL</td>\n",
       "      <td>GA</td>\n",
       "      <td>IAH</td>\n",
       "      <td>TX</td>\n",
       "      <td>1151.0</td>\n",
       "      <td>689.0</td>\n",
       "      <td>141.0</td>\n",
       "      <td>2018.0</td>\n",
       "      <td>...</td>\n",
       "      <td>0.0</td>\n",
       "      <td>1.0</td>\n",
       "      <td>0.0</td>\n",
       "      <td>0.0</td>\n",
       "      <td>0.0</td>\n",
       "      <td>0.0</td>\n",
       "      <td>0.0</td>\n",
       "      <td>0.0</td>\n",
       "      <td>0.0</td>\n",
       "      <td>0.0</td>\n",
       "    </tr>\n",
       "    <tr>\n",
       "      <th>365</th>\n",
       "      <td>1.0</td>\n",
       "      <td>2.0</td>\n",
       "      <td>DTW</td>\n",
       "      <td>MI</td>\n",
       "      <td>DFW</td>\n",
       "      <td>TX</td>\n",
       "      <td>1540.0</td>\n",
       "      <td>986.0</td>\n",
       "      <td>7.0</td>\n",
       "      <td>2018.0</td>\n",
       "      <td>...</td>\n",
       "      <td>0.0</td>\n",
       "      <td>1.0</td>\n",
       "      <td>0.0</td>\n",
       "      <td>0.0</td>\n",
       "      <td>0.0</td>\n",
       "      <td>0.0</td>\n",
       "      <td>0.0</td>\n",
       "      <td>0.0</td>\n",
       "      <td>0.0</td>\n",
       "      <td>0.0</td>\n",
       "    </tr>\n",
       "    <tr>\n",
       "      <th>399</th>\n",
       "      <td>1.0</td>\n",
       "      <td>2.0</td>\n",
       "      <td>DTW</td>\n",
       "      <td>MI</td>\n",
       "      <td>LGA</td>\n",
       "      <td>NY</td>\n",
       "      <td>1733.0</td>\n",
       "      <td>502.0</td>\n",
       "      <td>14.0</td>\n",
       "      <td>2018.0</td>\n",
       "      <td>...</td>\n",
       "      <td>0.0</td>\n",
       "      <td>1.0</td>\n",
       "      <td>0.0</td>\n",
       "      <td>0.0</td>\n",
       "      <td>0.0</td>\n",
       "      <td>0.0</td>\n",
       "      <td>0.0</td>\n",
       "      <td>0.0</td>\n",
       "      <td>0.0</td>\n",
       "      <td>0.0</td>\n",
       "    </tr>\n",
       "    <tr>\n",
       "      <th>452</th>\n",
       "      <td>1.0</td>\n",
       "      <td>3.0</td>\n",
       "      <td>DTW</td>\n",
       "      <td>MI</td>\n",
       "      <td>IAD</td>\n",
       "      <td>VA</td>\n",
       "      <td>720.0</td>\n",
       "      <td>383.0</td>\n",
       "      <td>0.0</td>\n",
       "      <td>2018.0</td>\n",
       "      <td>...</td>\n",
       "      <td>0.0</td>\n",
       "      <td>1.0</td>\n",
       "      <td>0.0</td>\n",
       "      <td>0.0</td>\n",
       "      <td>0.0</td>\n",
       "      <td>0.0</td>\n",
       "      <td>0.0</td>\n",
       "      <td>0.0</td>\n",
       "      <td>0.0</td>\n",
       "      <td>0.0</td>\n",
       "    </tr>\n",
       "    <tr>\n",
       "      <th>453</th>\n",
       "      <td>1.0</td>\n",
       "      <td>3.0</td>\n",
       "      <td>IAD</td>\n",
       "      <td>VA</td>\n",
       "      <td>DTW</td>\n",
       "      <td>MI</td>\n",
       "      <td>944.0</td>\n",
       "      <td>383.0</td>\n",
       "      <td>2.0</td>\n",
       "      <td>2018.0</td>\n",
       "      <td>...</td>\n",
       "      <td>0.0</td>\n",
       "      <td>1.0</td>\n",
       "      <td>0.0</td>\n",
       "      <td>0.0</td>\n",
       "      <td>0.0</td>\n",
       "      <td>0.0</td>\n",
       "      <td>0.0</td>\n",
       "      <td>0.0</td>\n",
       "      <td>0.0</td>\n",
       "      <td>0.0</td>\n",
       "    </tr>\n",
       "  </tbody>\n",
       "</table>\n",
       "<p>5 rows × 33 columns</p>\n",
       "</div>"
      ],
      "text/plain": [
       "     Quarter  DayOfWeek Origin OriginState Dest DestState  schedule_dep_time  \\\n",
       "305      1.0        1.0    ATL          GA  IAH        TX             1151.0   \n",
       "365      1.0        2.0    DTW          MI  DFW        TX             1540.0   \n",
       "399      1.0        2.0    DTW          MI  LGA        NY             1733.0   \n",
       "452      1.0        3.0    DTW          MI  IAD        VA              720.0   \n",
       "453      1.0        3.0    IAD          VA  DTW        MI              944.0   \n",
       "\n",
       "     Distance  dep_min_delay    Year  ...  Airline_Horizon Air  \\\n",
       "305     689.0          141.0  2018.0  ...                  0.0   \n",
       "365     986.0            7.0  2018.0  ...                  0.0   \n",
       "399     502.0           14.0  2018.0  ...                  0.0   \n",
       "452     383.0            0.0  2018.0  ...                  0.0   \n",
       "453     383.0            2.0  2018.0  ...                  0.0   \n",
       "\n",
       "     Airline_JetBlue Airways  Airline_Mesa Airlines Inc.  \\\n",
       "305                      1.0                         0.0   \n",
       "365                      1.0                         0.0   \n",
       "399                      1.0                         0.0   \n",
       "452                      1.0                         0.0   \n",
       "453                      1.0                         0.0   \n",
       "\n",
       "     Airline_Republic Airlines  Airline_SkyWest Airlines Inc.  \\\n",
       "305                        0.0                            0.0   \n",
       "365                        0.0                            0.0   \n",
       "399                        0.0                            0.0   \n",
       "452                        0.0                            0.0   \n",
       "453                        0.0                            0.0   \n",
       "\n",
       "     Airline_Southwest Airlines Co.  Airline_Spirit Air Lines  \\\n",
       "305                             0.0                       0.0   \n",
       "365                             0.0                       0.0   \n",
       "399                             0.0                       0.0   \n",
       "452                             0.0                       0.0   \n",
       "453                             0.0                       0.0   \n",
       "\n",
       "     Airline_Trans States Airlines  Airline_United Air Lines Inc.  \\\n",
       "305                            0.0                            0.0   \n",
       "365                            0.0                            0.0   \n",
       "399                            0.0                            0.0   \n",
       "452                            0.0                            0.0   \n",
       "453                            0.0                            0.0   \n",
       "\n",
       "     Airline_Virgin America  \n",
       "305                     0.0  \n",
       "365                     0.0  \n",
       "399                     0.0  \n",
       "452                     0.0  \n",
       "453                     0.0  \n",
       "\n",
       "[5 rows x 33 columns]"
      ]
     },
     "execution_count": 23,
     "metadata": {},
     "output_type": "execute_result"
    }
   ],
   "source": [
    "df_flights_2018_encoded.head()"
   ]
  },
  {
   "cell_type": "code",
   "execution_count": 24,
   "id": "3f18bbb4",
   "metadata": {
    "execution": {
     "iopub.execute_input": "2023-08-07T16:39:19.497300Z",
     "iopub.status.busy": "2023-08-07T16:39:19.496892Z",
     "iopub.status.idle": "2023-08-07T16:39:19.511674Z",
     "shell.execute_reply": "2023-08-07T16:39:19.510441Z"
    },
    "papermill": {
     "duration": 0.044603,
     "end_time": "2023-08-07T16:39:19.514873",
     "exception": false,
     "start_time": "2023-08-07T16:39:19.470270",
     "status": "completed"
    },
    "tags": []
   },
   "outputs": [
    {
     "name": "stdout",
     "output_type": "stream",
     "text": [
      "<class 'pandas.core.frame.DataFrame'>\n",
      "Int64Index: 2007634 entries, 305 to 1113555\n",
      "Data columns (total 33 columns):\n",
      " #   Column                                             Dtype  \n",
      "---  ------                                             -----  \n",
      " 0   Quarter                                            float64\n",
      " 1   DayOfWeek                                          float64\n",
      " 2   Origin                                             object \n",
      " 3   OriginState                                        object \n",
      " 4   Dest                                               object \n",
      " 5   DestState                                          object \n",
      " 6   schedule_dep_time                                  float64\n",
      " 7   Distance                                           float64\n",
      " 8   dep_min_delay                                      float64\n",
      " 9   Year                                               float64\n",
      " 10  Month                                              float64\n",
      " 11  Day                                                float64\n",
      " 12  Airline_Alaska Airlines Inc.                       float64\n",
      " 13  Airline_American Airlines Inc.                     float64\n",
      " 14  Airline_Comair Inc.                                float64\n",
      " 15  Airline_Commutair Aka Champlain Enterprises, Inc.  float64\n",
      " 16  Airline_Compass Airlines                           float64\n",
      " 17  Airline_Delta Air Lines Inc.                       float64\n",
      " 18  Airline_Endeavor Air Inc.                          float64\n",
      " 19  Airline_Envoy Air                                  float64\n",
      " 20  Airline_ExpressJet Airlines Inc.                   float64\n",
      " 21  Airline_Frontier Airlines Inc.                     float64\n",
      " 22  Airline_GoJet Airlines, LLC d/b/a United Express   float64\n",
      " 23  Airline_Horizon Air                                float64\n",
      " 24  Airline_JetBlue Airways                            float64\n",
      " 25  Airline_Mesa Airlines Inc.                         float64\n",
      " 26  Airline_Republic Airlines                          float64\n",
      " 27  Airline_SkyWest Airlines Inc.                      float64\n",
      " 28  Airline_Southwest Airlines Co.                     float64\n",
      " 29  Airline_Spirit Air Lines                           float64\n",
      " 30  Airline_Trans States Airlines                      float64\n",
      " 31  Airline_United Air Lines Inc.                      float64\n",
      " 32  Airline_Virgin America                             float64\n",
      "dtypes: float64(29), object(4)\n",
      "memory usage: 520.8+ MB\n"
     ]
    }
   ],
   "source": [
    "df_flights_2018_encoded.info()"
   ]
  },
  {
   "cell_type": "code",
   "execution_count": 25,
   "id": "e238a5dd",
   "metadata": {
    "execution": {
     "iopub.execute_input": "2023-08-07T16:39:19.567529Z",
     "iopub.status.busy": "2023-08-07T16:39:19.567091Z",
     "iopub.status.idle": "2023-08-07T16:39:29.300675Z",
     "shell.execute_reply": "2023-08-07T16:39:29.299293Z"
    },
    "papermill": {
     "duration": 9.763722,
     "end_time": "2023-08-07T16:39:29.304207",
     "exception": false,
     "start_time": "2023-08-07T16:39:19.540485",
     "status": "completed"
    },
    "tags": []
   },
   "outputs": [
    {
     "name": "stdout",
     "output_type": "stream",
     "text": [
      "<class 'pandas.core.frame.DataFrame'>\n",
      "Int64Index: 2007634 entries, 305 to 1113555\n",
      "Data columns (total 99 columns):\n",
      " #   Column                                             Dtype  \n",
      "---  ------                                             -----  \n",
      " 0   Quarter                                            float64\n",
      " 1   DayOfWeek                                          float64\n",
      " 2   schedule_dep_time                                  float64\n",
      " 3   Distance                                           float64\n",
      " 4   dep_min_delay                                      float64\n",
      " 5   Year                                               float64\n",
      " 6   Month                                              float64\n",
      " 7   Day                                                float64\n",
      " 8   Airline_Alaska Airlines Inc.                       float64\n",
      " 9   Airline_American Airlines Inc.                     float64\n",
      " 10  Airline_Comair Inc.                                float64\n",
      " 11  Airline_Commutair Aka Champlain Enterprises, Inc.  float64\n",
      " 12  Airline_Compass Airlines                           float64\n",
      " 13  Airline_Delta Air Lines Inc.                       float64\n",
      " 14  Airline_Endeavor Air Inc.                          float64\n",
      " 15  Airline_Envoy Air                                  float64\n",
      " 16  Airline_ExpressJet Airlines Inc.                   float64\n",
      " 17  Airline_Frontier Airlines Inc.                     float64\n",
      " 18  Airline_GoJet Airlines, LLC d/b/a United Express   float64\n",
      " 19  Airline_Horizon Air                                float64\n",
      " 20  Airline_JetBlue Airways                            float64\n",
      " 21  Airline_Mesa Airlines Inc.                         float64\n",
      " 22  Airline_Republic Airlines                          float64\n",
      " 23  Airline_SkyWest Airlines Inc.                      float64\n",
      " 24  Airline_Southwest Airlines Co.                     float64\n",
      " 25  Airline_Spirit Air Lines                           float64\n",
      " 26  Airline_Trans States Airlines                      float64\n",
      " 27  Airline_United Air Lines Inc.                      float64\n",
      " 28  Airline_Virgin America                             float64\n",
      " 29  Origin_BOS                                         float64\n",
      " 30  Origin_BWI                                         float64\n",
      " 31  Origin_CLT                                         float64\n",
      " 32  Origin_DEN                                         float64\n",
      " 33  Origin_DFW                                         float64\n",
      " 34  Origin_DTW                                         float64\n",
      " 35  Origin_EWR                                         float64\n",
      " 36  Origin_FLL                                         float64\n",
      " 37  Origin_IAD                                         float64\n",
      " 38  Origin_IAH                                         float64\n",
      " 39  Origin_LAS                                         float64\n",
      " 40  Origin_LAX                                         float64\n",
      " 41  Origin_LGA                                         float64\n",
      " 42  Origin_MCO                                         float64\n",
      " 43  Origin_MSP                                         float64\n",
      " 44  Origin_ORD                                         float64\n",
      " 45  Origin_PHX                                         float64\n",
      " 46  Origin_SEA                                         float64\n",
      " 47  Origin_SFO                                         float64\n",
      " 48  OriginState_CA                                     float64\n",
      " 49  OriginState_CO                                     float64\n",
      " 50  OriginState_FL                                     float64\n",
      " 51  OriginState_GA                                     float64\n",
      " 52  OriginState_IL                                     float64\n",
      " 53  OriginState_MA                                     float64\n",
      " 54  OriginState_MD                                     float64\n",
      " 55  OriginState_MI                                     float64\n",
      " 56  OriginState_MN                                     float64\n",
      " 57  OriginState_NC                                     float64\n",
      " 58  OriginState_NJ                                     float64\n",
      " 59  OriginState_NV                                     float64\n",
      " 60  OriginState_NY                                     float64\n",
      " 61  OriginState_TX                                     float64\n",
      " 62  OriginState_VA                                     float64\n",
      " 63  OriginState_WA                                     float64\n",
      " 64  Dest_BOS                                           float64\n",
      " 65  Dest_BWI                                           float64\n",
      " 66  Dest_CLT                                           float64\n",
      " 67  Dest_DEN                                           float64\n",
      " 68  Dest_DFW                                           float64\n",
      " 69  Dest_DTW                                           float64\n",
      " 70  Dest_EWR                                           float64\n",
      " 71  Dest_FLL                                           float64\n",
      " 72  Dest_IAD                                           float64\n",
      " 73  Dest_IAH                                           float64\n",
      " 74  Dest_LAS                                           float64\n",
      " 75  Dest_LAX                                           float64\n",
      " 76  Dest_LGA                                           float64\n",
      " 77  Dest_MCO                                           float64\n",
      " 78  Dest_MSP                                           float64\n",
      " 79  Dest_ORD                                           float64\n",
      " 80  Dest_PHX                                           float64\n",
      " 81  Dest_SEA                                           float64\n",
      " 82  Dest_SFO                                           float64\n",
      " 83  DestState_CA                                       float64\n",
      " 84  DestState_CO                                       float64\n",
      " 85  DestState_FL                                       float64\n",
      " 86  DestState_GA                                       float64\n",
      " 87  DestState_IL                                       float64\n",
      " 88  DestState_MA                                       float64\n",
      " 89  DestState_MD                                       float64\n",
      " 90  DestState_MI                                       float64\n",
      " 91  DestState_MN                                       float64\n",
      " 92  DestState_NC                                       float64\n",
      " 93  DestState_NJ                                       float64\n",
      " 94  DestState_NV                                       float64\n",
      " 95  DestState_NY                                       float64\n",
      " 96  DestState_TX                                       float64\n",
      " 97  DestState_VA                                       float64\n",
      " 98  DestState_WA                                       float64\n",
      "dtypes: float64(99)\n",
      "memory usage: 1.5 GB\n",
      "None\n"
     ]
    }
   ],
   "source": [
    "#Great! One of our five categorical columns is encoded. Now lets do the last five.\n",
    "#4.2 encode \"Origin\"\n",
    "encoder = OneHotEncoder(drop='first', sparse_output=False)\n",
    "origin_data = df_flights_2018_clean_reduced[['Origin']]\n",
    "origin_data_reshaped = origin_data.values.reshape(-1, 1)\n",
    "encoded_airline = pd.DataFrame(encoder.fit_transform(origin_data_reshaped), columns=encoder.get_feature_names_out(['Origin']))\n",
    "df_flights_2018_encoded = pd.concat([df_flights_2018_encoded, encoded_airline], axis=1)\n",
    "df_flights_2018_encoded.drop(columns=['Origin'], inplace=True)\n",
    "\n",
    "#4.3 encode \"OriginState\"\n",
    "encoder = OneHotEncoder(drop='first', sparse_output=False)\n",
    "originState_data = df_flights_2018_clean_reduced[['OriginState']]\n",
    "originState_data_reshaped = originState_data.values.reshape(-1, 1)\n",
    "encoded_airline = pd.DataFrame(encoder.fit_transform(originState_data_reshaped), columns=encoder.get_feature_names_out(['OriginState']))\n",
    "df_flights_2018_encoded = pd.concat([df_flights_2018_encoded, encoded_airline], axis=1)\n",
    "df_flights_2018_encoded.drop(columns=['OriginState'], inplace=True)\n",
    "\n",
    "#4.4 encode \"Dest\"\n",
    "encoder = OneHotEncoder(drop='first', sparse_output=False)\n",
    "dest_data = df_flights_2018_clean_reduced[['Dest']]\n",
    "dest_data_reshaped = dest_data.values.reshape(-1, 1)\n",
    "encoded_airline = pd.DataFrame(encoder.fit_transform(dest_data_reshaped), columns=encoder.get_feature_names_out(['Dest']))\n",
    "df_flights_2018_encoded = pd.concat([df_flights_2018_encoded, encoded_airline], axis=1)\n",
    "df_flights_2018_encoded.drop(columns=['Dest'], inplace=True)\n",
    "\n",
    "#4.5 encode \"DestState\"\n",
    "encoder = OneHotEncoder(drop='first', sparse_output=False)\n",
    "destState_data = df_flights_2018_clean_reduced[['DestState']]\n",
    "destState_data_reshaped = destState_data.values.reshape(-1, 1)\n",
    "encoded_airline = pd.DataFrame(encoder.fit_transform(destState_data_reshaped), columns=encoder.get_feature_names_out(['DestState']))\n",
    "df_flights_2018_encoded = pd.concat([df_flights_2018_encoded, encoded_airline], axis=1)\n",
    "df_flights_2018_encoded.drop(columns=['DestState'], inplace=True)\n",
    "\n",
    "\n",
    "print(df_flights_2018_encoded.info())"
   ]
  },
  {
   "cell_type": "code",
   "execution_count": 26,
   "id": "d9482d78",
   "metadata": {
    "execution": {
     "iopub.execute_input": "2023-08-07T16:39:29.358065Z",
     "iopub.status.busy": "2023-08-07T16:39:29.357616Z",
     "iopub.status.idle": "2023-08-07T16:39:31.507295Z",
     "shell.execute_reply": "2023-08-07T16:39:31.506431Z"
    },
    "papermill": {
     "duration": 2.179809,
     "end_time": "2023-08-07T16:39:31.510458",
     "exception": false,
     "start_time": "2023-08-07T16:39:29.330649",
     "status": "completed"
    },
    "tags": []
   },
   "outputs": [],
   "source": [
    "#we need to fill all the nan values as 0 to do linear regression. Otherwise we get an error because linear regression can't handle Nan\n",
    "df_flights_2018_encoded = df_flights_2018_encoded.fillna(0)"
   ]
  },
  {
   "cell_type": "code",
   "execution_count": 27,
   "id": "e8770b12",
   "metadata": {
    "execution": {
     "iopub.execute_input": "2023-08-07T16:39:31.562757Z",
     "iopub.status.busy": "2023-08-07T16:39:31.562330Z",
     "iopub.status.idle": "2023-08-07T16:39:35.265102Z",
     "shell.execute_reply": "2023-08-07T16:39:35.263822Z"
    },
    "papermill": {
     "duration": 3.732285,
     "end_time": "2023-08-07T16:39:35.268016",
     "exception": false,
     "start_time": "2023-08-07T16:39:31.535731",
     "status": "completed"
    },
    "tags": []
   },
   "outputs": [],
   "source": [
    "#The last thing we need to do is prep our datasets! We need train and test values for x's and y's\n",
    "#Our x value (input features) will be everything EXCEPT dep_min_delay\n",
    "X = df_flights_2018_encoded.drop(columns=['dep_min_delay'])\n",
    "\n",
    "#Our y values (prediction targets) will be the dep_min_delay value\n",
    "y = df_flights_2018_encoded['dep_min_delay']\n",
    "\n",
    "#We split training and testing with an 80% / 20% split\n",
    "X_train, X_test, y_train, y_test = train_test_split(X, y, test_size=0.2, random_state=42)\n"
   ]
  },
  {
   "cell_type": "markdown",
   "id": "1682c588",
   "metadata": {
    "papermill": {
     "duration": 0.024863,
     "end_time": "2023-08-07T16:39:35.320976",
     "exception": false,
     "start_time": "2023-08-07T16:39:35.296113",
     "status": "completed"
    },
    "tags": []
   },
   "source": [
    "### Section 5: Linear Regression\n",
    "\n",
    "#### We will initially do four linear regression comparisons across our data to see how each performs\n",
    "1. Simple Linear Regression\n",
    "2. L1 Lasso Regression\n",
    "3. L2 Ridge Regression\n",
    "4. Elastic Net Regression\n",
    "\n",
    "#### We will get the MSE and the R^2 for each to compare"
   ]
  },
  {
   "cell_type": "code",
   "execution_count": 28,
   "id": "7cd5a0ea",
   "metadata": {
    "execution": {
     "iopub.execute_input": "2023-08-07T16:39:35.373280Z",
     "iopub.status.busy": "2023-08-07T16:39:35.372865Z",
     "iopub.status.idle": "2023-08-07T16:39:36.446681Z",
     "shell.execute_reply": "2023-08-07T16:39:36.445397Z"
    },
    "papermill": {
     "duration": 1.103826,
     "end_time": "2023-08-07T16:39:36.449899",
     "exception": false,
     "start_time": "2023-08-07T16:39:35.346073",
     "status": "completed"
    },
    "tags": []
   },
   "outputs": [
    {
     "name": "stdout",
     "output_type": "stream",
     "text": [
      "<class 'pandas.core.frame.DataFrame'>\n",
      "Int64Index: 2007634 entries, 305 to 1113555\n",
      "Data columns (total 99 columns):\n",
      " #   Column                                             Dtype  \n",
      "---  ------                                             -----  \n",
      " 0   Quarter                                            float64\n",
      " 1   DayOfWeek                                          float64\n",
      " 2   schedule_dep_time                                  float64\n",
      " 3   Distance                                           float64\n",
      " 4   dep_min_delay                                      float64\n",
      " 5   Year                                               float64\n",
      " 6   Month                                              float64\n",
      " 7   Day                                                float64\n",
      " 8   Airline_Alaska Airlines Inc.                       float64\n",
      " 9   Airline_American Airlines Inc.                     float64\n",
      " 10  Airline_Comair Inc.                                float64\n",
      " 11  Airline_Commutair Aka Champlain Enterprises, Inc.  float64\n",
      " 12  Airline_Compass Airlines                           float64\n",
      " 13  Airline_Delta Air Lines Inc.                       float64\n",
      " 14  Airline_Endeavor Air Inc.                          float64\n",
      " 15  Airline_Envoy Air                                  float64\n",
      " 16  Airline_ExpressJet Airlines Inc.                   float64\n",
      " 17  Airline_Frontier Airlines Inc.                     float64\n",
      " 18  Airline_GoJet Airlines, LLC d/b/a United Express   float64\n",
      " 19  Airline_Horizon Air                                float64\n",
      " 20  Airline_JetBlue Airways                            float64\n",
      " 21  Airline_Mesa Airlines Inc.                         float64\n",
      " 22  Airline_Republic Airlines                          float64\n",
      " 23  Airline_SkyWest Airlines Inc.                      float64\n",
      " 24  Airline_Southwest Airlines Co.                     float64\n",
      " 25  Airline_Spirit Air Lines                           float64\n",
      " 26  Airline_Trans States Airlines                      float64\n",
      " 27  Airline_United Air Lines Inc.                      float64\n",
      " 28  Airline_Virgin America                             float64\n",
      " 29  Origin_BOS                                         float64\n",
      " 30  Origin_BWI                                         float64\n",
      " 31  Origin_CLT                                         float64\n",
      " 32  Origin_DEN                                         float64\n",
      " 33  Origin_DFW                                         float64\n",
      " 34  Origin_DTW                                         float64\n",
      " 35  Origin_EWR                                         float64\n",
      " 36  Origin_FLL                                         float64\n",
      " 37  Origin_IAD                                         float64\n",
      " 38  Origin_IAH                                         float64\n",
      " 39  Origin_LAS                                         float64\n",
      " 40  Origin_LAX                                         float64\n",
      " 41  Origin_LGA                                         float64\n",
      " 42  Origin_MCO                                         float64\n",
      " 43  Origin_MSP                                         float64\n",
      " 44  Origin_ORD                                         float64\n",
      " 45  Origin_PHX                                         float64\n",
      " 46  Origin_SEA                                         float64\n",
      " 47  Origin_SFO                                         float64\n",
      " 48  OriginState_CA                                     float64\n",
      " 49  OriginState_CO                                     float64\n",
      " 50  OriginState_FL                                     float64\n",
      " 51  OriginState_GA                                     float64\n",
      " 52  OriginState_IL                                     float64\n",
      " 53  OriginState_MA                                     float64\n",
      " 54  OriginState_MD                                     float64\n",
      " 55  OriginState_MI                                     float64\n",
      " 56  OriginState_MN                                     float64\n",
      " 57  OriginState_NC                                     float64\n",
      " 58  OriginState_NJ                                     float64\n",
      " 59  OriginState_NV                                     float64\n",
      " 60  OriginState_NY                                     float64\n",
      " 61  OriginState_TX                                     float64\n",
      " 62  OriginState_VA                                     float64\n",
      " 63  OriginState_WA                                     float64\n",
      " 64  Dest_BOS                                           float64\n",
      " 65  Dest_BWI                                           float64\n",
      " 66  Dest_CLT                                           float64\n",
      " 67  Dest_DEN                                           float64\n",
      " 68  Dest_DFW                                           float64\n",
      " 69  Dest_DTW                                           float64\n",
      " 70  Dest_EWR                                           float64\n",
      " 71  Dest_FLL                                           float64\n",
      " 72  Dest_IAD                                           float64\n",
      " 73  Dest_IAH                                           float64\n",
      " 74  Dest_LAS                                           float64\n",
      " 75  Dest_LAX                                           float64\n",
      " 76  Dest_LGA                                           float64\n",
      " 77  Dest_MCO                                           float64\n",
      " 78  Dest_MSP                                           float64\n",
      " 79  Dest_ORD                                           float64\n",
      " 80  Dest_PHX                                           float64\n",
      " 81  Dest_SEA                                           float64\n",
      " 82  Dest_SFO                                           float64\n",
      " 83  DestState_CA                                       float64\n",
      " 84  DestState_CO                                       float64\n",
      " 85  DestState_FL                                       float64\n",
      " 86  DestState_GA                                       float64\n",
      " 87  DestState_IL                                       float64\n",
      " 88  DestState_MA                                       float64\n",
      " 89  DestState_MD                                       float64\n",
      " 90  DestState_MI                                       float64\n",
      " 91  DestState_MN                                       float64\n",
      " 92  DestState_NC                                       float64\n",
      " 93  DestState_NJ                                       float64\n",
      " 94  DestState_NV                                       float64\n",
      " 95  DestState_NY                                       float64\n",
      " 96  DestState_TX                                       float64\n",
      " 97  DestState_VA                                       float64\n",
      " 98  DestState_WA                                       float64\n",
      "dtypes: float64(99)\n",
      "memory usage: 1.5 GB\n",
      "None\n"
     ]
    }
   ],
   "source": [
    "df_flights_2018_encoded = df_flights_2018_encoded.dropna()\n",
    "print(df_flights_2018_encoded.info())"
   ]
  },
  {
   "cell_type": "markdown",
   "id": "3109a584",
   "metadata": {
    "papermill": {
     "duration": 0.025023,
     "end_time": "2023-08-07T16:39:36.503227",
     "exception": false,
     "start_time": "2023-08-07T16:39:36.478204",
     "status": "completed"
    },
    "tags": []
   },
   "source": [
    "#### Section 5.1: Simple Linear Regression"
   ]
  },
  {
   "cell_type": "code",
   "execution_count": 29,
   "id": "ae2ff04d",
   "metadata": {
    "execution": {
     "iopub.execute_input": "2023-08-07T16:39:36.556639Z",
     "iopub.status.busy": "2023-08-07T16:39:36.556223Z",
     "iopub.status.idle": "2023-08-07T16:39:54.156213Z",
     "shell.execute_reply": "2023-08-07T16:39:54.151713Z"
    },
    "papermill": {
     "duration": 17.632518,
     "end_time": "2023-08-07T16:39:54.161070",
     "exception": false,
     "start_time": "2023-08-07T16:39:36.528552",
     "status": "completed"
    },
    "tags": []
   },
   "outputs": [
    {
     "name": "stdout",
     "output_type": "stream",
     "text": [
      "MSE: 1012.2804002204958\n",
      "R-squared: 0.059235444740022514\n"
     ]
    }
   ],
   "source": [
    "#import model\n",
    "from sklearn.linear_model import LinearRegression\n",
    "\n",
    "#create the model\n",
    "lr_model = LinearRegression()\n",
    "\n",
    "#fit the model\n",
    "lr_model.fit(X_train, y_train)\n",
    "\n",
    "#make predictions on the X_test inputs\n",
    "y_pred = lr_model.predict(X_test)\n",
    "\n",
    "#get the mse using our model prediction values (y_pred) vs the actual y values (y_test)\n",
    "mse = mean_squared_error(y_test, y_pred)\n",
    "\n",
    "#get the r^2 the same way\n",
    "r2 = r2_score(y_test, y_pred)\n",
    "\n",
    "print(\"MSE:\", mse)\n",
    "print(\"R-squared:\", r2)"
   ]
  },
  {
   "cell_type": "code",
   "execution_count": 30,
   "id": "fd507c1f",
   "metadata": {
    "execution": {
     "iopub.execute_input": "2023-08-07T16:39:54.263853Z",
     "iopub.status.busy": "2023-08-07T16:39:54.263434Z",
     "iopub.status.idle": "2023-08-07T16:39:54.268671Z",
     "shell.execute_reply": "2023-08-07T16:39:54.267538Z"
    },
    "papermill": {
     "duration": 0.054108,
     "end_time": "2023-08-07T16:39:54.271101",
     "exception": false,
     "start_time": "2023-08-07T16:39:54.216993",
     "status": "completed"
    },
    "tags": []
   },
   "outputs": [],
   "source": [
    "#MSE: 1060.573956012466\n",
    "#R-squared: 0.04367785328314888\n",
    "#Ok, so this model performs pretty poorly. While it's MSE is hard to interpret, an R^2 of 0.04 is pretty bad. Let's see if L1 regression is any better"
   ]
  },
  {
   "cell_type": "markdown",
   "id": "7adbe7ac",
   "metadata": {
    "papermill": {
     "duration": 0.025276,
     "end_time": "2023-08-07T16:39:54.321725",
     "exception": false,
     "start_time": "2023-08-07T16:39:54.296449",
     "status": "completed"
    },
    "tags": []
   },
   "source": [
    "#### Section 5.2: L1 Lasso Regression"
   ]
  },
  {
   "cell_type": "code",
   "execution_count": 31,
   "id": "2be931ee",
   "metadata": {
    "execution": {
     "iopub.execute_input": "2023-08-07T16:39:54.376552Z",
     "iopub.status.busy": "2023-08-07T16:39:54.375344Z",
     "iopub.status.idle": "2023-08-07T16:40:07.711550Z",
     "shell.execute_reply": "2023-08-07T16:40:07.709485Z"
    },
    "papermill": {
     "duration": 13.367808,
     "end_time": "2023-08-07T16:40:07.715928",
     "exception": false,
     "start_time": "2023-08-07T16:39:54.348120",
     "status": "completed"
    },
    "tags": []
   },
   "outputs": [
    {
     "name": "stdout",
     "output_type": "stream",
     "text": [
      "MSE: 1013.6759516320676\n",
      "R-squared: 0.0579384866019772\n"
     ]
    }
   ],
   "source": [
    "#import model and tools\n",
    "from sklearn.linear_model import Lasso\n",
    "\n",
    "#create the alpha value and lasso_reg model\n",
    "#set our initial alpha_value to 0.1\n",
    "alpha_value = 0.1\n",
    "\n",
    "#make the model\n",
    "l1_model = Lasso(alpha=alpha_value)\n",
    "\n",
    "#fit the model\n",
    "l1_model.fit(X_train, y_train)\n",
    "\n",
    "#make predictions\n",
    "y_pred = l1_model.predict(X_test)\n",
    "\n",
    "#get the mse and r^2\n",
    "mse = mean_squared_error(y_test, y_pred)\n",
    "r2 = r2_score(y_test, y_pred)\n",
    "print(\"MSE:\", mse)\n",
    "print(\"R-squared:\", r2)"
   ]
  },
  {
   "cell_type": "code",
   "execution_count": 32,
   "id": "09e7a4b8",
   "metadata": {
    "execution": {
     "iopub.execute_input": "2023-08-07T16:40:07.807879Z",
     "iopub.status.busy": "2023-08-07T16:40:07.807413Z",
     "iopub.status.idle": "2023-08-07T16:40:07.812279Z",
     "shell.execute_reply": "2023-08-07T16:40:07.811102Z"
    },
    "papermill": {
     "duration": 0.041064,
     "end_time": "2023-08-07T16:40:07.814694",
     "exception": false,
     "start_time": "2023-08-07T16:40:07.773630",
     "status": "completed"
    },
    "tags": []
   },
   "outputs": [],
   "source": [
    "#oh wow this model isn't much better. 0.04 again and it looks like it might have gotten worse\n",
    "#maybe ridge regression will help?"
   ]
  },
  {
   "cell_type": "markdown",
   "id": "4a481f32",
   "metadata": {
    "papermill": {
     "duration": 0.025541,
     "end_time": "2023-08-07T16:40:07.866403",
     "exception": false,
     "start_time": "2023-08-07T16:40:07.840862",
     "status": "completed"
    },
    "tags": []
   },
   "source": [
    "#### Section 5.3: L2 Ridge Regression"
   ]
  },
  {
   "cell_type": "code",
   "execution_count": 33,
   "id": "f13f0de1",
   "metadata": {
    "execution": {
     "iopub.execute_input": "2023-08-07T16:40:07.921885Z",
     "iopub.status.busy": "2023-08-07T16:40:07.921436Z",
     "iopub.status.idle": "2023-08-07T16:40:09.913719Z",
     "shell.execute_reply": "2023-08-07T16:40:09.912155Z"
    },
    "papermill": {
     "duration": 2.026078,
     "end_time": "2023-08-07T16:40:09.918583",
     "exception": false,
     "start_time": "2023-08-07T16:40:07.892505",
     "status": "completed"
    },
    "tags": []
   },
   "outputs": [
    {
     "name": "stdout",
     "output_type": "stream",
     "text": [
      "MSE: 1012.2802667278036\n",
      "R-squared: 0.0592355688016889\n"
     ]
    }
   ],
   "source": [
    "#import model\n",
    "from sklearn.linear_model import Ridge\n",
    "\n",
    "#create rr_model and set the alpha\n",
    "alpha_value = 1.0\n",
    "l2_model = Ridge(alpha=alpha_value)\n",
    "\n",
    "# fit the model\n",
    "l2_model.fit(X_train, y_train)\n",
    "\n",
    "#make predictions\n",
    "y_pred = l2_model.predict(X_test)\n",
    "\n",
    "#get the mse and r^2\n",
    "mse = mean_squared_error(y_test, y_pred)\n",
    "r2 = r2_score(y_test, y_pred)\n",
    "print(\"MSE:\", mse)\n",
    "print(\"R-squared:\", r2)"
   ]
  },
  {
   "cell_type": "code",
   "execution_count": 34,
   "id": "a3f976c9",
   "metadata": {
    "execution": {
     "iopub.execute_input": "2023-08-07T16:40:10.023276Z",
     "iopub.status.busy": "2023-08-07T16:40:10.022036Z",
     "iopub.status.idle": "2023-08-07T16:40:10.027297Z",
     "shell.execute_reply": "2023-08-07T16:40:10.026065Z"
    },
    "papermill": {
     "duration": 0.05551,
     "end_time": "2023-08-07T16:40:10.029948",
     "exception": false,
     "start_time": "2023-08-07T16:40:09.974438",
     "status": "completed"
    },
    "tags": []
   },
   "outputs": [],
   "source": [
    "#Yup not much better. We're going to really need to work on this dataset I think to make a decent model."
   ]
  },
  {
   "cell_type": "markdown",
   "id": "6383b6bf",
   "metadata": {
    "papermill": {
     "duration": 0.025503,
     "end_time": "2023-08-07T16:40:10.081102",
     "exception": false,
     "start_time": "2023-08-07T16:40:10.055599",
     "status": "completed"
    },
    "tags": []
   },
   "source": [
    "#### Section 5.4: Elastic Net Regression"
   ]
  },
  {
   "cell_type": "code",
   "execution_count": 35,
   "id": "3ebe60bd",
   "metadata": {
    "execution": {
     "iopub.execute_input": "2023-08-07T16:40:10.135304Z",
     "iopub.status.busy": "2023-08-07T16:40:10.134483Z",
     "iopub.status.idle": "2023-08-07T16:40:10.139867Z",
     "shell.execute_reply": "2023-08-07T16:40:10.139056Z"
    },
    "papermill": {
     "duration": 0.035246,
     "end_time": "2023-08-07T16:40:10.142270",
     "exception": false,
     "start_time": "2023-08-07T16:40:10.107024",
     "status": "completed"
    },
    "tags": []
   },
   "outputs": [],
   "source": [
    "#import model\n",
    "from sklearn.linear_model import ElasticNet\n",
    "\n",
    "#create en_model with alpha, L1_ratio\n",
    "\n",
    "#fit the model\n",
    "\n",
    "#make predictions\n",
    "\n",
    "#get the mse and r^2"
   ]
  },
  {
   "cell_type": "markdown",
   "id": "ca5fde25",
   "metadata": {
    "papermill": {
     "duration": 0.025993,
     "end_time": "2023-08-07T16:40:10.193899",
     "exception": false,
     "start_time": "2023-08-07T16:40:10.167906",
     "status": "completed"
    },
    "tags": []
   },
   "source": [
    "#### Section 5.5: Summarize of Findings"
   ]
  },
  {
   "cell_type": "code",
   "execution_count": 36,
   "id": "30aeebef",
   "metadata": {
    "execution": {
     "iopub.execute_input": "2023-08-07T16:40:10.249443Z",
     "iopub.status.busy": "2023-08-07T16:40:10.248998Z",
     "iopub.status.idle": "2023-08-07T16:40:10.253743Z",
     "shell.execute_reply": "2023-08-07T16:40:10.252553Z"
    },
    "papermill": {
     "duration": 0.036396,
     "end_time": "2023-08-07T16:40:10.256245",
     "exception": false,
     "start_time": "2023-08-07T16:40:10.219849",
     "status": "completed"
    },
    "tags": []
   },
   "outputs": [],
   "source": [
    "#Do the MSEs change across all four models?\n",
    "#Do the R^2 change across all four models?\n",
    "#Is one model clearly performing better? Why or why not?"
   ]
  },
  {
   "cell_type": "markdown",
   "id": "4c52838b",
   "metadata": {
    "papermill": {
     "duration": 0.026031,
     "end_time": "2023-08-07T16:40:10.308238",
     "exception": false,
     "start_time": "2023-08-07T16:40:10.282207",
     "status": "completed"
    },
    "tags": []
   },
   "source": [
    "#### Section 6: Advanced Linear Regression"
   ]
  },
  {
   "cell_type": "code",
   "execution_count": 37,
   "id": "055f4cab",
   "metadata": {
    "execution": {
     "iopub.execute_input": "2023-08-07T16:40:10.363574Z",
     "iopub.status.busy": "2023-08-07T16:40:10.362854Z",
     "iopub.status.idle": "2023-08-07T16:40:10.368495Z",
     "shell.execute_reply": "2023-08-07T16:40:10.367449Z"
    },
    "papermill": {
     "duration": 0.036267,
     "end_time": "2023-08-07T16:40:10.371099",
     "exception": false,
     "start_time": "2023-08-07T16:40:10.334832",
     "status": "completed"
    },
    "tags": []
   },
   "outputs": [],
   "source": [
    "#Now we're going to do the same four models but at an advanced level with more tuning and tweaking\n",
    "from sklearn.preprocessing import StandardScaler\n",
    "\n",
    "#Section 6.0 Feature scaling to the dataset. We want to standardize/normalize the input features with probably StandardScaler (vs MinMaxScaler)\n",
    "#build a scaler. Then we're going to also do 5-fold cross validation for each model. This combination: scaling + cross validation : should result\n",
    "# in better performance across our models\n",
    "\n"
   ]
  },
  {
   "cell_type": "markdown",
   "id": "9e4bd4a9",
   "metadata": {
    "papermill": {
     "duration": 0.025618,
     "end_time": "2023-08-07T16:40:10.423549",
     "exception": false,
     "start_time": "2023-08-07T16:40:10.397931",
     "status": "completed"
    },
    "tags": []
   },
   "source": [
    "#### Section 6.1: Linear Regression w/ scaling and Cross-Validation"
   ]
  },
  {
   "cell_type": "code",
   "execution_count": 38,
   "id": "3b9be66b",
   "metadata": {
    "execution": {
     "iopub.execute_input": "2023-08-07T16:40:10.478714Z",
     "iopub.status.busy": "2023-08-07T16:40:10.478300Z",
     "iopub.status.idle": "2023-08-07T16:40:10.483420Z",
     "shell.execute_reply": "2023-08-07T16:40:10.482232Z"
    },
    "papermill": {
     "duration": 0.0358,
     "end_time": "2023-08-07T16:40:10.486040",
     "exception": false,
     "start_time": "2023-08-07T16:40:10.450240",
     "status": "completed"
    },
    "tags": []
   },
   "outputs": [],
   "source": [
    "#fit_transform our dataset for modeling\n",
    "#should be something like this:\n",
    "#scaler = StandardScaler()\n",
    "#X_scaled = scaler.fit_transform(X)\n",
    "#Get new datasets\n",
    "#X_train, X_test, y_train, y_test = train_test_split(X_scaled, y, test_size=0.2, random_state=23)\n",
    "#make a new model\n",
    "#linear_reg = LinearRegression()\n",
    "#do CV with 5 folds\n",
    "#cv_vals = cross_val_score(linear_reg, X_scaled, y, cv=5, scoring='neg_mean_squared_error')\n",
    "\n",
    "#get the average MSE across all 5 folds\n",
    "\n",
    "#get the average R^2 across all 5 folds"
   ]
  },
  {
   "cell_type": "markdown",
   "id": "fb34802e",
   "metadata": {
    "papermill": {
     "duration": 0.025803,
     "end_time": "2023-08-07T16:40:10.539697",
     "exception": false,
     "start_time": "2023-08-07T16:40:10.513894",
     "status": "completed"
    },
    "tags": []
   },
   "source": [
    "#### Section 6.2: L1 Lasso Regression with scaling and cross validation"
   ]
  },
  {
   "cell_type": "code",
   "execution_count": 39,
   "id": "058f63d5",
   "metadata": {
    "execution": {
     "iopub.execute_input": "2023-08-07T16:40:10.593846Z",
     "iopub.status.busy": "2023-08-07T16:40:10.593449Z",
     "iopub.status.idle": "2023-08-07T16:40:10.597856Z",
     "shell.execute_reply": "2023-08-07T16:40:10.596671Z"
    },
    "papermill": {
     "duration": 0.034082,
     "end_time": "2023-08-07T16:40:10.600183",
     "exception": false,
     "start_time": "2023-08-07T16:40:10.566101",
     "status": "completed"
    },
    "tags": []
   },
   "outputs": [],
   "source": [
    "#TODO"
   ]
  },
  {
   "cell_type": "markdown",
   "id": "e6d3cb9b",
   "metadata": {
    "papermill": {
     "duration": 0.026366,
     "end_time": "2023-08-07T16:40:10.652590",
     "exception": false,
     "start_time": "2023-08-07T16:40:10.626224",
     "status": "completed"
    },
    "tags": []
   },
   "source": [
    "#### Section 6.3: L2 Ridge Regression with scaling and cross validation"
   ]
  },
  {
   "cell_type": "code",
   "execution_count": 40,
   "id": "758d7305",
   "metadata": {
    "execution": {
     "iopub.execute_input": "2023-08-07T16:40:10.706895Z",
     "iopub.status.busy": "2023-08-07T16:40:10.706234Z",
     "iopub.status.idle": "2023-08-07T16:40:10.710364Z",
     "shell.execute_reply": "2023-08-07T16:40:10.709532Z"
    },
    "papermill": {
     "duration": 0.034401,
     "end_time": "2023-08-07T16:40:10.713003",
     "exception": false,
     "start_time": "2023-08-07T16:40:10.678602",
     "status": "completed"
    },
    "tags": []
   },
   "outputs": [],
   "source": [
    "#TODO"
   ]
  },
  {
   "cell_type": "markdown",
   "id": "6a5f09f8",
   "metadata": {
    "papermill": {
     "duration": 0.026491,
     "end_time": "2023-08-07T16:40:10.766474",
     "exception": false,
     "start_time": "2023-08-07T16:40:10.739983",
     "status": "completed"
    },
    "tags": []
   },
   "source": [
    "#### Section 6.4: Elastic Net Regression with scaling and cross validation"
   ]
  },
  {
   "cell_type": "code",
   "execution_count": 41,
   "id": "922d5090",
   "metadata": {
    "execution": {
     "iopub.execute_input": "2023-08-07T16:40:10.821701Z",
     "iopub.status.busy": "2023-08-07T16:40:10.821256Z",
     "iopub.status.idle": "2023-08-07T16:40:10.826143Z",
     "shell.execute_reply": "2023-08-07T16:40:10.825028Z"
    },
    "papermill": {
     "duration": 0.036407,
     "end_time": "2023-08-07T16:40:10.828923",
     "exception": false,
     "start_time": "2023-08-07T16:40:10.792516",
     "status": "completed"
    },
    "tags": []
   },
   "outputs": [],
   "source": [
    "#TODO"
   ]
  },
  {
   "cell_type": "code",
   "execution_count": 42,
   "id": "90456e8e",
   "metadata": {
    "execution": {
     "iopub.execute_input": "2023-08-07T16:40:10.884549Z",
     "iopub.status.busy": "2023-08-07T16:40:10.883280Z",
     "iopub.status.idle": "2023-08-07T16:40:10.888187Z",
     "shell.execute_reply": "2023-08-07T16:40:10.887305Z"
    },
    "papermill": {
     "duration": 0.034787,
     "end_time": "2023-08-07T16:40:10.890485",
     "exception": false,
     "start_time": "2023-08-07T16:40:10.855698",
     "status": "completed"
    },
    "tags": []
   },
   "outputs": [],
   "source": [
    "#Section 7 (if we have time)\n",
    "#if time allows in the project for Section 7 we can do SKLearn Gradient Boosting Regression (GBR) and see how it compares"
   ]
  },
  {
   "cell_type": "code",
   "execution_count": 43,
   "id": "3b8a69c3",
   "metadata": {
    "execution": {
     "iopub.execute_input": "2023-08-07T16:40:10.946165Z",
     "iopub.status.busy": "2023-08-07T16:40:10.945319Z",
     "iopub.status.idle": "2023-08-07T16:40:10.950318Z",
     "shell.execute_reply": "2023-08-07T16:40:10.949117Z"
    },
    "papermill": {
     "duration": 0.035932,
     "end_time": "2023-08-07T16:40:10.952770",
     "exception": false,
     "start_time": "2023-08-07T16:40:10.916838",
     "status": "completed"
    },
    "tags": []
   },
   "outputs": [],
   "source": [
    "#Section 8 (if we have time)\n",
    "#we can do PyTorch NN regression modeling to see how it compares"
   ]
  }
 ],
 "metadata": {
  "kernelspec": {
   "display_name": "Python 3",
   "language": "python",
   "name": "python3"
  },
  "language_info": {
   "codemirror_mode": {
    "name": "ipython",
    "version": 3
   },
   "file_extension": ".py",
   "mimetype": "text/x-python",
   "name": "python",
   "nbconvert_exporter": "python",
   "pygments_lexer": "ipython3",
   "version": "3.10.12"
  },
  "papermill": {
   "default_parameters": {},
   "duration": 221.835451,
   "end_time": "2023-08-07T16:40:14.487704",
   "environment_variables": {},
   "exception": null,
   "input_path": "__notebook__.ipynb",
   "output_path": "__notebook__.ipynb",
   "parameters": {},
   "start_time": "2023-08-07T16:36:32.652253",
   "version": "2.4.0"
  }
 },
 "nbformat": 4,
 "nbformat_minor": 5
}
