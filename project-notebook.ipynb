{
 "cells": [
  {
   "cell_type": "code",
   "execution_count": 1,
   "id": "0ad0b125",
   "metadata": {
    "_cell_guid": "b1076dfc-b9ad-4769-8c92-a6c4dae69d19",
    "_uuid": "8f2839f25d086af736a60e9eeb907d3b93b6e0e5",
    "execution": {
     "iopub.execute_input": "2023-08-05T19:47:48.312337Z",
     "iopub.status.busy": "2023-08-05T19:47:48.311471Z",
     "iopub.status.idle": "2023-08-05T19:47:48.369999Z",
     "shell.execute_reply": "2023-08-05T19:47:48.369029Z"
    },
    "papermill": {
     "duration": 0.071563,
     "end_time": "2023-08-05T19:47:48.372740",
     "exception": false,
     "start_time": "2023-08-05T19:47:48.301177",
     "status": "completed"
    },
    "tags": []
   },
   "outputs": [
    {
     "name": "stdout",
     "output_type": "stream",
     "text": [
      "/kaggle/input/flight-delay-dataset-20182022/Combined_Flights_2022.parquet\n",
      "/kaggle/input/flight-delay-dataset-20182022/Combined_Flights_2021.parquet\n",
      "/kaggle/input/flight-delay-dataset-20182022/Combined_Flights_2018.csv\n",
      "/kaggle/input/flight-delay-dataset-20182022/Combined_Flights_2018.parquet\n",
      "/kaggle/input/flight-delay-dataset-20182022/Airlines.csv\n",
      "/kaggle/input/flight-delay-dataset-20182022/readme.md\n",
      "/kaggle/input/flight-delay-dataset-20182022/Combined_Flights_2022.csv\n",
      "/kaggle/input/flight-delay-dataset-20182022/Combined_Flights_2020.csv\n",
      "/kaggle/input/flight-delay-dataset-20182022/Combined_Flights_2020.parquet\n",
      "/kaggle/input/flight-delay-dataset-20182022/Combined_Flights_2019.csv\n",
      "/kaggle/input/flight-delay-dataset-20182022/readme.html\n",
      "/kaggle/input/flight-delay-dataset-20182022/Combined_Flights_2021.csv\n",
      "/kaggle/input/flight-delay-dataset-20182022/Combined_Flights_2019.parquet\n",
      "/kaggle/input/flight-delay-dataset-20182022/raw/Flights_2018_7.csv\n",
      "/kaggle/input/flight-delay-dataset-20182022/raw/Flights_2018_6.csv\n",
      "/kaggle/input/flight-delay-dataset-20182022/raw/Flights_2020_1.csv\n",
      "/kaggle/input/flight-delay-dataset-20182022/raw/Flights_2018_1.csv\n",
      "/kaggle/input/flight-delay-dataset-20182022/raw/Flights_2022_1.csv\n",
      "/kaggle/input/flight-delay-dataset-20182022/raw/Flights_2018_9.csv\n",
      "/kaggle/input/flight-delay-dataset-20182022/raw/Flights_2020_3.csv\n",
      "/kaggle/input/flight-delay-dataset-20182022/raw/Flights_2020_7.csv\n",
      "/kaggle/input/flight-delay-dataset-20182022/raw/Flights_2021_8.csv\n",
      "/kaggle/input/flight-delay-dataset-20182022/raw/Flights_2020_11.csv\n",
      "/kaggle/input/flight-delay-dataset-20182022/raw/Flights_2020_6.csv\n",
      "/kaggle/input/flight-delay-dataset-20182022/raw/Flights_2019_8.csv\n",
      "/kaggle/input/flight-delay-dataset-20182022/raw/Flights_2022_6.csv\n",
      "/kaggle/input/flight-delay-dataset-20182022/raw/Flights_2018_11.csv\n",
      "/kaggle/input/flight-delay-dataset-20182022/raw/Flights_2018_5.csv\n",
      "/kaggle/input/flight-delay-dataset-20182022/raw/Flights_2018_2.csv\n",
      "/kaggle/input/flight-delay-dataset-20182022/raw/Flights_2022_3.csv\n",
      "/kaggle/input/flight-delay-dataset-20182022/raw/Flights_2019_12.csv\n",
      "/kaggle/input/flight-delay-dataset-20182022/raw/Flights_2019_7.csv\n",
      "/kaggle/input/flight-delay-dataset-20182022/raw/Flights_2019_2.csv\n",
      "/kaggle/input/flight-delay-dataset-20182022/raw/Flights_2020_2.csv\n",
      "/kaggle/input/flight-delay-dataset-20182022/raw/Flights_2022_7.csv\n",
      "/kaggle/input/flight-delay-dataset-20182022/raw/Flights_2019_3.csv\n",
      "/kaggle/input/flight-delay-dataset-20182022/raw/Flights_2019_5.csv\n",
      "/kaggle/input/flight-delay-dataset-20182022/raw/Flights_2022_5.csv\n",
      "/kaggle/input/flight-delay-dataset-20182022/raw/Flights_2019_10.csv\n",
      "/kaggle/input/flight-delay-dataset-20182022/raw/Flights_2021_9.csv\n",
      "/kaggle/input/flight-delay-dataset-20182022/raw/Flights_2020_5.csv\n",
      "/kaggle/input/flight-delay-dataset-20182022/raw/Flights_2022_4.csv\n",
      "/kaggle/input/flight-delay-dataset-20182022/raw/Flights_2019_1.csv\n",
      "/kaggle/input/flight-delay-dataset-20182022/raw/Flights_2021_1.csv\n",
      "/kaggle/input/flight-delay-dataset-20182022/raw/Flights_2021_7.csv\n",
      "/kaggle/input/flight-delay-dataset-20182022/raw/Flights_2020_4.csv\n",
      "/kaggle/input/flight-delay-dataset-20182022/raw/Flights_2022_2.csv\n",
      "/kaggle/input/flight-delay-dataset-20182022/raw/Flights_2021_2.csv\n",
      "/kaggle/input/flight-delay-dataset-20182022/raw/Flights_2021_10.csv\n",
      "/kaggle/input/flight-delay-dataset-20182022/raw/Flights_2018_10.csv\n",
      "/kaggle/input/flight-delay-dataset-20182022/raw/Flights_2018_4.csv\n",
      "/kaggle/input/flight-delay-dataset-20182022/raw/Flights_2020_9.csv\n",
      "/kaggle/input/flight-delay-dataset-20182022/raw/Flights_2020_10.csv\n",
      "/kaggle/input/flight-delay-dataset-20182022/raw/Flights_2021_11.csv\n",
      "/kaggle/input/flight-delay-dataset-20182022/raw/Flights_2020_12.csv\n",
      "/kaggle/input/flight-delay-dataset-20182022/raw/Flights_2021_12.csv\n",
      "/kaggle/input/flight-delay-dataset-20182022/raw/Flights_2021_4.csv\n",
      "/kaggle/input/flight-delay-dataset-20182022/raw/Flights_2019_9.csv\n",
      "/kaggle/input/flight-delay-dataset-20182022/raw/Flights_2019_11.csv\n",
      "/kaggle/input/flight-delay-dataset-20182022/raw/Flights_2021_6.csv\n",
      "/kaggle/input/flight-delay-dataset-20182022/raw/Flights_2019_6.csv\n",
      "/kaggle/input/flight-delay-dataset-20182022/raw/Flights_2020_8.csv\n",
      "/kaggle/input/flight-delay-dataset-20182022/raw/Flights_2018_12.csv\n",
      "/kaggle/input/flight-delay-dataset-20182022/raw/Flights_2021_3.csv\n",
      "/kaggle/input/flight-delay-dataset-20182022/raw/Flights_2018_8.csv\n",
      "/kaggle/input/flight-delay-dataset-20182022/raw/Flights_2021_5.csv\n",
      "/kaggle/input/flight-delay-dataset-20182022/raw/Flights_2018_3.csv\n",
      "/kaggle/input/flight-delay-dataset-20182022/raw/Flights_2019_4.csv\n"
     ]
    }
   ],
   "source": [
    "# This Python 3 environment comes with many helpful analytics libraries installed\n",
    "# It is defined by the kaggle/python Docker image: https://github.com/kaggle/docker-python\n",
    "# For example, here's several helpful packages to load\n",
    "\n",
    "import numpy as np # linear algebra\n",
    "import pandas as pd # data processing, CSV file I/O (e.g. pd.read_csv)\n",
    "\n",
    "# Input data files are available in the read-only \"../input/\" directory\n",
    "# For example, running this (by clicking run or pressing Shift+Enter) will list all files under the input directory\n",
    "\n",
    "import os\n",
    "for dirname, _, filenames in os.walk('/kaggle/input'):\n",
    "    for filename in filenames:\n",
    "        print(os.path.join(dirname, filename))\n",
    "\n",
    "# You can write up to 20GB to the current directory (/kaggle/working/) that gets preserved as output when you create a version using \"Save & Run All\" \n",
    "# You can also write temporary files to /kaggle/temp/, but they won't be saved outside of the current session"
   ]
  },
  {
   "cell_type": "markdown",
   "id": "acf8a954",
   "metadata": {
    "papermill": {
     "duration": 0.007595,
     "end_time": "2023-08-05T19:47:48.388552",
     "exception": false,
     "start_time": "2023-08-05T19:47:48.380957",
     "status": "completed"
    },
    "tags": []
   },
   "source": [
    "# Introduction\n",
    "\n",
    "### What we will be doing with this dataset:\n",
    "- We will be using this dataset to effectively and accurately predict length of time for flight delays. We will use various regression and machine learning techniques to learn from the training data and then test our prediction models with our test data.\n",
    "\n",
    "### Why we chose this dataset:\n",
    "- We chose the given dataset as it is both rich and robust. The size allows us to adjust various factors in order to observe common phenomena. The number of columns allows us to explore which variables affect flight delays; whereas, the number of rows esnure we have enough data to make good judgements.\n",
    "\n",
    "### What results we hope to achieve:\n",
    "- We aim to predict the length of flight delays with high confidence."
   ]
  },
  {
   "cell_type": "code",
   "execution_count": 2,
   "id": "1d729b2c",
   "metadata": {
    "execution": {
     "iopub.execute_input": "2023-08-05T19:47:48.406629Z",
     "iopub.status.busy": "2023-08-05T19:47:48.405697Z",
     "iopub.status.idle": "2023-08-05T19:49:15.591847Z",
     "shell.execute_reply": "2023-08-05T19:49:15.590618Z"
    },
    "papermill": {
     "duration": 87.205396,
     "end_time": "2023-08-05T19:49:15.601812",
     "exception": false,
     "start_time": "2023-08-05T19:47:48.396416",
     "status": "completed"
    },
    "tags": []
   },
   "outputs": [
    {
     "name": "stdout",
     "output_type": "stream",
     "text": [
      "   FlightDate            Airline Origin Dest  Cancelled  Diverted  CRSDepTime  \\\n",
      "0  2018-01-23  Endeavor Air Inc.    ABY  ATL      False     False        1202   \n",
      "1  2018-01-24  Endeavor Air Inc.    ABY  ATL      False     False        1202   \n",
      "2  2018-01-25  Endeavor Air Inc.    ABY  ATL      False     False        1202   \n",
      "3  2018-01-26  Endeavor Air Inc.    ABY  ATL      False     False        1202   \n",
      "4  2018-01-27  Endeavor Air Inc.    ABY  ATL      False     False        1400   \n",
      "\n",
      "   DepTime  DepDelayMinutes  DepDelay  ...  WheelsOff  WheelsOn  TaxiIn  \\\n",
      "0   1157.0              0.0      -5.0  ...     1211.0    1249.0     7.0   \n",
      "1   1157.0              0.0      -5.0  ...     1210.0    1246.0    12.0   \n",
      "2   1153.0              0.0      -9.0  ...     1211.0    1251.0    11.0   \n",
      "3   1150.0              0.0     -12.0  ...     1207.0    1242.0    11.0   \n",
      "4   1355.0              0.0      -5.0  ...     1412.0    1448.0    11.0   \n",
      "\n",
      "   CRSArrTime  ArrDelay  ArrDel15  ArrivalDelayGroups  ArrTimeBlk  \\\n",
      "0        1304      -8.0       0.0                -1.0   1300-1359   \n",
      "1        1304      -6.0       0.0                -1.0   1300-1359   \n",
      "2        1304      -2.0       0.0                -1.0   1300-1359   \n",
      "3        1304     -11.0       0.0                -1.0   1300-1359   \n",
      "4        1500      -1.0       0.0                -1.0   1500-1559   \n",
      "\n",
      "   DistanceGroup  DivAirportLandings  \n",
      "0              1                 0.0  \n",
      "1              1                 0.0  \n",
      "2              1                 0.0  \n",
      "3              1                 0.0  \n",
      "4              1                 0.0  \n",
      "\n",
      "[5 rows x 61 columns]\n",
      "<class 'pandas.core.frame.DataFrame'>\n",
      "Int64Index: 5578618 entries, 0 to 5689511\n",
      "Data columns (total 61 columns):\n",
      " #   Column                                   Dtype  \n",
      "---  ------                                   -----  \n",
      " 0   FlightDate                               object \n",
      " 1   Airline                                  object \n",
      " 2   Origin                                   object \n",
      " 3   Dest                                     object \n",
      " 4   Cancelled                                bool   \n",
      " 5   Diverted                                 bool   \n",
      " 6   CRSDepTime                               int64  \n",
      " 7   DepTime                                  float64\n",
      " 8   DepDelayMinutes                          float64\n",
      " 9   DepDelay                                 float64\n",
      " 10  ArrTime                                  float64\n",
      " 11  ArrDelayMinutes                          float64\n",
      " 12  AirTime                                  float64\n",
      " 13  CRSElapsedTime                           float64\n",
      " 14  ActualElapsedTime                        float64\n",
      " 15  Distance                                 float64\n",
      " 16  Year                                     int64  \n",
      " 17  Quarter                                  int64  \n",
      " 18  Month                                    int64  \n",
      " 19  DayofMonth                               int64  \n",
      " 20  DayOfWeek                                int64  \n",
      " 21  Marketing_Airline_Network                object \n",
      " 22  Operated_or_Branded_Code_Share_Partners  object \n",
      " 23  DOT_ID_Marketing_Airline                 int64  \n",
      " 24  IATA_Code_Marketing_Airline              object \n",
      " 25  Flight_Number_Marketing_Airline          int64  \n",
      " 26  Operating_Airline                        object \n",
      " 27  DOT_ID_Operating_Airline                 int64  \n",
      " 28  IATA_Code_Operating_Airline              object \n",
      " 29  Tail_Number                              object \n",
      " 30  Flight_Number_Operating_Airline          int64  \n",
      " 31  OriginAirportID                          int64  \n",
      " 32  OriginAirportSeqID                       int64  \n",
      " 33  OriginCityMarketID                       int64  \n",
      " 34  OriginCityName                           object \n",
      " 35  OriginState                              object \n",
      " 36  OriginStateFips                          int64  \n",
      " 37  OriginStateName                          object \n",
      " 38  OriginWac                                int64  \n",
      " 39  DestAirportID                            int64  \n",
      " 40  DestAirportSeqID                         int64  \n",
      " 41  DestCityMarketID                         int64  \n",
      " 42  DestCityName                             object \n",
      " 43  DestState                                object \n",
      " 44  DestStateFips                            int64  \n",
      " 45  DestStateName                            object \n",
      " 46  DestWac                                  int64  \n",
      " 47  DepDel15                                 float64\n",
      " 48  DepartureDelayGroups                     float64\n",
      " 49  DepTimeBlk                               object \n",
      " 50  TaxiOut                                  float64\n",
      " 51  WheelsOff                                float64\n",
      " 52  WheelsOn                                 float64\n",
      " 53  TaxiIn                                   float64\n",
      " 54  CRSArrTime                               int64  \n",
      " 55  ArrDelay                                 float64\n",
      " 56  ArrDel15                                 float64\n",
      " 57  ArrivalDelayGroups                       float64\n",
      " 58  ArrTimeBlk                               object \n",
      " 59  DistanceGroup                            int64  \n",
      " 60  DivAirportLandings                       float64\n",
      "dtypes: bool(2), float64(19), int64(22), object(18)\n",
      "memory usage: 2.5+ GB\n",
      "None\n"
     ]
    }
   ],
   "source": [
    "df_flights_2018 = pd.read_csv(\"/kaggle/input/flight-delay-dataset-20182022/Combined_Flights_2018.csv\")\n",
    "df_flights_2018.dropna(inplace = True)\n",
    "#df_flights_2019 = pd.read_csv(\"/kaggle/input/flight-delay-dataset-20182022/Combined_Flights_2019.csv\")\n",
    "#df_flights_2019.dropna(inplace = True)\n",
    "\n",
    "#let's look at our code after running this\n",
    "#let's look at the code\n",
    "print(df_flights_2018.head())\n",
    "print(df_flights_2018.info())"
   ]
  },
  {
   "cell_type": "code",
   "execution_count": 3,
   "id": "b407552e",
   "metadata": {
    "execution": {
     "iopub.execute_input": "2023-08-05T19:49:15.621140Z",
     "iopub.status.busy": "2023-08-05T19:49:15.620770Z",
     "iopub.status.idle": "2023-08-05T19:49:15.624936Z",
     "shell.execute_reply": "2023-08-05T19:49:15.624003Z"
    },
    "papermill": {
     "duration": 0.015793,
     "end_time": "2023-08-05T19:49:15.627064",
     "exception": false,
     "start_time": "2023-08-05T19:49:15.611271",
     "status": "completed"
    },
    "tags": []
   },
   "outputs": [],
   "source": [
    "#only working with 2018 flights for now to work faster on modeling and code\n",
    "#df_flights = pd.concat([df_flights_2018, df_flights_2019])"
   ]
  },
  {
   "cell_type": "code",
   "execution_count": 4,
   "id": "fa16aa93",
   "metadata": {
    "execution": {
     "iopub.execute_input": "2023-08-05T19:49:15.645203Z",
     "iopub.status.busy": "2023-08-05T19:49:15.644837Z",
     "iopub.status.idle": "2023-08-05T19:49:15.668169Z",
     "shell.execute_reply": "2023-08-05T19:49:15.667128Z"
    },
    "papermill": {
     "duration": 0.034896,
     "end_time": "2023-08-05T19:49:15.670226",
     "exception": false,
     "start_time": "2023-08-05T19:49:15.635330",
     "status": "completed"
    },
    "tags": []
   },
   "outputs": [
    {
     "name": "stdout",
     "output_type": "stream",
     "text": [
      "   FlightDate            Airline Origin Dest  Cancelled  Diverted  CRSDepTime  \\\n",
      "0  2018-01-23  Endeavor Air Inc.    ABY  ATL      False     False        1202   \n",
      "1  2018-01-24  Endeavor Air Inc.    ABY  ATL      False     False        1202   \n",
      "2  2018-01-25  Endeavor Air Inc.    ABY  ATL      False     False        1202   \n",
      "3  2018-01-26  Endeavor Air Inc.    ABY  ATL      False     False        1202   \n",
      "4  2018-01-27  Endeavor Air Inc.    ABY  ATL      False     False        1400   \n",
      "\n",
      "   DepTime  DepDelayMinutes  DepDelay  ...  WheelsOff  WheelsOn  TaxiIn  \\\n",
      "0   1157.0              0.0      -5.0  ...     1211.0    1249.0     7.0   \n",
      "1   1157.0              0.0      -5.0  ...     1210.0    1246.0    12.0   \n",
      "2   1153.0              0.0      -9.0  ...     1211.0    1251.0    11.0   \n",
      "3   1150.0              0.0     -12.0  ...     1207.0    1242.0    11.0   \n",
      "4   1355.0              0.0      -5.0  ...     1412.0    1448.0    11.0   \n",
      "\n",
      "   CRSArrTime  ArrDelay  ArrDel15  ArrivalDelayGroups  ArrTimeBlk  \\\n",
      "0        1304      -8.0       0.0                -1.0   1300-1359   \n",
      "1        1304      -6.0       0.0                -1.0   1300-1359   \n",
      "2        1304      -2.0       0.0                -1.0   1300-1359   \n",
      "3        1304     -11.0       0.0                -1.0   1300-1359   \n",
      "4        1500      -1.0       0.0                -1.0   1500-1559   \n",
      "\n",
      "   DistanceGroup  DivAirportLandings  \n",
      "0              1                 0.0  \n",
      "1              1                 0.0  \n",
      "2              1                 0.0  \n",
      "3              1                 0.0  \n",
      "4              1                 0.0  \n",
      "\n",
      "[5 rows x 61 columns]\n",
      "<class 'pandas.core.frame.DataFrame'>\n",
      "Int64Index: 5578618 entries, 0 to 5689511\n",
      "Data columns (total 61 columns):\n",
      " #   Column                                   Dtype  \n",
      "---  ------                                   -----  \n",
      " 0   FlightDate                               object \n",
      " 1   Airline                                  object \n",
      " 2   Origin                                   object \n",
      " 3   Dest                                     object \n",
      " 4   Cancelled                                bool   \n",
      " 5   Diverted                                 bool   \n",
      " 6   CRSDepTime                               int64  \n",
      " 7   DepTime                                  float64\n",
      " 8   DepDelayMinutes                          float64\n",
      " 9   DepDelay                                 float64\n",
      " 10  ArrTime                                  float64\n",
      " 11  ArrDelayMinutes                          float64\n",
      " 12  AirTime                                  float64\n",
      " 13  CRSElapsedTime                           float64\n",
      " 14  ActualElapsedTime                        float64\n",
      " 15  Distance                                 float64\n",
      " 16  Year                                     int64  \n",
      " 17  Quarter                                  int64  \n",
      " 18  Month                                    int64  \n",
      " 19  DayofMonth                               int64  \n",
      " 20  DayOfWeek                                int64  \n",
      " 21  Marketing_Airline_Network                object \n",
      " 22  Operated_or_Branded_Code_Share_Partners  object \n",
      " 23  DOT_ID_Marketing_Airline                 int64  \n",
      " 24  IATA_Code_Marketing_Airline              object \n",
      " 25  Flight_Number_Marketing_Airline          int64  \n",
      " 26  Operating_Airline                        object \n",
      " 27  DOT_ID_Operating_Airline                 int64  \n",
      " 28  IATA_Code_Operating_Airline              object \n",
      " 29  Tail_Number                              object \n",
      " 30  Flight_Number_Operating_Airline          int64  \n",
      " 31  OriginAirportID                          int64  \n",
      " 32  OriginAirportSeqID                       int64  \n",
      " 33  OriginCityMarketID                       int64  \n",
      " 34  OriginCityName                           object \n",
      " 35  OriginState                              object \n",
      " 36  OriginStateFips                          int64  \n",
      " 37  OriginStateName                          object \n",
      " 38  OriginWac                                int64  \n",
      " 39  DestAirportID                            int64  \n",
      " 40  DestAirportSeqID                         int64  \n",
      " 41  DestCityMarketID                         int64  \n",
      " 42  DestCityName                             object \n",
      " 43  DestState                                object \n",
      " 44  DestStateFips                            int64  \n",
      " 45  DestStateName                            object \n",
      " 46  DestWac                                  int64  \n",
      " 47  DepDel15                                 float64\n",
      " 48  DepartureDelayGroups                     float64\n",
      " 49  DepTimeBlk                               object \n",
      " 50  TaxiOut                                  float64\n",
      " 51  WheelsOff                                float64\n",
      " 52  WheelsOn                                 float64\n",
      " 53  TaxiIn                                   float64\n",
      " 54  CRSArrTime                               int64  \n",
      " 55  ArrDelay                                 float64\n",
      " 56  ArrDel15                                 float64\n",
      " 57  ArrivalDelayGroups                       float64\n",
      " 58  ArrTimeBlk                               object \n",
      " 59  DistanceGroup                            int64  \n",
      " 60  DivAirportLandings                       float64\n",
      "dtypes: bool(2), float64(19), int64(22), object(18)\n",
      "memory usage: 2.5+ GB\n",
      "None\n"
     ]
    }
   ],
   "source": [
    "#let's look at the code\n",
    "print(df_flights_2018.head())\n",
    "print(df_flights_2018.info())"
   ]
  },
  {
   "cell_type": "code",
   "execution_count": 5,
   "id": "5355a79d",
   "metadata": {
    "execution": {
     "iopub.execute_input": "2023-08-05T19:49:15.689441Z",
     "iopub.status.busy": "2023-08-05T19:49:15.689067Z",
     "iopub.status.idle": "2023-08-05T19:49:26.084705Z",
     "shell.execute_reply": "2023-08-05T19:49:26.083580Z"
    },
    "papermill": {
     "duration": 10.408696,
     "end_time": "2023-08-05T19:49:26.087537",
     "exception": false,
     "start_time": "2023-08-05T19:49:15.678841",
     "status": "completed"
    },
    "tags": []
   },
   "outputs": [],
   "source": [
    "#Section 2: Initial Data Cleaning and Wrangling\n",
    "\n",
    "#1. Change FlightDate to datetime time\n",
    "df_flights_2018[\"FlightDate\"] = pd.to_datetime(df_flights_2018[\"FlightDate\"])\n",
    "\n",
    "#2. Change Airline type to String\n",
    "df_flights_2018[\"Airline\"] = df_flights_2018[\"Airline\"].astype(str)\n",
    "\n",
    "#3. Change Origin and Dest type to String\n",
    "df_flights_2018[\"Origin\"] = df_flights_2018[\"Origin\"].astype(str)\n",
    "df_flights_2018[\"Dest\"] = df_flights_2018[\"Dest\"].astype(str)\n",
    "\n",
    "#Now we want to remove any 'known' values that could predict the outcome. For example, DepDel15 would indicate\n",
    "# we're going to be delayed and bias the model. So we're going to drop all these values that we would\n",
    "# not know in advance while we're waiting for a plane to take off. This includes all the arrival values, \n",
    "# diverted values, cancelled values, etc... We also remove a lot of the redudant location information to make the dataset\n",
    "# more manageable\n",
    "keeper_columns = [\"Quarter\",\"DayOfWeek\", \"FlightDate\",\n",
    "                 \"Airline\",\n",
    "                 \"Origin\", \"OriginState\",\n",
    "                 \"Dest\", \"DestState\",\n",
    "                  \"CRSDepTime\",\"Distance\", \"DepDelay\"]\n",
    "\n",
    "#Let's now copy the df to be a clean one to work with\n",
    "df_flights_2018_clean = df_flights_2018[keeper_columns].copy()\n",
    "\n",
    "#DepDelay is going to be our initial target for prediction. Let's rename that as dep_min_delay\n",
    "df_flights_2018_clean.rename(columns={\"DepDelay\": \"dep_min_delay\"}, inplace=True)\n",
    "\n",
    "#CRSDepTime and DepTimeBlk are tought to understand. Let's rename those\n",
    "df_flights_2018_clean.rename(columns={\"CRSDepTime\": \"schedule_dep_time\", \"DepTimeBlk\": \"scheduled_dep_block\"}, inplace=True)\n",
    "\n",
    "#we can see that we have a bit more cleaning to do for changing types\n",
    "#let's convert the type of our target value - dep_min_delay - to int and round it\n",
    "df_flights_2018_clean[\"dep_min_delay\"] = df_flights_2018_clean[\"dep_min_delay\"].round().astype(int)\n",
    "\n",
    "#let's convert distance to int as well\n",
    "df_flights_2018_clean[\"Distance\"] = df_flights_2018_clean[\"Distance\"].astype(int)\n",
    "\n",
    "#Adjusting our date time fields (year, month, day)\n",
    "# Handling datetime data (if applicable)\n",
    "df_flights_2018_clean['Year'] = df_flights_2018_clean['FlightDate'].dt.year\n",
    "df_flights_2018_clean['Month'] = df_flights_2018_clean['FlightDate'].dt.month\n",
    "df_flights_2018_clean['Day'] = df_flights_2018_clean['FlightDate'].dt.day"
   ]
  },
  {
   "cell_type": "code",
   "execution_count": 6,
   "id": "2211cf1d",
   "metadata": {
    "execution": {
     "iopub.execute_input": "2023-08-05T19:49:26.106596Z",
     "iopub.status.busy": "2023-08-05T19:49:26.106221Z",
     "iopub.status.idle": "2023-08-05T19:49:26.111125Z",
     "shell.execute_reply": "2023-08-05T19:49:26.109810Z"
    },
    "papermill": {
     "duration": 0.017113,
     "end_time": "2023-08-05T19:49:26.113544",
     "exception": false,
     "start_time": "2023-08-05T19:49:26.096431",
     "status": "completed"
    },
    "tags": []
   },
   "outputs": [],
   "source": [
    "#to save memory we now delete our original dataset\n",
    "#del df_flights_2018\n",
    "#gc.collect()"
   ]
  },
  {
   "cell_type": "code",
   "execution_count": 7,
   "id": "1f307903",
   "metadata": {
    "execution": {
     "iopub.execute_input": "2023-08-05T19:49:26.132669Z",
     "iopub.status.busy": "2023-08-05T19:49:26.132058Z",
     "iopub.status.idle": "2023-08-05T19:49:26.148122Z",
     "shell.execute_reply": "2023-08-05T19:49:26.146832Z"
    },
    "papermill": {
     "duration": 0.028481,
     "end_time": "2023-08-05T19:49:26.150802",
     "exception": false,
     "start_time": "2023-08-05T19:49:26.122321",
     "status": "completed"
    },
    "tags": []
   },
   "outputs": [
    {
     "name": "stdout",
     "output_type": "stream",
     "text": [
      "   Quarter  DayOfWeek FlightDate            Airline Origin OriginState Dest  \\\n",
      "0        1          2 2018-01-23  Endeavor Air Inc.    ABY          GA  ATL   \n",
      "1        1          3 2018-01-24  Endeavor Air Inc.    ABY          GA  ATL   \n",
      "2        1          4 2018-01-25  Endeavor Air Inc.    ABY          GA  ATL   \n",
      "3        1          5 2018-01-26  Endeavor Air Inc.    ABY          GA  ATL   \n",
      "4        1          6 2018-01-27  Endeavor Air Inc.    ABY          GA  ATL   \n",
      "\n",
      "  DestState  schedule_dep_time  Distance  dep_min_delay  Year  Month  Day  \n",
      "0        GA               1202       145             -5  2018      1   23  \n",
      "1        GA               1202       145             -5  2018      1   24  \n",
      "2        GA               1202       145             -9  2018      1   25  \n",
      "3        GA               1202       145            -12  2018      1   26  \n",
      "4        GA               1400       145             -5  2018      1   27  \n",
      "<class 'pandas.core.frame.DataFrame'>\n",
      "Int64Index: 5578618 entries, 0 to 5689511\n",
      "Data columns (total 14 columns):\n",
      " #   Column             Dtype         \n",
      "---  ------             -----         \n",
      " 0   Quarter            int64         \n",
      " 1   DayOfWeek          int64         \n",
      " 2   FlightDate         datetime64[ns]\n",
      " 3   Airline            object        \n",
      " 4   Origin             object        \n",
      " 5   OriginState        object        \n",
      " 6   Dest               object        \n",
      " 7   DestState          object        \n",
      " 8   schedule_dep_time  int64         \n",
      " 9   Distance           int64         \n",
      " 10  dep_min_delay      int64         \n",
      " 11  Year               int64         \n",
      " 12  Month              int64         \n",
      " 13  Day                int64         \n",
      "dtypes: datetime64[ns](1), int64(8), object(5)\n",
      "memory usage: 638.4+ MB\n",
      "None\n"
     ]
    }
   ],
   "source": [
    "print(df_flights_2018_clean.head())\n",
    "print(df_flights_2018_clean.info())"
   ]
  },
  {
   "cell_type": "code",
   "execution_count": 8,
   "id": "0860a6f7",
   "metadata": {
    "execution": {
     "iopub.execute_input": "2023-08-05T19:49:26.170251Z",
     "iopub.status.busy": "2023-08-05T19:49:26.169812Z",
     "iopub.status.idle": "2023-08-05T19:49:26.591984Z",
     "shell.execute_reply": "2023-08-05T19:49:26.590783Z"
    },
    "papermill": {
     "duration": 0.434901,
     "end_time": "2023-08-05T19:49:26.594393",
     "exception": false,
     "start_time": "2023-08-05T19:49:26.159492",
     "status": "completed"
    },
    "tags": []
   },
   "outputs": [
    {
     "name": "stdout",
     "output_type": "stream",
     "text": [
      "ORD    282770\n",
      "DEN    249288\n",
      "ATL    221242\n",
      "LAX    181472\n",
      "IAH    161187\n",
      "SFO    154833\n",
      "EWR    145580\n",
      "LAS    143054\n",
      "SEA    130912\n",
      "DFW    129181\n",
      "PHX    117148\n",
      "MCO    115943\n",
      "BOS    112322\n",
      "CLT    109738\n",
      "DTW     98097\n",
      "LGA     95210\n",
      "BWI     95197\n",
      "MSP     88652\n",
      "FLL     86451\n",
      "IAD     84340\n",
      "Name: Origin, dtype: int64\n"
     ]
    }
   ],
   "source": [
    "#we need to reduce the dataset further before modeling. It currently includes all airports in the USA which is just too much to one hot encode. So we're going to reduce it down.\n",
    "\n",
    "#1. Let's see which airports are the most common \n",
    "origin_counts = df_flights_2018_clean['Origin'].value_counts()\n",
    "top_origins = origin_counts.head(20)\n",
    "print(top_origins)"
   ]
  },
  {
   "cell_type": "code",
   "execution_count": 9,
   "id": "69796ab2",
   "metadata": {
    "execution": {
     "iopub.execute_input": "2023-08-05T19:49:26.613433Z",
     "iopub.status.busy": "2023-08-05T19:49:26.613050Z",
     "iopub.status.idle": "2023-08-05T19:49:27.040817Z",
     "shell.execute_reply": "2023-08-05T19:49:27.039624Z"
    },
    "papermill": {
     "duration": 0.439564,
     "end_time": "2023-08-05T19:49:27.042814",
     "exception": false,
     "start_time": "2023-08-05T19:49:26.603250",
     "status": "completed"
    },
    "tags": []
   },
   "outputs": [
    {
     "name": "stdout",
     "output_type": "stream",
     "text": [
      "ORD    282130\n",
      "DEN    248875\n",
      "ATL    221544\n",
      "LAX    181687\n",
      "IAH    160930\n",
      "SFO    154863\n",
      "EWR    145303\n",
      "LAS    143180\n",
      "SEA    130771\n",
      "DFW    128629\n",
      "PHX    116948\n",
      "MCO    115777\n",
      "BOS    112434\n",
      "CLT    109519\n",
      "DTW     98349\n",
      "BWI     95016\n",
      "LGA     95002\n",
      "MSP     88739\n",
      "FLL     86389\n",
      "IAD     84278\n",
      "Name: Dest, dtype: int64\n"
     ]
    }
   ],
   "source": [
    "# now let's get our top 20 destinations\n",
    "dest_counts = df_flights_2018_clean['Dest'].value_counts()\n",
    "top_dest = dest_counts.head(20)\n",
    "print(top_dest)"
   ]
  },
  {
   "cell_type": "code",
   "execution_count": 10,
   "id": "dd6f37d9",
   "metadata": {
    "execution": {
     "iopub.execute_input": "2023-08-05T19:49:27.062780Z",
     "iopub.status.busy": "2023-08-05T19:49:27.062398Z",
     "iopub.status.idle": "2023-08-05T19:49:28.204476Z",
     "shell.execute_reply": "2023-08-05T19:49:28.203113Z"
    },
    "papermill": {
     "duration": 1.15507,
     "end_time": "2023-08-05T19:49:28.206790",
     "exception": false,
     "start_time": "2023-08-05T19:49:27.051720",
     "status": "completed"
    },
    "tags": []
   },
   "outputs": [
    {
     "name": "stdout",
     "output_type": "stream",
     "text": [
      "5578618\n",
      "2802617\n",
      "1113556\n"
     ]
    }
   ],
   "source": [
    "#Now that we have our list of top origins and destinations, we are going to reduce it further by only including these airports\n",
    "#how many flights do we currently have in the dataset?\n",
    "print(df_flights_2018_clean.shape[0])\n",
    "#our original clean dataset has 5.5 million rows\n",
    "#first we filter for origins\n",
    "df_flights_2018_clean_reduced = df_flights_2018_clean[df_flights_2018_clean['Origin'].isin(top_origins.index)]\n",
    "print(df_flights_2018_clean_reduced.shape[0])\n",
    "#this gets us down to 2.8 million rows\n",
    "#now we filter down further based on top 20 destination\n",
    "df_flights_2018_clean_reduced = df_flights_2018_clean_reduced[df_flights_2018_clean_reduced['Dest'].isin(top_dest.index)]\n",
    "print(df_flights_2018_clean_reduced.shape[0])\n",
    "#great! Now we are down to 1.1 million rows. We've reduced our dataset by 80 percent"
   ]
  },
  {
   "cell_type": "code",
   "execution_count": 11,
   "id": "723261d7",
   "metadata": {
    "execution": {
     "iopub.execute_input": "2023-08-05T19:49:28.226601Z",
     "iopub.status.busy": "2023-08-05T19:49:28.226233Z",
     "iopub.status.idle": "2023-08-05T19:49:28.308693Z",
     "shell.execute_reply": "2023-08-05T19:49:28.307530Z"
    },
    "papermill": {
     "duration": 0.09496,
     "end_time": "2023-08-05T19:49:28.310915",
     "exception": false,
     "start_time": "2023-08-05T19:49:28.215955",
     "status": "completed"
    },
    "tags": []
   },
   "outputs": [
    {
     "name": "stdout",
     "output_type": "stream",
     "text": [
      "Number of unique values for Airline: 22\n"
     ]
    }
   ],
   "source": [
    "#Let's check out what our new dataset looks like\n",
    "#how many different airlines are represented?\n",
    "print(\"Number of unique values for Airline:\", df_flights_2018_clean_reduced['Airline'].nunique())\n",
    "#Ok, we still have 22 different airlines represented. This is good."
   ]
  },
  {
   "cell_type": "code",
   "execution_count": 12,
   "id": "71e638bc",
   "metadata": {
    "execution": {
     "iopub.execute_input": "2023-08-05T19:49:28.331465Z",
     "iopub.status.busy": "2023-08-05T19:49:28.330716Z",
     "iopub.status.idle": "2023-08-05T19:49:28.456880Z",
     "shell.execute_reply": "2023-08-05T19:49:28.455745Z"
    },
    "papermill": {
     "duration": 0.139158,
     "end_time": "2023-08-05T19:49:28.459159",
     "exception": false,
     "start_time": "2023-08-05T19:49:28.320001",
     "status": "completed"
    },
    "tags": []
   },
   "outputs": [
    {
     "name": "stdout",
     "output_type": "stream",
     "text": [
      "Number of unique states in OriginState: 17\n",
      "Number of unique states in DestState: 17\n"
     ]
    }
   ],
   "source": [
    "#What does our geographic dispersion look like? Let's see how many different states are represented\n",
    "print(\"Number of unique states in OriginState:\", df_flights_2018_clean_reduced['OriginState'].nunique())\n",
    "#Good we have 17 states represented, that's some diversity.\n",
    "print(\"Number of unique states in DestState:\", df_flights_2018_clean_reduced['OriginState'].nunique())\n",
    "#17 as well for the Destinations. This should work decently. "
   ]
  },
  {
   "cell_type": "code",
   "execution_count": 13,
   "id": "acb558f9",
   "metadata": {
    "execution": {
     "iopub.execute_input": "2023-08-05T19:49:28.478848Z",
     "iopub.status.busy": "2023-08-05T19:49:28.478500Z",
     "iopub.status.idle": "2023-08-05T19:49:28.651407Z",
     "shell.execute_reply": "2023-08-05T19:49:28.650535Z"
    },
    "papermill": {
     "duration": 0.185529,
     "end_time": "2023-08-05T19:49:28.653688",
     "exception": false,
     "start_time": "2023-08-05T19:49:28.468159",
     "status": "completed"
    },
    "tags": []
   },
   "outputs": [
    {
     "name": "stdout",
     "output_type": "stream",
     "text": [
      "CA    158250\n",
      "TX    105217\n",
      "FL     95069\n",
      "IL     85900\n",
      "CO     80246\n",
      "GA     74158\n",
      "NJ     63546\n",
      "MA     60570\n",
      "NV     59809\n",
      "WA     49749\n",
      "Name: OriginState, dtype: int64\n",
      "CA    158704\n",
      "TX    104995\n",
      "FL     95108\n",
      "IL     85881\n",
      "CO     79683\n",
      "GA     74245\n",
      "NJ     63498\n",
      "MA     60685\n",
      "NV     59910\n",
      "WA     49758\n",
      "Name: DestState, dtype: int64\n"
     ]
    }
   ],
   "source": [
    "#Let's visualize our states to see where the bulk of the data is coming from\n",
    "origin_state_counts = df_flights_2018_clean_reduced['OriginState'].value_counts()\n",
    "print(origin_state_counts.head(10))\n",
    "dest_state_counts = df_flights_2018_clean_reduced['DestState'].value_counts()\n",
    "print(dest_state_counts.head(10))\n",
    "\n",
    "#We see here then that our rankings are the same, the top 10 origin states and top 10 departure states are the same. It makes sense since airlines use\n",
    "#hub and spoke models and these hubs would be the busiest airports"
   ]
  },
  {
   "cell_type": "code",
   "execution_count": 14,
   "id": "35e5d36d",
   "metadata": {
    "execution": {
     "iopub.execute_input": "2023-08-05T19:49:28.673406Z",
     "iopub.status.busy": "2023-08-05T19:49:28.672948Z",
     "iopub.status.idle": "2023-08-05T19:49:28.762201Z",
     "shell.execute_reply": "2023-08-05T19:49:28.760743Z"
    },
    "papermill": {
     "duration": 0.101778,
     "end_time": "2023-08-05T19:49:28.764640",
     "exception": false,
     "start_time": "2023-08-05T19:49:28.662862",
     "status": "completed"
    },
    "tags": []
   },
   "outputs": [
    {
     "name": "stdout",
     "output_type": "stream",
     "text": [
      "Origin\n",
      "EWR    14.674928\n",
      "DFW    13.319274\n",
      "BOS    13.168962\n",
      "MCO    13.036935\n",
      "ORD    13.016205\n",
      "LGA    12.379286\n",
      "FLL    11.677273\n",
      "DEN    11.602846\n",
      "BWI    11.398214\n",
      "ATL    10.758785\n",
      "SFO    10.727685\n",
      "CLT    10.578674\n",
      "IAD    10.262088\n",
      "PHX    10.126002\n",
      "IAH    10.058599\n",
      "LAS     9.966460\n",
      "DTW     8.506716\n",
      "MSP     8.290735\n",
      "LAX     8.150424\n",
      "SEA     8.036724\n",
      "Name: dep_min_delay, dtype: float64\n"
     ]
    }
   ],
   "source": [
    "#Now let's see which airports have the most departure delays\n",
    "\n",
    "#group by Origin and we want the dep_min_delay to get an average for all flights coming out of that airport\n",
    "airport_delays = df_flights_2018_clean_reduced.groupby('Origin')['dep_min_delay'].mean()\n",
    "#now we sort by descending value\n",
    "airport_delays_sorted = airport_delays.sort_values(ascending=False)\n",
    "print(airport_delays_sorted.head(20))\n",
    "\n",
    "#Interesting. So EWR (Newark) has the worst average delay with 14.7 minutes, then Dallas is second with 13.3 mins of delay. \n",
    "#Seattle is the best of our major airports with only 8.03 mins of average delay."
   ]
  },
  {
   "cell_type": "code",
   "execution_count": 15,
   "id": "0be63ca0",
   "metadata": {
    "execution": {
     "iopub.execute_input": "2023-08-05T19:49:28.784781Z",
     "iopub.status.busy": "2023-08-05T19:49:28.784397Z",
     "iopub.status.idle": "2023-08-05T19:49:28.898537Z",
     "shell.execute_reply": "2023-08-05T19:49:28.897013Z"
    },
    "papermill": {
     "duration": 0.127145,
     "end_time": "2023-08-05T19:49:28.901065",
     "exception": false,
     "start_time": "2023-08-05T19:49:28.773920",
     "status": "completed"
    },
    "tags": []
   },
   "outputs": [
    {
     "name": "stdout",
     "output_type": "stream",
     "text": [
      "Airline\n",
      "Commutair Aka Champlain Enterprises, Inc.    31.350067\n",
      "JetBlue Airways                              25.567400\n",
      "GoJet Airlines, LLC d/b/a United Express     19.441989\n",
      "SkyWest Airlines Inc.                        18.765672\n",
      "United Air Lines Inc.                        14.901459\n",
      "Southwest Airlines Co.                       13.744661\n",
      "Spirit Air Lines                             13.642779\n",
      "Endeavor Air Inc.                            13.151982\n",
      "ExpressJet Airlines Inc.                     12.306306\n",
      "Delta Air Lines Inc.                          9.832812\n",
      "American Airlines Inc.                        8.583433\n",
      "Alaska Airlines Inc.                          8.130397\n",
      "Republic Airlines                             7.815070\n",
      "Virgin America                                6.675728\n",
      "Envoy Air                                     5.500000\n",
      "Name: dep_min_delay, dtype: float64\n"
     ]
    }
   ],
   "source": [
    "#let's dig into the Newark data more to find out why the delays are so bad.\n",
    "#which airlines at Newark have the worst delays?\n",
    "#get the flights only from Newark\n",
    "flights_from_EWR = df_flights_2018_clean_reduced[df_flights_2018_clean_reduced['Origin'] == 'EWR']\n",
    "\n",
    "#groupby airline and rank the average delay\n",
    "EWR_delays = flights_from_EWR.groupby('Airline')['dep_min_delay'].mean()\n",
    "print(EWR_delays.sort_values(ascending=False))\n",
    "\n",
    "#Wow! Hopefully you're not flying Commutiar or JetBlue anytime soon out of Newark!"
   ]
  },
  {
   "cell_type": "code",
   "execution_count": 16,
   "id": "b362304d",
   "metadata": {
    "execution": {
     "iopub.execute_input": "2023-08-05T19:49:28.921610Z",
     "iopub.status.busy": "2023-08-05T19:49:28.921239Z",
     "iopub.status.idle": "2023-08-05T19:49:29.778693Z",
     "shell.execute_reply": "2023-08-05T19:49:29.777209Z"
    },
    "papermill": {
     "duration": 0.870734,
     "end_time": "2023-08-05T19:49:29.781213",
     "exception": false,
     "start_time": "2023-08-05T19:49:28.910479",
     "status": "completed"
    },
    "tags": []
   },
   "outputs": [
    {
     "name": "stdout",
     "output_type": "stream",
     "text": [
      "     Quarter  DayOfWeek FlightDate            Airline Origin OriginState Dest  \\\n",
      "305        1          1 2018-01-01  Endeavor Air Inc.    ATL          GA  IAH   \n",
      "365        1          2 2018-01-02  Endeavor Air Inc.    DTW          MI  DFW   \n",
      "399        1          2 2018-01-02  Endeavor Air Inc.    DTW          MI  LGA   \n",
      "452        1          3 2018-01-10  Endeavor Air Inc.    DTW          MI  IAD   \n",
      "453        1          3 2018-01-10  Endeavor Air Inc.    IAD          VA  DTW   \n",
      "\n",
      "    DestState  schedule_dep_time  Distance  dep_min_delay  Year  Month  Day  \n",
      "305        TX               1151       689            141  2018      1    1  \n",
      "365        TX               1540       986              7  2018      1    2  \n",
      "399        NY               1733       502             14  2018      1    2  \n",
      "452        VA                720       383             -8  2018      1   10  \n",
      "453        MI                944       383              2  2018      1   10  \n",
      "<class 'pandas.core.frame.DataFrame'>\n",
      "Int64Index: 1113556 entries, 305 to 5689396\n",
      "Data columns (total 14 columns):\n",
      " #   Column             Non-Null Count    Dtype         \n",
      "---  ------             --------------    -----         \n",
      " 0   Quarter            1113556 non-null  int64         \n",
      " 1   DayOfWeek          1113556 non-null  int64         \n",
      " 2   FlightDate         1113556 non-null  datetime64[ns]\n",
      " 3   Airline            1113556 non-null  object        \n",
      " 4   Origin             1113556 non-null  object        \n",
      " 5   OriginState        1113556 non-null  object        \n",
      " 6   Dest               1113556 non-null  object        \n",
      " 7   DestState          1113556 non-null  object        \n",
      " 8   schedule_dep_time  1113556 non-null  int64         \n",
      " 9   Distance           1113556 non-null  int64         \n",
      " 10  dep_min_delay      1113556 non-null  int64         \n",
      " 11  Year               1113556 non-null  int64         \n",
      " 12  Month              1113556 non-null  int64         \n",
      " 13  Day                1113556 non-null  int64         \n",
      "dtypes: datetime64[ns](1), int64(8), object(5)\n",
      "memory usage: 127.4+ MB\n",
      "None\n"
     ]
    }
   ],
   "source": [
    "#Section 4: Prep for modeling\n",
    "#First lets remind ourselves what our current dataset looks like\n",
    "print(df_flights_2018_clean_reduced.head())\n",
    "print(df_flights_2018_clean_reduced.info())"
   ]
  },
  {
   "cell_type": "code",
   "execution_count": 17,
   "id": "eea4b9e4",
   "metadata": {
    "execution": {
     "iopub.execute_input": "2023-08-05T19:49:29.803668Z",
     "iopub.status.busy": "2023-08-05T19:49:29.802577Z",
     "iopub.status.idle": "2023-08-05T19:49:32.837698Z",
     "shell.execute_reply": "2023-08-05T19:49:32.836537Z"
    },
    "papermill": {
     "duration": 3.049434,
     "end_time": "2023-08-05T19:49:32.840313",
     "exception": false,
     "start_time": "2023-08-05T19:49:29.790879",
     "status": "completed"
    },
    "tags": []
   },
   "outputs": [
    {
     "name": "stderr",
     "output_type": "stream",
     "text": [
      "/opt/conda/lib/python3.10/site-packages/scipy/__init__.py:146: UserWarning: A NumPy version >=1.16.5 and <1.23.0 is required for this version of SciPy (detected version 1.23.5\n",
      "  warnings.warn(f\"A NumPy version >={np_minversion} and <{np_maxversion}\"\n"
     ]
    }
   ],
   "source": [
    "#Section 4: Prep for Modeling\n",
    "from sklearn.model_selection import train_test_split\n",
    "from sklearn.metrics import mean_squared_error, r2_score\n",
    "from sklearn.preprocessing import OneHotEncoder\n",
    "\n",
    "#One hot encoding before modeling\n",
    "#In order to effectively model, we need to one-hot-encode five values:\n",
    "#\"Airline\" (22 values)\n",
    "#\"Origin\" (20 values)\n",
    "#\"OriginState\" (20 values)\n",
    "#\"Dest\"(17 values)\n",
    "#\"DestState\" (17 values)\n",
    "\n",
    "#4.1 encode \"Airline\"\n",
    "#create an encoder instance\n",
    "encoder = OneHotEncoder(drop='first', sparse_output=False)\n",
    "#reshape the column \n",
    "airline_data = df_flights_2018_clean_reduced[['Airline']]\n",
    "airline_data_reshaped = airline_data.values.reshape(-1, 1)\n",
    "#encode with fit_transform\n",
    "encoded_airline = pd.DataFrame(encoder.fit_transform(airline_data_reshaped), columns=encoder.get_feature_names_out(['Airline']))\n",
    "#concatenate bback with originl\n",
    "df_flights_2018_encoded = pd.concat([df_flights_2018_clean_reduced, encoded_airline], axis=1)\n",
    "#drop the original airline column\n",
    "df_flights_2018_encoded.drop(columns=['Airline'], inplace=True)\n",
    "\n",
    "#we also need to drop the datetime column\n",
    "df_flights_2018_encoded.drop(columns=['FlightDate'], inplace=True)"
   ]
  },
  {
   "cell_type": "code",
   "execution_count": 18,
   "id": "a6537120",
   "metadata": {
    "execution": {
     "iopub.execute_input": "2023-08-05T19:49:32.861702Z",
     "iopub.status.busy": "2023-08-05T19:49:32.861299Z",
     "iopub.status.idle": "2023-08-05T19:49:32.886115Z",
     "shell.execute_reply": "2023-08-05T19:49:32.884886Z"
    },
    "papermill": {
     "duration": 0.038627,
     "end_time": "2023-08-05T19:49:32.888945",
     "exception": false,
     "start_time": "2023-08-05T19:49:32.850318",
     "status": "completed"
    },
    "tags": []
   },
   "outputs": [
    {
     "name": "stdout",
     "output_type": "stream",
     "text": [
      "     Quarter  DayOfWeek Origin OriginState Dest DestState  schedule_dep_time  \\\n",
      "305      1.0        1.0    ATL          GA  IAH        TX             1151.0   \n",
      "365      1.0        2.0    DTW          MI  DFW        TX             1540.0   \n",
      "399      1.0        2.0    DTW          MI  LGA        NY             1733.0   \n",
      "452      1.0        3.0    DTW          MI  IAD        VA              720.0   \n",
      "453      1.0        3.0    IAD          VA  DTW        MI              944.0   \n",
      "\n",
      "     Distance  dep_min_delay    Year  ...  Airline_Horizon Air  \\\n",
      "305     689.0          141.0  2018.0  ...                  0.0   \n",
      "365     986.0            7.0  2018.0  ...                  0.0   \n",
      "399     502.0           14.0  2018.0  ...                  0.0   \n",
      "452     383.0           -8.0  2018.0  ...                  0.0   \n",
      "453     383.0            2.0  2018.0  ...                  0.0   \n",
      "\n",
      "     Airline_JetBlue Airways  Airline_Mesa Airlines Inc.  \\\n",
      "305                      1.0                         0.0   \n",
      "365                      1.0                         0.0   \n",
      "399                      1.0                         0.0   \n",
      "452                      1.0                         0.0   \n",
      "453                      1.0                         0.0   \n",
      "\n",
      "     Airline_Republic Airlines  Airline_SkyWest Airlines Inc.  \\\n",
      "305                        0.0                            0.0   \n",
      "365                        0.0                            0.0   \n",
      "399                        0.0                            0.0   \n",
      "452                        0.0                            0.0   \n",
      "453                        0.0                            0.0   \n",
      "\n",
      "     Airline_Southwest Airlines Co.  Airline_Spirit Air Lines  \\\n",
      "305                             0.0                       0.0   \n",
      "365                             0.0                       0.0   \n",
      "399                             0.0                       0.0   \n",
      "452                             0.0                       0.0   \n",
      "453                             0.0                       0.0   \n",
      "\n",
      "     Airline_Trans States Airlines  Airline_United Air Lines Inc.  \\\n",
      "305                            0.0                            0.0   \n",
      "365                            0.0                            0.0   \n",
      "399                            0.0                            0.0   \n",
      "452                            0.0                            0.0   \n",
      "453                            0.0                            0.0   \n",
      "\n",
      "     Airline_Virgin America  \n",
      "305                     0.0  \n",
      "365                     0.0  \n",
      "399                     0.0  \n",
      "452                     0.0  \n",
      "453                     0.0  \n",
      "\n",
      "[5 rows x 33 columns]\n",
      "<class 'pandas.core.frame.DataFrame'>\n",
      "Int64Index: 2007634 entries, 305 to 1113555\n",
      "Data columns (total 33 columns):\n",
      " #   Column                                             Dtype  \n",
      "---  ------                                             -----  \n",
      " 0   Quarter                                            float64\n",
      " 1   DayOfWeek                                          float64\n",
      " 2   Origin                                             object \n",
      " 3   OriginState                                        object \n",
      " 4   Dest                                               object \n",
      " 5   DestState                                          object \n",
      " 6   schedule_dep_time                                  float64\n",
      " 7   Distance                                           float64\n",
      " 8   dep_min_delay                                      float64\n",
      " 9   Year                                               float64\n",
      " 10  Month                                              float64\n",
      " 11  Day                                                float64\n",
      " 12  Airline_Alaska Airlines Inc.                       float64\n",
      " 13  Airline_American Airlines Inc.                     float64\n",
      " 14  Airline_Comair Inc.                                float64\n",
      " 15  Airline_Commutair Aka Champlain Enterprises, Inc.  float64\n",
      " 16  Airline_Compass Airlines                           float64\n",
      " 17  Airline_Delta Air Lines Inc.                       float64\n",
      " 18  Airline_Endeavor Air Inc.                          float64\n",
      " 19  Airline_Envoy Air                                  float64\n",
      " 20  Airline_ExpressJet Airlines Inc.                   float64\n",
      " 21  Airline_Frontier Airlines Inc.                     float64\n",
      " 22  Airline_GoJet Airlines, LLC d/b/a United Express   float64\n",
      " 23  Airline_Horizon Air                                float64\n",
      " 24  Airline_JetBlue Airways                            float64\n",
      " 25  Airline_Mesa Airlines Inc.                         float64\n",
      " 26  Airline_Republic Airlines                          float64\n",
      " 27  Airline_SkyWest Airlines Inc.                      float64\n",
      " 28  Airline_Southwest Airlines Co.                     float64\n",
      " 29  Airline_Spirit Air Lines                           float64\n",
      " 30  Airline_Trans States Airlines                      float64\n",
      " 31  Airline_United Air Lines Inc.                      float64\n",
      " 32  Airline_Virgin America                             float64\n",
      "dtypes: float64(29), object(4)\n",
      "memory usage: 520.8+ MB\n",
      "None\n"
     ]
    }
   ],
   "source": [
    "print(df_flights_2018_encoded.head())\n",
    "print(df_flights_2018_encoded.info())"
   ]
  },
  {
   "cell_type": "code",
   "execution_count": 19,
   "id": "ab3ff905",
   "metadata": {
    "execution": {
     "iopub.execute_input": "2023-08-05T19:49:32.910710Z",
     "iopub.status.busy": "2023-08-05T19:49:32.910114Z",
     "iopub.status.idle": "2023-08-05T19:49:40.151899Z",
     "shell.execute_reply": "2023-08-05T19:49:40.151041Z"
    },
    "papermill": {
     "duration": 7.255454,
     "end_time": "2023-08-05T19:49:40.154360",
     "exception": false,
     "start_time": "2023-08-05T19:49:32.898906",
     "status": "completed"
    },
    "tags": []
   },
   "outputs": [
    {
     "name": "stdout",
     "output_type": "stream",
     "text": [
      "<class 'pandas.core.frame.DataFrame'>\n",
      "Int64Index: 2007634 entries, 305 to 1113555\n",
      "Data columns (total 99 columns):\n",
      " #   Column                                             Dtype  \n",
      "---  ------                                             -----  \n",
      " 0   Quarter                                            float64\n",
      " 1   DayOfWeek                                          float64\n",
      " 2   schedule_dep_time                                  float64\n",
      " 3   Distance                                           float64\n",
      " 4   dep_min_delay                                      float64\n",
      " 5   Year                                               float64\n",
      " 6   Month                                              float64\n",
      " 7   Day                                                float64\n",
      " 8   Airline_Alaska Airlines Inc.                       float64\n",
      " 9   Airline_American Airlines Inc.                     float64\n",
      " 10  Airline_Comair Inc.                                float64\n",
      " 11  Airline_Commutair Aka Champlain Enterprises, Inc.  float64\n",
      " 12  Airline_Compass Airlines                           float64\n",
      " 13  Airline_Delta Air Lines Inc.                       float64\n",
      " 14  Airline_Endeavor Air Inc.                          float64\n",
      " 15  Airline_Envoy Air                                  float64\n",
      " 16  Airline_ExpressJet Airlines Inc.                   float64\n",
      " 17  Airline_Frontier Airlines Inc.                     float64\n",
      " 18  Airline_GoJet Airlines, LLC d/b/a United Express   float64\n",
      " 19  Airline_Horizon Air                                float64\n",
      " 20  Airline_JetBlue Airways                            float64\n",
      " 21  Airline_Mesa Airlines Inc.                         float64\n",
      " 22  Airline_Republic Airlines                          float64\n",
      " 23  Airline_SkyWest Airlines Inc.                      float64\n",
      " 24  Airline_Southwest Airlines Co.                     float64\n",
      " 25  Airline_Spirit Air Lines                           float64\n",
      " 26  Airline_Trans States Airlines                      float64\n",
      " 27  Airline_United Air Lines Inc.                      float64\n",
      " 28  Airline_Virgin America                             float64\n",
      " 29  Origin_BOS                                         float64\n",
      " 30  Origin_BWI                                         float64\n",
      " 31  Origin_CLT                                         float64\n",
      " 32  Origin_DEN                                         float64\n",
      " 33  Origin_DFW                                         float64\n",
      " 34  Origin_DTW                                         float64\n",
      " 35  Origin_EWR                                         float64\n",
      " 36  Origin_FLL                                         float64\n",
      " 37  Origin_IAD                                         float64\n",
      " 38  Origin_IAH                                         float64\n",
      " 39  Origin_LAS                                         float64\n",
      " 40  Origin_LAX                                         float64\n",
      " 41  Origin_LGA                                         float64\n",
      " 42  Origin_MCO                                         float64\n",
      " 43  Origin_MSP                                         float64\n",
      " 44  Origin_ORD                                         float64\n",
      " 45  Origin_PHX                                         float64\n",
      " 46  Origin_SEA                                         float64\n",
      " 47  Origin_SFO                                         float64\n",
      " 48  OriginState_CA                                     float64\n",
      " 49  OriginState_CO                                     float64\n",
      " 50  OriginState_FL                                     float64\n",
      " 51  OriginState_GA                                     float64\n",
      " 52  OriginState_IL                                     float64\n",
      " 53  OriginState_MA                                     float64\n",
      " 54  OriginState_MD                                     float64\n",
      " 55  OriginState_MI                                     float64\n",
      " 56  OriginState_MN                                     float64\n",
      " 57  OriginState_NC                                     float64\n",
      " 58  OriginState_NJ                                     float64\n",
      " 59  OriginState_NV                                     float64\n",
      " 60  OriginState_NY                                     float64\n",
      " 61  OriginState_TX                                     float64\n",
      " 62  OriginState_VA                                     float64\n",
      " 63  OriginState_WA                                     float64\n",
      " 64  Dest_BOS                                           float64\n",
      " 65  Dest_BWI                                           float64\n",
      " 66  Dest_CLT                                           float64\n",
      " 67  Dest_DEN                                           float64\n",
      " 68  Dest_DFW                                           float64\n",
      " 69  Dest_DTW                                           float64\n",
      " 70  Dest_EWR                                           float64\n",
      " 71  Dest_FLL                                           float64\n",
      " 72  Dest_IAD                                           float64\n",
      " 73  Dest_IAH                                           float64\n",
      " 74  Dest_LAS                                           float64\n",
      " 75  Dest_LAX                                           float64\n",
      " 76  Dest_LGA                                           float64\n",
      " 77  Dest_MCO                                           float64\n",
      " 78  Dest_MSP                                           float64\n",
      " 79  Dest_ORD                                           float64\n",
      " 80  Dest_PHX                                           float64\n",
      " 81  Dest_SEA                                           float64\n",
      " 82  Dest_SFO                                           float64\n",
      " 83  DestState_CA                                       float64\n",
      " 84  DestState_CO                                       float64\n",
      " 85  DestState_FL                                       float64\n",
      " 86  DestState_GA                                       float64\n",
      " 87  DestState_IL                                       float64\n",
      " 88  DestState_MA                                       float64\n",
      " 89  DestState_MD                                       float64\n",
      " 90  DestState_MI                                       float64\n",
      " 91  DestState_MN                                       float64\n",
      " 92  DestState_NC                                       float64\n",
      " 93  DestState_NJ                                       float64\n",
      " 94  DestState_NV                                       float64\n",
      " 95  DestState_NY                                       float64\n",
      " 96  DestState_TX                                       float64\n",
      " 97  DestState_VA                                       float64\n",
      " 98  DestState_WA                                       float64\n",
      "dtypes: float64(99)\n",
      "memory usage: 1.5 GB\n",
      "None\n"
     ]
    }
   ],
   "source": [
    "#Great! One of our five categorical columns is encoded. Now lets do the last five.\n",
    "#4.2 encode \"Origin\"\n",
    "encoder = OneHotEncoder(drop='first', sparse_output=False)\n",
    "origin_data = df_flights_2018_clean_reduced[['Origin']]\n",
    "origin_data_reshaped = origin_data.values.reshape(-1, 1)\n",
    "encoded_airline = pd.DataFrame(encoder.fit_transform(origin_data_reshaped), columns=encoder.get_feature_names_out(['Origin']))\n",
    "df_flights_2018_encoded = pd.concat([df_flights_2018_encoded, encoded_airline], axis=1)\n",
    "df_flights_2018_encoded.drop(columns=['Origin'], inplace=True)\n",
    "\n",
    "#4.3 encode \"OriginState\"\n",
    "encoder = OneHotEncoder(drop='first', sparse_output=False)\n",
    "originState_data = df_flights_2018_clean_reduced[['OriginState']]\n",
    "originState_data_reshaped = originState_data.values.reshape(-1, 1)\n",
    "encoded_airline = pd.DataFrame(encoder.fit_transform(originState_data_reshaped), columns=encoder.get_feature_names_out(['OriginState']))\n",
    "df_flights_2018_encoded = pd.concat([df_flights_2018_encoded, encoded_airline], axis=1)\n",
    "df_flights_2018_encoded.drop(columns=['OriginState'], inplace=True)\n",
    "\n",
    "#4.4 encode \"Dest\"\n",
    "encoder = OneHotEncoder(drop='first', sparse_output=False)\n",
    "dest_data = df_flights_2018_clean_reduced[['Dest']]\n",
    "dest_data_reshaped = dest_data.values.reshape(-1, 1)\n",
    "encoded_airline = pd.DataFrame(encoder.fit_transform(dest_data_reshaped), columns=encoder.get_feature_names_out(['Dest']))\n",
    "df_flights_2018_encoded = pd.concat([df_flights_2018_encoded, encoded_airline], axis=1)\n",
    "df_flights_2018_encoded.drop(columns=['Dest'], inplace=True)\n",
    "\n",
    "#4.5 encode \"DestState\"\n",
    "encoder = OneHotEncoder(drop='first', sparse_output=False)\n",
    "destState_data = df_flights_2018_clean_reduced[['DestState']]\n",
    "destState_data_reshaped = destState_data.values.reshape(-1, 1)\n",
    "encoded_airline = pd.DataFrame(encoder.fit_transform(destState_data_reshaped), columns=encoder.get_feature_names_out(['DestState']))\n",
    "df_flights_2018_encoded = pd.concat([df_flights_2018_encoded, encoded_airline], axis=1)\n",
    "df_flights_2018_encoded.drop(columns=['DestState'], inplace=True)\n",
    "\n",
    "\n",
    "print(df_flights_2018_encoded.info())"
   ]
  },
  {
   "cell_type": "code",
   "execution_count": 20,
   "id": "de64712f",
   "metadata": {
    "execution": {
     "iopub.execute_input": "2023-08-05T19:49:40.176412Z",
     "iopub.status.busy": "2023-08-05T19:49:40.175522Z",
     "iopub.status.idle": "2023-08-05T19:49:42.023925Z",
     "shell.execute_reply": "2023-08-05T19:49:42.023100Z"
    },
    "papermill": {
     "duration": 1.862341,
     "end_time": "2023-08-05T19:49:42.026739",
     "exception": false,
     "start_time": "2023-08-05T19:49:40.164398",
     "status": "completed"
    },
    "tags": []
   },
   "outputs": [],
   "source": [
    "#we need to fill all the nan values as 0 to do linear regression. Otherwise we get an error because linear regression can't handle Nan\n",
    "df_flights_2018_encoded = df_flights_2018_encoded.fillna(0)"
   ]
  },
  {
   "cell_type": "code",
   "execution_count": 21,
   "id": "41c3e74d",
   "metadata": {
    "execution": {
     "iopub.execute_input": "2023-08-05T19:49:42.048039Z",
     "iopub.status.busy": "2023-08-05T19:49:42.047622Z",
     "iopub.status.idle": "2023-08-05T19:49:45.042685Z",
     "shell.execute_reply": "2023-08-05T19:49:45.041763Z"
    },
    "papermill": {
     "duration": 3.008398,
     "end_time": "2023-08-05T19:49:45.045046",
     "exception": false,
     "start_time": "2023-08-05T19:49:42.036648",
     "status": "completed"
    },
    "tags": []
   },
   "outputs": [],
   "source": [
    "#The last thing we need to do is prep our datasets! We need train and test values for x's and y's\n",
    "#Our x value (input features) will be everything EXCEPT dep_min_delay\n",
    "X = df_flights_2018_encoded.drop(columns=['dep_min_delay'])\n",
    "\n",
    "#Our y values (prediction targets) will be the dep_min_delay value\n",
    "y = df_flights_2018_encoded['dep_min_delay']\n",
    "\n",
    "#We split training and testing with an 80% / 20% split\n",
    "X_train, X_test, y_train, y_test = train_test_split(X, y, test_size=0.2, random_state=42)\n"
   ]
  },
  {
   "cell_type": "code",
   "execution_count": 22,
   "id": "eece19de",
   "metadata": {
    "execution": {
     "iopub.execute_input": "2023-08-05T19:49:45.067183Z",
     "iopub.status.busy": "2023-08-05T19:49:45.066282Z",
     "iopub.status.idle": "2023-08-05T19:49:45.070764Z",
     "shell.execute_reply": "2023-08-05T19:49:45.069888Z"
    },
    "papermill": {
     "duration": 0.017661,
     "end_time": "2023-08-05T19:49:45.072838",
     "exception": false,
     "start_time": "2023-08-05T19:49:45.055177",
     "status": "completed"
    },
    "tags": []
   },
   "outputs": [],
   "source": [
    "#Section 5: Linear Regression\n",
    "# We will initially do four linear regression comparisons across our data to see how each performs\n",
    "#1. Simple Linear Regression\n",
    "#2. L1 Lasso Regression\n",
    "#3. L2 Ridge Regression\n",
    "#4. Elastic Net Regression\n",
    "# We will get the MSE and the R^2 for each to compare\n",
    "\n",
    "#no need to do any code in this cell, it's just a placeholder"
   ]
  },
  {
   "cell_type": "code",
   "execution_count": 23,
   "id": "d01c52b0",
   "metadata": {
    "execution": {
     "iopub.execute_input": "2023-08-05T19:49:45.094463Z",
     "iopub.status.busy": "2023-08-05T19:49:45.094085Z",
     "iopub.status.idle": "2023-08-05T19:49:46.062889Z",
     "shell.execute_reply": "2023-08-05T19:49:46.061778Z"
    },
    "papermill": {
     "duration": 0.983201,
     "end_time": "2023-08-05T19:49:46.065939",
     "exception": false,
     "start_time": "2023-08-05T19:49:45.082738",
     "status": "completed"
    },
    "tags": []
   },
   "outputs": [
    {
     "name": "stdout",
     "output_type": "stream",
     "text": [
      "<class 'pandas.core.frame.DataFrame'>\n",
      "Int64Index: 2007634 entries, 305 to 1113555\n",
      "Data columns (total 99 columns):\n",
      " #   Column                                             Dtype  \n",
      "---  ------                                             -----  \n",
      " 0   Quarter                                            float64\n",
      " 1   DayOfWeek                                          float64\n",
      " 2   schedule_dep_time                                  float64\n",
      " 3   Distance                                           float64\n",
      " 4   dep_min_delay                                      float64\n",
      " 5   Year                                               float64\n",
      " 6   Month                                              float64\n",
      " 7   Day                                                float64\n",
      " 8   Airline_Alaska Airlines Inc.                       float64\n",
      " 9   Airline_American Airlines Inc.                     float64\n",
      " 10  Airline_Comair Inc.                                float64\n",
      " 11  Airline_Commutair Aka Champlain Enterprises, Inc.  float64\n",
      " 12  Airline_Compass Airlines                           float64\n",
      " 13  Airline_Delta Air Lines Inc.                       float64\n",
      " 14  Airline_Endeavor Air Inc.                          float64\n",
      " 15  Airline_Envoy Air                                  float64\n",
      " 16  Airline_ExpressJet Airlines Inc.                   float64\n",
      " 17  Airline_Frontier Airlines Inc.                     float64\n",
      " 18  Airline_GoJet Airlines, LLC d/b/a United Express   float64\n",
      " 19  Airline_Horizon Air                                float64\n",
      " 20  Airline_JetBlue Airways                            float64\n",
      " 21  Airline_Mesa Airlines Inc.                         float64\n",
      " 22  Airline_Republic Airlines                          float64\n",
      " 23  Airline_SkyWest Airlines Inc.                      float64\n",
      " 24  Airline_Southwest Airlines Co.                     float64\n",
      " 25  Airline_Spirit Air Lines                           float64\n",
      " 26  Airline_Trans States Airlines                      float64\n",
      " 27  Airline_United Air Lines Inc.                      float64\n",
      " 28  Airline_Virgin America                             float64\n",
      " 29  Origin_BOS                                         float64\n",
      " 30  Origin_BWI                                         float64\n",
      " 31  Origin_CLT                                         float64\n",
      " 32  Origin_DEN                                         float64\n",
      " 33  Origin_DFW                                         float64\n",
      " 34  Origin_DTW                                         float64\n",
      " 35  Origin_EWR                                         float64\n",
      " 36  Origin_FLL                                         float64\n",
      " 37  Origin_IAD                                         float64\n",
      " 38  Origin_IAH                                         float64\n",
      " 39  Origin_LAS                                         float64\n",
      " 40  Origin_LAX                                         float64\n",
      " 41  Origin_LGA                                         float64\n",
      " 42  Origin_MCO                                         float64\n",
      " 43  Origin_MSP                                         float64\n",
      " 44  Origin_ORD                                         float64\n",
      " 45  Origin_PHX                                         float64\n",
      " 46  Origin_SEA                                         float64\n",
      " 47  Origin_SFO                                         float64\n",
      " 48  OriginState_CA                                     float64\n",
      " 49  OriginState_CO                                     float64\n",
      " 50  OriginState_FL                                     float64\n",
      " 51  OriginState_GA                                     float64\n",
      " 52  OriginState_IL                                     float64\n",
      " 53  OriginState_MA                                     float64\n",
      " 54  OriginState_MD                                     float64\n",
      " 55  OriginState_MI                                     float64\n",
      " 56  OriginState_MN                                     float64\n",
      " 57  OriginState_NC                                     float64\n",
      " 58  OriginState_NJ                                     float64\n",
      " 59  OriginState_NV                                     float64\n",
      " 60  OriginState_NY                                     float64\n",
      " 61  OriginState_TX                                     float64\n",
      " 62  OriginState_VA                                     float64\n",
      " 63  OriginState_WA                                     float64\n",
      " 64  Dest_BOS                                           float64\n",
      " 65  Dest_BWI                                           float64\n",
      " 66  Dest_CLT                                           float64\n",
      " 67  Dest_DEN                                           float64\n",
      " 68  Dest_DFW                                           float64\n",
      " 69  Dest_DTW                                           float64\n",
      " 70  Dest_EWR                                           float64\n",
      " 71  Dest_FLL                                           float64\n",
      " 72  Dest_IAD                                           float64\n",
      " 73  Dest_IAH                                           float64\n",
      " 74  Dest_LAS                                           float64\n",
      " 75  Dest_LAX                                           float64\n",
      " 76  Dest_LGA                                           float64\n",
      " 77  Dest_MCO                                           float64\n",
      " 78  Dest_MSP                                           float64\n",
      " 79  Dest_ORD                                           float64\n",
      " 80  Dest_PHX                                           float64\n",
      " 81  Dest_SEA                                           float64\n",
      " 82  Dest_SFO                                           float64\n",
      " 83  DestState_CA                                       float64\n",
      " 84  DestState_CO                                       float64\n",
      " 85  DestState_FL                                       float64\n",
      " 86  DestState_GA                                       float64\n",
      " 87  DestState_IL                                       float64\n",
      " 88  DestState_MA                                       float64\n",
      " 89  DestState_MD                                       float64\n",
      " 90  DestState_MI                                       float64\n",
      " 91  DestState_MN                                       float64\n",
      " 92  DestState_NC                                       float64\n",
      " 93  DestState_NJ                                       float64\n",
      " 94  DestState_NV                                       float64\n",
      " 95  DestState_NY                                       float64\n",
      " 96  DestState_TX                                       float64\n",
      " 97  DestState_VA                                       float64\n",
      " 98  DestState_WA                                       float64\n",
      "dtypes: float64(99)\n",
      "memory usage: 1.5 GB\n",
      "None\n"
     ]
    }
   ],
   "source": [
    "df_flights_2018_encoded = df_flights_2018_encoded.dropna()\n",
    "print(df_flights_2018_encoded.info())"
   ]
  },
  {
   "cell_type": "code",
   "execution_count": 24,
   "id": "3d736e00",
   "metadata": {
    "execution": {
     "iopub.execute_input": "2023-08-05T19:49:46.088265Z",
     "iopub.status.busy": "2023-08-05T19:49:46.087878Z",
     "iopub.status.idle": "2023-08-05T19:50:02.054128Z",
     "shell.execute_reply": "2023-08-05T19:50:02.052905Z"
    },
    "papermill": {
     "duration": 15.981296,
     "end_time": "2023-08-05T19:50:02.057802",
     "exception": false,
     "start_time": "2023-08-05T19:49:46.076506",
     "status": "completed"
    },
    "tags": []
   },
   "outputs": [
    {
     "name": "stdout",
     "output_type": "stream",
     "text": [
      "MSE: 1060.573956012466\n",
      "R-squared: 0.04367785328314888\n"
     ]
    }
   ],
   "source": [
    "#Section 5.1: Simple Linear Regression\n",
    "#import model\n",
    "from sklearn.linear_model import LinearRegression\n",
    "\n",
    "#create the model\n",
    "lr_model = LinearRegression()\n",
    "\n",
    "#fit the model\n",
    "lr_model.fit(X_train, y_train)\n",
    "\n",
    "#make predictions on the X_test inputs\n",
    "y_pred = lr_model.predict(X_test)\n",
    "\n",
    "#get the mse using our model prediction values (y_pred) vs the actual y values (y_test)\n",
    "mse = mean_squared_error(y_test, y_pred)\n",
    "\n",
    "#get the r^2 the same way\n",
    "r2 = r2_score(y_test, y_pred)\n",
    "\n",
    "print(\"MSE:\", mse)\n",
    "print(\"R-squared:\", r2)"
   ]
  },
  {
   "cell_type": "code",
   "execution_count": 25,
   "id": "496b7399",
   "metadata": {
    "execution": {
     "iopub.execute_input": "2023-08-05T19:50:02.096124Z",
     "iopub.status.busy": "2023-08-05T19:50:02.095507Z",
     "iopub.status.idle": "2023-08-05T19:50:02.101421Z",
     "shell.execute_reply": "2023-08-05T19:50:02.100192Z"
    },
    "papermill": {
     "duration": 0.028763,
     "end_time": "2023-08-05T19:50:02.104366",
     "exception": false,
     "start_time": "2023-08-05T19:50:02.075603",
     "status": "completed"
    },
    "tags": []
   },
   "outputs": [],
   "source": [
    "#MSE: 1060.573956012466\n",
    "#R-squared: 0.04367785328314888\n",
    "#Ok, so this model performs pretty poorly. While it's MSE is hard to interpret, an R^2 of 0.04 is pretty bad. Let's see if L1 regression is any better"
   ]
  },
  {
   "cell_type": "code",
   "execution_count": 26,
   "id": "3f788a36",
   "metadata": {
    "execution": {
     "iopub.execute_input": "2023-08-05T19:50:02.142407Z",
     "iopub.status.busy": "2023-08-05T19:50:02.141782Z",
     "iopub.status.idle": "2023-08-05T19:50:13.248099Z",
     "shell.execute_reply": "2023-08-05T19:50:13.246254Z"
    },
    "papermill": {
     "duration": 11.129135,
     "end_time": "2023-08-05T19:50:13.251801",
     "exception": false,
     "start_time": "2023-08-05T19:50:02.122666",
     "status": "completed"
    },
    "tags": []
   },
   "outputs": [
    {
     "name": "stdout",
     "output_type": "stream",
     "text": [
      "MSE: 1062.1813544183494\n",
      "R-squared: 0.042228458183986683\n"
     ]
    }
   ],
   "source": [
    "#Section 5.2 L1 Lasso Regression\n",
    "#import model and tools\n",
    "from sklearn.linear_model import Lasso\n",
    "\n",
    "#create the alpha value and lasso_reg model\n",
    "#set our initial alpha_value to 0.1\n",
    "alpha_value = 0.1\n",
    "\n",
    "#make the model\n",
    "l1_model = Lasso(alpha=alpha_value)\n",
    "\n",
    "#fit the model\n",
    "l1_model.fit(X_train, y_train)\n",
    "\n",
    "#make predictions\n",
    "y_pred = l1_model.predict(X_test)\n",
    "\n",
    "#get the mse and r^2\n",
    "mse = mean_squared_error(y_test, y_pred)\n",
    "r2 = r2_score(y_test, y_pred)\n",
    "print(\"MSE:\", mse)\n",
    "print(\"R-squared:\", r2)"
   ]
  },
  {
   "cell_type": "code",
   "execution_count": 27,
   "id": "fc480584",
   "metadata": {
    "execution": {
     "iopub.execute_input": "2023-08-05T19:50:13.293029Z",
     "iopub.status.busy": "2023-08-05T19:50:13.292445Z",
     "iopub.status.idle": "2023-08-05T19:50:13.298543Z",
     "shell.execute_reply": "2023-08-05T19:50:13.297345Z"
    },
    "papermill": {
     "duration": 0.029063,
     "end_time": "2023-08-05T19:50:13.301402",
     "exception": false,
     "start_time": "2023-08-05T19:50:13.272339",
     "status": "completed"
    },
    "tags": []
   },
   "outputs": [],
   "source": [
    "#oh wow this model isn't much better. 0.04 again and it looks like it might have gotten worse\n",
    "#maybe ridge regression will help?"
   ]
  },
  {
   "cell_type": "code",
   "execution_count": 28,
   "id": "165d0931",
   "metadata": {
    "execution": {
     "iopub.execute_input": "2023-08-05T19:50:13.338384Z",
     "iopub.status.busy": "2023-08-05T19:50:13.337931Z",
     "iopub.status.idle": "2023-08-05T19:50:15.292373Z",
     "shell.execute_reply": "2023-08-05T19:50:15.290670Z"
    },
    "papermill": {
     "duration": 1.975167,
     "end_time": "2023-08-05T19:50:15.295727",
     "exception": false,
     "start_time": "2023-08-05T19:50:13.320560",
     "status": "completed"
    },
    "tags": []
   },
   "outputs": [
    {
     "name": "stdout",
     "output_type": "stream",
     "text": [
      "MSE: 1060.573839378257\n",
      "R-squared: 0.04367795845250244\n"
     ]
    }
   ],
   "source": [
    "#Section 5.3 L2 Ridge Regression\n",
    "#import model\n",
    "from sklearn.linear_model import Ridge\n",
    "\n",
    "#create rr_model and set the alpha\n",
    "alpha_value = 1.0\n",
    "l2_model = Ridge(alpha=alpha_value)\n",
    "\n",
    "# fit the model\n",
    "l2_model.fit(X_train, y_train)\n",
    "\n",
    "#make predictions\n",
    "y_pred = l2_model.predict(X_test)\n",
    "\n",
    "#get the mse and r^2\n",
    "mse = mean_squared_error(y_test, y_pred)\n",
    "r2 = r2_score(y_test, y_pred)\n",
    "print(\"MSE:\", mse)\n",
    "print(\"R-squared:\", r2)"
   ]
  },
  {
   "cell_type": "code",
   "execution_count": 29,
   "id": "2d5a970d",
   "metadata": {
    "execution": {
     "iopub.execute_input": "2023-08-05T19:50:15.338229Z",
     "iopub.status.busy": "2023-08-05T19:50:15.336164Z",
     "iopub.status.idle": "2023-08-05T19:50:15.344635Z",
     "shell.execute_reply": "2023-08-05T19:50:15.342847Z"
    },
    "papermill": {
     "duration": 0.032989,
     "end_time": "2023-08-05T19:50:15.348055",
     "exception": false,
     "start_time": "2023-08-05T19:50:15.315066",
     "status": "completed"
    },
    "tags": []
   },
   "outputs": [],
   "source": [
    "#Yup not much better. We're going to really need to work on this dataset I think to make a decent model."
   ]
  },
  {
   "cell_type": "code",
   "execution_count": 30,
   "id": "7799c030",
   "metadata": {
    "execution": {
     "iopub.execute_input": "2023-08-05T19:50:15.387730Z",
     "iopub.status.busy": "2023-08-05T19:50:15.386959Z",
     "iopub.status.idle": "2023-08-05T19:50:15.393473Z",
     "shell.execute_reply": "2023-08-05T19:50:15.392517Z"
    },
    "papermill": {
     "duration": 0.028721,
     "end_time": "2023-08-05T19:50:15.395397",
     "exception": false,
     "start_time": "2023-08-05T19:50:15.366676",
     "status": "completed"
    },
    "tags": []
   },
   "outputs": [],
   "source": [
    "#Section 5.4 Elastic Net Regression\n",
    "#import model\n",
    "from sklearn.linear_model import ElasticNet\n",
    "\n",
    "#create en_model with alpha, L1_ratio\n",
    "\n",
    "#fit the model\n",
    "\n",
    "#make predictions\n",
    "\n",
    "#get the mse and r^2"
   ]
  },
  {
   "cell_type": "code",
   "execution_count": 31,
   "id": "ef611c3e",
   "metadata": {
    "execution": {
     "iopub.execute_input": "2023-08-05T19:50:15.419304Z",
     "iopub.status.busy": "2023-08-05T19:50:15.418596Z",
     "iopub.status.idle": "2023-08-05T19:50:15.423918Z",
     "shell.execute_reply": "2023-08-05T19:50:15.422668Z"
    },
    "papermill": {
     "duration": 0.019484,
     "end_time": "2023-08-05T19:50:15.425849",
     "exception": false,
     "start_time": "2023-08-05T19:50:15.406365",
     "status": "completed"
    },
    "tags": []
   },
   "outputs": [],
   "source": [
    "#5.5 Summarize our findings\n",
    "#Do the MSEs change across all four models?\n",
    "#Do the R^2 change across all four models?\n",
    "#Is one model clearly performing better? Why or why not?"
   ]
  },
  {
   "cell_type": "code",
   "execution_count": 32,
   "id": "3773657c",
   "metadata": {
    "execution": {
     "iopub.execute_input": "2023-08-05T19:50:15.449351Z",
     "iopub.status.busy": "2023-08-05T19:50:15.448899Z",
     "iopub.status.idle": "2023-08-05T19:50:15.454685Z",
     "shell.execute_reply": "2023-08-05T19:50:15.453855Z"
    },
    "papermill": {
     "duration": 0.020173,
     "end_time": "2023-08-05T19:50:15.456741",
     "exception": false,
     "start_time": "2023-08-05T19:50:15.436568",
     "status": "completed"
    },
    "tags": []
   },
   "outputs": [],
   "source": [
    "#Section 6: Advanced Linear Regression\n",
    "#Now we're going to do the same four models but at an advanced level with more tuning and tweaking\n",
    "from sklearn.preprocessing import StandardScaler\n",
    "\n",
    "#Section 6.0 Feature scaling to the dataset. We want to standardize/normalize the input features with probably StandardScaler (vs MinMaxScaler)\n",
    "#build a scaler. Then we're going to also do 5-fold cross validation for each model. This combination: scaling + cross validation : should result\n",
    "# in better performance across our models\n",
    "\n",
    "\n",
    "#Section 6.1: Linear Regression w/ scaling and Cross-Validation\n",
    "#fit_transform our dataset for modeling\n",
    "#should be something like this:\n",
    "#scaler = StandardScaler()\n",
    "#X_scaled = scaler.fit_transform(X)\n",
    "#Get new datasets\n",
    "#X_train, X_test, y_train, y_test = train_test_split(X_scaled, y, test_size=0.2, random_state=23)\n",
    "#make a new model\n",
    "#linear_reg = LinearRegression()\n",
    "#do CV with 5 folds\n",
    "#cv_vals = cross_val_score(linear_reg, X_scaled, y, cv=5, scoring='neg_mean_squared_error')\n",
    "\n",
    "#get the average MSE across all 5 folds\n",
    "\n",
    "#get the average R^2 across all 5 folds"
   ]
  },
  {
   "cell_type": "code",
   "execution_count": 33,
   "id": "71c97821",
   "metadata": {
    "execution": {
     "iopub.execute_input": "2023-08-05T19:50:15.480652Z",
     "iopub.status.busy": "2023-08-05T19:50:15.479588Z",
     "iopub.status.idle": "2023-08-05T19:50:15.484228Z",
     "shell.execute_reply": "2023-08-05T19:50:15.483306Z"
    },
    "papermill": {
     "duration": 0.018674,
     "end_time": "2023-08-05T19:50:15.486224",
     "exception": false,
     "start_time": "2023-08-05T19:50:15.467550",
     "status": "completed"
    },
    "tags": []
   },
   "outputs": [],
   "source": [
    "#Section 6.2: L1 Lasso Regression with scaling and cross validation"
   ]
  },
  {
   "cell_type": "code",
   "execution_count": 34,
   "id": "a054c09a",
   "metadata": {
    "execution": {
     "iopub.execute_input": "2023-08-05T19:50:15.510245Z",
     "iopub.status.busy": "2023-08-05T19:50:15.509699Z",
     "iopub.status.idle": "2023-08-05T19:50:15.514698Z",
     "shell.execute_reply": "2023-08-05T19:50:15.513418Z"
    },
    "papermill": {
     "duration": 0.019806,
     "end_time": "2023-08-05T19:50:15.517106",
     "exception": false,
     "start_time": "2023-08-05T19:50:15.497300",
     "status": "completed"
    },
    "tags": []
   },
   "outputs": [],
   "source": [
    "#Section 6.3: L2 Ridge Regression with scaling and cross validation"
   ]
  },
  {
   "cell_type": "code",
   "execution_count": 35,
   "id": "3e34048d",
   "metadata": {
    "execution": {
     "iopub.execute_input": "2023-08-05T19:50:15.543182Z",
     "iopub.status.busy": "2023-08-05T19:50:15.542385Z",
     "iopub.status.idle": "2023-08-05T19:50:15.547547Z",
     "shell.execute_reply": "2023-08-05T19:50:15.546509Z"
    },
    "papermill": {
     "duration": 0.019597,
     "end_time": "2023-08-05T19:50:15.549733",
     "exception": false,
     "start_time": "2023-08-05T19:50:15.530136",
     "status": "completed"
    },
    "tags": []
   },
   "outputs": [],
   "source": [
    "#Section 6.4 Elastic Net Regression with scaling and cross validation"
   ]
  },
  {
   "cell_type": "code",
   "execution_count": 36,
   "id": "7fcf9642",
   "metadata": {
    "execution": {
     "iopub.execute_input": "2023-08-05T19:50:15.573543Z",
     "iopub.status.busy": "2023-08-05T19:50:15.573159Z",
     "iopub.status.idle": "2023-08-05T19:50:15.577679Z",
     "shell.execute_reply": "2023-08-05T19:50:15.576466Z"
    },
    "papermill": {
     "duration": 0.01917,
     "end_time": "2023-08-05T19:50:15.579986",
     "exception": false,
     "start_time": "2023-08-05T19:50:15.560816",
     "status": "completed"
    },
    "tags": []
   },
   "outputs": [],
   "source": [
    "#Section 7 (if we have time)\n",
    "#if time allows in the project for Section 7 we can do SKLearn Gradient Boosting Regression (GBR) and see how it compares"
   ]
  },
  {
   "cell_type": "code",
   "execution_count": 37,
   "id": "ab189bb6",
   "metadata": {
    "execution": {
     "iopub.execute_input": "2023-08-05T19:50:15.603935Z",
     "iopub.status.busy": "2023-08-05T19:50:15.603397Z",
     "iopub.status.idle": "2023-08-05T19:50:15.608221Z",
     "shell.execute_reply": "2023-08-05T19:50:15.607178Z"
    },
    "papermill": {
     "duration": 0.019175,
     "end_time": "2023-08-05T19:50:15.610131",
     "exception": false,
     "start_time": "2023-08-05T19:50:15.590956",
     "status": "completed"
    },
    "tags": []
   },
   "outputs": [],
   "source": [
    "#Section 8 (if we have time)\n",
    "#we can do PyTorch NN regression modeling to see how it compares"
   ]
  }
 ],
 "metadata": {
  "kernelspec": {
   "display_name": "Python 3",
   "language": "python",
   "name": "python3"
  },
  "language_info": {
   "codemirror_mode": {
    "name": "ipython",
    "version": 3
   },
   "file_extension": ".py",
   "mimetype": "text/x-python",
   "name": "python",
   "nbconvert_exporter": "python",
   "pygments_lexer": "ipython3",
   "version": "3.10.12"
  },
  "papermill": {
   "default_parameters": {},
   "duration": 158.265656,
   "end_time": "2023-08-05T19:50:17.561123",
   "environment_variables": {},
   "exception": null,
   "input_path": "__notebook__.ipynb",
   "output_path": "__notebook__.ipynb",
   "parameters": {},
   "start_time": "2023-08-05T19:47:39.295467",
   "version": "2.4.0"
  }
 },
 "nbformat": 4,
 "nbformat_minor": 5
}
